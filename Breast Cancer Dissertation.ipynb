{
 "cells": [
  {
   "cell_type": "markdown",
   "id": "b7a20dc3",
   "metadata": {},
   "source": [
    "## Felix Emmanuel \n",
    "### 202122699"
   ]
  },
  {
   "cell_type": "code",
   "execution_count": 1,
   "id": "ad5744c0",
   "metadata": {},
   "outputs": [],
   "source": [
    "#importing all the necessary libraries\n",
    "import pandas as pd\n",
    "import matplotlib.pyplot as plt\n",
    "import seaborn as sns\n",
    "import sklearn\n",
    "import numpy as np\n",
    "import zipfile\n",
    "import random\n",
    "import tensorflow as tf\n",
    "from tensorflow.keras.optimizers import RMSprop\n",
    "from tensorflow.keras.preprocessing.image import ImageDataGenerator\n",
    "from shutil import copyfile\n",
    "import matplotlib.pyplot as plt\n",
    "import seaborn as sns\n",
    "from sklearn.model_selection import train_test_split, GridSearchCV\n",
    "import matplotlib.pyplot as plt\n",
    "%matplotlib inline\n",
    "from sklearn.metrics import confusion_matrix, classification_report\n",
    "from sklearn.metrics import accuracy_score, PrecisionRecallDisplay, precision_score, recall_score,f1_score"
   ]
  },
  {
   "cell_type": "code",
   "execution_count": 2,
   "id": "13b82b51",
   "metadata": {},
   "outputs": [],
   "source": [
    "#loading the dataset into a dataframe\n",
    "df = pd.read_csv(\"Breast_cancer_data.csv\")\n"
   ]
  },
  {
   "cell_type": "code",
   "execution_count": 3,
   "id": "40b2b868",
   "metadata": {},
   "outputs": [
    {
     "data": {
      "text/html": [
       "<div>\n",
       "<style scoped>\n",
       "    .dataframe tbody tr th:only-of-type {\n",
       "        vertical-align: middle;\n",
       "    }\n",
       "\n",
       "    .dataframe tbody tr th {\n",
       "        vertical-align: top;\n",
       "    }\n",
       "\n",
       "    .dataframe thead th {\n",
       "        text-align: right;\n",
       "    }\n",
       "</style>\n",
       "<table border=\"1\" class=\"dataframe\">\n",
       "  <thead>\n",
       "    <tr style=\"text-align: right;\">\n",
       "      <th></th>\n",
       "      <th>mean_radius</th>\n",
       "      <th>mean_texture</th>\n",
       "      <th>mean_perimeter</th>\n",
       "      <th>mean_area</th>\n",
       "      <th>mean_smoothness</th>\n",
       "      <th>diagnosis</th>\n",
       "    </tr>\n",
       "  </thead>\n",
       "  <tbody>\n",
       "    <tr>\n",
       "      <th>0</th>\n",
       "      <td>17.99</td>\n",
       "      <td>10.38</td>\n",
       "      <td>122.80</td>\n",
       "      <td>1001.0</td>\n",
       "      <td>0.11840</td>\n",
       "      <td>0</td>\n",
       "    </tr>\n",
       "    <tr>\n",
       "      <th>1</th>\n",
       "      <td>20.57</td>\n",
       "      <td>17.77</td>\n",
       "      <td>132.90</td>\n",
       "      <td>1326.0</td>\n",
       "      <td>0.08474</td>\n",
       "      <td>0</td>\n",
       "    </tr>\n",
       "    <tr>\n",
       "      <th>2</th>\n",
       "      <td>19.69</td>\n",
       "      <td>21.25</td>\n",
       "      <td>130.00</td>\n",
       "      <td>1203.0</td>\n",
       "      <td>0.10960</td>\n",
       "      <td>0</td>\n",
       "    </tr>\n",
       "    <tr>\n",
       "      <th>3</th>\n",
       "      <td>11.42</td>\n",
       "      <td>20.38</td>\n",
       "      <td>77.58</td>\n",
       "      <td>386.1</td>\n",
       "      <td>0.14250</td>\n",
       "      <td>0</td>\n",
       "    </tr>\n",
       "    <tr>\n",
       "      <th>4</th>\n",
       "      <td>20.29</td>\n",
       "      <td>14.34</td>\n",
       "      <td>135.10</td>\n",
       "      <td>1297.0</td>\n",
       "      <td>0.10030</td>\n",
       "      <td>0</td>\n",
       "    </tr>\n",
       "    <tr>\n",
       "      <th>...</th>\n",
       "      <td>...</td>\n",
       "      <td>...</td>\n",
       "      <td>...</td>\n",
       "      <td>...</td>\n",
       "      <td>...</td>\n",
       "      <td>...</td>\n",
       "    </tr>\n",
       "    <tr>\n",
       "      <th>564</th>\n",
       "      <td>21.56</td>\n",
       "      <td>22.39</td>\n",
       "      <td>142.00</td>\n",
       "      <td>1479.0</td>\n",
       "      <td>0.11100</td>\n",
       "      <td>0</td>\n",
       "    </tr>\n",
       "    <tr>\n",
       "      <th>565</th>\n",
       "      <td>20.13</td>\n",
       "      <td>28.25</td>\n",
       "      <td>131.20</td>\n",
       "      <td>1261.0</td>\n",
       "      <td>0.09780</td>\n",
       "      <td>0</td>\n",
       "    </tr>\n",
       "    <tr>\n",
       "      <th>566</th>\n",
       "      <td>16.60</td>\n",
       "      <td>28.08</td>\n",
       "      <td>108.30</td>\n",
       "      <td>858.1</td>\n",
       "      <td>0.08455</td>\n",
       "      <td>0</td>\n",
       "    </tr>\n",
       "    <tr>\n",
       "      <th>567</th>\n",
       "      <td>20.60</td>\n",
       "      <td>29.33</td>\n",
       "      <td>140.10</td>\n",
       "      <td>1265.0</td>\n",
       "      <td>0.11780</td>\n",
       "      <td>0</td>\n",
       "    </tr>\n",
       "    <tr>\n",
       "      <th>568</th>\n",
       "      <td>7.76</td>\n",
       "      <td>24.54</td>\n",
       "      <td>47.92</td>\n",
       "      <td>181.0</td>\n",
       "      <td>0.05263</td>\n",
       "      <td>1</td>\n",
       "    </tr>\n",
       "  </tbody>\n",
       "</table>\n",
       "<p>569 rows × 6 columns</p>\n",
       "</div>"
      ],
      "text/plain": [
       "     mean_radius  mean_texture  mean_perimeter  mean_area  mean_smoothness  \\\n",
       "0          17.99         10.38          122.80     1001.0          0.11840   \n",
       "1          20.57         17.77          132.90     1326.0          0.08474   \n",
       "2          19.69         21.25          130.00     1203.0          0.10960   \n",
       "3          11.42         20.38           77.58      386.1          0.14250   \n",
       "4          20.29         14.34          135.10     1297.0          0.10030   \n",
       "..           ...           ...             ...        ...              ...   \n",
       "564        21.56         22.39          142.00     1479.0          0.11100   \n",
       "565        20.13         28.25          131.20     1261.0          0.09780   \n",
       "566        16.60         28.08          108.30      858.1          0.08455   \n",
       "567        20.60         29.33          140.10     1265.0          0.11780   \n",
       "568         7.76         24.54           47.92      181.0          0.05263   \n",
       "\n",
       "     diagnosis  \n",
       "0            0  \n",
       "1            0  \n",
       "2            0  \n",
       "3            0  \n",
       "4            0  \n",
       "..         ...  \n",
       "564          0  \n",
       "565          0  \n",
       "566          0  \n",
       "567          0  \n",
       "568          1  \n",
       "\n",
       "[569 rows x 6 columns]"
      ]
     },
     "execution_count": 3,
     "metadata": {},
     "output_type": "execute_result"
    }
   ],
   "source": [
    "df"
   ]
  },
  {
   "cell_type": "markdown",
   "id": "beb7e905",
   "metadata": {},
   "source": [
    "## Exploratory Data Analysis"
   ]
  },
  {
   "cell_type": "code",
   "execution_count": 4,
   "id": "b6e4d6de",
   "metadata": {},
   "outputs": [
    {
     "data": {
      "text/plain": [
       "Index(['mean_radius', 'mean_texture', 'mean_perimeter', 'mean_area',\n",
       "       'mean_smoothness', 'diagnosis'],\n",
       "      dtype='object')"
      ]
     },
     "execution_count": 4,
     "metadata": {},
     "output_type": "execute_result"
    }
   ],
   "source": [
    "df.columns"
   ]
  },
  {
   "cell_type": "code",
   "execution_count": 5,
   "id": "cbfcb9eb",
   "metadata": {},
   "outputs": [
    {
     "data": {
      "text/plain": [
       "mean_radius        0\n",
       "mean_texture       0\n",
       "mean_perimeter     0\n",
       "mean_area          0\n",
       "mean_smoothness    0\n",
       "diagnosis          0\n",
       "dtype: int64"
      ]
     },
     "execution_count": 5,
     "metadata": {},
     "output_type": "execute_result"
    }
   ],
   "source": [
    "#calling out to inspect presence of null values.\n",
    "df.isnull().sum()"
   ]
  },
  {
   "cell_type": "code",
   "execution_count": 6,
   "id": "ad22af87",
   "metadata": {},
   "outputs": [
    {
     "name": "stdout",
     "output_type": "stream",
     "text": [
      "<class 'pandas.core.frame.DataFrame'>\n",
      "RangeIndex: 569 entries, 0 to 568\n",
      "Data columns (total 6 columns):\n",
      " #   Column           Non-Null Count  Dtype  \n",
      "---  ------           --------------  -----  \n",
      " 0   mean_radius      569 non-null    float64\n",
      " 1   mean_texture     569 non-null    float64\n",
      " 2   mean_perimeter   569 non-null    float64\n",
      " 3   mean_area        569 non-null    float64\n",
      " 4   mean_smoothness  569 non-null    float64\n",
      " 5   diagnosis        569 non-null    int64  \n",
      "dtypes: float64(5), int64(1)\n",
      "memory usage: 26.8 KB\n"
     ]
    }
   ],
   "source": [
    "df.info()"
   ]
  },
  {
   "cell_type": "markdown",
   "id": "87b6d604",
   "metadata": {},
   "source": [
    "## Sumary Statistics"
   ]
  },
  {
   "cell_type": "code",
   "execution_count": 7,
   "id": "e13d7887",
   "metadata": {},
   "outputs": [
    {
     "data": {
      "text/html": [
       "<div>\n",
       "<style scoped>\n",
       "    .dataframe tbody tr th:only-of-type {\n",
       "        vertical-align: middle;\n",
       "    }\n",
       "\n",
       "    .dataframe tbody tr th {\n",
       "        vertical-align: top;\n",
       "    }\n",
       "\n",
       "    .dataframe thead th {\n",
       "        text-align: right;\n",
       "    }\n",
       "</style>\n",
       "<table border=\"1\" class=\"dataframe\">\n",
       "  <thead>\n",
       "    <tr style=\"text-align: right;\">\n",
       "      <th></th>\n",
       "      <th>mean_radius</th>\n",
       "      <th>mean_texture</th>\n",
       "      <th>mean_perimeter</th>\n",
       "      <th>mean_area</th>\n",
       "      <th>mean_smoothness</th>\n",
       "      <th>diagnosis</th>\n",
       "    </tr>\n",
       "  </thead>\n",
       "  <tbody>\n",
       "    <tr>\n",
       "      <th>count</th>\n",
       "      <td>569.000000</td>\n",
       "      <td>569.000000</td>\n",
       "      <td>569.000000</td>\n",
       "      <td>569.000000</td>\n",
       "      <td>569.000000</td>\n",
       "      <td>569.000000</td>\n",
       "    </tr>\n",
       "    <tr>\n",
       "      <th>mean</th>\n",
       "      <td>14.127292</td>\n",
       "      <td>19.289649</td>\n",
       "      <td>91.969033</td>\n",
       "      <td>654.889104</td>\n",
       "      <td>0.096360</td>\n",
       "      <td>0.627417</td>\n",
       "    </tr>\n",
       "    <tr>\n",
       "      <th>std</th>\n",
       "      <td>3.524049</td>\n",
       "      <td>4.301036</td>\n",
       "      <td>24.298981</td>\n",
       "      <td>351.914129</td>\n",
       "      <td>0.014064</td>\n",
       "      <td>0.483918</td>\n",
       "    </tr>\n",
       "    <tr>\n",
       "      <th>min</th>\n",
       "      <td>6.981000</td>\n",
       "      <td>9.710000</td>\n",
       "      <td>43.790000</td>\n",
       "      <td>143.500000</td>\n",
       "      <td>0.052630</td>\n",
       "      <td>0.000000</td>\n",
       "    </tr>\n",
       "    <tr>\n",
       "      <th>25%</th>\n",
       "      <td>11.700000</td>\n",
       "      <td>16.170000</td>\n",
       "      <td>75.170000</td>\n",
       "      <td>420.300000</td>\n",
       "      <td>0.086370</td>\n",
       "      <td>0.000000</td>\n",
       "    </tr>\n",
       "    <tr>\n",
       "      <th>50%</th>\n",
       "      <td>13.370000</td>\n",
       "      <td>18.840000</td>\n",
       "      <td>86.240000</td>\n",
       "      <td>551.100000</td>\n",
       "      <td>0.095870</td>\n",
       "      <td>1.000000</td>\n",
       "    </tr>\n",
       "    <tr>\n",
       "      <th>75%</th>\n",
       "      <td>15.780000</td>\n",
       "      <td>21.800000</td>\n",
       "      <td>104.100000</td>\n",
       "      <td>782.700000</td>\n",
       "      <td>0.105300</td>\n",
       "      <td>1.000000</td>\n",
       "    </tr>\n",
       "    <tr>\n",
       "      <th>max</th>\n",
       "      <td>28.110000</td>\n",
       "      <td>39.280000</td>\n",
       "      <td>188.500000</td>\n",
       "      <td>2501.000000</td>\n",
       "      <td>0.163400</td>\n",
       "      <td>1.000000</td>\n",
       "    </tr>\n",
       "  </tbody>\n",
       "</table>\n",
       "</div>"
      ],
      "text/plain": [
       "       mean_radius  mean_texture  mean_perimeter    mean_area  \\\n",
       "count   569.000000    569.000000      569.000000   569.000000   \n",
       "mean     14.127292     19.289649       91.969033   654.889104   \n",
       "std       3.524049      4.301036       24.298981   351.914129   \n",
       "min       6.981000      9.710000       43.790000   143.500000   \n",
       "25%      11.700000     16.170000       75.170000   420.300000   \n",
       "50%      13.370000     18.840000       86.240000   551.100000   \n",
       "75%      15.780000     21.800000      104.100000   782.700000   \n",
       "max      28.110000     39.280000      188.500000  2501.000000   \n",
       "\n",
       "       mean_smoothness   diagnosis  \n",
       "count       569.000000  569.000000  \n",
       "mean          0.096360    0.627417  \n",
       "std           0.014064    0.483918  \n",
       "min           0.052630    0.000000  \n",
       "25%           0.086370    0.000000  \n",
       "50%           0.095870    1.000000  \n",
       "75%           0.105300    1.000000  \n",
       "max           0.163400    1.000000  "
      ]
     },
     "execution_count": 7,
     "metadata": {},
     "output_type": "execute_result"
    }
   ],
   "source": [
    "df.describe()"
   ]
  },
  {
   "cell_type": "markdown",
   "id": "4ca0ed95",
   "metadata": {},
   "source": [
    "### Key Observations"
   ]
  },
  {
   "cell_type": "markdown",
   "id": "fd9ccd8d",
   "metadata": {},
   "source": [
    "- Mean value is greater than median value of each column represented by 50%(50th percentile) in index column except for the diagnosis column.\n",
    "- There is significantly large differnece in 75th %tile and max values \"mean_area\"\n",
    "- Thus observations 1 and 2 suggests that there are extreme values-Outliers in our dataset"
   ]
  },
  {
   "cell_type": "code",
   "execution_count": 8,
   "id": "f021cf32",
   "metadata": {},
   "outputs": [
    {
     "data": {
      "text/plain": [
       "(569, 6)"
      ]
     },
     "execution_count": 8,
     "metadata": {},
     "output_type": "execute_result"
    }
   ],
   "source": [
    "df.shape"
   ]
  },
  {
   "cell_type": "code",
   "execution_count": 9,
   "id": "6d9ec826",
   "metadata": {},
   "outputs": [
    {
     "data": {
      "text/plain": [
       "<bound method Series.unique of 0      1001.0\n",
       "1      1326.0\n",
       "2      1203.0\n",
       "3       386.1\n",
       "4      1297.0\n",
       "        ...  \n",
       "564    1479.0\n",
       "565    1261.0\n",
       "566     858.1\n",
       "567    1265.0\n",
       "568     181.0\n",
       "Name: mean_area, Length: 569, dtype: float64>"
      ]
     },
     "execution_count": 9,
     "metadata": {},
     "output_type": "execute_result"
    }
   ],
   "source": [
    "df.mean_area.unique"
   ]
  },
  {
   "cell_type": "code",
   "execution_count": 10,
   "id": "55f4e3ef",
   "metadata": {},
   "outputs": [
    {
     "data": {
      "text/plain": [
       "array([0, 1], dtype=int64)"
      ]
     },
     "execution_count": 10,
     "metadata": {},
     "output_type": "execute_result"
    }
   ],
   "source": [
    "df.diagnosis.unique()"
   ]
  },
  {
   "cell_type": "markdown",
   "id": "308190b0",
   "metadata": {},
   "source": [
    "# Data Visualization"
   ]
  },
  {
   "cell_type": "code",
   "execution_count": 11,
   "id": "69f2a40c",
   "metadata": {
    "scrolled": true
   },
   "outputs": [
    {
     "data": {
      "text/plain": [
       "<AxesSubplot:>"
      ]
     },
     "execution_count": 11,
     "metadata": {},
     "output_type": "execute_result"
    },
    {
     "data": {
      "image/png": "[encoded data removed]",
      "text/plain": [
       "<Figure size 432x288 with 1 Axes>"
      ]
     },
     "metadata": {
      "needs_background": "light"
     },
     "output_type": "display_data"
    }
   ],
   "source": [
    "#checking for missing values\n",
    "sns.heatmap(df.isnull(),cbar=False,yticklabels=False,cmap = 'viridis')"
   ]
  },
  {
   "cell_type": "markdown",
   "id": "1ff8894b",
   "metadata": {},
   "source": [
    "- Dataset has no missing values.\n",
    "- If there were any, it would have been noticed in figure represented by different colour shade on purple background.\n"
   ]
  },
  {
   "cell_type": "markdown",
   "id": "e0c0ffe5",
   "metadata": {},
   "source": [
    "## Check Correlation"
   ]
  },
  {
   "cell_type": "code",
   "execution_count": 12,
   "id": "4ee62e20",
   "metadata": {},
   "outputs": [
    {
     "data": {
      "text/plain": [
       "<AxesSubplot:>"
      ]
     },
     "execution_count": 12,
     "metadata": {},
     "output_type": "execute_result"
    },
    {
     "data": {
      "image/png": "[encoded data removed]",
      "text/plain": [
       "<Figure size 432x288 with 2 Axes>"
      ]
     },
     "metadata": {
      "needs_background": "light"
     },
     "output_type": "display_data"
    }
   ],
   "source": [
    "# This checks the correlation between the features \n",
    "plt.figure(figsize=(6,4))\n",
    "sns.heatmap(df.corr(),cmap='Blues',annot=False) \n"
   ]
  },
  {
   "cell_type": "code",
   "execution_count": 13,
   "id": "21b4aea2",
   "metadata": {},
   "outputs": [],
   "source": [
    "df_corr=df.corr()"
   ]
  },
  {
   "cell_type": "code",
   "execution_count": 14,
   "id": "e47b18bb",
   "metadata": {},
   "outputs": [
    {
     "data": {
      "text/plain": [
       "<AxesSubplot:>"
      ]
     },
     "execution_count": 14,
     "metadata": {},
     "output_type": "execute_result"
    },
    {
     "data": {
      "image/png": "[encoded data removed]",
      "text/plain": [
       "<Figure size 432x288 with 2 Axes>"
      ]
     },
     "metadata": {
      "needs_background": "light"
     },
     "output_type": "display_data"
    }
   ],
   "source": [
    "#Quality correlation matrix\n",
    "sns.heatmap(df_corr,annot=True,cmap='coolwarm')\n"
   ]
  },
  {
   "cell_type": "markdown",
   "id": "d6e9f9e1",
   "metadata": {},
   "source": [
    "- There is a strong positive correlation between 'mean_area' and 'mean_radius' and 'mean_perimeter'\n",
    "- While 'mean_area', 'mean _radius' and 'mean_perimeter' all have strong negative correlation with diagnosis"
   ]
  },
  {
   "cell_type": "code",
   "execution_count": 15,
   "id": "199255f9",
   "metadata": {},
   "outputs": [],
   "source": [
    "# Dropping overlapped features\n",
    "df.drop(['mean_radius','mean_area'],axis=1,inplace=True)"
   ]
  },
  {
   "cell_type": "code",
   "execution_count": 16,
   "id": "4cdc3971",
   "metadata": {},
   "outputs": [
    {
     "data": {
      "text/plain": [
       "1    0.627417\n",
       "0    0.372583\n",
       "Name: diagnosis, dtype: float64"
      ]
     },
     "execution_count": 16,
     "metadata": {},
     "output_type": "execute_result"
    }
   ],
   "source": [
    "#checking the proportion of the target feature\n",
    "df.diagnosis.value_counts()/len(df)"
   ]
  },
  {
   "cell_type": "code",
   "execution_count": 17,
   "id": "c8c60a6d",
   "metadata": {},
   "outputs": [
    {
     "data": {
      "text/plain": [
       "<AxesSubplot:xlabel='diagnosis', ylabel='count'>"
      ]
     },
     "execution_count": 17,
     "metadata": {},
     "output_type": "execute_result"
    },
    {
     "data": {
      "image/png": "[encoded data removed]",
      "text/plain": [
       "<Figure size 432x288 with 1 Axes>"
      ]
     },
     "metadata": {
      "needs_background": "light"
     },
     "output_type": "display_data"
    }
   ],
   "source": [
    "sns.countplot(x=df.diagnosis)"
   ]
  },
  {
   "cell_type": "markdown",
   "id": "3be0ae15",
   "metadata": {},
   "source": [
    "### Dropping Overalpping features"
   ]
  },
  {
   "cell_type": "code",
   "execution_count": 18,
   "id": "fc182968",
   "metadata": {},
   "outputs": [],
   "source": [
    "df_2_corr=df.corr()"
   ]
  },
  {
   "cell_type": "code",
   "execution_count": 19,
   "id": "43c8c0cc",
   "metadata": {},
   "outputs": [
    {
     "data": {
      "text/plain": [
       "<AxesSubplot:>"
      ]
     },
     "execution_count": 19,
     "metadata": {},
     "output_type": "execute_result"
    },
    {
     "data": {
      "image/png": "[encoded data removed]",
      "text/plain": [
       "<Figure size 432x288 with 2 Axes>"
      ]
     },
     "metadata": {
      "needs_background": "light"
     },
     "output_type": "display_data"
    }
   ],
   "source": [
    "#inspecting heatmap after dropping overlapping features\n",
    "sns.heatmap(df_2_corr,annot=True,cmap='coolwarm')"
   ]
  },
  {
   "cell_type": "code",
   "execution_count": 20,
   "id": "e3e98bb4",
   "metadata": {},
   "outputs": [
    {
     "data": {
      "image/png": "[encoded data removed]",
      "text/plain": [
       "<Figure size 584.625x540 with 12 Axes>"
      ]
     },
     "metadata": {
      "needs_background": "light"
     },
     "output_type": "display_data"
    }
   ],
   "source": [
    "df['target'] = df['diagnosis'].map({0:'B',1:'M'})\n",
    "sns.pairplot(df.drop('diagnosis', axis = 1), hue='target',palette='prism');"
   ]
  },
  {
   "cell_type": "markdown",
   "id": "ab0572fc",
   "metadata": {},
   "source": [
    "## Spliting the dataset"
   ]
  },
  {
   "cell_type": "code",
   "execution_count": 21,
   "id": "030e328e",
   "metadata": {},
   "outputs": [],
   "source": [
    "X = df.drop(['diagnosis','target'],axis=1)\n",
    "Y = df['diagnosis']"
   ]
  },
  {
   "cell_type": "code",
   "execution_count": 22,
   "id": "6374643c",
   "metadata": {},
   "outputs": [],
   "source": [
    "x_train, x_test, y_train, y_test = train_test_split(X, Y, test_size=0.2, random_state=0)"
   ]
  },
  {
   "cell_type": "code",
   "execution_count": 23,
   "id": "97ebbecd",
   "metadata": {},
   "outputs": [
    {
     "data": {
      "text/html": [
       "<div>\n",
       "<style scoped>\n",
       "    .dataframe tbody tr th:only-of-type {\n",
       "        vertical-align: middle;\n",
       "    }\n",
       "\n",
       "    .dataframe tbody tr th {\n",
       "        vertical-align: top;\n",
       "    }\n",
       "\n",
       "    .dataframe thead th {\n",
       "        text-align: right;\n",
       "    }\n",
       "</style>\n",
       "<table border=\"1\" class=\"dataframe\">\n",
       "  <thead>\n",
       "    <tr style=\"text-align: right;\">\n",
       "      <th></th>\n",
       "      <th>mean_texture</th>\n",
       "      <th>mean_perimeter</th>\n",
       "      <th>mean_smoothness</th>\n",
       "    </tr>\n",
       "  </thead>\n",
       "  <tbody>\n",
       "    <tr>\n",
       "      <th>338</th>\n",
       "      <td>17.53</td>\n",
       "      <td>64.41</td>\n",
       "      <td>0.10070</td>\n",
       "    </tr>\n",
       "    <tr>\n",
       "      <th>427</th>\n",
       "      <td>21.98</td>\n",
       "      <td>68.79</td>\n",
       "      <td>0.08801</td>\n",
       "    </tr>\n",
       "    <tr>\n",
       "      <th>406</th>\n",
       "      <td>14.86</td>\n",
       "      <td>104.30</td>\n",
       "      <td>0.09495</td>\n",
       "    </tr>\n",
       "    <tr>\n",
       "      <th>96</th>\n",
       "      <td>17.84</td>\n",
       "      <td>77.79</td>\n",
       "      <td>0.10450</td>\n",
       "    </tr>\n",
       "    <tr>\n",
       "      <th>490</th>\n",
       "      <td>22.44</td>\n",
       "      <td>78.18</td>\n",
       "      <td>0.08192</td>\n",
       "    </tr>\n",
       "    <tr>\n",
       "      <th>...</th>\n",
       "      <td>...</td>\n",
       "      <td>...</td>\n",
       "      <td>...</td>\n",
       "    </tr>\n",
       "    <tr>\n",
       "      <th>277</th>\n",
       "      <td>19.98</td>\n",
       "      <td>120.90</td>\n",
       "      <td>0.08923</td>\n",
       "    </tr>\n",
       "    <tr>\n",
       "      <th>9</th>\n",
       "      <td>24.04</td>\n",
       "      <td>83.97</td>\n",
       "      <td>0.11860</td>\n",
       "    </tr>\n",
       "    <tr>\n",
       "      <th>359</th>\n",
       "      <td>18.32</td>\n",
       "      <td>59.82</td>\n",
       "      <td>0.10090</td>\n",
       "    </tr>\n",
       "    <tr>\n",
       "      <th>192</th>\n",
       "      <td>18.22</td>\n",
       "      <td>60.73</td>\n",
       "      <td>0.06950</td>\n",
       "    </tr>\n",
       "    <tr>\n",
       "      <th>559</th>\n",
       "      <td>23.93</td>\n",
       "      <td>74.52</td>\n",
       "      <td>0.09261</td>\n",
       "    </tr>\n",
       "  </tbody>\n",
       "</table>\n",
       "<p>455 rows × 3 columns</p>\n",
       "</div>"
      ],
      "text/plain": [
       "     mean_texture  mean_perimeter  mean_smoothness\n",
       "338         17.53           64.41          0.10070\n",
       "427         21.98           68.79          0.08801\n",
       "406         14.86          104.30          0.09495\n",
       "96          17.84           77.79          0.10450\n",
       "490         22.44           78.18          0.08192\n",
       "..            ...             ...              ...\n",
       "277         19.98          120.90          0.08923\n",
       "9           24.04           83.97          0.11860\n",
       "359         18.32           59.82          0.10090\n",
       "192         18.22           60.73          0.06950\n",
       "559         23.93           74.52          0.09261\n",
       "\n",
       "[455 rows x 3 columns]"
      ]
     },
     "execution_count": 23,
     "metadata": {},
     "output_type": "execute_result"
    }
   ],
   "source": [
    "x_train"
   ]
  },
  {
   "cell_type": "code",
   "execution_count": 24,
   "id": "ba58e872",
   "metadata": {},
   "outputs": [],
   "source": [
    "#standardizing the data\n",
    "from sklearn.preprocessing import MinMaxScaler\n",
    "sc = MinMaxScaler()\n",
    "X_train = sc.fit_transform(x_train)\n",
    "y_train=np.array(y_train)\n",
    "X_test = sc.fit_transform(x_test)\n",
    "y_test=np.array(y_test)"
   ]
  },
  {
   "cell_type": "code",
   "execution_count": 25,
   "id": "283db84b",
   "metadata": {},
   "outputs": [],
   "source": [
    "#Oversampling the target feature by SMOTING\n",
    "from imblearn.over_sampling import SMOTENC\n",
    "smote_nc = SMOTENC(categorical_features=[0, 2], random_state=0)\n",
    "X_resampled, y_resampled = smote_nc.fit_resample(X, Y)"
   ]
  },
  {
   "cell_type": "code",
   "execution_count": 26,
   "id": "2a98ca17",
   "metadata": {},
   "outputs": [
    {
     "name": "stderr",
     "output_type": "stream",
     "text": [
      "C:\\Users\\OSHODI IFEDAYO\\anaconda3\\lib\\site-packages\\seaborn\\_decorators.py:36: FutureWarning: Pass the following variable as a keyword arg: x. From version 0.12, the only valid positional argument will be `data`, and passing other arguments without an explicit keyword will result in an error or misinterpretation.\n",
      "  warnings.warn(\n"
     ]
    },
    {
     "data": {
      "text/plain": [
       "<AxesSubplot:xlabel='diagnosis', ylabel='count'>"
      ]
     },
     "execution_count": 26,
     "metadata": {},
     "output_type": "execute_result"
    },
    {
     "data": {
      "image/png": "[encoded data removed]",
      "text/plain": [
       "<Figure size 432x288 with 1 Axes>"
      ]
     },
     "metadata": {
      "needs_background": "light"
     },
     "output_type": "display_data"
    }
   ],
   "source": [
    "sns.countplot(y_resampled)"
   ]
  },
  {
   "cell_type": "markdown",
   "id": "c7c6e1d8",
   "metadata": {},
   "source": [
    "## Deep Learning - Feeedforward Neural Network"
   ]
  },
  {
   "cell_type": "code",
   "execution_count": 27,
   "id": "f4b29b09",
   "metadata": {},
   "outputs": [],
   "source": [
    "model=tf.keras.Sequential([\n",
    "    tf.keras.layers.Dense(10,activation='relu'),\n",
    "    tf.keras.layers.Dense(20,activation='relu'),\n",
    "    tf.keras.layers.Dense(1,activation='sigmoid')\n",
    "])"
   ]
  },
  {
   "cell_type": "code",
   "execution_count": 28,
   "id": "a4e7ab54",
   "metadata": {},
   "outputs": [],
   "source": [
    "model.compile(optimizer='adam',loss='binary_crossentropy',metrics=['accuracy'])"
   ]
  },
  {
   "cell_type": "code",
   "execution_count": 29,
   "id": "eef57d8c",
   "metadata": {},
   "outputs": [
    {
     "name": "stdout",
     "output_type": "stream",
     "text": [
      "Epoch 1/100\n",
      "15/15 [==============================] - 4s 51ms/step - loss: 0.7114 - accuracy: 0.3626 - val_loss: 0.6850 - val_accuracy: 0.4386\n",
      "Epoch 2/100\n",
      "15/15 [==============================] - 0s 6ms/step - loss: 0.6936 - accuracy: 0.4505 - val_loss: 0.6783 - val_accuracy: 0.8860\n",
      "Epoch 3/100\n",
      "15/15 [==============================] - 0s 6ms/step - loss: 0.6816 - accuracy: 0.7077 - val_loss: 0.6741 - val_accuracy: 0.6667\n",
      "Epoch 4/100\n",
      "15/15 [==============================] - 0s 6ms/step - loss: 0.6731 - accuracy: 0.6505 - val_loss: 0.6703 - val_accuracy: 0.5877\n",
      "Epoch 5/100\n",
      "15/15 [==============================] - 0s 6ms/step - loss: 0.6661 - accuracy: 0.6396 - val_loss: 0.6653 - val_accuracy: 0.5965\n",
      "Epoch 6/100\n",
      "15/15 [==============================] - 0s 6ms/step - loss: 0.6588 - accuracy: 0.6396 - val_loss: 0.6591 - val_accuracy: 0.6140\n",
      "Epoch 7/100\n",
      "15/15 [==============================] - 0s 5ms/step - loss: 0.6508 - accuracy: 0.6484 - val_loss: 0.6491 - val_accuracy: 0.6842\n",
      "Epoch 8/100\n",
      "15/15 [==============================] - 0s 6ms/step - loss: 0.6392 - accuracy: 0.6659 - val_loss: 0.6363 - val_accuracy: 0.7632\n",
      "Epoch 9/100\n",
      "15/15 [==============================] - 0s 6ms/step - loss: 0.6264 - accuracy: 0.7275 - val_loss: 0.6212 - val_accuracy: 0.8509\n",
      "Epoch 10/100\n",
      "15/15 [==============================] - 0s 6ms/step - loss: 0.6114 - accuracy: 0.7429 - val_loss: 0.6042 - val_accuracy: 0.8421\n",
      "Epoch 11/100\n",
      "15/15 [==============================] - 0s 5ms/step - loss: 0.5943 - accuracy: 0.7758 - val_loss: 0.5860 - val_accuracy: 0.8772\n",
      "Epoch 12/100\n",
      "15/15 [==============================] - 0s 6ms/step - loss: 0.5776 - accuracy: 0.8242 - val_loss: 0.5667 - val_accuracy: 0.8947\n",
      "Epoch 13/100\n",
      "15/15 [==============================] - 0s 6ms/step - loss: 0.5588 - accuracy: 0.8132 - val_loss: 0.5443 - val_accuracy: 0.8947\n",
      "Epoch 14/100\n",
      "15/15 [==============================] - 0s 6ms/step - loss: 0.5391 - accuracy: 0.8220 - val_loss: 0.5234 - val_accuracy: 0.8772\n",
      "Epoch 15/100\n",
      "15/15 [==============================] - 0s 6ms/step - loss: 0.5184 - accuracy: 0.8352 - val_loss: 0.5019 - val_accuracy: 0.8684\n",
      "Epoch 16/100\n",
      "15/15 [==============================] - 0s 6ms/step - loss: 0.4981 - accuracy: 0.8352 - val_loss: 0.4774 - val_accuracy: 0.8684\n",
      "Epoch 17/100\n",
      "15/15 [==============================] - 0s 6ms/step - loss: 0.4765 - accuracy: 0.8440 - val_loss: 0.4588 - val_accuracy: 0.8421\n",
      "Epoch 18/100\n",
      "15/15 [==============================] - 0s 6ms/step - loss: 0.4558 - accuracy: 0.8505 - val_loss: 0.4345 - val_accuracy: 0.8596\n",
      "Epoch 19/100\n",
      "15/15 [==============================] - 0s 7ms/step - loss: 0.4352 - accuracy: 0.8681 - val_loss: 0.4175 - val_accuracy: 0.8421\n",
      "Epoch 20/100\n",
      "15/15 [==============================] - 0s 5ms/step - loss: 0.4145 - accuracy: 0.8703 - val_loss: 0.3958 - val_accuracy: 0.8596\n",
      "Epoch 21/100\n",
      "15/15 [==============================] - 0s 6ms/step - loss: 0.3976 - accuracy: 0.8769 - val_loss: 0.3796 - val_accuracy: 0.8596\n",
      "Epoch 22/100\n",
      "15/15 [==============================] - 0s 6ms/step - loss: 0.3763 - accuracy: 0.8769 - val_loss: 0.3522 - val_accuracy: 0.8860\n",
      "Epoch 23/100\n",
      "15/15 [==============================] - 0s 6ms/step - loss: 0.3604 - accuracy: 0.8813 - val_loss: 0.3392 - val_accuracy: 0.8772\n",
      "Epoch 24/100\n",
      "15/15 [==============================] - 0s 6ms/step - loss: 0.3420 - accuracy: 0.8923 - val_loss: 0.3158 - val_accuracy: 0.9035\n",
      "Epoch 25/100\n",
      "15/15 [==============================] - 0s 6ms/step - loss: 0.3274 - accuracy: 0.8945 - val_loss: 0.3048 - val_accuracy: 0.8947\n",
      "Epoch 26/100\n",
      "15/15 [==============================] - 0s 6ms/step - loss: 0.3148 - accuracy: 0.9033 - val_loss: 0.2968 - val_accuracy: 0.8772\n",
      "Epoch 27/100\n",
      "15/15 [==============================] - 0s 6ms/step - loss: 0.3010 - accuracy: 0.9055 - val_loss: 0.2746 - val_accuracy: 0.9211\n",
      "Epoch 28/100\n",
      "15/15 [==============================] - 0s 6ms/step - loss: 0.2879 - accuracy: 0.9077 - val_loss: 0.2699 - val_accuracy: 0.9035\n",
      "Epoch 29/100\n",
      "15/15 [==============================] - 0s 5ms/step - loss: 0.2759 - accuracy: 0.9077 - val_loss: 0.2531 - val_accuracy: 0.9211\n",
      "Epoch 30/100\n",
      "15/15 [==============================] - 0s 5ms/step - loss: 0.2668 - accuracy: 0.9121 - val_loss: 0.2490 - val_accuracy: 0.9035\n",
      "Epoch 31/100\n",
      "15/15 [==============================] - 0s 6ms/step - loss: 0.2579 - accuracy: 0.9187 - val_loss: 0.2395 - val_accuracy: 0.9035\n",
      "Epoch 32/100\n",
      "15/15 [==============================] - 0s 6ms/step - loss: 0.2490 - accuracy: 0.9165 - val_loss: 0.2293 - val_accuracy: 0.9035\n",
      "Epoch 33/100\n",
      "15/15 [==============================] - 0s 6ms/step - loss: 0.2415 - accuracy: 0.9165 - val_loss: 0.2285 - val_accuracy: 0.9123\n",
      "Epoch 34/100\n",
      "15/15 [==============================] - 0s 5ms/step - loss: 0.2334 - accuracy: 0.9165 - val_loss: 0.2162 - val_accuracy: 0.9211\n",
      "Epoch 35/100\n",
      "15/15 [==============================] - 0s 6ms/step - loss: 0.2282 - accuracy: 0.9231 - val_loss: 0.2114 - val_accuracy: 0.9211\n",
      "Epoch 36/100\n",
      "15/15 [==============================] - 0s 6ms/step - loss: 0.2223 - accuracy: 0.9165 - val_loss: 0.2079 - val_accuracy: 0.9123\n",
      "Epoch 37/100\n",
      "15/15 [==============================] - 0s 5ms/step - loss: 0.2184 - accuracy: 0.9253 - val_loss: 0.2040 - val_accuracy: 0.9123\n",
      "Epoch 38/100\n",
      "15/15 [==============================] - 0s 6ms/step - loss: 0.2121 - accuracy: 0.9253 - val_loss: 0.2038 - val_accuracy: 0.9211\n",
      "Epoch 39/100\n",
      "15/15 [==============================] - 0s 6ms/step - loss: 0.2079 - accuracy: 0.9231 - val_loss: 0.1942 - val_accuracy: 0.9123\n",
      "Epoch 40/100\n",
      "15/15 [==============================] - 0s 6ms/step - loss: 0.2048 - accuracy: 0.9275 - val_loss: 0.1922 - val_accuracy: 0.9123\n",
      "Epoch 41/100\n",
      "15/15 [==============================] - 0s 5ms/step - loss: 0.1996 - accuracy: 0.9297 - val_loss: 0.1889 - val_accuracy: 0.9123\n",
      "Epoch 42/100\n",
      "15/15 [==============================] - 0s 5ms/step - loss: 0.1961 - accuracy: 0.9275 - val_loss: 0.1862 - val_accuracy: 0.9123\n",
      "Epoch 43/100\n",
      "15/15 [==============================] - 0s 5ms/step - loss: 0.1938 - accuracy: 0.9341 - val_loss: 0.1827 - val_accuracy: 0.9035\n",
      "Epoch 44/100\n",
      "15/15 [==============================] - 0s 6ms/step - loss: 0.1908 - accuracy: 0.9319 - val_loss: 0.1802 - val_accuracy: 0.9035\n",
      "Epoch 45/100\n",
      "15/15 [==============================] - 0s 6ms/step - loss: 0.1900 - accuracy: 0.9297 - val_loss: 0.1803 - val_accuracy: 0.9123\n",
      "Epoch 46/100\n",
      "15/15 [==============================] - 0s 6ms/step - loss: 0.1889 - accuracy: 0.9275 - val_loss: 0.1762 - val_accuracy: 0.9035\n",
      "Epoch 47/100\n",
      "15/15 [==============================] - 0s 5ms/step - loss: 0.1831 - accuracy: 0.9407 - val_loss: 0.1777 - val_accuracy: 0.9123\n",
      "Epoch 48/100\n",
      "15/15 [==============================] - 0s 5ms/step - loss: 0.1819 - accuracy: 0.9297 - val_loss: 0.1729 - val_accuracy: 0.8947\n",
      "Epoch 49/100\n",
      "15/15 [==============================] - 0s 6ms/step - loss: 0.1788 - accuracy: 0.9363 - val_loss: 0.1741 - val_accuracy: 0.9123\n",
      "Epoch 50/100\n",
      "15/15 [==============================] - 0s 5ms/step - loss: 0.1776 - accuracy: 0.9341 - val_loss: 0.1703 - val_accuracy: 0.8947\n",
      "Epoch 51/100\n",
      "15/15 [==============================] - 0s 5ms/step - loss: 0.1776 - accuracy: 0.9297 - val_loss: 0.1703 - val_accuracy: 0.9035\n",
      "Epoch 52/100\n",
      "15/15 [==============================] - 0s 6ms/step - loss: 0.1739 - accuracy: 0.9385 - val_loss: 0.1706 - val_accuracy: 0.9123\n",
      "Epoch 53/100\n",
      "15/15 [==============================] - 0s 5ms/step - loss: 0.1728 - accuracy: 0.9341 - val_loss: 0.1679 - val_accuracy: 0.8947\n",
      "Epoch 54/100\n",
      "15/15 [==============================] - 0s 5ms/step - loss: 0.1713 - accuracy: 0.9407 - val_loss: 0.1670 - val_accuracy: 0.8947\n",
      "Epoch 55/100\n",
      "15/15 [==============================] - 0s 6ms/step - loss: 0.1700 - accuracy: 0.9407 - val_loss: 0.1660 - val_accuracy: 0.8947\n",
      "Epoch 56/100\n",
      "15/15 [==============================] - 0s 6ms/step - loss: 0.1700 - accuracy: 0.9385 - val_loss: 0.1658 - val_accuracy: 0.9035\n",
      "Epoch 57/100\n",
      "15/15 [==============================] - 0s 6ms/step - loss: 0.1721 - accuracy: 0.9429 - val_loss: 0.1653 - val_accuracy: 0.9035\n",
      "Epoch 58/100\n",
      "15/15 [==============================] - 0s 5ms/step - loss: 0.1679 - accuracy: 0.9319 - val_loss: 0.1636 - val_accuracy: 0.8947\n"
     ]
    },
    {
     "name": "stdout",
     "output_type": "stream",
     "text": [
      "Epoch 59/100\n",
      "15/15 [==============================] - 0s 6ms/step - loss: 0.1676 - accuracy: 0.9385 - val_loss: 0.1651 - val_accuracy: 0.9123\n",
      "Epoch 60/100\n",
      "15/15 [==============================] - 0s 5ms/step - loss: 0.1635 - accuracy: 0.9341 - val_loss: 0.1623 - val_accuracy: 0.9035\n",
      "Epoch 61/100\n",
      "15/15 [==============================] - 0s 5ms/step - loss: 0.1653 - accuracy: 0.9451 - val_loss: 0.1622 - val_accuracy: 0.9035\n",
      "Epoch 62/100\n",
      "15/15 [==============================] - 0s 5ms/step - loss: 0.1639 - accuracy: 0.9429 - val_loss: 0.1619 - val_accuracy: 0.9035\n",
      "Epoch 63/100\n",
      "15/15 [==============================] - 0s 5ms/step - loss: 0.1635 - accuracy: 0.9407 - val_loss: 0.1612 - val_accuracy: 0.8947\n",
      "Epoch 64/100\n",
      "15/15 [==============================] - 0s 5ms/step - loss: 0.1611 - accuracy: 0.9451 - val_loss: 0.1609 - val_accuracy: 0.9035\n",
      "Epoch 65/100\n",
      "15/15 [==============================] - 0s 5ms/step - loss: 0.1618 - accuracy: 0.9407 - val_loss: 0.1604 - val_accuracy: 0.8947\n",
      "Epoch 66/100\n",
      "15/15 [==============================] - 0s 5ms/step - loss: 0.1623 - accuracy: 0.9385 - val_loss: 0.1601 - val_accuracy: 0.8947\n",
      "Epoch 67/100\n",
      "15/15 [==============================] - 0s 6ms/step - loss: 0.1647 - accuracy: 0.9451 - val_loss: 0.1614 - val_accuracy: 0.9123\n",
      "Epoch 68/100\n",
      "15/15 [==============================] - 0s 6ms/step - loss: 0.1605 - accuracy: 0.9407 - val_loss: 0.1600 - val_accuracy: 0.9123\n",
      "Epoch 69/100\n",
      "15/15 [==============================] - 0s 5ms/step - loss: 0.1586 - accuracy: 0.9385 - val_loss: 0.1598 - val_accuracy: 0.9035\n",
      "Epoch 70/100\n",
      "15/15 [==============================] - 0s 5ms/step - loss: 0.1580 - accuracy: 0.9385 - val_loss: 0.1591 - val_accuracy: 0.9035\n",
      "Epoch 71/100\n",
      "15/15 [==============================] - 0s 6ms/step - loss: 0.1579 - accuracy: 0.9407 - val_loss: 0.1589 - val_accuracy: 0.9035\n",
      "Epoch 72/100\n",
      "15/15 [==============================] - 0s 6ms/step - loss: 0.1573 - accuracy: 0.9385 - val_loss: 0.1587 - val_accuracy: 0.9035\n",
      "Epoch 73/100\n",
      "15/15 [==============================] - 0s 5ms/step - loss: 0.1588 - accuracy: 0.9451 - val_loss: 0.1588 - val_accuracy: 0.9123\n",
      "Epoch 74/100\n",
      "15/15 [==============================] - 0s 5ms/step - loss: 0.1564 - accuracy: 0.9407 - val_loss: 0.1585 - val_accuracy: 0.9035\n",
      "Epoch 75/100\n",
      "15/15 [==============================] - 0s 5ms/step - loss: 0.1565 - accuracy: 0.9451 - val_loss: 0.1583 - val_accuracy: 0.9035\n",
      "Epoch 76/100\n",
      "15/15 [==============================] - 0s 5ms/step - loss: 0.1557 - accuracy: 0.9407 - val_loss: 0.1581 - val_accuracy: 0.9035\n",
      "Epoch 77/100\n",
      "15/15 [==============================] - 0s 6ms/step - loss: 0.1564 - accuracy: 0.9407 - val_loss: 0.1578 - val_accuracy: 0.9123\n",
      "Epoch 78/100\n",
      "15/15 [==============================] - 0s 5ms/step - loss: 0.1555 - accuracy: 0.9385 - val_loss: 0.1580 - val_accuracy: 0.9123\n",
      "Epoch 79/100\n",
      "15/15 [==============================] - 0s 6ms/step - loss: 0.1541 - accuracy: 0.9385 - val_loss: 0.1574 - val_accuracy: 0.9123\n",
      "Epoch 80/100\n",
      "15/15 [==============================] - 0s 6ms/step - loss: 0.1538 - accuracy: 0.9429 - val_loss: 0.1571 - val_accuracy: 0.9123\n",
      "Epoch 81/100\n",
      "15/15 [==============================] - 0s 6ms/step - loss: 0.1531 - accuracy: 0.9429 - val_loss: 0.1570 - val_accuracy: 0.9123\n",
      "Epoch 82/100\n",
      "15/15 [==============================] - 0s 6ms/step - loss: 0.1534 - accuracy: 0.9451 - val_loss: 0.1567 - val_accuracy: 0.9211\n",
      "Epoch 83/100\n",
      "15/15 [==============================] - 0s 6ms/step - loss: 0.1521 - accuracy: 0.9429 - val_loss: 0.1570 - val_accuracy: 0.9123\n",
      "Epoch 84/100\n",
      "15/15 [==============================] - 0s 6ms/step - loss: 0.1529 - accuracy: 0.9429 - val_loss: 0.1569 - val_accuracy: 0.9123\n",
      "Epoch 85/100\n",
      "15/15 [==============================] - 0s 5ms/step - loss: 0.1512 - accuracy: 0.9429 - val_loss: 0.1563 - val_accuracy: 0.9123\n",
      "Epoch 86/100\n",
      "15/15 [==============================] - 0s 6ms/step - loss: 0.1523 - accuracy: 0.9451 - val_loss: 0.1563 - val_accuracy: 0.9123\n",
      "Epoch 87/100\n",
      "15/15 [==============================] - 0s 6ms/step - loss: 0.1511 - accuracy: 0.9451 - val_loss: 0.1572 - val_accuracy: 0.9211\n",
      "Epoch 88/100\n",
      "15/15 [==============================] - 0s 5ms/step - loss: 0.1514 - accuracy: 0.9407 - val_loss: 0.1573 - val_accuracy: 0.9123\n",
      "Epoch 89/100\n",
      "15/15 [==============================] - 0s 5ms/step - loss: 0.1514 - accuracy: 0.9429 - val_loss: 0.1572 - val_accuracy: 0.9123\n",
      "Epoch 90/100\n",
      "15/15 [==============================] - 0s 6ms/step - loss: 0.1508 - accuracy: 0.9429 - val_loss: 0.1571 - val_accuracy: 0.9123\n",
      "Epoch 91/100\n",
      "15/15 [==============================] - 0s 7ms/step - loss: 0.1508 - accuracy: 0.9385 - val_loss: 0.1561 - val_accuracy: 0.9211\n",
      "Epoch 92/100\n",
      "15/15 [==============================] - 0s 6ms/step - loss: 0.1503 - accuracy: 0.9473 - val_loss: 0.1556 - val_accuracy: 0.9123\n",
      "Epoch 93/100\n",
      "15/15 [==============================] - 0s 6ms/step - loss: 0.1489 - accuracy: 0.9451 - val_loss: 0.1569 - val_accuracy: 0.9211\n",
      "Epoch 94/100\n",
      "15/15 [==============================] - 0s 5ms/step - loss: 0.1494 - accuracy: 0.9407 - val_loss: 0.1565 - val_accuracy: 0.9211\n",
      "Epoch 95/100\n",
      "15/15 [==============================] - 0s 5ms/step - loss: 0.1502 - accuracy: 0.9538 - val_loss: 0.1578 - val_accuracy: 0.9123\n",
      "Epoch 96/100\n",
      "15/15 [==============================] - 0s 5ms/step - loss: 0.1506 - accuracy: 0.9538 - val_loss: 0.1584 - val_accuracy: 0.9298\n",
      "Epoch 97/100\n",
      "15/15 [==============================] - 0s 6ms/step - loss: 0.1501 - accuracy: 0.9407 - val_loss: 0.1566 - val_accuracy: 0.9211\n",
      "Epoch 98/100\n",
      "15/15 [==============================] - 0s 5ms/step - loss: 0.1497 - accuracy: 0.9407 - val_loss: 0.1567 - val_accuracy: 0.9211\n",
      "Epoch 99/100\n",
      "15/15 [==============================] - 0s 6ms/step - loss: 0.1488 - accuracy: 0.9451 - val_loss: 0.1556 - val_accuracy: 0.9211\n",
      "Epoch 100/100\n",
      "15/15 [==============================] - 0s 5ms/step - loss: 0.1489 - accuracy: 0.9429 - val_loss: 0.1559 - val_accuracy: 0.9211\n"
     ]
    }
   ],
   "source": [
    "history=model.fit(X_train,y_train,validation_data=(X_test,y_test),epochs=100)"
   ]
  },
  {
   "cell_type": "code",
   "execution_count": 30,
   "id": "62c4c62f",
   "metadata": {},
   "outputs": [
    {
     "data": {
      "text/plain": [
       "Text(0.5, 1.0, 'Training and validation loss')"
      ]
     },
     "execution_count": 30,
     "metadata": {},
     "output_type": "execute_result"
    },
    {
     "data": {
      "image/png": "[encoded data removed]",
      "text/plain": [
       "<Figure size 432x288 with 1 Axes>"
      ]
     },
     "metadata": {
      "needs_background": "light"
     },
     "output_type": "display_data"
    },
    {
     "data": {
      "image/png": "[encoded data removed]",
      "text/plain": [
       "<Figure size 432x288 with 1 Axes>"
      ]
     },
     "metadata": {
      "needs_background": "light"
     },
     "output_type": "display_data"
    }
   ],
   "source": [
    "# PLOT LOSS AND ACCURACY\n",
    "# %matplotlib inline\n",
    "\n",
    "# import matplotlib.image  as mpimg\n",
    "# import matplotlib.pyplot as plt\n",
    "\n",
    "acc=history.history['accuracy']\n",
    "val_acc=history.history['val_accuracy']\n",
    "loss=history.history['loss']\n",
    "val_loss=history.history['val_loss']\n",
    "\n",
    "epochs=range(len(acc)) # Get number of epochs\n",
    "\n",
    "#------------------------------------------------\n",
    "# Plot training and validation accuracy per epoch\n",
    "#------------------------------------------------\n",
    "plt.plot(epochs, acc, 'r', \"Training Accuracy\")\n",
    "plt.plot(epochs, val_acc, 'b', \"Validation Accuracy\")\n",
    "plt.title('Training and validation accuracy')\n",
    "plt.figure()\n",
    "\n",
    "#------------------------------------------------\n",
    "# Plot training and validation loss per epoch\n",
    "#------------------------------------------------\n",
    "plt.plot(epochs, loss, 'r', \"Training Loss\")\n",
    "plt.plot(epochs, val_loss, 'b', \"Validation Loss\")\n",
    "\n",
    "\n",
    "plt.title('Training and validation loss')"
   ]
  },
  {
   "cell_type": "code",
   "execution_count": 31,
   "id": "c66155a5",
   "metadata": {},
   "outputs": [],
   "source": [
    "model_a=tf.keras.Sequential([\n",
    "    tf.keras.layers.Dense(10,activation='relu'),\n",
    "    tf.keras.layers.Dense(20,activation='sigmoid'),\n",
    "    tf.keras.layers.Dense(1,activation='tanh')\n",
    "])"
   ]
  },
  {
   "cell_type": "code",
   "execution_count": 32,
   "id": "de55586b",
   "metadata": {},
   "outputs": [],
   "source": [
    "model_a.compile(optimizer='adam',loss='binary_crossentropy',metrics=['accuracy'])"
   ]
  },
  {
   "cell_type": "code",
   "execution_count": 33,
   "id": "dbf903bb",
   "metadata": {},
   "outputs": [
    {
     "name": "stdout",
     "output_type": "stream",
     "text": [
      "Epoch 1/100\n",
      "15/15 [==============================] - 2s 26ms/step - loss: 9.8313 - accuracy: 0.3626 - val_loss: 9.0655 - val_accuracy: 0.4123\n",
      "Epoch 2/100\n",
      "15/15 [==============================] - 0s 5ms/step - loss: 9.8313 - accuracy: 0.3626 - val_loss: 9.0655 - val_accuracy: 0.4123\n",
      "Epoch 3/100\n",
      "15/15 [==============================] - 0s 6ms/step - loss: 9.8313 - accuracy: 0.3626 - val_loss: 9.0655 - val_accuracy: 0.4123\n",
      "Epoch 4/100\n",
      "15/15 [==============================] - 0s 6ms/step - loss: 9.8313 - accuracy: 0.3626 - val_loss: 9.0655 - val_accuracy: 0.4123\n",
      "Epoch 5/100\n",
      "15/15 [==============================] - 0s 6ms/step - loss: 9.8313 - accuracy: 0.3626 - val_loss: 9.0655 - val_accuracy: 0.4123\n",
      "Epoch 6/100\n",
      "15/15 [==============================] - 0s 6ms/step - loss: 9.8313 - accuracy: 0.3626 - val_loss: 9.0655 - val_accuracy: 0.4123\n",
      "Epoch 7/100\n",
      "15/15 [==============================] - 0s 6ms/step - loss: 9.8313 - accuracy: 0.3626 - val_loss: 9.0655 - val_accuracy: 0.4123\n",
      "Epoch 8/100\n",
      "15/15 [==============================] - 0s 6ms/step - loss: 9.8313 - accuracy: 0.3626 - val_loss: 9.0655 - val_accuracy: 0.4123\n",
      "Epoch 9/100\n",
      "15/15 [==============================] - 0s 6ms/step - loss: 9.8313 - accuracy: 0.3626 - val_loss: 9.0655 - val_accuracy: 0.4123\n",
      "Epoch 10/100\n",
      "15/15 [==============================] - 0s 6ms/step - loss: 9.8313 - accuracy: 0.3626 - val_loss: 9.0655 - val_accuracy: 0.4123\n",
      "Epoch 11/100\n",
      "15/15 [==============================] - 0s 6ms/step - loss: 9.8313 - accuracy: 0.3626 - val_loss: 9.0655 - val_accuracy: 0.4123\n",
      "Epoch 12/100\n",
      "15/15 [==============================] - 0s 5ms/step - loss: 9.8313 - accuracy: 0.3626 - val_loss: 9.0655 - val_accuracy: 0.4123\n",
      "Epoch 13/100\n",
      "15/15 [==============================] - 0s 6ms/step - loss: 9.8313 - accuracy: 0.3626 - val_loss: 9.0655 - val_accuracy: 0.4123\n",
      "Epoch 14/100\n",
      "15/15 [==============================] - 0s 6ms/step - loss: 9.8313 - accuracy: 0.3626 - val_loss: 9.0655 - val_accuracy: 0.4123\n",
      "Epoch 15/100\n",
      "15/15 [==============================] - 0s 6ms/step - loss: 9.8313 - accuracy: 0.3626 - val_loss: 9.0655 - val_accuracy: 0.4123\n",
      "Epoch 16/100\n",
      "15/15 [==============================] - 0s 6ms/step - loss: 9.8313 - accuracy: 0.3626 - val_loss: 9.0655 - val_accuracy: 0.4123\n",
      "Epoch 17/100\n",
      "15/15 [==============================] - 0s 5ms/step - loss: 9.8313 - accuracy: 0.3626 - val_loss: 9.0655 - val_accuracy: 0.4123\n",
      "Epoch 18/100\n",
      "15/15 [==============================] - 0s 6ms/step - loss: 9.8313 - accuracy: 0.3626 - val_loss: 9.0655 - val_accuracy: 0.4123\n",
      "Epoch 19/100\n",
      "15/15 [==============================] - 0s 6ms/step - loss: 9.8313 - accuracy: 0.3626 - val_loss: 9.0655 - val_accuracy: 0.4123\n",
      "Epoch 20/100\n",
      "15/15 [==============================] - 0s 6ms/step - loss: 9.8313 - accuracy: 0.3626 - val_loss: 9.0655 - val_accuracy: 0.4123\n",
      "Epoch 21/100\n",
      "15/15 [==============================] - 0s 6ms/step - loss: 9.8313 - accuracy: 0.3626 - val_loss: 9.0655 - val_accuracy: 0.4123\n",
      "Epoch 22/100\n",
      "15/15 [==============================] - 0s 5ms/step - loss: 9.8313 - accuracy: 0.3626 - val_loss: 9.0655 - val_accuracy: 0.4123\n",
      "Epoch 23/100\n",
      "15/15 [==============================] - 0s 6ms/step - loss: 9.8313 - accuracy: 0.3626 - val_loss: 9.0655 - val_accuracy: 0.4123\n",
      "Epoch 24/100\n",
      "15/15 [==============================] - 0s 6ms/step - loss: 9.8313 - accuracy: 0.3626 - val_loss: 9.0655 - val_accuracy: 0.4123\n",
      "Epoch 25/100\n",
      "15/15 [==============================] - 0s 6ms/step - loss: 9.8313 - accuracy: 0.3626 - val_loss: 9.0655 - val_accuracy: 0.4123\n",
      "Epoch 26/100\n",
      "15/15 [==============================] - 0s 5ms/step - loss: 9.8313 - accuracy: 0.3626 - val_loss: 9.0655 - val_accuracy: 0.4123\n",
      "Epoch 27/100\n",
      "15/15 [==============================] - 0s 6ms/step - loss: 9.8313 - accuracy: 0.3626 - val_loss: 9.0655 - val_accuracy: 0.4123\n",
      "Epoch 28/100\n",
      "15/15 [==============================] - 0s 5ms/step - loss: 9.8313 - accuracy: 0.3626 - val_loss: 9.0655 - val_accuracy: 0.4123\n",
      "Epoch 29/100\n",
      "15/15 [==============================] - 0s 6ms/step - loss: 9.8313 - accuracy: 0.3626 - val_loss: 9.0655 - val_accuracy: 0.4123\n",
      "Epoch 30/100\n",
      "15/15 [==============================] - 0s 5ms/step - loss: 9.8313 - accuracy: 0.3626 - val_loss: 9.0655 - val_accuracy: 0.4123\n",
      "Epoch 31/100\n",
      "15/15 [==============================] - 0s 6ms/step - loss: 9.8313 - accuracy: 0.3626 - val_loss: 9.0655 - val_accuracy: 0.4123\n",
      "Epoch 32/100\n",
      "15/15 [==============================] - 0s 6ms/step - loss: 9.8313 - accuracy: 0.3626 - val_loss: 9.0655 - val_accuracy: 0.4123\n",
      "Epoch 33/100\n",
      "15/15 [==============================] - 0s 6ms/step - loss: 9.8313 - accuracy: 0.3626 - val_loss: 9.0655 - val_accuracy: 0.4123\n",
      "Epoch 34/100\n",
      "15/15 [==============================] - 0s 5ms/step - loss: 9.8313 - accuracy: 0.3626 - val_loss: 9.0655 - val_accuracy: 0.4123\n",
      "Epoch 35/100\n",
      "15/15 [==============================] - 0s 6ms/step - loss: 9.8313 - accuracy: 0.3626 - val_loss: 9.0655 - val_accuracy: 0.4123\n",
      "Epoch 36/100\n",
      "15/15 [==============================] - 0s 5ms/step - loss: 9.8313 - accuracy: 0.3626 - val_loss: 9.0655 - val_accuracy: 0.4123\n",
      "Epoch 37/100\n",
      "15/15 [==============================] - 0s 5ms/step - loss: 9.8313 - accuracy: 0.3626 - val_loss: 9.0655 - val_accuracy: 0.4123\n",
      "Epoch 38/100\n",
      "15/15 [==============================] - 0s 6ms/step - loss: 9.8313 - accuracy: 0.3626 - val_loss: 9.0655 - val_accuracy: 0.4123\n",
      "Epoch 39/100\n",
      "15/15 [==============================] - 0s 5ms/step - loss: 9.8313 - accuracy: 0.3626 - val_loss: 9.0655 - val_accuracy: 0.4123\n",
      "Epoch 40/100\n",
      "15/15 [==============================] - 0s 5ms/step - loss: 9.8313 - accuracy: 0.3626 - val_loss: 9.0655 - val_accuracy: 0.4123\n",
      "Epoch 41/100\n",
      "15/15 [==============================] - 0s 5ms/step - loss: 9.8313 - accuracy: 0.3626 - val_loss: 9.0655 - val_accuracy: 0.4123\n",
      "Epoch 42/100\n",
      "15/15 [==============================] - 0s 5ms/step - loss: 9.8313 - accuracy: 0.3626 - val_loss: 9.0655 - val_accuracy: 0.4123\n",
      "Epoch 43/100\n",
      "15/15 [==============================] - 0s 5ms/step - loss: 9.8313 - accuracy: 0.3626 - val_loss: 9.0655 - val_accuracy: 0.4123\n",
      "Epoch 44/100\n",
      "15/15 [==============================] - 0s 5ms/step - loss: 9.8313 - accuracy: 0.3626 - val_loss: 9.0655 - val_accuracy: 0.4123\n",
      "Epoch 45/100\n",
      "15/15 [==============================] - 0s 5ms/step - loss: 9.8313 - accuracy: 0.3626 - val_loss: 9.0655 - val_accuracy: 0.4123\n",
      "Epoch 46/100\n",
      "15/15 [==============================] - 0s 5ms/step - loss: 9.8313 - accuracy: 0.3626 - val_loss: 9.0655 - val_accuracy: 0.4123\n",
      "Epoch 47/100\n",
      "15/15 [==============================] - 0s 5ms/step - loss: 9.8313 - accuracy: 0.3626 - val_loss: 9.0655 - val_accuracy: 0.4123\n",
      "Epoch 48/100\n",
      "15/15 [==============================] - 0s 5ms/step - loss: 9.8313 - accuracy: 0.3626 - val_loss: 9.0655 - val_accuracy: 0.4123\n",
      "Epoch 49/100\n",
      "15/15 [==============================] - 0s 5ms/step - loss: 9.8313 - accuracy: 0.3626 - val_loss: 9.0655 - val_accuracy: 0.4123\n",
      "Epoch 50/100\n",
      "15/15 [==============================] - 0s 5ms/step - loss: 9.8313 - accuracy: 0.3626 - val_loss: 9.0655 - val_accuracy: 0.4123\n",
      "Epoch 51/100\n",
      "15/15 [==============================] - 0s 5ms/step - loss: 9.8313 - accuracy: 0.3626 - val_loss: 9.0655 - val_accuracy: 0.4123\n",
      "Epoch 52/100\n",
      "15/15 [==============================] - 0s 5ms/step - loss: 9.8313 - accuracy: 0.3626 - val_loss: 9.0655 - val_accuracy: 0.4123\n",
      "Epoch 53/100\n",
      "15/15 [==============================] - 0s 5ms/step - loss: 9.8313 - accuracy: 0.3626 - val_loss: 9.0655 - val_accuracy: 0.4123\n",
      "Epoch 54/100\n",
      "15/15 [==============================] - 0s 5ms/step - loss: 9.8313 - accuracy: 0.3626 - val_loss: 9.0655 - val_accuracy: 0.4123\n",
      "Epoch 55/100\n",
      "15/15 [==============================] - 0s 5ms/step - loss: 9.8313 - accuracy: 0.3626 - val_loss: 9.0655 - val_accuracy: 0.4123\n",
      "Epoch 56/100\n",
      "15/15 [==============================] - 0s 5ms/step - loss: 9.8313 - accuracy: 0.3626 - val_loss: 9.0655 - val_accuracy: 0.4123\n",
      "Epoch 57/100\n",
      "15/15 [==============================] - 0s 5ms/step - loss: 9.8313 - accuracy: 0.3626 - val_loss: 9.0655 - val_accuracy: 0.4123\n",
      "Epoch 58/100\n",
      "15/15 [==============================] - 0s 5ms/step - loss: 9.8313 - accuracy: 0.3626 - val_loss: 9.0655 - val_accuracy: 0.4123\n"
     ]
    },
    {
     "name": "stdout",
     "output_type": "stream",
     "text": [
      "Epoch 59/100\n",
      "15/15 [==============================] - 0s 6ms/step - loss: 9.8313 - accuracy: 0.3626 - val_loss: 9.0655 - val_accuracy: 0.4123\n",
      "Epoch 60/100\n",
      "15/15 [==============================] - 0s 5ms/step - loss: 9.8313 - accuracy: 0.3626 - val_loss: 9.0655 - val_accuracy: 0.4123\n",
      "Epoch 61/100\n",
      "15/15 [==============================] - 0s 5ms/step - loss: 9.8313 - accuracy: 0.3626 - val_loss: 9.0655 - val_accuracy: 0.4123\n",
      "Epoch 62/100\n",
      "15/15 [==============================] - 0s 5ms/step - loss: 9.8313 - accuracy: 0.3626 - val_loss: 9.0655 - val_accuracy: 0.4123\n",
      "Epoch 63/100\n",
      "15/15 [==============================] - 0s 6ms/step - loss: 9.8313 - accuracy: 0.3626 - val_loss: 9.0655 - val_accuracy: 0.4123\n",
      "Epoch 64/100\n",
      "15/15 [==============================] - 0s 6ms/step - loss: 9.8313 - accuracy: 0.3626 - val_loss: 9.0655 - val_accuracy: 0.4123\n",
      "Epoch 65/100\n",
      "15/15 [==============================] - 0s 6ms/step - loss: 9.8313 - accuracy: 0.3626 - val_loss: 9.0655 - val_accuracy: 0.4123\n",
      "Epoch 66/100\n",
      "15/15 [==============================] - 0s 5ms/step - loss: 9.8313 - accuracy: 0.3626 - val_loss: 9.0655 - val_accuracy: 0.4123\n",
      "Epoch 67/100\n",
      "15/15 [==============================] - 0s 6ms/step - loss: 9.8313 - accuracy: 0.3626 - val_loss: 9.0655 - val_accuracy: 0.4123\n",
      "Epoch 68/100\n",
      "15/15 [==============================] - 0s 5ms/step - loss: 9.8313 - accuracy: 0.3626 - val_loss: 9.0655 - val_accuracy: 0.4123\n",
      "Epoch 69/100\n",
      "15/15 [==============================] - 0s 6ms/step - loss: 9.8313 - accuracy: 0.3626 - val_loss: 9.0655 - val_accuracy: 0.4123\n",
      "Epoch 70/100\n",
      "15/15 [==============================] - 0s 5ms/step - loss: 9.8313 - accuracy: 0.3626 - val_loss: 9.0655 - val_accuracy: 0.4123\n",
      "Epoch 71/100\n",
      "15/15 [==============================] - 0s 5ms/step - loss: 9.8313 - accuracy: 0.3626 - val_loss: 9.0655 - val_accuracy: 0.4123\n",
      "Epoch 72/100\n",
      "15/15 [==============================] - 0s 5ms/step - loss: 9.8313 - accuracy: 0.3626 - val_loss: 9.0655 - val_accuracy: 0.4123\n",
      "Epoch 73/100\n",
      "15/15 [==============================] - 0s 6ms/step - loss: 9.8313 - accuracy: 0.3626 - val_loss: 9.0655 - val_accuracy: 0.4123\n",
      "Epoch 74/100\n",
      "15/15 [==============================] - 0s 5ms/step - loss: 9.8313 - accuracy: 0.3626 - val_loss: 9.0655 - val_accuracy: 0.4123\n",
      "Epoch 75/100\n",
      "15/15 [==============================] - 0s 5ms/step - loss: 9.8313 - accuracy: 0.3626 - val_loss: 9.0655 - val_accuracy: 0.4123\n",
      "Epoch 76/100\n",
      "15/15 [==============================] - 0s 6ms/step - loss: 9.8313 - accuracy: 0.3626 - val_loss: 9.0655 - val_accuracy: 0.4123\n",
      "Epoch 77/100\n",
      "15/15 [==============================] - 0s 5ms/step - loss: 9.8313 - accuracy: 0.3626 - val_loss: 9.0655 - val_accuracy: 0.4123\n",
      "Epoch 78/100\n",
      "15/15 [==============================] - 0s 6ms/step - loss: 9.8313 - accuracy: 0.3626 - val_loss: 9.0655 - val_accuracy: 0.4123\n",
      "Epoch 79/100\n",
      "15/15 [==============================] - 0s 5ms/step - loss: 9.8313 - accuracy: 0.3626 - val_loss: 9.0655 - val_accuracy: 0.4123\n",
      "Epoch 80/100\n",
      "15/15 [==============================] - 0s 5ms/step - loss: 9.8313 - accuracy: 0.3626 - val_loss: 9.0655 - val_accuracy: 0.4123\n",
      "Epoch 81/100\n",
      "15/15 [==============================] - 0s 6ms/step - loss: 9.8313 - accuracy: 0.3626 - val_loss: 9.0655 - val_accuracy: 0.4123\n",
      "Epoch 82/100\n",
      "15/15 [==============================] - 0s 5ms/step - loss: 9.8313 - accuracy: 0.3626 - val_loss: 9.0655 - val_accuracy: 0.4123\n",
      "Epoch 83/100\n",
      "15/15 [==============================] - 0s 5ms/step - loss: 9.8313 - accuracy: 0.3626 - val_loss: 9.0655 - val_accuracy: 0.4123\n",
      "Epoch 84/100\n",
      "15/15 [==============================] - 0s 5ms/step - loss: 9.8313 - accuracy: 0.3626 - val_loss: 9.0655 - val_accuracy: 0.4123\n",
      "Epoch 85/100\n",
      "15/15 [==============================] - 0s 6ms/step - loss: 9.8313 - accuracy: 0.3626 - val_loss: 9.0655 - val_accuracy: 0.4123\n",
      "Epoch 86/100\n",
      "15/15 [==============================] - 0s 6ms/step - loss: 9.8313 - accuracy: 0.3626 - val_loss: 9.0655 - val_accuracy: 0.4123\n",
      "Epoch 87/100\n",
      "15/15 [==============================] - 0s 5ms/step - loss: 9.8313 - accuracy: 0.3626 - val_loss: 9.0655 - val_accuracy: 0.4123\n",
      "Epoch 88/100\n",
      "15/15 [==============================] - 0s 5ms/step - loss: 9.8313 - accuracy: 0.3626 - val_loss: 9.0655 - val_accuracy: 0.4123\n",
      "Epoch 89/100\n",
      "15/15 [==============================] - 0s 6ms/step - loss: 9.8313 - accuracy: 0.3626 - val_loss: 9.0655 - val_accuracy: 0.4123\n",
      "Epoch 90/100\n",
      "15/15 [==============================] - 0s 7ms/step - loss: 9.8313 - accuracy: 0.3626 - val_loss: 9.0655 - val_accuracy: 0.4123\n",
      "Epoch 91/100\n",
      "15/15 [==============================] - 0s 6ms/step - loss: 9.8313 - accuracy: 0.3626 - val_loss: 9.0655 - val_accuracy: 0.4123\n",
      "Epoch 92/100\n",
      "15/15 [==============================] - 0s 7ms/step - loss: 9.8313 - accuracy: 0.3626 - val_loss: 9.0655 - val_accuracy: 0.4123\n",
      "Epoch 93/100\n",
      "15/15 [==============================] - 0s 5ms/step - loss: 9.8313 - accuracy: 0.3626 - val_loss: 9.0655 - val_accuracy: 0.4123\n",
      "Epoch 94/100\n",
      "15/15 [==============================] - 0s 5ms/step - loss: 9.8313 - accuracy: 0.3626 - val_loss: 9.0655 - val_accuracy: 0.4123\n",
      "Epoch 95/100\n",
      "15/15 [==============================] - 0s 6ms/step - loss: 9.8313 - accuracy: 0.3626 - val_loss: 9.0655 - val_accuracy: 0.4123\n",
      "Epoch 96/100\n",
      "15/15 [==============================] - 0s 5ms/step - loss: 9.8313 - accuracy: 0.3626 - val_loss: 9.0655 - val_accuracy: 0.4123\n",
      "Epoch 97/100\n",
      "15/15 [==============================] - 0s 5ms/step - loss: 9.8313 - accuracy: 0.3626 - val_loss: 9.0655 - val_accuracy: 0.4123\n",
      "Epoch 98/100\n",
      "15/15 [==============================] - 0s 5ms/step - loss: 9.8313 - accuracy: 0.3626 - val_loss: 9.0655 - val_accuracy: 0.4123\n",
      "Epoch 99/100\n",
      "15/15 [==============================] - 0s 6ms/step - loss: 9.8313 - accuracy: 0.3626 - val_loss: 9.0655 - val_accuracy: 0.4123\n",
      "Epoch 100/100\n",
      "15/15 [==============================] - 0s 5ms/step - loss: 9.8313 - accuracy: 0.3626 - val_loss: 9.0655 - val_accuracy: 0.4123\n"
     ]
    }
   ],
   "source": [
    "history_a=model_a.fit(X_train,y_train,validation_data=(X_test,y_test),epochs=100)"
   ]
  },
  {
   "cell_type": "code",
   "execution_count": 34,
   "id": "d788cae1",
   "metadata": {},
   "outputs": [
    {
     "data": {
      "text/plain": [
       "Text(0.5, 1.0, 'Training and validation loss')"
      ]
     },
     "execution_count": 34,
     "metadata": {},
     "output_type": "execute_result"
    },
    {
     "data": {
      "image/png": "[encoded data removed]",
      "text/plain": [
       "<Figure size 432x288 with 1 Axes>"
      ]
     },
     "metadata": {
      "needs_background": "light"
     },
     "output_type": "display_data"
    },
    {
     "data": {
      "image/png": "[encoded data removed]",
      "text/plain": [
       "<Figure size 432x288 with 1 Axes>"
      ]
     },
     "metadata": {
      "needs_background": "light"
     },
     "output_type": "display_data"
    }
   ],
   "source": [
    "acc=history_a.history['accuracy']\n",
    "val_acc=history_a.history['val_accuracy']\n",
    "loss=history_a.history['loss']\n",
    "val_loss=history_a.history['val_loss']\n",
    "\n",
    "epochs=range(len(acc)) # Get number of epochs\n",
    "\n",
    "#------------------------------------------------\n",
    "# Plot training and validation accuracy per epoch\n",
    "#------------------------------------------------\n",
    "plt.plot(epochs, acc, 'r', \"Training Accuracy\")\n",
    "plt.plot(epochs, val_acc, 'b', \"Validation Accuracy\")\n",
    "plt.title('Training and validation accuracy')\n",
    "plt.figure()\n",
    "\n",
    "#------------------------------------------------\n",
    "# Plot training and validation loss per epoch\n",
    "#------------------------------------------------\n",
    "plt.plot(epochs, loss, 'r', \"Training Loss\")\n",
    "plt.plot(epochs, val_loss, 'b', \"Validation Loss\")\n",
    "\n",
    "\n",
    "plt.title('Training and validation loss')"
   ]
  },
  {
   "cell_type": "code",
   "execution_count": 35,
   "id": "06b27a20",
   "metadata": {},
   "outputs": [],
   "source": [
    "model_b=tf.keras.Sequential([\n",
    "    tf.keras.layers.Dense(10,activation='relu'),\n",
    "    tf.keras.layers.Dense(20,activation='sigmoid'),\n",
    "    tf.keras.layers.Dense(1,activation='tanh')\n",
    "])"
   ]
  },
  {
   "cell_type": "code",
   "execution_count": 36,
   "id": "94347ea9",
   "metadata": {},
   "outputs": [],
   "source": [
    "model_b.compile(optimizer='RMSprop',loss='binary_crossentropy',metrics=['accuracy'])"
   ]
  },
  {
   "cell_type": "code",
   "execution_count": 37,
   "id": "6f3316ee",
   "metadata": {},
   "outputs": [
    {
     "name": "stdout",
     "output_type": "stream",
     "text": [
      "Epoch 1/100\n",
      "15/15 [==============================] - 2s 25ms/step - loss: 9.8313 - accuracy: 0.3626 - val_loss: 9.0655 - val_accuracy: 0.4123\n",
      "Epoch 2/100\n",
      "15/15 [==============================] - 0s 6ms/step - loss: 9.8313 - accuracy: 0.3626 - val_loss: 9.0655 - val_accuracy: 0.4123\n",
      "Epoch 3/100\n",
      "15/15 [==============================] - 0s 6ms/step - loss: 9.8313 - accuracy: 0.3626 - val_loss: 9.0655 - val_accuracy: 0.4123\n",
      "Epoch 4/100\n",
      "15/15 [==============================] - 0s 6ms/step - loss: 9.8313 - accuracy: 0.3626 - val_loss: 9.0655 - val_accuracy: 0.4123\n",
      "Epoch 5/100\n",
      "15/15 [==============================] - 0s 5ms/step - loss: 9.8313 - accuracy: 0.3626 - val_loss: 9.0655 - val_accuracy: 0.4123\n",
      "Epoch 6/100\n",
      "15/15 [==============================] - 0s 6ms/step - loss: 9.8313 - accuracy: 0.3626 - val_loss: 9.0655 - val_accuracy: 0.4123\n",
      "Epoch 7/100\n",
      "15/15 [==============================] - 0s 5ms/step - loss: 9.8313 - accuracy: 0.3626 - val_loss: 9.0655 - val_accuracy: 0.4123\n",
      "Epoch 8/100\n",
      "15/15 [==============================] - 0s 6ms/step - loss: 9.8313 - accuracy: 0.3626 - val_loss: 9.0655 - val_accuracy: 0.4123\n",
      "Epoch 9/100\n",
      "15/15 [==============================] - 0s 5ms/step - loss: 9.8313 - accuracy: 0.3626 - val_loss: 9.0655 - val_accuracy: 0.4123\n",
      "Epoch 10/100\n",
      "15/15 [==============================] - 0s 5ms/step - loss: 9.8313 - accuracy: 0.3626 - val_loss: 9.0655 - val_accuracy: 0.4123\n",
      "Epoch 11/100\n",
      "15/15 [==============================] - 0s 6ms/step - loss: 9.8313 - accuracy: 0.3626 - val_loss: 9.0655 - val_accuracy: 0.4123\n",
      "Epoch 12/100\n",
      "15/15 [==============================] - 0s 6ms/step - loss: 9.8313 - accuracy: 0.3626 - val_loss: 9.0655 - val_accuracy: 0.4123\n",
      "Epoch 13/100\n",
      "15/15 [==============================] - 0s 5ms/step - loss: 9.8313 - accuracy: 0.3626 - val_loss: 9.0655 - val_accuracy: 0.4123\n",
      "Epoch 14/100\n",
      "15/15 [==============================] - 0s 9ms/step - loss: 9.8313 - accuracy: 0.3626 - val_loss: 9.0655 - val_accuracy: 0.4123\n",
      "Epoch 15/100\n",
      "15/15 [==============================] - 0s 6ms/step - loss: 9.8313 - accuracy: 0.3626 - val_loss: 9.0655 - val_accuracy: 0.4123\n",
      "Epoch 16/100\n",
      "15/15 [==============================] - 0s 5ms/step - loss: 9.8313 - accuracy: 0.3626 - val_loss: 9.0655 - val_accuracy: 0.4123\n",
      "Epoch 17/100\n",
      "15/15 [==============================] - 0s 8ms/step - loss: 9.8313 - accuracy: 0.3626 - val_loss: 9.0655 - val_accuracy: 0.4123\n",
      "Epoch 18/100\n",
      "15/15 [==============================] - 0s 9ms/step - loss: 9.8313 - accuracy: 0.3626 - val_loss: 9.0655 - val_accuracy: 0.4123\n",
      "Epoch 19/100\n",
      "15/15 [==============================] - 0s 5ms/step - loss: 9.8313 - accuracy: 0.3626 - val_loss: 9.0655 - val_accuracy: 0.4123\n",
      "Epoch 20/100\n",
      "15/15 [==============================] - 0s 6ms/step - loss: 9.8313 - accuracy: 0.3626 - val_loss: 9.0655 - val_accuracy: 0.4123\n",
      "Epoch 21/100\n",
      "15/15 [==============================] - 0s 5ms/step - loss: 9.8313 - accuracy: 0.3626 - val_loss: 9.0655 - val_accuracy: 0.4123\n",
      "Epoch 22/100\n",
      "15/15 [==============================] - 0s 6ms/step - loss: 9.8313 - accuracy: 0.3626 - val_loss: 9.0655 - val_accuracy: 0.4123\n",
      "Epoch 23/100\n",
      "15/15 [==============================] - 0s 6ms/step - loss: 9.8313 - accuracy: 0.3626 - val_loss: 9.0655 - val_accuracy: 0.4123\n",
      "Epoch 24/100\n",
      "15/15 [==============================] - 0s 6ms/step - loss: 9.8313 - accuracy: 0.3626 - val_loss: 9.0655 - val_accuracy: 0.4123\n",
      "Epoch 25/100\n",
      "15/15 [==============================] - 0s 6ms/step - loss: 9.8313 - accuracy: 0.3626 - val_loss: 9.0655 - val_accuracy: 0.4123\n",
      "Epoch 26/100\n",
      "15/15 [==============================] - 0s 6ms/step - loss: 9.8313 - accuracy: 0.3626 - val_loss: 9.0655 - val_accuracy: 0.4123\n",
      "Epoch 27/100\n",
      "15/15 [==============================] - 0s 5ms/step - loss: 9.8313 - accuracy: 0.3626 - val_loss: 9.0655 - val_accuracy: 0.4123\n",
      "Epoch 28/100\n",
      "15/15 [==============================] - 0s 5ms/step - loss: 9.8313 - accuracy: 0.3626 - val_loss: 9.0655 - val_accuracy: 0.4123\n",
      "Epoch 29/100\n",
      "15/15 [==============================] - 0s 6ms/step - loss: 9.8313 - accuracy: 0.3626 - val_loss: 9.0655 - val_accuracy: 0.4123\n",
      "Epoch 30/100\n",
      "15/15 [==============================] - 0s 6ms/step - loss: 9.8313 - accuracy: 0.3626 - val_loss: 9.0655 - val_accuracy: 0.4123\n",
      "Epoch 31/100\n",
      "15/15 [==============================] - 0s 6ms/step - loss: 9.8313 - accuracy: 0.3626 - val_loss: 9.0655 - val_accuracy: 0.4123\n",
      "Epoch 32/100\n",
      "15/15 [==============================] - 0s 6ms/step - loss: 9.8313 - accuracy: 0.3626 - val_loss: 9.0655 - val_accuracy: 0.4123\n",
      "Epoch 33/100\n",
      "15/15 [==============================] - 0s 5ms/step - loss: 9.8313 - accuracy: 0.3626 - val_loss: 9.0655 - val_accuracy: 0.4123\n",
      "Epoch 34/100\n",
      "15/15 [==============================] - 0s 6ms/step - loss: 9.8313 - accuracy: 0.3626 - val_loss: 9.0655 - val_accuracy: 0.4123\n",
      "Epoch 35/100\n",
      "15/15 [==============================] - 0s 5ms/step - loss: 9.8313 - accuracy: 0.3626 - val_loss: 9.0655 - val_accuracy: 0.4123\n",
      "Epoch 36/100\n",
      "15/15 [==============================] - 0s 6ms/step - loss: 9.8313 - accuracy: 0.3626 - val_loss: 9.0655 - val_accuracy: 0.4123\n",
      "Epoch 37/100\n",
      "15/15 [==============================] - 0s 5ms/step - loss: 9.8313 - accuracy: 0.3626 - val_loss: 9.0655 - val_accuracy: 0.4123\n",
      "Epoch 38/100\n",
      "15/15 [==============================] - 0s 6ms/step - loss: 9.8313 - accuracy: 0.3626 - val_loss: 9.0655 - val_accuracy: 0.4123\n",
      "Epoch 39/100\n",
      "15/15 [==============================] - 0s 6ms/step - loss: 9.8313 - accuracy: 0.3626 - val_loss: 9.0655 - val_accuracy: 0.4123\n",
      "Epoch 40/100\n",
      "15/15 [==============================] - 0s 5ms/step - loss: 9.8313 - accuracy: 0.3626 - val_loss: 9.0655 - val_accuracy: 0.4123\n",
      "Epoch 41/100\n",
      "15/15 [==============================] - 0s 6ms/step - loss: 9.8313 - accuracy: 0.3626 - val_loss: 9.0655 - val_accuracy: 0.4123\n",
      "Epoch 42/100\n",
      "15/15 [==============================] - 0s 5ms/step - loss: 9.8313 - accuracy: 0.3626 - val_loss: 9.0655 - val_accuracy: 0.4123\n",
      "Epoch 43/100\n",
      "15/15 [==============================] - 0s 6ms/step - loss: 9.8313 - accuracy: 0.3626 - val_loss: 9.0655 - val_accuracy: 0.4123\n",
      "Epoch 44/100\n",
      "15/15 [==============================] - 0s 5ms/step - loss: 9.8313 - accuracy: 0.3626 - val_loss: 9.0655 - val_accuracy: 0.4123\n",
      "Epoch 45/100\n",
      "15/15 [==============================] - 0s 6ms/step - loss: 9.8313 - accuracy: 0.3626 - val_loss: 9.0655 - val_accuracy: 0.4123\n",
      "Epoch 46/100\n",
      "15/15 [==============================] - 0s 5ms/step - loss: 9.8313 - accuracy: 0.3626 - val_loss: 9.0655 - val_accuracy: 0.4123\n",
      "Epoch 47/100\n",
      "15/15 [==============================] - 0s 6ms/step - loss: 9.8313 - accuracy: 0.3626 - val_loss: 9.0655 - val_accuracy: 0.4123\n",
      "Epoch 48/100\n",
      "15/15 [==============================] - 0s 5ms/step - loss: 9.8313 - accuracy: 0.3626 - val_loss: 9.0655 - val_accuracy: 0.4123\n",
      "Epoch 49/100\n",
      "15/15 [==============================] - 0s 5ms/step - loss: 9.8313 - accuracy: 0.3626 - val_loss: 9.0655 - val_accuracy: 0.4123\n",
      "Epoch 50/100\n",
      "15/15 [==============================] - 0s 5ms/step - loss: 9.8313 - accuracy: 0.3626 - val_loss: 9.0655 - val_accuracy: 0.4123\n",
      "Epoch 51/100\n",
      "15/15 [==============================] - 0s 5ms/step - loss: 9.8313 - accuracy: 0.3626 - val_loss: 9.0655 - val_accuracy: 0.4123\n",
      "Epoch 52/100\n",
      "15/15 [==============================] - 0s 5ms/step - loss: 9.8313 - accuracy: 0.3626 - val_loss: 9.0655 - val_accuracy: 0.4123\n",
      "Epoch 53/100\n",
      "15/15 [==============================] - 0s 5ms/step - loss: 9.8313 - accuracy: 0.3626 - val_loss: 9.0655 - val_accuracy: 0.4123\n",
      "Epoch 54/100\n",
      "15/15 [==============================] - 0s 5ms/step - loss: 9.8313 - accuracy: 0.3626 - val_loss: 9.0655 - val_accuracy: 0.4123\n",
      "Epoch 55/100\n",
      "15/15 [==============================] - 0s 5ms/step - loss: 9.8313 - accuracy: 0.3626 - val_loss: 9.0655 - val_accuracy: 0.4123\n",
      "Epoch 56/100\n",
      "15/15 [==============================] - 0s 6ms/step - loss: 9.8313 - accuracy: 0.3626 - val_loss: 9.0655 - val_accuracy: 0.4123\n",
      "Epoch 57/100\n",
      "15/15 [==============================] - 0s 7ms/step - loss: 9.8313 - accuracy: 0.3626 - val_loss: 9.0655 - val_accuracy: 0.4123\n",
      "Epoch 58/100\n",
      "15/15 [==============================] - 0s 6ms/step - loss: 9.8313 - accuracy: 0.3626 - val_loss: 9.0655 - val_accuracy: 0.4123\n"
     ]
    },
    {
     "name": "stdout",
     "output_type": "stream",
     "text": [
      "Epoch 59/100\n",
      "15/15 [==============================] - 0s 6ms/step - loss: 9.8313 - accuracy: 0.3626 - val_loss: 9.0655 - val_accuracy: 0.4123\n",
      "Epoch 60/100\n",
      "15/15 [==============================] - 0s 5ms/step - loss: 9.8313 - accuracy: 0.3626 - val_loss: 9.0655 - val_accuracy: 0.4123\n",
      "Epoch 61/100\n",
      "15/15 [==============================] - 0s 5ms/step - loss: 9.8313 - accuracy: 0.3626 - val_loss: 9.0655 - val_accuracy: 0.4123\n",
      "Epoch 62/100\n",
      "15/15 [==============================] - 0s 6ms/step - loss: 9.8313 - accuracy: 0.3626 - val_loss: 9.0655 - val_accuracy: 0.4123\n",
      "Epoch 63/100\n",
      "15/15 [==============================] - 0s 6ms/step - loss: 9.8313 - accuracy: 0.3626 - val_loss: 9.0655 - val_accuracy: 0.4123\n",
      "Epoch 64/100\n",
      "15/15 [==============================] - 0s 6ms/step - loss: 9.8313 - accuracy: 0.3626 - val_loss: 9.0655 - val_accuracy: 0.4123\n",
      "Epoch 65/100\n",
      "15/15 [==============================] - 0s 6ms/step - loss: 9.8313 - accuracy: 0.3626 - val_loss: 9.0655 - val_accuracy: 0.4123\n",
      "Epoch 66/100\n",
      "15/15 [==============================] - 0s 6ms/step - loss: 9.8313 - accuracy: 0.3626 - val_loss: 9.0655 - val_accuracy: 0.4123\n",
      "Epoch 67/100\n",
      "15/15 [==============================] - 0s 6ms/step - loss: 9.8313 - accuracy: 0.3626 - val_loss: 9.0655 - val_accuracy: 0.4123\n",
      "Epoch 68/100\n",
      "15/15 [==============================] - 0s 6ms/step - loss: 9.8313 - accuracy: 0.3626 - val_loss: 9.0655 - val_accuracy: 0.4123\n",
      "Epoch 69/100\n",
      "15/15 [==============================] - 0s 6ms/step - loss: 9.8313 - accuracy: 0.3626 - val_loss: 9.0655 - val_accuracy: 0.4123\n",
      "Epoch 70/100\n",
      "15/15 [==============================] - 0s 6ms/step - loss: 9.8313 - accuracy: 0.3626 - val_loss: 9.0655 - val_accuracy: 0.4123\n",
      "Epoch 71/100\n",
      "15/15 [==============================] - 0s 6ms/step - loss: 9.8313 - accuracy: 0.3626 - val_loss: 9.0655 - val_accuracy: 0.4123\n",
      "Epoch 72/100\n",
      "15/15 [==============================] - 0s 5ms/step - loss: 9.8313 - accuracy: 0.3626 - val_loss: 9.0655 - val_accuracy: 0.4123\n",
      "Epoch 73/100\n",
      "15/15 [==============================] - 0s 5ms/step - loss: 9.8313 - accuracy: 0.3626 - val_loss: 9.0655 - val_accuracy: 0.4123\n",
      "Epoch 74/100\n",
      "15/15 [==============================] - 0s 5ms/step - loss: 9.8313 - accuracy: 0.3626 - val_loss: 9.0655 - val_accuracy: 0.4123\n",
      "Epoch 75/100\n",
      "15/15 [==============================] - 0s 5ms/step - loss: 9.8313 - accuracy: 0.3626 - val_loss: 9.0655 - val_accuracy: 0.4123\n",
      "Epoch 76/100\n",
      "15/15 [==============================] - 0s 5ms/step - loss: 9.8313 - accuracy: 0.3626 - val_loss: 9.0655 - val_accuracy: 0.4123\n",
      "Epoch 77/100\n",
      "15/15 [==============================] - 0s 5ms/step - loss: 9.8313 - accuracy: 0.3626 - val_loss: 9.0655 - val_accuracy: 0.4123\n",
      "Epoch 78/100\n",
      "15/15 [==============================] - 0s 6ms/step - loss: 9.8313 - accuracy: 0.3626 - val_loss: 9.0655 - val_accuracy: 0.4123\n",
      "Epoch 79/100\n",
      "15/15 [==============================] - 0s 6ms/step - loss: 9.8313 - accuracy: 0.3626 - val_loss: 9.0655 - val_accuracy: 0.4123\n",
      "Epoch 80/100\n",
      "15/15 [==============================] - 0s 6ms/step - loss: 9.8313 - accuracy: 0.3626 - val_loss: 9.0655 - val_accuracy: 0.4123\n",
      "Epoch 81/100\n",
      "15/15 [==============================] - 0s 6ms/step - loss: 9.8313 - accuracy: 0.3626 - val_loss: 9.0655 - val_accuracy: 0.4123\n",
      "Epoch 82/100\n",
      "15/15 [==============================] - 0s 6ms/step - loss: 9.8313 - accuracy: 0.3626 - val_loss: 9.0655 - val_accuracy: 0.4123\n",
      "Epoch 83/100\n",
      "15/15 [==============================] - 0s 6ms/step - loss: 9.8313 - accuracy: 0.3626 - val_loss: 9.0655 - val_accuracy: 0.4123\n",
      "Epoch 84/100\n",
      "15/15 [==============================] - 0s 6ms/step - loss: 9.8313 - accuracy: 0.3626 - val_loss: 9.0655 - val_accuracy: 0.4123\n",
      "Epoch 85/100\n",
      "15/15 [==============================] - 0s 6ms/step - loss: 9.8313 - accuracy: 0.3626 - val_loss: 9.0655 - val_accuracy: 0.4123\n",
      "Epoch 86/100\n",
      "15/15 [==============================] - 0s 5ms/step - loss: 9.8313 - accuracy: 0.3626 - val_loss: 9.0655 - val_accuracy: 0.4123\n",
      "Epoch 87/100\n",
      "15/15 [==============================] - 0s 6ms/step - loss: 9.8313 - accuracy: 0.3626 - val_loss: 9.0655 - val_accuracy: 0.4123\n",
      "Epoch 88/100\n",
      "15/15 [==============================] - 0s 5ms/step - loss: 9.8313 - accuracy: 0.3626 - val_loss: 9.0655 - val_accuracy: 0.4123\n",
      "Epoch 89/100\n",
      "15/15 [==============================] - 0s 5ms/step - loss: 9.8313 - accuracy: 0.3626 - val_loss: 9.0655 - val_accuracy: 0.4123\n",
      "Epoch 90/100\n",
      "15/15 [==============================] - 0s 6ms/step - loss: 9.8313 - accuracy: 0.3626 - val_loss: 9.0655 - val_accuracy: 0.4123\n",
      "Epoch 91/100\n",
      "15/15 [==============================] - 0s 6ms/step - loss: 9.8313 - accuracy: 0.3626 - val_loss: 9.0655 - val_accuracy: 0.4123\n",
      "Epoch 92/100\n",
      "15/15 [==============================] - 0s 6ms/step - loss: 9.8313 - accuracy: 0.3626 - val_loss: 9.0655 - val_accuracy: 0.4123\n",
      "Epoch 93/100\n",
      "15/15 [==============================] - 0s 5ms/step - loss: 9.8313 - accuracy: 0.3626 - val_loss: 9.0655 - val_accuracy: 0.4123\n",
      "Epoch 94/100\n",
      "15/15 [==============================] - 0s 6ms/step - loss: 9.8313 - accuracy: 0.3626 - val_loss: 9.0655 - val_accuracy: 0.4123\n",
      "Epoch 95/100\n",
      "15/15 [==============================] - 0s 6ms/step - loss: 9.8313 - accuracy: 0.3626 - val_loss: 9.0655 - val_accuracy: 0.4123\n",
      "Epoch 96/100\n",
      "15/15 [==============================] - 0s 5ms/step - loss: 9.8313 - accuracy: 0.3626 - val_loss: 9.0655 - val_accuracy: 0.4123\n",
      "Epoch 97/100\n",
      "15/15 [==============================] - 0s 6ms/step - loss: 9.8313 - accuracy: 0.3626 - val_loss: 9.0655 - val_accuracy: 0.4123\n",
      "Epoch 98/100\n",
      "15/15 [==============================] - 0s 6ms/step - loss: 9.8313 - accuracy: 0.3626 - val_loss: 9.0655 - val_accuracy: 0.4123\n",
      "Epoch 99/100\n",
      "15/15 [==============================] - 0s 6ms/step - loss: 9.8313 - accuracy: 0.3626 - val_loss: 9.0655 - val_accuracy: 0.4123\n",
      "Epoch 100/100\n",
      "15/15 [==============================] - 0s 5ms/step - loss: 9.8313 - accuracy: 0.3626 - val_loss: 9.0655 - val_accuracy: 0.4123\n"
     ]
    }
   ],
   "source": [
    "history_b=model_b.fit(X_train,y_train,validation_data=(X_test,y_test),epochs=100)"
   ]
  },
  {
   "cell_type": "code",
   "execution_count": 38,
   "id": "a7b332ff",
   "metadata": {},
   "outputs": [
    {
     "data": {
      "text/plain": [
       "Text(0.5, 1.0, 'Training and validation loss')"
      ]
     },
     "execution_count": 38,
     "metadata": {},
     "output_type": "execute_result"
    },
    {
     "data": {
      "image/png": "[encoded data removed]",
      "text/plain": [
       "<Figure size 432x288 with 1 Axes>"
      ]
     },
     "metadata": {
      "needs_background": "light"
     },
     "output_type": "display_data"
    },
    {
     "data": {
      "image/png": "[encoded data removed]",
      "text/plain": [
       "<Figure size 432x288 with 1 Axes>"
      ]
     },
     "metadata": {
      "needs_background": "light"
     },
     "output_type": "display_data"
    }
   ],
   "source": [
    "\n",
    "acc=history_b.history['accuracy']\n",
    "val_acc=history_b.history['val_accuracy']\n",
    "loss=history_b.history['loss']\n",
    "val_loss=history_b.history['val_loss']\n",
    "\n",
    "epochs=range(len(acc)) # Get number of epochs\n",
    "\n",
    "#------------------------------------------------\n",
    "# Plot training and validation accuracy per epoch\n",
    "#------------------------------------------------\n",
    "plt.plot(epochs, acc, 'r', \"Training Accuracy\")\n",
    "plt.plot(epochs, val_acc, 'b', \"Validation Accuracy\")\n",
    "plt.title('Training and validation accuracy')\n",
    "plt.figure()\n",
    "\n",
    "#------------------------------------------------\n",
    "# Plot training and validation loss per epoch\n",
    "#------------------------------------------------\n",
    "plt.plot(epochs, loss, 'r', \"Training Loss\")\n",
    "plt.plot(epochs, val_loss, 'b', \"Validation Loss\")\n",
    "\n",
    "\n",
    "plt.title('Training and validation loss')"
   ]
  },
  {
   "cell_type": "code",
   "execution_count": 39,
   "id": "dacbaaea",
   "metadata": {},
   "outputs": [],
   "source": [
    "model_2=tf.keras.Sequential([\n",
    "    tf.keras.layers.Dense(10,activation='relu'),\n",
    "    tf.keras.layers.Dense(20,activation='relu'),\n",
    "    tf.keras.layers.Dense(1,activation='sigmoid')\n",
    "])"
   ]
  },
  {
   "cell_type": "code",
   "execution_count": 40,
   "id": "d4cf5fca",
   "metadata": {},
   "outputs": [],
   "source": [
    "model_2.compile(optimizer='adam',loss='binary_crossentropy',metrics=['accuracy'])"
   ]
  },
  {
   "cell_type": "code",
   "execution_count": 41,
   "id": "d600509c",
   "metadata": {},
   "outputs": [
    {
     "name": "stdout",
     "output_type": "stream",
     "text": [
      "Epoch 1/200\n",
      "15/15 [==============================] - 2s 30ms/step - loss: 0.6988 - accuracy: 0.3626 - val_loss: 0.6820 - val_accuracy: 0.5614\n",
      "Epoch 2/200\n",
      "15/15 [==============================] - 0s 6ms/step - loss: 0.6833 - accuracy: 0.6857 - val_loss: 0.6746 - val_accuracy: 0.7719\n",
      "Epoch 3/200\n",
      "15/15 [==============================] - 0s 6ms/step - loss: 0.6726 - accuracy: 0.6637 - val_loss: 0.6690 - val_accuracy: 0.6228\n",
      "Epoch 4/200\n",
      "15/15 [==============================] - 0s 6ms/step - loss: 0.6650 - accuracy: 0.6440 - val_loss: 0.6624 - val_accuracy: 0.6228\n",
      "Epoch 5/200\n",
      "15/15 [==============================] - 0s 6ms/step - loss: 0.6583 - accuracy: 0.6505 - val_loss: 0.6537 - val_accuracy: 0.7193\n",
      "Epoch 6/200\n",
      "15/15 [==============================] - 0s 5ms/step - loss: 0.6507 - accuracy: 0.6549 - val_loss: 0.6454 - val_accuracy: 0.7193\n",
      "Epoch 7/200\n",
      "15/15 [==============================] - 0s 7ms/step - loss: 0.6417 - accuracy: 0.6571 - val_loss: 0.6338 - val_accuracy: 0.7632\n",
      "Epoch 8/200\n",
      "15/15 [==============================] - 0s 9ms/step - loss: 0.6297 - accuracy: 0.6769 - val_loss: 0.6194 - val_accuracy: 0.8070\n",
      "Epoch 9/200\n",
      "15/15 [==============================] - 0s 6ms/step - loss: 0.6168 - accuracy: 0.7275 - val_loss: 0.6051 - val_accuracy: 0.8596\n",
      "Epoch 10/200\n",
      "15/15 [==============================] - 0s 6ms/step - loss: 0.6043 - accuracy: 0.7692 - val_loss: 0.5899 - val_accuracy: 0.8860\n",
      "Epoch 11/200\n",
      "15/15 [==============================] - 0s 7ms/step - loss: 0.5914 - accuracy: 0.8022 - val_loss: 0.5756 - val_accuracy: 0.8772\n",
      "Epoch 12/200\n",
      "15/15 [==============================] - 0s 6ms/step - loss: 0.5773 - accuracy: 0.8132 - val_loss: 0.5587 - val_accuracy: 0.8860\n",
      "Epoch 13/200\n",
      "15/15 [==============================] - 0s 6ms/step - loss: 0.5628 - accuracy: 0.8066 - val_loss: 0.5415 - val_accuracy: 0.9123\n",
      "Epoch 14/200\n",
      "15/15 [==============================] - 0s 6ms/step - loss: 0.5478 - accuracy: 0.8110 - val_loss: 0.5238 - val_accuracy: 0.9035\n",
      "Epoch 15/200\n",
      "15/15 [==============================] - 0s 6ms/step - loss: 0.5313 - accuracy: 0.8264 - val_loss: 0.5056 - val_accuracy: 0.8860\n",
      "Epoch 16/200\n",
      "15/15 [==============================] - 0s 7ms/step - loss: 0.5139 - accuracy: 0.8396 - val_loss: 0.4915 - val_accuracy: 0.8509\n",
      "Epoch 17/200\n",
      "15/15 [==============================] - 0s 6ms/step - loss: 0.4972 - accuracy: 0.8527 - val_loss: 0.4684 - val_accuracy: 0.8860\n",
      "Epoch 18/200\n",
      "15/15 [==============================] - ETA: 0s - loss: 0.5317 - accuracy: 0.84 - 0s 5ms/step - loss: 0.4783 - accuracy: 0.8571 - val_loss: 0.4482 - val_accuracy: 0.8947\n",
      "Epoch 19/200\n",
      "15/15 [==============================] - 0s 6ms/step - loss: 0.4584 - accuracy: 0.8571 - val_loss: 0.4258 - val_accuracy: 0.8947\n",
      "Epoch 20/200\n",
      "15/15 [==============================] - 0s 6ms/step - loss: 0.4381 - accuracy: 0.8615 - val_loss: 0.4014 - val_accuracy: 0.8860\n",
      "Epoch 21/200\n",
      "15/15 [==============================] - 0s 6ms/step - loss: 0.4119 - accuracy: 0.8681 - val_loss: 0.3710 - val_accuracy: 0.9035\n",
      "Epoch 22/200\n",
      "15/15 [==============================] - 0s 6ms/step - loss: 0.3877 - accuracy: 0.8769 - val_loss: 0.3517 - val_accuracy: 0.9035\n",
      "Epoch 23/200\n",
      "15/15 [==============================] - 0s 6ms/step - loss: 0.3685 - accuracy: 0.8747 - val_loss: 0.3319 - val_accuracy: 0.9035\n",
      "Epoch 24/200\n",
      "15/15 [==============================] - 0s 6ms/step - loss: 0.3501 - accuracy: 0.8857 - val_loss: 0.3172 - val_accuracy: 0.9035\n",
      "Epoch 25/200\n",
      "15/15 [==============================] - 0s 5ms/step - loss: 0.3342 - accuracy: 0.8989 - val_loss: 0.3042 - val_accuracy: 0.9035\n",
      "Epoch 26/200\n",
      "15/15 [==============================] - 0s 6ms/step - loss: 0.3191 - accuracy: 0.9033 - val_loss: 0.2895 - val_accuracy: 0.9035\n",
      "Epoch 27/200\n",
      "15/15 [==============================] - 0s 5ms/step - loss: 0.3060 - accuracy: 0.9077 - val_loss: 0.2771 - val_accuracy: 0.9035\n",
      "Epoch 28/200\n",
      "15/15 [==============================] - 0s 6ms/step - loss: 0.2937 - accuracy: 0.9055 - val_loss: 0.2712 - val_accuracy: 0.8947\n",
      "Epoch 29/200\n",
      "15/15 [==============================] - 0s 6ms/step - loss: 0.2840 - accuracy: 0.9099 - val_loss: 0.2555 - val_accuracy: 0.9035\n",
      "Epoch 30/200\n",
      "15/15 [==============================] - 0s 5ms/step - loss: 0.2731 - accuracy: 0.9077 - val_loss: 0.2572 - val_accuracy: 0.8947\n",
      "Epoch 31/200\n",
      "15/15 [==============================] - 0s 6ms/step - loss: 0.2672 - accuracy: 0.9165 - val_loss: 0.2452 - val_accuracy: 0.9035\n",
      "Epoch 32/200\n",
      "15/15 [==============================] - 0s 7ms/step - loss: 0.2569 - accuracy: 0.9121 - val_loss: 0.2325 - val_accuracy: 0.9123\n",
      "Epoch 33/200\n",
      "15/15 [==============================] - 0s 6ms/step - loss: 0.2505 - accuracy: 0.9143 - val_loss: 0.2312 - val_accuracy: 0.9035\n",
      "Epoch 34/200\n",
      "15/15 [==============================] - 0s 5ms/step - loss: 0.2437 - accuracy: 0.9165 - val_loss: 0.2243 - val_accuracy: 0.9035\n",
      "Epoch 35/200\n",
      "15/15 [==============================] - 0s 6ms/step - loss: 0.2371 - accuracy: 0.9143 - val_loss: 0.2214 - val_accuracy: 0.9035\n",
      "Epoch 36/200\n",
      "15/15 [==============================] - 0s 7ms/step - loss: 0.2350 - accuracy: 0.9165 - val_loss: 0.2120 - val_accuracy: 0.9123\n",
      "Epoch 37/200\n",
      "15/15 [==============================] - 0s 5ms/step - loss: 0.2279 - accuracy: 0.9165 - val_loss: 0.2140 - val_accuracy: 0.9123\n",
      "Epoch 38/200\n",
      "15/15 [==============================] - 0s 6ms/step - loss: 0.2230 - accuracy: 0.9165 - val_loss: 0.2076 - val_accuracy: 0.9123\n",
      "Epoch 39/200\n",
      "15/15 [==============================] - 0s 6ms/step - loss: 0.2195 - accuracy: 0.9165 - val_loss: 0.2036 - val_accuracy: 0.9123\n",
      "Epoch 40/200\n",
      "15/15 [==============================] - 0s 5ms/step - loss: 0.2159 - accuracy: 0.9187 - val_loss: 0.2033 - val_accuracy: 0.9211\n",
      "Epoch 41/200\n",
      "15/15 [==============================] - 0s 6ms/step - loss: 0.2115 - accuracy: 0.9187 - val_loss: 0.2010 - val_accuracy: 0.9211\n",
      "Epoch 42/200\n",
      "15/15 [==============================] - 0s 5ms/step - loss: 0.2079 - accuracy: 0.9209 - val_loss: 0.1938 - val_accuracy: 0.9123\n",
      "Epoch 43/200\n",
      "15/15 [==============================] - 0s 5ms/step - loss: 0.2052 - accuracy: 0.9209 - val_loss: 0.1944 - val_accuracy: 0.9211\n",
      "Epoch 44/200\n",
      "15/15 [==============================] - 0s 5ms/step - loss: 0.2023 - accuracy: 0.9209 - val_loss: 0.1923 - val_accuracy: 0.9211\n",
      "Epoch 45/200\n",
      "15/15 [==============================] - 0s 6ms/step - loss: 0.1998 - accuracy: 0.9209 - val_loss: 0.1896 - val_accuracy: 0.9211\n",
      "Epoch 46/200\n",
      "15/15 [==============================] - 0s 6ms/step - loss: 0.1986 - accuracy: 0.9253 - val_loss: 0.1836 - val_accuracy: 0.8860\n",
      "Epoch 47/200\n",
      "15/15 [==============================] - 0s 5ms/step - loss: 0.1957 - accuracy: 0.9209 - val_loss: 0.1852 - val_accuracy: 0.9123\n",
      "Epoch 48/200\n",
      "15/15 [==============================] - 0s 6ms/step - loss: 0.1954 - accuracy: 0.9253 - val_loss: 0.1881 - val_accuracy: 0.9211\n",
      "Epoch 49/200\n",
      "15/15 [==============================] - 0s 7ms/step - loss: 0.1911 - accuracy: 0.9253 - val_loss: 0.1815 - val_accuracy: 0.8860\n",
      "Epoch 50/200\n",
      "15/15 [==============================] - 0s 6ms/step - loss: 0.1894 - accuracy: 0.9253 - val_loss: 0.1812 - val_accuracy: 0.9035\n",
      "Epoch 51/200\n",
      "15/15 [==============================] - 0s 6ms/step - loss: 0.1878 - accuracy: 0.9297 - val_loss: 0.1788 - val_accuracy: 0.8860\n",
      "Epoch 52/200\n",
      "15/15 [==============================] - 0s 5ms/step - loss: 0.1878 - accuracy: 0.9253 - val_loss: 0.1787 - val_accuracy: 0.8947\n",
      "Epoch 53/200\n",
      "15/15 [==============================] - 0s 5ms/step - loss: 0.1839 - accuracy: 0.9231 - val_loss: 0.1758 - val_accuracy: 0.8860\n",
      "Epoch 54/200\n",
      "15/15 [==============================] - 0s 6ms/step - loss: 0.1841 - accuracy: 0.9275 - val_loss: 0.1757 - val_accuracy: 0.8947\n",
      "Epoch 55/200\n",
      "15/15 [==============================] - 0s 5ms/step - loss: 0.1814 - accuracy: 0.9275 - val_loss: 0.1736 - val_accuracy: 0.8860\n",
      "Epoch 56/200\n",
      "15/15 [==============================] - 0s 5ms/step - loss: 0.1810 - accuracy: 0.9253 - val_loss: 0.1760 - val_accuracy: 0.9035\n",
      "Epoch 57/200\n",
      "15/15 [==============================] - 0s 5ms/step - loss: 0.1794 - accuracy: 0.9319 - val_loss: 0.1721 - val_accuracy: 0.8860\n",
      "Epoch 58/200\n"
     ]
    },
    {
     "name": "stdout",
     "output_type": "stream",
     "text": [
      "15/15 [==============================] - 0s 5ms/step - loss: 0.1783 - accuracy: 0.9253 - val_loss: 0.1708 - val_accuracy: 0.8860\n",
      "Epoch 59/200\n",
      "15/15 [==============================] - 0s 5ms/step - loss: 0.1773 - accuracy: 0.9297 - val_loss: 0.1742 - val_accuracy: 0.8947\n",
      "Epoch 60/200\n",
      "15/15 [==============================] - 0s 5ms/step - loss: 0.1762 - accuracy: 0.9275 - val_loss: 0.1700 - val_accuracy: 0.8860\n",
      "Epoch 61/200\n",
      "15/15 [==============================] - 0s 5ms/step - loss: 0.1756 - accuracy: 0.9341 - val_loss: 0.1733 - val_accuracy: 0.8947\n",
      "Epoch 62/200\n",
      "15/15 [==============================] - 0s 5ms/step - loss: 0.1765 - accuracy: 0.9275 - val_loss: 0.1678 - val_accuracy: 0.8947\n",
      "Epoch 63/200\n",
      "15/15 [==============================] - 0s 7ms/step - loss: 0.1735 - accuracy: 0.9275 - val_loss: 0.1706 - val_accuracy: 0.8947\n",
      "Epoch 64/200\n",
      "15/15 [==============================] - 0s 7ms/step - loss: 0.1733 - accuracy: 0.9209 - val_loss: 0.1668 - val_accuracy: 0.9035\n",
      "Epoch 65/200\n",
      "15/15 [==============================] - 0s 6ms/step - loss: 0.1723 - accuracy: 0.9253 - val_loss: 0.1691 - val_accuracy: 0.8947\n",
      "Epoch 66/200\n",
      "15/15 [==============================] - 0s 5ms/step - loss: 0.1734 - accuracy: 0.9363 - val_loss: 0.1700 - val_accuracy: 0.8947\n",
      "Epoch 67/200\n",
      "15/15 [==============================] - 0s 5ms/step - loss: 0.1712 - accuracy: 0.9297 - val_loss: 0.1669 - val_accuracy: 0.8947\n",
      "Epoch 68/200\n",
      "15/15 [==============================] - 0s 5ms/step - loss: 0.1698 - accuracy: 0.9341 - val_loss: 0.1663 - val_accuracy: 0.8860\n",
      "Epoch 69/200\n",
      "15/15 [==============================] - 0s 5ms/step - loss: 0.1700 - accuracy: 0.9363 - val_loss: 0.1669 - val_accuracy: 0.8947\n",
      "Epoch 70/200\n",
      "15/15 [==============================] - 0s 5ms/step - loss: 0.1698 - accuracy: 0.9253 - val_loss: 0.1645 - val_accuracy: 0.9123\n",
      "Epoch 71/200\n",
      "15/15 [==============================] - 0s 6ms/step - loss: 0.1728 - accuracy: 0.9297 - val_loss: 0.1685 - val_accuracy: 0.8947\n",
      "Epoch 72/200\n",
      "15/15 [==============================] - 0s 6ms/step - loss: 0.1681 - accuracy: 0.9319 - val_loss: 0.1648 - val_accuracy: 0.8860\n",
      "Epoch 73/200\n",
      "15/15 [==============================] - 0s 5ms/step - loss: 0.1676 - accuracy: 0.9341 - val_loss: 0.1663 - val_accuracy: 0.8947\n",
      "Epoch 74/200\n",
      "15/15 [==============================] - 0s 6ms/step - loss: 0.1667 - accuracy: 0.9363 - val_loss: 0.1652 - val_accuracy: 0.8947\n",
      "Epoch 75/200\n",
      "15/15 [==============================] - 0s 6ms/step - loss: 0.1678 - accuracy: 0.9297 - val_loss: 0.1646 - val_accuracy: 0.8947\n",
      "Epoch 76/200\n",
      "15/15 [==============================] - 0s 6ms/step - loss: 0.1675 - accuracy: 0.9297 - val_loss: 0.1668 - val_accuracy: 0.8947\n",
      "Epoch 77/200\n",
      "15/15 [==============================] - 0s 6ms/step - loss: 0.1660 - accuracy: 0.9363 - val_loss: 0.1643 - val_accuracy: 0.8947\n",
      "Epoch 78/200\n",
      "15/15 [==============================] - 0s 5ms/step - loss: 0.1653 - accuracy: 0.9341 - val_loss: 0.1642 - val_accuracy: 0.8947\n",
      "Epoch 79/200\n",
      "15/15 [==============================] - 0s 6ms/step - loss: 0.1648 - accuracy: 0.9407 - val_loss: 0.1660 - val_accuracy: 0.8947\n",
      "Epoch 80/200\n",
      "15/15 [==============================] - 0s 6ms/step - loss: 0.1637 - accuracy: 0.9297 - val_loss: 0.1629 - val_accuracy: 0.9035\n",
      "Epoch 81/200\n",
      "15/15 [==============================] - 0s 5ms/step - loss: 0.1637 - accuracy: 0.9363 - val_loss: 0.1641 - val_accuracy: 0.8947\n",
      "Epoch 82/200\n",
      "15/15 [==============================] - 0s 5ms/step - loss: 0.1638 - accuracy: 0.9385 - val_loss: 0.1638 - val_accuracy: 0.8947\n",
      "Epoch 83/200\n",
      "15/15 [==============================] - 0s 5ms/step - loss: 0.1639 - accuracy: 0.9363 - val_loss: 0.1621 - val_accuracy: 0.9035\n",
      "Epoch 84/200\n",
      "15/15 [==============================] - 0s 6ms/step - loss: 0.1632 - accuracy: 0.9341 - val_loss: 0.1616 - val_accuracy: 0.9035\n",
      "Epoch 85/200\n",
      "15/15 [==============================] - 0s 5ms/step - loss: 0.1632 - accuracy: 0.9385 - val_loss: 0.1630 - val_accuracy: 0.8947\n",
      "Epoch 86/200\n",
      "15/15 [==============================] - 0s 5ms/step - loss: 0.1624 - accuracy: 0.9407 - val_loss: 0.1622 - val_accuracy: 0.9123\n",
      "Epoch 87/200\n",
      "15/15 [==============================] - 0s 6ms/step - loss: 0.1651 - accuracy: 0.9429 - val_loss: 0.1641 - val_accuracy: 0.8947\n",
      "Epoch 88/200\n",
      "15/15 [==============================] - 0s 6ms/step - loss: 0.1622 - accuracy: 0.9341 - val_loss: 0.1608 - val_accuracy: 0.9035\n",
      "Epoch 89/200\n",
      "15/15 [==============================] - 0s 6ms/step - loss: 0.1612 - accuracy: 0.9319 - val_loss: 0.1626 - val_accuracy: 0.8947\n",
      "Epoch 90/200\n",
      "15/15 [==============================] - 0s 5ms/step - loss: 0.1624 - accuracy: 0.9385 - val_loss: 0.1615 - val_accuracy: 0.9035\n",
      "Epoch 91/200\n",
      "15/15 [==============================] - 0s 6ms/step - loss: 0.1610 - accuracy: 0.9363 - val_loss: 0.1612 - val_accuracy: 0.9035\n",
      "Epoch 92/200\n",
      "15/15 [==============================] - 0s 6ms/step - loss: 0.1604 - accuracy: 0.9363 - val_loss: 0.1599 - val_accuracy: 0.9123\n",
      "Epoch 93/200\n",
      "15/15 [==============================] - 0s 5ms/step - loss: 0.1609 - accuracy: 0.9385 - val_loss: 0.1597 - val_accuracy: 0.9123\n",
      "Epoch 94/200\n",
      "15/15 [==============================] - 0s 6ms/step - loss: 0.1625 - accuracy: 0.9341 - val_loss: 0.1589 - val_accuracy: 0.9123\n",
      "Epoch 95/200\n",
      "15/15 [==============================] - 0s 5ms/step - loss: 0.1595 - accuracy: 0.9385 - val_loss: 0.1599 - val_accuracy: 0.9035\n",
      "Epoch 96/200\n",
      "15/15 [==============================] - 0s 6ms/step - loss: 0.1598 - accuracy: 0.9363 - val_loss: 0.1590 - val_accuracy: 0.9035\n",
      "Epoch 97/200\n",
      "15/15 [==============================] - 0s 6ms/step - loss: 0.1608 - accuracy: 0.9363 - val_loss: 0.1583 - val_accuracy: 0.9035\n",
      "Epoch 98/200\n",
      "15/15 [==============================] - 0s 6ms/step - loss: 0.1579 - accuracy: 0.9385 - val_loss: 0.1592 - val_accuracy: 0.9035\n",
      "Epoch 99/200\n",
      "15/15 [==============================] - 0s 6ms/step - loss: 0.1590 - accuracy: 0.9385 - val_loss: 0.1582 - val_accuracy: 0.9123\n",
      "Epoch 100/200\n",
      "15/15 [==============================] - 0s 5ms/step - loss: 0.1582 - accuracy: 0.9385 - val_loss: 0.1581 - val_accuracy: 0.9123\n",
      "Epoch 101/200\n",
      "15/15 [==============================] - 0s 5ms/step - loss: 0.1572 - accuracy: 0.9341 - val_loss: 0.1580 - val_accuracy: 0.9123\n",
      "Epoch 102/200\n",
      "15/15 [==============================] - 0s 6ms/step - loss: 0.1575 - accuracy: 0.9385 - val_loss: 0.1581 - val_accuracy: 0.9123\n",
      "Epoch 103/200\n",
      "15/15 [==============================] - 0s 5ms/step - loss: 0.1576 - accuracy: 0.9385 - val_loss: 0.1579 - val_accuracy: 0.9123\n",
      "Epoch 104/200\n",
      "15/15 [==============================] - 0s 5ms/step - loss: 0.1584 - accuracy: 0.9407 - val_loss: 0.1579 - val_accuracy: 0.9123\n",
      "Epoch 105/200\n",
      "15/15 [==============================] - 0s 6ms/step - loss: 0.1583 - accuracy: 0.9385 - val_loss: 0.1579 - val_accuracy: 0.9211\n",
      "Epoch 106/200\n",
      "15/15 [==============================] - 0s 6ms/step - loss: 0.1648 - accuracy: 0.9429 - val_loss: 0.1593 - val_accuracy: 0.9035\n",
      "Epoch 107/200\n",
      "15/15 [==============================] - 0s 6ms/step - loss: 0.1601 - accuracy: 0.9407 - val_loss: 0.1580 - val_accuracy: 0.9211\n",
      "Epoch 108/200\n",
      "15/15 [==============================] - 0s 5ms/step - loss: 0.1579 - accuracy: 0.9385 - val_loss: 0.1582 - val_accuracy: 0.9035\n",
      "Epoch 109/200\n",
      "15/15 [==============================] - 0s 6ms/step - loss: 0.1565 - accuracy: 0.9363 - val_loss: 0.1572 - val_accuracy: 0.9035\n",
      "Epoch 110/200\n",
      "15/15 [==============================] - 0s 6ms/step - loss: 0.1556 - accuracy: 0.9407 - val_loss: 0.1570 - val_accuracy: 0.9123\n",
      "Epoch 111/200\n",
      "15/15 [==============================] - 0s 5ms/step - loss: 0.1554 - accuracy: 0.9363 - val_loss: 0.1572 - val_accuracy: 0.9035\n",
      "Epoch 112/200\n",
      "15/15 [==============================] - 0s 5ms/step - loss: 0.1564 - accuracy: 0.9363 - val_loss: 0.1572 - val_accuracy: 0.9123\n",
      "Epoch 113/200\n",
      "15/15 [==============================] - 0s 5ms/step - loss: 0.1541 - accuracy: 0.9385 - val_loss: 0.1573 - val_accuracy: 0.9123\n",
      "Epoch 114/200\n",
      "15/15 [==============================] - 0s 6ms/step - loss: 0.1558 - accuracy: 0.9429 - val_loss: 0.1570 - val_accuracy: 0.9035\n",
      "Epoch 115/200\n",
      "15/15 [==============================] - 0s 5ms/step - loss: 0.1560 - accuracy: 0.9363 - val_loss: 0.1571 - val_accuracy: 0.9211\n"
     ]
    },
    {
     "name": "stdout",
     "output_type": "stream",
     "text": [
      "Epoch 116/200\n",
      "15/15 [==============================] - 0s 6ms/step - loss: 0.1551 - accuracy: 0.9407 - val_loss: 0.1567 - val_accuracy: 0.9123\n",
      "Epoch 117/200\n",
      "15/15 [==============================] - 0s 6ms/step - loss: 0.1557 - accuracy: 0.9407 - val_loss: 0.1574 - val_accuracy: 0.9211\n",
      "Epoch 118/200\n",
      "15/15 [==============================] - 0s 5ms/step - loss: 0.1553 - accuracy: 0.9363 - val_loss: 0.1567 - val_accuracy: 0.9123\n",
      "Epoch 119/200\n",
      "15/15 [==============================] - 0s 6ms/step - loss: 0.1556 - accuracy: 0.9407 - val_loss: 0.1565 - val_accuracy: 0.9123\n",
      "Epoch 120/200\n",
      "15/15 [==============================] - 0s 5ms/step - loss: 0.1550 - accuracy: 0.9407 - val_loss: 0.1574 - val_accuracy: 0.9211\n",
      "Epoch 121/200\n",
      "15/15 [==============================] - 0s 5ms/step - loss: 0.1536 - accuracy: 0.9407 - val_loss: 0.1564 - val_accuracy: 0.9123\n",
      "Epoch 122/200\n",
      "15/15 [==============================] - 0s 5ms/step - loss: 0.1547 - accuracy: 0.9363 - val_loss: 0.1562 - val_accuracy: 0.9123\n",
      "Epoch 123/200\n",
      "15/15 [==============================] - 0s 5ms/step - loss: 0.1538 - accuracy: 0.9429 - val_loss: 0.1563 - val_accuracy: 0.9123\n",
      "Epoch 124/200\n",
      "15/15 [==============================] - 0s 5ms/step - loss: 0.1533 - accuracy: 0.9429 - val_loss: 0.1562 - val_accuracy: 0.9123\n",
      "Epoch 125/200\n",
      "15/15 [==============================] - 0s 5ms/step - loss: 0.1529 - accuracy: 0.9407 - val_loss: 0.1563 - val_accuracy: 0.9123\n",
      "Epoch 126/200\n",
      "15/15 [==============================] - 0s 6ms/step - loss: 0.1542 - accuracy: 0.9429 - val_loss: 0.1563 - val_accuracy: 0.9211\n",
      "Epoch 127/200\n",
      "15/15 [==============================] - 0s 5ms/step - loss: 0.1536 - accuracy: 0.9429 - val_loss: 0.1561 - val_accuracy: 0.9123\n",
      "Epoch 128/200\n",
      "15/15 [==============================] - 0s 6ms/step - loss: 0.1527 - accuracy: 0.9429 - val_loss: 0.1561 - val_accuracy: 0.9123\n",
      "Epoch 129/200\n",
      "15/15 [==============================] - 0s 5ms/step - loss: 0.1532 - accuracy: 0.9429 - val_loss: 0.1566 - val_accuracy: 0.9211\n",
      "Epoch 130/200\n",
      "15/15 [==============================] - 0s 5ms/step - loss: 0.1520 - accuracy: 0.9407 - val_loss: 0.1560 - val_accuracy: 0.9123\n",
      "Epoch 131/200\n",
      "15/15 [==============================] - 0s 5ms/step - loss: 0.1525 - accuracy: 0.9407 - val_loss: 0.1559 - val_accuracy: 0.9211\n",
      "Epoch 132/200\n",
      "15/15 [==============================] - 0s 6ms/step - loss: 0.1520 - accuracy: 0.9407 - val_loss: 0.1557 - val_accuracy: 0.9123\n",
      "Epoch 133/200\n",
      "15/15 [==============================] - 0s 5ms/step - loss: 0.1531 - accuracy: 0.9429 - val_loss: 0.1558 - val_accuracy: 0.9123\n",
      "Epoch 134/200\n",
      "15/15 [==============================] - 0s 6ms/step - loss: 0.1530 - accuracy: 0.9407 - val_loss: 0.1557 - val_accuracy: 0.9123\n",
      "Epoch 135/200\n",
      "15/15 [==============================] - 0s 6ms/step - loss: 0.1538 - accuracy: 0.9451 - val_loss: 0.1557 - val_accuracy: 0.9123\n",
      "Epoch 136/200\n",
      "15/15 [==============================] - 0s 5ms/step - loss: 0.1548 - accuracy: 0.9429 - val_loss: 0.1572 - val_accuracy: 0.9211\n",
      "Epoch 137/200\n",
      "15/15 [==============================] - 0s 5ms/step - loss: 0.1527 - accuracy: 0.9407 - val_loss: 0.1560 - val_accuracy: 0.9298\n",
      "Epoch 138/200\n",
      "15/15 [==============================] - 0s 5ms/step - loss: 0.1521 - accuracy: 0.9385 - val_loss: 0.1555 - val_accuracy: 0.9211\n",
      "Epoch 139/200\n",
      "15/15 [==============================] - 0s 6ms/step - loss: 0.1516 - accuracy: 0.9407 - val_loss: 0.1560 - val_accuracy: 0.9298\n",
      "Epoch 140/200\n",
      "15/15 [==============================] - 0s 6ms/step - loss: 0.1525 - accuracy: 0.9429 - val_loss: 0.1556 - val_accuracy: 0.9211\n",
      "Epoch 141/200\n",
      "15/15 [==============================] - 0s 6ms/step - loss: 0.1538 - accuracy: 0.9451 - val_loss: 0.1562 - val_accuracy: 0.9211\n",
      "Epoch 142/200\n",
      "15/15 [==============================] - 0s 6ms/step - loss: 0.1513 - accuracy: 0.9407 - val_loss: 0.1554 - val_accuracy: 0.9211\n",
      "Epoch 143/200\n",
      "15/15 [==============================] - 0s 5ms/step - loss: 0.1514 - accuracy: 0.9429 - val_loss: 0.1554 - val_accuracy: 0.9211\n",
      "Epoch 144/200\n",
      "15/15 [==============================] - 0s 5ms/step - loss: 0.1522 - accuracy: 0.9407 - val_loss: 0.1556 - val_accuracy: 0.9211\n",
      "Epoch 145/200\n",
      "15/15 [==============================] - 0s 5ms/step - loss: 0.1511 - accuracy: 0.9407 - val_loss: 0.1556 - val_accuracy: 0.9211\n",
      "Epoch 146/200\n",
      "15/15 [==============================] - 0s 6ms/step - loss: 0.1510 - accuracy: 0.9407 - val_loss: 0.1553 - val_accuracy: 0.9123\n",
      "Epoch 147/200\n",
      "15/15 [==============================] - 0s 5ms/step - loss: 0.1516 - accuracy: 0.9407 - val_loss: 0.1556 - val_accuracy: 0.9298\n",
      "Epoch 148/200\n",
      "15/15 [==============================] - 0s 5ms/step - loss: 0.1510 - accuracy: 0.9451 - val_loss: 0.1560 - val_accuracy: 0.9298\n",
      "Epoch 149/200\n",
      "15/15 [==============================] - 0s 5ms/step - loss: 0.1516 - accuracy: 0.9451 - val_loss: 0.1565 - val_accuracy: 0.9211\n",
      "Epoch 150/200\n",
      "15/15 [==============================] - 0s 5ms/step - loss: 0.1516 - accuracy: 0.9407 - val_loss: 0.1558 - val_accuracy: 0.9298\n",
      "Epoch 151/200\n",
      "15/15 [==============================] - 0s 5ms/step - loss: 0.1511 - accuracy: 0.9429 - val_loss: 0.1555 - val_accuracy: 0.9211\n",
      "Epoch 152/200\n",
      "15/15 [==============================] - 0s 5ms/step - loss: 0.1527 - accuracy: 0.9407 - val_loss: 0.1571 - val_accuracy: 0.9211\n",
      "Epoch 153/200\n",
      "15/15 [==============================] - 0s 5ms/step - loss: 0.1529 - accuracy: 0.9495 - val_loss: 0.1553 - val_accuracy: 0.9123\n",
      "Epoch 154/200\n",
      "15/15 [==============================] - 0s 6ms/step - loss: 0.1535 - accuracy: 0.9385 - val_loss: 0.1568 - val_accuracy: 0.9211\n",
      "Epoch 155/200\n",
      "15/15 [==============================] - 0s 5ms/step - loss: 0.1504 - accuracy: 0.9451 - val_loss: 0.1554 - val_accuracy: 0.9211\n",
      "Epoch 156/200\n",
      "15/15 [==============================] - 0s 5ms/step - loss: 0.1504 - accuracy: 0.9473 - val_loss: 0.1557 - val_accuracy: 0.9298\n",
      "Epoch 157/200\n",
      "15/15 [==============================] - 0s 5ms/step - loss: 0.1505 - accuracy: 0.9473 - val_loss: 0.1558 - val_accuracy: 0.9298\n",
      "Epoch 158/200\n",
      "15/15 [==============================] - 0s 6ms/step - loss: 0.1516 - accuracy: 0.9429 - val_loss: 0.1566 - val_accuracy: 0.9211\n",
      "Epoch 159/200\n",
      "15/15 [==============================] - 0s 5ms/step - loss: 0.1507 - accuracy: 0.9495 - val_loss: 0.1553 - val_accuracy: 0.9211\n",
      "Epoch 160/200\n",
      "15/15 [==============================] - 0s 5ms/step - loss: 0.1519 - accuracy: 0.9473 - val_loss: 0.1559 - val_accuracy: 0.9298\n",
      "Epoch 161/200\n",
      "15/15 [==============================] - 0s 5ms/step - loss: 0.1501 - accuracy: 0.9429 - val_loss: 0.1559 - val_accuracy: 0.9298\n",
      "Epoch 162/200\n",
      "15/15 [==============================] - 0s 5ms/step - loss: 0.1507 - accuracy: 0.9473 - val_loss: 0.1553 - val_accuracy: 0.9211\n",
      "Epoch 163/200\n",
      "15/15 [==============================] - 0s 5ms/step - loss: 0.1490 - accuracy: 0.9495 - val_loss: 0.1571 - val_accuracy: 0.9298\n",
      "Epoch 164/200\n",
      "15/15 [==============================] - 0s 5ms/step - loss: 0.1514 - accuracy: 0.9429 - val_loss: 0.1565 - val_accuracy: 0.9211\n",
      "Epoch 165/200\n",
      "15/15 [==============================] - 0s 5ms/step - loss: 0.1503 - accuracy: 0.9429 - val_loss: 0.1557 - val_accuracy: 0.9298\n",
      "Epoch 166/200\n",
      "15/15 [==============================] - 0s 5ms/step - loss: 0.1490 - accuracy: 0.9473 - val_loss: 0.1550 - val_accuracy: 0.9211\n",
      "Epoch 167/200\n",
      "15/15 [==============================] - 0s 6ms/step - loss: 0.1530 - accuracy: 0.9495 - val_loss: 0.1552 - val_accuracy: 0.9298\n",
      "Epoch 168/200\n",
      "15/15 [==============================] - 0s 5ms/step - loss: 0.1497 - accuracy: 0.9473 - val_loss: 0.1572 - val_accuracy: 0.9298\n",
      "Epoch 169/200\n",
      "15/15 [==============================] - 0s 6ms/step - loss: 0.1493 - accuracy: 0.9473 - val_loss: 0.1553 - val_accuracy: 0.9211\n",
      "Epoch 170/200\n",
      "15/15 [==============================] - 0s 6ms/step - loss: 0.1499 - accuracy: 0.9451 - val_loss: 0.1567 - val_accuracy: 0.9298\n",
      "Epoch 171/200\n",
      "15/15 [==============================] - 0s 5ms/step - loss: 0.1496 - accuracy: 0.9495 - val_loss: 0.1560 - val_accuracy: 0.9298\n",
      "Epoch 172/200\n",
      "15/15 [==============================] - 0s 5ms/step - loss: 0.1492 - accuracy: 0.9495 - val_loss: 0.1555 - val_accuracy: 0.9298\n",
      "Epoch 173/200\n"
     ]
    },
    {
     "name": "stdout",
     "output_type": "stream",
     "text": [
      "15/15 [==============================] - 0s 6ms/step - loss: 0.1493 - accuracy: 0.9473 - val_loss: 0.1581 - val_accuracy: 0.9298\n",
      "Epoch 174/200\n",
      "15/15 [==============================] - 0s 5ms/step - loss: 0.1509 - accuracy: 0.9429 - val_loss: 0.1554 - val_accuracy: 0.9298\n",
      "Epoch 175/200\n",
      "15/15 [==============================] - 0s 5ms/step - loss: 0.1507 - accuracy: 0.9473 - val_loss: 0.1549 - val_accuracy: 0.9211\n",
      "Epoch 176/200\n",
      "15/15 [==============================] - 0s 5ms/step - loss: 0.1507 - accuracy: 0.9429 - val_loss: 0.1573 - val_accuracy: 0.9298\n",
      "Epoch 177/200\n",
      "15/15 [==============================] - 0s 6ms/step - loss: 0.1497 - accuracy: 0.9516 - val_loss: 0.1547 - val_accuracy: 0.9211\n",
      "Epoch 178/200\n",
      "15/15 [==============================] - 0s 5ms/step - loss: 0.1485 - accuracy: 0.9516 - val_loss: 0.1565 - val_accuracy: 0.9386\n",
      "Epoch 179/200\n",
      "15/15 [==============================] - 0s 5ms/step - loss: 0.1496 - accuracy: 0.9473 - val_loss: 0.1572 - val_accuracy: 0.9298\n",
      "Epoch 180/200\n",
      "15/15 [==============================] - 0s 5ms/step - loss: 0.1497 - accuracy: 0.9516 - val_loss: 0.1558 - val_accuracy: 0.9298\n",
      "Epoch 181/200\n",
      "15/15 [==============================] - 0s 6ms/step - loss: 0.1531 - accuracy: 0.9385 - val_loss: 0.1587 - val_accuracy: 0.9298\n",
      "Epoch 182/200\n",
      "15/15 [==============================] - 0s 5ms/step - loss: 0.1492 - accuracy: 0.9451 - val_loss: 0.1553 - val_accuracy: 0.9298\n",
      "Epoch 183/200\n",
      "15/15 [==============================] - 0s 6ms/step - loss: 0.1497 - accuracy: 0.9473 - val_loss: 0.1559 - val_accuracy: 0.9298\n",
      "Epoch 184/200\n",
      "15/15 [==============================] - 0s 5ms/step - loss: 0.1518 - accuracy: 0.9407 - val_loss: 0.1579 - val_accuracy: 0.9298\n",
      "Epoch 185/200\n",
      "15/15 [==============================] - 0s 6ms/step - loss: 0.1488 - accuracy: 0.9473 - val_loss: 0.1566 - val_accuracy: 0.9386\n",
      "Epoch 186/200\n",
      "15/15 [==============================] - 0s 5ms/step - loss: 0.1502 - accuracy: 0.9495 - val_loss: 0.1555 - val_accuracy: 0.9298\n",
      "Epoch 187/200\n",
      "15/15 [==============================] - 0s 5ms/step - loss: 0.1482 - accuracy: 0.9429 - val_loss: 0.1584 - val_accuracy: 0.9298\n",
      "Epoch 188/200\n",
      "15/15 [==============================] - 0s 5ms/step - loss: 0.1485 - accuracy: 0.9429 - val_loss: 0.1562 - val_accuracy: 0.9211\n",
      "Epoch 189/200\n",
      "15/15 [==============================] - 0s 5ms/step - loss: 0.1488 - accuracy: 0.9495 - val_loss: 0.1559 - val_accuracy: 0.9298\n",
      "Epoch 190/200\n",
      "15/15 [==============================] - 0s 6ms/step - loss: 0.1490 - accuracy: 0.9429 - val_loss: 0.1580 - val_accuracy: 0.9298\n",
      "Epoch 191/200\n",
      "15/15 [==============================] - 0s 5ms/step - loss: 0.1490 - accuracy: 0.9495 - val_loss: 0.1557 - val_accuracy: 0.9298\n",
      "Epoch 192/200\n",
      "15/15 [==============================] - 0s 5ms/step - loss: 0.1481 - accuracy: 0.9495 - val_loss: 0.1559 - val_accuracy: 0.9298\n",
      "Epoch 193/200\n",
      "15/15 [==============================] - 0s 5ms/step - loss: 0.1493 - accuracy: 0.9495 - val_loss: 0.1569 - val_accuracy: 0.9298\n",
      "Epoch 194/200\n",
      "15/15 [==============================] - 0s 5ms/step - loss: 0.1483 - accuracy: 0.9473 - val_loss: 0.1565 - val_accuracy: 0.9298\n",
      "Epoch 195/200\n",
      "15/15 [==============================] - 0s 5ms/step - loss: 0.1484 - accuracy: 0.9429 - val_loss: 0.1559 - val_accuracy: 0.9298\n",
      "Epoch 196/200\n",
      "15/15 [==============================] - 0s 5ms/step - loss: 0.1479 - accuracy: 0.9495 - val_loss: 0.1558 - val_accuracy: 0.9298\n",
      "Epoch 197/200\n",
      "15/15 [==============================] - 0s 5ms/step - loss: 0.1479 - accuracy: 0.9495 - val_loss: 0.1565 - val_accuracy: 0.9386\n",
      "Epoch 198/200\n",
      "15/15 [==============================] - 0s 5ms/step - loss: 0.1477 - accuracy: 0.9473 - val_loss: 0.1570 - val_accuracy: 0.9386\n",
      "Epoch 199/200\n",
      "15/15 [==============================] - 0s 5ms/step - loss: 0.1530 - accuracy: 0.9495 - val_loss: 0.1560 - val_accuracy: 0.9298\n",
      "Epoch 200/200\n",
      "15/15 [==============================] - 0s 5ms/step - loss: 0.1482 - accuracy: 0.9495 - val_loss: 0.1583 - val_accuracy: 0.9298\n"
     ]
    }
   ],
   "source": [
    "history_2=model_2.fit(X_train,y_train,validation_data=(X_test,y_test),epochs=200)"
   ]
  },
  {
   "cell_type": "code",
   "execution_count": 42,
   "id": "6eec7419",
   "metadata": {},
   "outputs": [
    {
     "data": {
      "text/plain": [
       "Text(0.5, 1.0, 'Training and validation loss')"
      ]
     },
     "execution_count": 42,
     "metadata": {},
     "output_type": "execute_result"
    },
    {
     "data": {
      "image/png": "[encoded data removed]",
      "text/plain": [
       "<Figure size 432x288 with 1 Axes>"
      ]
     },
     "metadata": {
      "needs_background": "light"
     },
     "output_type": "display_data"
    },
    {
     "data": {
      "image/png": "[encoded data removed]",
      "text/plain": [
       "<Figure size 432x288 with 1 Axes>"
      ]
     },
     "metadata": {
      "needs_background": "light"
     },
     "output_type": "display_data"
    }
   ],
   "source": [
    "acc=history_2.history['accuracy']\n",
    "val_acc=history_2.history['val_accuracy']\n",
    "loss=history_2.history['loss']\n",
    "val_loss=history_2.history['val_loss']\n",
    "\n",
    "epochs=range(len(acc)) # Get number of epochs\n",
    "\n",
    "#------------------------------------------------\n",
    "# Plot training and validation accuracy per epoch\n",
    "#------------------------------------------------\n",
    "plt.plot(epochs, acc, 'r', \"Training Accuracy\")\n",
    "plt.plot(epochs, val_acc, 'b', \"Validation Accuracy\")\n",
    "plt.title('Training and validation accuracy')\n",
    "plt.figure()\n",
    "\n",
    "#------------------------------------------------\n",
    "# Plot training and validation loss per epoch\n",
    "#------------------------------------------------\n",
    "plt.plot(epochs, loss, 'r', \"Training Loss\")\n",
    "plt.plot(epochs, val_loss, 'b', \"Validation Loss\")\n",
    "\n",
    "\n",
    "plt.title('Training and validation loss')"
   ]
  },
  {
   "cell_type": "code",
   "execution_count": 43,
   "id": "2f748662",
   "metadata": {},
   "outputs": [],
   "source": [
    "model_2a=tf.keras.Sequential([\n",
    "    tf.keras.layers.Dense(10,activation='relu'),\n",
    "    tf.keras.layers.Dense(20,activation='relu'),\n",
    "    tf.keras.layers.Dense(1,activation='sigmoid')\n",
    "])"
   ]
  },
  {
   "cell_type": "code",
   "execution_count": 44,
   "id": "a336845b",
   "metadata": {},
   "outputs": [],
   "source": [
    "model_2a.compile(optimizer='adam',loss='binary_crossentropy',metrics=['accuracy'])"
   ]
  },
  {
   "cell_type": "code",
   "execution_count": 45,
   "id": "bae30c89",
   "metadata": {},
   "outputs": [
    {
     "name": "stdout",
     "output_type": "stream",
     "text": [
      "Epoch 1/102\n",
      "15/15 [==============================] - 1s 25ms/step - loss: 0.6894 - accuracy: 0.6374 - val_loss: 0.7012 - val_accuracy: 0.5877\n",
      "Epoch 2/102\n",
      "15/15 [==============================] - 0s 6ms/step - loss: 0.6818 - accuracy: 0.6374 - val_loss: 0.6963 - val_accuracy: 0.5877\n",
      "Epoch 3/102\n",
      "15/15 [==============================] - 0s 6ms/step - loss: 0.6763 - accuracy: 0.6374 - val_loss: 0.6907 - val_accuracy: 0.5877\n",
      "Epoch 4/102\n",
      "15/15 [==============================] - 0s 8ms/step - loss: 0.6716 - accuracy: 0.6374 - val_loss: 0.6846 - val_accuracy: 0.5877\n",
      "Epoch 5/102\n",
      "15/15 [==============================] - 0s 6ms/step - loss: 0.6655 - accuracy: 0.6374 - val_loss: 0.6786 - val_accuracy: 0.5877\n",
      "Epoch 6/102\n",
      "15/15 [==============================] - 0s 6ms/step - loss: 0.6590 - accuracy: 0.6374 - val_loss: 0.6721 - val_accuracy: 0.5877\n",
      "Epoch 7/102\n",
      "15/15 [==============================] - 0s 5ms/step - loss: 0.6522 - accuracy: 0.6374 - val_loss: 0.6637 - val_accuracy: 0.5877\n",
      "Epoch 8/102\n",
      "15/15 [==============================] - 0s 6ms/step - loss: 0.6449 - accuracy: 0.6374 - val_loss: 0.6554 - val_accuracy: 0.5877\n",
      "Epoch 9/102\n",
      "15/15 [==============================] - 0s 5ms/step - loss: 0.6369 - accuracy: 0.6374 - val_loss: 0.6464 - val_accuracy: 0.5877\n",
      "Epoch 10/102\n",
      "15/15 [==============================] - 0s 5ms/step - loss: 0.6292 - accuracy: 0.6396 - val_loss: 0.6366 - val_accuracy: 0.6316\n",
      "Epoch 11/102\n",
      "15/15 [==============================] - 0s 5ms/step - loss: 0.6196 - accuracy: 0.6462 - val_loss: 0.6255 - val_accuracy: 0.6667\n",
      "Epoch 12/102\n",
      "15/15 [==============================] - 0s 6ms/step - loss: 0.6096 - accuracy: 0.6835 - val_loss: 0.6135 - val_accuracy: 0.7807\n",
      "Epoch 13/102\n",
      "15/15 [==============================] - 0s 5ms/step - loss: 0.5979 - accuracy: 0.7231 - val_loss: 0.5988 - val_accuracy: 0.8158\n",
      "Epoch 14/102\n",
      "15/15 [==============================] - 0s 6ms/step - loss: 0.5846 - accuracy: 0.7209 - val_loss: 0.5830 - val_accuracy: 0.8158\n",
      "Epoch 15/102\n",
      "15/15 [==============================] - 0s 5ms/step - loss: 0.5707 - accuracy: 0.7451 - val_loss: 0.5669 - val_accuracy: 0.8860\n",
      "Epoch 16/102\n",
      "15/15 [==============================] - 0s 5ms/step - loss: 0.5557 - accuracy: 0.7868 - val_loss: 0.5486 - val_accuracy: 0.9035\n",
      "Epoch 17/102\n",
      "15/15 [==============================] - 0s 6ms/step - loss: 0.5386 - accuracy: 0.8132 - val_loss: 0.5292 - val_accuracy: 0.9123\n",
      "Epoch 18/102\n",
      "15/15 [==============================] - 0s 5ms/step - loss: 0.5217 - accuracy: 0.8176 - val_loss: 0.5097 - val_accuracy: 0.8947\n",
      "Epoch 19/102\n",
      "15/15 [==============================] - 0s 6ms/step - loss: 0.5043 - accuracy: 0.8374 - val_loss: 0.4905 - val_accuracy: 0.8860\n",
      "Epoch 20/102\n",
      "15/15 [==============================] - 0s 6ms/step - loss: 0.4853 - accuracy: 0.8374 - val_loss: 0.4687 - val_accuracy: 0.8860\n",
      "Epoch 21/102\n",
      "15/15 [==============================] - 0s 5ms/step - loss: 0.4660 - accuracy: 0.8593 - val_loss: 0.4526 - val_accuracy: 0.8684\n",
      "Epoch 22/102\n",
      "15/15 [==============================] - 0s 6ms/step - loss: 0.4497 - accuracy: 0.8593 - val_loss: 0.4286 - val_accuracy: 0.8772\n",
      "Epoch 23/102\n",
      "15/15 [==============================] - 0s 5ms/step - loss: 0.4295 - accuracy: 0.8725 - val_loss: 0.4163 - val_accuracy: 0.8772\n",
      "Epoch 24/102\n",
      "15/15 [==============================] - 0s 5ms/step - loss: 0.4117 - accuracy: 0.8769 - val_loss: 0.3940 - val_accuracy: 0.8772\n",
      "Epoch 25/102\n",
      "15/15 [==============================] - 0s 8ms/step - loss: 0.3936 - accuracy: 0.8747 - val_loss: 0.3733 - val_accuracy: 0.8772\n",
      "Epoch 26/102\n",
      "15/15 [==============================] - 0s 5ms/step - loss: 0.3770 - accuracy: 0.8769 - val_loss: 0.3576 - val_accuracy: 0.8860\n",
      "Epoch 27/102\n",
      "15/15 [==============================] - 0s 6ms/step - loss: 0.3596 - accuracy: 0.8857 - val_loss: 0.3408 - val_accuracy: 0.8772\n",
      "Epoch 28/102\n",
      "15/15 [==============================] - 0s 5ms/step - loss: 0.3452 - accuracy: 0.8923 - val_loss: 0.3281 - val_accuracy: 0.8772\n",
      "Epoch 29/102\n",
      "15/15 [==============================] - 0s 7ms/step - loss: 0.3303 - accuracy: 0.8945 - val_loss: 0.3138 - val_accuracy: 0.8772\n",
      "Epoch 30/102\n",
      "15/15 [==============================] - 0s 6ms/step - loss: 0.3175 - accuracy: 0.8923 - val_loss: 0.3006 - val_accuracy: 0.8772\n",
      "Epoch 31/102\n",
      "15/15 [==============================] - 0s 5ms/step - loss: 0.3048 - accuracy: 0.9011 - val_loss: 0.2948 - val_accuracy: 0.8772\n",
      "Epoch 32/102\n",
      "15/15 [==============================] - 0s 6ms/step - loss: 0.2941 - accuracy: 0.9077 - val_loss: 0.2829 - val_accuracy: 0.8772\n",
      "Epoch 33/102\n",
      "15/15 [==============================] - 0s 5ms/step - loss: 0.2845 - accuracy: 0.9055 - val_loss: 0.2707 - val_accuracy: 0.8860\n",
      "Epoch 34/102\n",
      "15/15 [==============================] - 0s 6ms/step - loss: 0.2743 - accuracy: 0.9033 - val_loss: 0.2737 - val_accuracy: 0.8860\n",
      "Epoch 35/102\n",
      "15/15 [==============================] - 0s 7ms/step - loss: 0.2660 - accuracy: 0.9055 - val_loss: 0.2554 - val_accuracy: 0.8860\n",
      "Epoch 36/102\n",
      "15/15 [==============================] - 0s 5ms/step - loss: 0.2591 - accuracy: 0.9033 - val_loss: 0.2507 - val_accuracy: 0.8860\n",
      "Epoch 37/102\n",
      "15/15 [==============================] - 0s 7ms/step - loss: 0.2515 - accuracy: 0.9099 - val_loss: 0.2369 - val_accuracy: 0.9035\n",
      "Epoch 38/102\n",
      "15/15 [==============================] - 0s 6ms/step - loss: 0.2449 - accuracy: 0.9121 - val_loss: 0.2424 - val_accuracy: 0.8947\n",
      "Epoch 39/102\n",
      "15/15 [==============================] - 0s 6ms/step - loss: 0.2381 - accuracy: 0.9165 - val_loss: 0.2325 - val_accuracy: 0.8947\n",
      "Epoch 40/102\n",
      "15/15 [==============================] - 0s 6ms/step - loss: 0.2324 - accuracy: 0.9209 - val_loss: 0.2249 - val_accuracy: 0.9035\n",
      "Epoch 41/102\n",
      "15/15 [==============================] - 0s 6ms/step - loss: 0.2292 - accuracy: 0.9187 - val_loss: 0.2228 - val_accuracy: 0.9035\n",
      "Epoch 42/102\n",
      "15/15 [==============================] - 0s 5ms/step - loss: 0.2220 - accuracy: 0.9187 - val_loss: 0.2176 - val_accuracy: 0.9123\n",
      "Epoch 43/102\n",
      "15/15 [==============================] - 0s 6ms/step - loss: 0.2187 - accuracy: 0.9209 - val_loss: 0.2162 - val_accuracy: 0.9035\n",
      "Epoch 44/102\n",
      "15/15 [==============================] - 0s 5ms/step - loss: 0.2139 - accuracy: 0.9209 - val_loss: 0.2113 - val_accuracy: 0.9123\n",
      "Epoch 45/102\n",
      "15/15 [==============================] - ETA: 0s - loss: 0.2213 - accuracy: 0.96 - 0s 7ms/step - loss: 0.2112 - accuracy: 0.9209 - val_loss: 0.2024 - val_accuracy: 0.9035\n",
      "Epoch 46/102\n",
      "15/15 [==============================] - 0s 6ms/step - loss: 0.2057 - accuracy: 0.9275 - val_loss: 0.2123 - val_accuracy: 0.9035\n",
      "Epoch 47/102\n",
      "15/15 [==============================] - 0s 7ms/step - loss: 0.2046 - accuracy: 0.9209 - val_loss: 0.2027 - val_accuracy: 0.9123\n",
      "Epoch 48/102\n",
      "15/15 [==============================] - 0s 7ms/step - loss: 0.2002 - accuracy: 0.9209 - val_loss: 0.1983 - val_accuracy: 0.9123\n",
      "Epoch 49/102\n",
      "15/15 [==============================] - 0s 5ms/step - loss: 0.1972 - accuracy: 0.9319 - val_loss: 0.1998 - val_accuracy: 0.9123\n",
      "Epoch 50/102\n",
      "15/15 [==============================] - 0s 7ms/step - loss: 0.1939 - accuracy: 0.9253 - val_loss: 0.1913 - val_accuracy: 0.9211\n",
      "Epoch 51/102\n",
      "15/15 [==============================] - 0s 7ms/step - loss: 0.1928 - accuracy: 0.9253 - val_loss: 0.1930 - val_accuracy: 0.9123\n",
      "Epoch 52/102\n",
      "15/15 [==============================] - 0s 6ms/step - loss: 0.1907 - accuracy: 0.9319 - val_loss: 0.1925 - val_accuracy: 0.9123\n",
      "Epoch 53/102\n",
      "15/15 [==============================] - 0s 6ms/step - loss: 0.1889 - accuracy: 0.9341 - val_loss: 0.1835 - val_accuracy: 0.9035\n",
      "Epoch 54/102\n",
      "15/15 [==============================] - 0s 6ms/step - loss: 0.1846 - accuracy: 0.9341 - val_loss: 0.1928 - val_accuracy: 0.9123\n",
      "Epoch 55/102\n",
      "15/15 [==============================] - 0s 5ms/step - loss: 0.1851 - accuracy: 0.9341 - val_loss: 0.1832 - val_accuracy: 0.9211\n",
      "Epoch 56/102\n",
      "15/15 [==============================] - 0s 6ms/step - loss: 0.1863 - accuracy: 0.9275 - val_loss: 0.1779 - val_accuracy: 0.9035\n",
      "Epoch 57/102\n",
      "15/15 [==============================] - 0s 6ms/step - loss: 0.1887 - accuracy: 0.9209 - val_loss: 0.1851 - val_accuracy: 0.9211\n",
      "Epoch 58/102\n"
     ]
    },
    {
     "name": "stdout",
     "output_type": "stream",
     "text": [
      "15/15 [==============================] - 0s 8ms/step - loss: 0.1785 - accuracy: 0.9341 - val_loss: 0.1744 - val_accuracy: 0.9035\n",
      "Epoch 59/102\n",
      "15/15 [==============================] - 0s 10ms/step - loss: 0.1771 - accuracy: 0.9319 - val_loss: 0.1809 - val_accuracy: 0.9211\n",
      "Epoch 60/102\n",
      "15/15 [==============================] - 0s 9ms/step - loss: 0.1752 - accuracy: 0.9385 - val_loss: 0.1745 - val_accuracy: 0.9035\n",
      "Epoch 61/102\n",
      "15/15 [==============================] - 0s 9ms/step - loss: 0.1742 - accuracy: 0.9385 - val_loss: 0.1755 - val_accuracy: 0.9035\n",
      "Epoch 62/102\n",
      "15/15 [==============================] - 0s 6ms/step - loss: 0.1732 - accuracy: 0.9385 - val_loss: 0.1731 - val_accuracy: 0.9035\n",
      "Epoch 63/102\n",
      "15/15 [==============================] - 0s 6ms/step - loss: 0.1721 - accuracy: 0.9341 - val_loss: 0.1707 - val_accuracy: 0.9123\n",
      "Epoch 64/102\n",
      "15/15 [==============================] - 0s 6ms/step - loss: 0.1702 - accuracy: 0.9407 - val_loss: 0.1736 - val_accuracy: 0.9035\n",
      "Epoch 65/102\n",
      "15/15 [==============================] - 0s 6ms/step - loss: 0.1694 - accuracy: 0.9407 - val_loss: 0.1713 - val_accuracy: 0.9035\n",
      "Epoch 66/102\n",
      "15/15 [==============================] - 0s 6ms/step - loss: 0.1680 - accuracy: 0.9385 - val_loss: 0.1693 - val_accuracy: 0.9123\n",
      "Epoch 67/102\n",
      "15/15 [==============================] - 0s 5ms/step - loss: 0.1672 - accuracy: 0.9385 - val_loss: 0.1677 - val_accuracy: 0.9123\n",
      "Epoch 68/102\n",
      "15/15 [==============================] - 0s 6ms/step - loss: 0.1663 - accuracy: 0.9407 - val_loss: 0.1696 - val_accuracy: 0.9035\n",
      "Epoch 69/102\n",
      "15/15 [==============================] - 0s 5ms/step - loss: 0.1645 - accuracy: 0.9407 - val_loss: 0.1656 - val_accuracy: 0.8947\n",
      "Epoch 70/102\n",
      "15/15 [==============================] - 0s 6ms/step - loss: 0.1676 - accuracy: 0.9385 - val_loss: 0.1667 - val_accuracy: 0.9123\n",
      "Epoch 71/102\n",
      "15/15 [==============================] - 0s 6ms/step - loss: 0.1638 - accuracy: 0.9407 - val_loss: 0.1650 - val_accuracy: 0.9035\n",
      "Epoch 72/102\n",
      "15/15 [==============================] - 0s 5ms/step - loss: 0.1633 - accuracy: 0.9385 - val_loss: 0.1646 - val_accuracy: 0.9035\n",
      "Epoch 73/102\n",
      "15/15 [==============================] - 0s 5ms/step - loss: 0.1635 - accuracy: 0.9407 - val_loss: 0.1653 - val_accuracy: 0.9123\n",
      "Epoch 74/102\n",
      "15/15 [==============================] - 0s 6ms/step - loss: 0.1634 - accuracy: 0.9363 - val_loss: 0.1631 - val_accuracy: 0.8947\n",
      "Epoch 75/102\n",
      "15/15 [==============================] - ETA: 0s - loss: 0.2902 - accuracy: 0.87 - 0s 6ms/step - loss: 0.1619 - accuracy: 0.9385 - val_loss: 0.1669 - val_accuracy: 0.9035\n",
      "Epoch 76/102\n",
      "15/15 [==============================] - 0s 5ms/step - loss: 0.1616 - accuracy: 0.9341 - val_loss: 0.1635 - val_accuracy: 0.9035\n",
      "Epoch 77/102\n",
      "15/15 [==============================] - 0s 6ms/step - loss: 0.1612 - accuracy: 0.9385 - val_loss: 0.1621 - val_accuracy: 0.8947\n",
      "Epoch 78/102\n",
      "15/15 [==============================] - 0s 6ms/step - loss: 0.1594 - accuracy: 0.9407 - val_loss: 0.1636 - val_accuracy: 0.9123\n",
      "Epoch 79/102\n",
      "15/15 [==============================] - 0s 5ms/step - loss: 0.1596 - accuracy: 0.9429 - val_loss: 0.1614 - val_accuracy: 0.8947\n",
      "Epoch 80/102\n",
      "15/15 [==============================] - 0s 5ms/step - loss: 0.1585 - accuracy: 0.9451 - val_loss: 0.1621 - val_accuracy: 0.9035\n",
      "Epoch 81/102\n",
      "15/15 [==============================] - 0s 5ms/step - loss: 0.1588 - accuracy: 0.9407 - val_loss: 0.1614 - val_accuracy: 0.9035\n",
      "Epoch 82/102\n",
      "15/15 [==============================] - 0s 5ms/step - loss: 0.1580 - accuracy: 0.9385 - val_loss: 0.1617 - val_accuracy: 0.9035\n",
      "Epoch 83/102\n",
      "15/15 [==============================] - 0s 6ms/step - loss: 0.1591 - accuracy: 0.9407 - val_loss: 0.1600 - val_accuracy: 0.8947\n",
      "Epoch 84/102\n",
      "15/15 [==============================] - 0s 5ms/step - loss: 0.1565 - accuracy: 0.9429 - val_loss: 0.1605 - val_accuracy: 0.9035\n",
      "Epoch 85/102\n",
      "15/15 [==============================] - 0s 5ms/step - loss: 0.1560 - accuracy: 0.9429 - val_loss: 0.1598 - val_accuracy: 0.9035\n",
      "Epoch 86/102\n",
      "15/15 [==============================] - 0s 6ms/step - loss: 0.1556 - accuracy: 0.9429 - val_loss: 0.1597 - val_accuracy: 0.9035\n",
      "Epoch 87/102\n",
      "15/15 [==============================] - 0s 5ms/step - loss: 0.1567 - accuracy: 0.9429 - val_loss: 0.1598 - val_accuracy: 0.9035\n",
      "Epoch 88/102\n",
      "15/15 [==============================] - 0s 5ms/step - loss: 0.1559 - accuracy: 0.9407 - val_loss: 0.1593 - val_accuracy: 0.9035\n",
      "Epoch 89/102\n",
      "15/15 [==============================] - 0s 6ms/step - loss: 0.1546 - accuracy: 0.9429 - val_loss: 0.1589 - val_accuracy: 0.8947\n",
      "Epoch 90/102\n",
      "15/15 [==============================] - 0s 5ms/step - loss: 0.1564 - accuracy: 0.9451 - val_loss: 0.1586 - val_accuracy: 0.8947\n",
      "Epoch 91/102\n",
      "15/15 [==============================] - 0s 6ms/step - loss: 0.1545 - accuracy: 0.9407 - val_loss: 0.1586 - val_accuracy: 0.8947\n",
      "Epoch 92/102\n",
      "15/15 [==============================] - 0s 5ms/step - loss: 0.1538 - accuracy: 0.9407 - val_loss: 0.1585 - val_accuracy: 0.8947\n",
      "Epoch 93/102\n",
      "15/15 [==============================] - 0s 6ms/step - loss: 0.1542 - accuracy: 0.9385 - val_loss: 0.1585 - val_accuracy: 0.9035\n",
      "Epoch 94/102\n",
      "15/15 [==============================] - 0s 6ms/step - loss: 0.1544 - accuracy: 0.9429 - val_loss: 0.1583 - val_accuracy: 0.9035\n",
      "Epoch 95/102\n",
      "15/15 [==============================] - 0s 6ms/step - loss: 0.1535 - accuracy: 0.9385 - val_loss: 0.1582 - val_accuracy: 0.8947\n",
      "Epoch 96/102\n",
      "15/15 [==============================] - 0s 5ms/step - loss: 0.1524 - accuracy: 0.9429 - val_loss: 0.1583 - val_accuracy: 0.9035\n",
      "Epoch 97/102\n",
      "15/15 [==============================] - 0s 5ms/step - loss: 0.1531 - accuracy: 0.9407 - val_loss: 0.1581 - val_accuracy: 0.9035\n",
      "Epoch 98/102\n",
      "15/15 [==============================] - 0s 5ms/step - loss: 0.1522 - accuracy: 0.9429 - val_loss: 0.1583 - val_accuracy: 0.9035\n",
      "Epoch 99/102\n",
      "15/15 [==============================] - 0s 5ms/step - loss: 0.1534 - accuracy: 0.9385 - val_loss: 0.1580 - val_accuracy: 0.9035\n",
      "Epoch 100/102\n",
      "15/15 [==============================] - 0s 5ms/step - loss: 0.1514 - accuracy: 0.9385 - val_loss: 0.1590 - val_accuracy: 0.9123\n",
      "Epoch 101/102\n",
      "15/15 [==============================] - 0s 6ms/step - loss: 0.1536 - accuracy: 0.9473 - val_loss: 0.1578 - val_accuracy: 0.9035\n",
      "Epoch 102/102\n",
      "15/15 [==============================] - 0s 5ms/step - loss: 0.1522 - accuracy: 0.9363 - val_loss: 0.1579 - val_accuracy: 0.9035\n"
     ]
    }
   ],
   "source": [
    "history_2a=model_2a.fit(X_train,y_train,validation_data=(X_test,y_test),epochs=102)"
   ]
  },
  {
   "cell_type": "code",
   "execution_count": 46,
   "id": "3fa62d15",
   "metadata": {},
   "outputs": [
    {
     "data": {
      "text/plain": [
       "Text(0.5, 1.0, 'Training and validation loss')"
      ]
     },
     "execution_count": 46,
     "metadata": {},
     "output_type": "execute_result"
    },
    {
     "data": {
      "image/png": "[encoded data removed]",
      "text/plain": [
       "<Figure size 432x288 with 1 Axes>"
      ]
     },
     "metadata": {
      "needs_background": "light"
     },
     "output_type": "display_data"
    },
    {
     "data": {
      "image/png": "[encoded data removed]",
      "text/plain": [
       "<Figure size 432x288 with 1 Axes>"
      ]
     },
     "metadata": {
      "needs_background": "light"
     },
     "output_type": "display_data"
    }
   ],
   "source": [
    "acc=history_2a.history['accuracy']\n",
    "val_acc=history_2a.history['val_accuracy']\n",
    "loss=history_2a.history['loss']\n",
    "val_loss=history_2a.history['val_loss']\n",
    "\n",
    "epochs=range(len(acc)) # Get number of epochs\n",
    "\n",
    "#------------------------------------------------\n",
    "# Plot training and validation accuracy per epoch\n",
    "#------------------------------------------------\n",
    "plt.plot(epochs, acc, 'r', \"Training Accuracy\")\n",
    "plt.plot(epochs, val_acc, 'b', \"Validation Accuracy\")\n",
    "plt.title('Training and validation accuracy')\n",
    "plt.figure()\n",
    "\n",
    "#------------------------------------------------\n",
    "# Plot training and validation loss per epoch\n",
    "#------------------------------------------------\n",
    "plt.plot(epochs, loss, 'r', \"Training Loss\")\n",
    "plt.plot(epochs, val_loss, 'b', \"Validation Loss\")\n",
    "\n",
    "\n",
    "plt.title('Training and validation loss')"
   ]
  },
  {
   "cell_type": "code",
   "execution_count": 47,
   "id": "4154539f",
   "metadata": {},
   "outputs": [],
   "source": [
    "model_2c=tf.keras.Sequential([\n",
    "    tf.keras.layers.Dense(10,activation='softmax'),\n",
    "    tf.keras.layers.Dense(20,activation='tanh'),\n",
    "    tf.keras.layers.Dense(1,activation='relu')\n",
    "])"
   ]
  },
  {
   "cell_type": "code",
   "execution_count": 48,
   "id": "5eb3a2bb",
   "metadata": {},
   "outputs": [],
   "source": [
    "model_2c.compile(optimizer='SGD',loss='binary_crossentropy',metrics=['accuracy'])"
   ]
  },
  {
   "cell_type": "code",
   "execution_count": 49,
   "id": "00700d70",
   "metadata": {},
   "outputs": [
    {
     "name": "stdout",
     "output_type": "stream",
     "text": [
      "Epoch 1/200\n",
      "15/15 [==============================] - 1s 25ms/step - loss: 9.8313 - accuracy: 0.3626 - val_loss: 9.0655 - val_accuracy: 0.4123\n",
      "Epoch 2/200\n",
      "15/15 [==============================] - 0s 5ms/step - loss: 9.8313 - accuracy: 0.3626 - val_loss: 9.0655 - val_accuracy: 0.4123\n",
      "Epoch 3/200\n",
      "15/15 [==============================] - 0s 5ms/step - loss: 9.8313 - accuracy: 0.3626 - val_loss: 9.0655 - val_accuracy: 0.4123\n",
      "Epoch 4/200\n",
      "15/15 [==============================] - 0s 5ms/step - loss: 9.8313 - accuracy: 0.3626 - val_loss: 9.0655 - val_accuracy: 0.4123\n",
      "Epoch 5/200\n",
      "15/15 [==============================] - 0s 5ms/step - loss: 9.8313 - accuracy: 0.3626 - val_loss: 9.0655 - val_accuracy: 0.4123\n",
      "Epoch 6/200\n",
      "15/15 [==============================] - 0s 6ms/step - loss: 9.8313 - accuracy: 0.3626 - val_loss: 9.0655 - val_accuracy: 0.4123\n",
      "Epoch 7/200\n",
      "15/15 [==============================] - 0s 6ms/step - loss: 9.8313 - accuracy: 0.3626 - val_loss: 9.0655 - val_accuracy: 0.4123\n",
      "Epoch 8/200\n",
      "15/15 [==============================] - 0s 5ms/step - loss: 9.8313 - accuracy: 0.3626 - val_loss: 9.0655 - val_accuracy: 0.4123\n",
      "Epoch 9/200\n",
      "15/15 [==============================] - 0s 5ms/step - loss: 9.8313 - accuracy: 0.3626 - val_loss: 9.0655 - val_accuracy: 0.4123\n",
      "Epoch 10/200\n",
      "15/15 [==============================] - 0s 6ms/step - loss: 9.8313 - accuracy: 0.3626 - val_loss: 9.0655 - val_accuracy: 0.4123\n",
      "Epoch 11/200\n",
      "15/15 [==============================] - 0s 8ms/step - loss: 9.8313 - accuracy: 0.3626 - val_loss: 9.0655 - val_accuracy: 0.4123\n",
      "Epoch 12/200\n",
      "15/15 [==============================] - 0s 7ms/step - loss: 9.8313 - accuracy: 0.3626 - val_loss: 9.0655 - val_accuracy: 0.4123\n",
      "Epoch 13/200\n",
      "15/15 [==============================] - 0s 6ms/step - loss: 9.8313 - accuracy: 0.3626 - val_loss: 9.0655 - val_accuracy: 0.4123\n",
      "Epoch 14/200\n",
      "15/15 [==============================] - 0s 6ms/step - loss: 9.8313 - accuracy: 0.3626 - val_loss: 9.0655 - val_accuracy: 0.4123\n",
      "Epoch 15/200\n",
      "15/15 [==============================] - 0s 6ms/step - loss: 9.8313 - accuracy: 0.3626 - val_loss: 9.0655 - val_accuracy: 0.4123\n",
      "Epoch 16/200\n",
      "15/15 [==============================] - 0s 6ms/step - loss: 9.8313 - accuracy: 0.3626 - val_loss: 9.0655 - val_accuracy: 0.4123\n",
      "Epoch 17/200\n",
      "15/15 [==============================] - 0s 6ms/step - loss: 9.8313 - accuracy: 0.3626 - val_loss: 9.0655 - val_accuracy: 0.4123\n",
      "Epoch 18/200\n",
      "15/15 [==============================] - 0s 6ms/step - loss: 9.8313 - accuracy: 0.3626 - val_loss: 9.0655 - val_accuracy: 0.4123\n",
      "Epoch 19/200\n",
      "15/15 [==============================] - 0s 6ms/step - loss: 9.8313 - accuracy: 0.3626 - val_loss: 9.0655 - val_accuracy: 0.4123\n",
      "Epoch 20/200\n",
      "15/15 [==============================] - 0s 5ms/step - loss: 9.8313 - accuracy: 0.3626 - val_loss: 9.0655 - val_accuracy: 0.4123\n",
      "Epoch 21/200\n",
      "15/15 [==============================] - 0s 6ms/step - loss: 9.8313 - accuracy: 0.3626 - val_loss: 9.0655 - val_accuracy: 0.4123\n",
      "Epoch 22/200\n",
      "15/15 [==============================] - 0s 6ms/step - loss: 9.8313 - accuracy: 0.3626 - val_loss: 9.0655 - val_accuracy: 0.4123\n",
      "Epoch 23/200\n",
      "15/15 [==============================] - 0s 6ms/step - loss: 9.8313 - accuracy: 0.3626 - val_loss: 9.0655 - val_accuracy: 0.4123\n",
      "Epoch 24/200\n",
      "15/15 [==============================] - 0s 6ms/step - loss: 9.8313 - accuracy: 0.3626 - val_loss: 9.0655 - val_accuracy: 0.4123\n",
      "Epoch 25/200\n",
      "15/15 [==============================] - 0s 6ms/step - loss: 9.8313 - accuracy: 0.3626 - val_loss: 9.0655 - val_accuracy: 0.4123\n",
      "Epoch 26/200\n",
      "15/15 [==============================] - 0s 5ms/step - loss: 9.8313 - accuracy: 0.3626 - val_loss: 9.0655 - val_accuracy: 0.4123\n",
      "Epoch 27/200\n",
      "15/15 [==============================] - 0s 6ms/step - loss: 9.8313 - accuracy: 0.3626 - val_loss: 9.0655 - val_accuracy: 0.4123\n",
      "Epoch 28/200\n",
      "15/15 [==============================] - 0s 5ms/step - loss: 9.8313 - accuracy: 0.3626 - val_loss: 9.0655 - val_accuracy: 0.4123\n",
      "Epoch 29/200\n",
      "15/15 [==============================] - 0s 5ms/step - loss: 9.8313 - accuracy: 0.3626 - val_loss: 9.0655 - val_accuracy: 0.4123\n",
      "Epoch 30/200\n",
      "15/15 [==============================] - 0s 6ms/step - loss: 9.8313 - accuracy: 0.3626 - val_loss: 9.0655 - val_accuracy: 0.4123\n",
      "Epoch 31/200\n",
      "15/15 [==============================] - 0s 5ms/step - loss: 9.8313 - accuracy: 0.3626 - val_loss: 9.0655 - val_accuracy: 0.4123\n",
      "Epoch 32/200\n",
      "15/15 [==============================] - 0s 6ms/step - loss: 9.8313 - accuracy: 0.3626 - val_loss: 9.0655 - val_accuracy: 0.4123\n",
      "Epoch 33/200\n",
      "15/15 [==============================] - 0s 6ms/step - loss: 9.8313 - accuracy: 0.3626 - val_loss: 9.0655 - val_accuracy: 0.4123\n",
      "Epoch 34/200\n",
      "15/15 [==============================] - 0s 5ms/step - loss: 9.8313 - accuracy: 0.3626 - val_loss: 9.0655 - val_accuracy: 0.4123\n",
      "Epoch 35/200\n",
      "15/15 [==============================] - 0s 5ms/step - loss: 9.8313 - accuracy: 0.3626 - val_loss: 9.0655 - val_accuracy: 0.4123\n",
      "Epoch 36/200\n",
      "15/15 [==============================] - 0s 6ms/step - loss: 9.8313 - accuracy: 0.3626 - val_loss: 9.0655 - val_accuracy: 0.4123\n",
      "Epoch 37/200\n",
      "15/15 [==============================] - 0s 6ms/step - loss: 9.8313 - accuracy: 0.3626 - val_loss: 9.0655 - val_accuracy: 0.4123\n",
      "Epoch 38/200\n",
      "15/15 [==============================] - 0s 6ms/step - loss: 9.8313 - accuracy: 0.3626 - val_loss: 9.0655 - val_accuracy: 0.4123\n",
      "Epoch 39/200\n",
      "15/15 [==============================] - 0s 5ms/step - loss: 9.8313 - accuracy: 0.3626 - val_loss: 9.0655 - val_accuracy: 0.4123\n",
      "Epoch 40/200\n",
      "15/15 [==============================] - 0s 5ms/step - loss: 9.8313 - accuracy: 0.3626 - val_loss: 9.0655 - val_accuracy: 0.4123\n",
      "Epoch 41/200\n",
      "15/15 [==============================] - 0s 5ms/step - loss: 9.8313 - accuracy: 0.3626 - val_loss: 9.0655 - val_accuracy: 0.4123\n",
      "Epoch 42/200\n",
      "15/15 [==============================] - 0s 5ms/step - loss: 9.8313 - accuracy: 0.3626 - val_loss: 9.0655 - val_accuracy: 0.4123\n",
      "Epoch 43/200\n",
      "15/15 [==============================] - 0s 5ms/step - loss: 9.8313 - accuracy: 0.3626 - val_loss: 9.0655 - val_accuracy: 0.4123\n",
      "Epoch 44/200\n",
      "15/15 [==============================] - 0s 5ms/step - loss: 9.8313 - accuracy: 0.3626 - val_loss: 9.0655 - val_accuracy: 0.4123\n",
      "Epoch 45/200\n",
      "15/15 [==============================] - 0s 5ms/step - loss: 9.8313 - accuracy: 0.3626 - val_loss: 9.0655 - val_accuracy: 0.4123\n",
      "Epoch 46/200\n",
      "15/15 [==============================] - 0s 5ms/step - loss: 9.8313 - accuracy: 0.3626 - val_loss: 9.0655 - val_accuracy: 0.4123\n",
      "Epoch 47/200\n",
      "15/15 [==============================] - 0s 6ms/step - loss: 9.8313 - accuracy: 0.3626 - val_loss: 9.0655 - val_accuracy: 0.4123\n",
      "Epoch 48/200\n",
      "15/15 [==============================] - 0s 6ms/step - loss: 9.8313 - accuracy: 0.3626 - val_loss: 9.0655 - val_accuracy: 0.4123\n",
      "Epoch 49/200\n",
      "15/15 [==============================] - 0s 5ms/step - loss: 9.8313 - accuracy: 0.3626 - val_loss: 9.0655 - val_accuracy: 0.4123\n",
      "Epoch 50/200\n",
      "15/15 [==============================] - 0s 5ms/step - loss: 9.8313 - accuracy: 0.3626 - val_loss: 9.0655 - val_accuracy: 0.4123\n",
      "Epoch 51/200\n",
      "15/15 [==============================] - 0s 5ms/step - loss: 9.8313 - accuracy: 0.3626 - val_loss: 9.0655 - val_accuracy: 0.4123\n",
      "Epoch 52/200\n",
      "15/15 [==============================] - 0s 5ms/step - loss: 9.8313 - accuracy: 0.3626 - val_loss: 9.0655 - val_accuracy: 0.4123\n",
      "Epoch 53/200\n",
      "15/15 [==============================] - 0s 5ms/step - loss: 9.8313 - accuracy: 0.3626 - val_loss: 9.0655 - val_accuracy: 0.4123\n",
      "Epoch 54/200\n",
      "15/15 [==============================] - 0s 5ms/step - loss: 9.8313 - accuracy: 0.3626 - val_loss: 9.0655 - val_accuracy: 0.4123\n",
      "Epoch 55/200\n",
      "15/15 [==============================] - 0s 5ms/step - loss: 9.8313 - accuracy: 0.3626 - val_loss: 9.0655 - val_accuracy: 0.4123\n",
      "Epoch 56/200\n",
      "15/15 [==============================] - 0s 6ms/step - loss: 9.8313 - accuracy: 0.3626 - val_loss: 9.0655 - val_accuracy: 0.4123\n",
      "Epoch 57/200\n",
      "15/15 [==============================] - 0s 5ms/step - loss: 9.8313 - accuracy: 0.3626 - val_loss: 9.0655 - val_accuracy: 0.4123\n",
      "Epoch 58/200\n",
      "15/15 [==============================] - 0s 5ms/step - loss: 9.8313 - accuracy: 0.3626 - val_loss: 9.0655 - val_accuracy: 0.4123\n"
     ]
    },
    {
     "name": "stdout",
     "output_type": "stream",
     "text": [
      "Epoch 59/200\n",
      "15/15 [==============================] - 0s 6ms/step - loss: 9.8313 - accuracy: 0.3626 - val_loss: 9.0655 - val_accuracy: 0.4123\n",
      "Epoch 60/200\n",
      "15/15 [==============================] - 0s 5ms/step - loss: 9.8313 - accuracy: 0.3626 - val_loss: 9.0655 - val_accuracy: 0.4123\n",
      "Epoch 61/200\n",
      "15/15 [==============================] - 0s 5ms/step - loss: 9.8313 - accuracy: 0.3626 - val_loss: 9.0655 - val_accuracy: 0.4123\n",
      "Epoch 62/200\n",
      "15/15 [==============================] - 0s 5ms/step - loss: 9.8313 - accuracy: 0.3626 - val_loss: 9.0655 - val_accuracy: 0.4123\n",
      "Epoch 63/200\n",
      "15/15 [==============================] - 0s 5ms/step - loss: 9.8313 - accuracy: 0.3626 - val_loss: 9.0655 - val_accuracy: 0.4123\n",
      "Epoch 64/200\n",
      "15/15 [==============================] - 0s 5ms/step - loss: 9.8313 - accuracy: 0.3626 - val_loss: 9.0655 - val_accuracy: 0.4123\n",
      "Epoch 65/200\n",
      "15/15 [==============================] - 0s 5ms/step - loss: 9.8313 - accuracy: 0.3626 - val_loss: 9.0655 - val_accuracy: 0.4123\n",
      "Epoch 66/200\n",
      "15/15 [==============================] - 0s 5ms/step - loss: 9.8313 - accuracy: 0.3626 - val_loss: 9.0655 - val_accuracy: 0.4123\n",
      "Epoch 67/200\n",
      "15/15 [==============================] - 0s 5ms/step - loss: 9.8313 - accuracy: 0.3626 - val_loss: 9.0655 - val_accuracy: 0.4123\n",
      "Epoch 68/200\n",
      "15/15 [==============================] - 0s 5ms/step - loss: 9.8313 - accuracy: 0.3626 - val_loss: 9.0655 - val_accuracy: 0.4123\n",
      "Epoch 69/200\n",
      "15/15 [==============================] - 0s 5ms/step - loss: 9.8313 - accuracy: 0.3626 - val_loss: 9.0655 - val_accuracy: 0.4123\n",
      "Epoch 70/200\n",
      "15/15 [==============================] - 0s 5ms/step - loss: 9.8313 - accuracy: 0.3626 - val_loss: 9.0655 - val_accuracy: 0.4123\n",
      "Epoch 71/200\n",
      "15/15 [==============================] - 0s 5ms/step - loss: 9.8313 - accuracy: 0.3626 - val_loss: 9.0655 - val_accuracy: 0.4123\n",
      "Epoch 72/200\n",
      "15/15 [==============================] - 0s 6ms/step - loss: 9.8313 - accuracy: 0.3626 - val_loss: 9.0655 - val_accuracy: 0.4123\n",
      "Epoch 73/200\n",
      "15/15 [==============================] - 0s 6ms/step - loss: 9.8313 - accuracy: 0.3626 - val_loss: 9.0655 - val_accuracy: 0.4123\n",
      "Epoch 74/200\n",
      "15/15 [==============================] - 0s 6ms/step - loss: 9.8313 - accuracy: 0.3626 - val_loss: 9.0655 - val_accuracy: 0.4123\n",
      "Epoch 75/200\n",
      "15/15 [==============================] - 0s 5ms/step - loss: 9.8313 - accuracy: 0.3626 - val_loss: 9.0655 - val_accuracy: 0.4123\n",
      "Epoch 76/200\n",
      "15/15 [==============================] - 0s 5ms/step - loss: 9.8313 - accuracy: 0.3626 - val_loss: 9.0655 - val_accuracy: 0.4123\n",
      "Epoch 77/200\n",
      "15/15 [==============================] - 0s 5ms/step - loss: 9.8313 - accuracy: 0.3626 - val_loss: 9.0655 - val_accuracy: 0.4123\n",
      "Epoch 78/200\n",
      "15/15 [==============================] - 0s 6ms/step - loss: 9.8313 - accuracy: 0.3626 - val_loss: 9.0655 - val_accuracy: 0.4123\n",
      "Epoch 79/200\n",
      "15/15 [==============================] - 0s 5ms/step - loss: 9.8313 - accuracy: 0.3626 - val_loss: 9.0655 - val_accuracy: 0.4123\n",
      "Epoch 80/200\n",
      "15/15 [==============================] - 0s 6ms/step - loss: 9.8313 - accuracy: 0.3626 - val_loss: 9.0655 - val_accuracy: 0.4123\n",
      "Epoch 81/200\n",
      "15/15 [==============================] - 0s 5ms/step - loss: 9.8313 - accuracy: 0.3626 - val_loss: 9.0655 - val_accuracy: 0.4123\n",
      "Epoch 82/200\n",
      "15/15 [==============================] - 0s 5ms/step - loss: 9.8313 - accuracy: 0.3626 - val_loss: 9.0655 - val_accuracy: 0.4123\n",
      "Epoch 83/200\n",
      "15/15 [==============================] - 0s 5ms/step - loss: 9.8313 - accuracy: 0.3626 - val_loss: 9.0655 - val_accuracy: 0.4123\n",
      "Epoch 84/200\n",
      "15/15 [==============================] - 0s 6ms/step - loss: 9.8313 - accuracy: 0.3626 - val_loss: 9.0655 - val_accuracy: 0.4123\n",
      "Epoch 85/200\n",
      "15/15 [==============================] - 0s 6ms/step - loss: 9.8313 - accuracy: 0.3626 - val_loss: 9.0655 - val_accuracy: 0.4123\n",
      "Epoch 86/200\n",
      "15/15 [==============================] - 0s 6ms/step - loss: 9.8313 - accuracy: 0.3626 - val_loss: 9.0655 - val_accuracy: 0.4123\n",
      "Epoch 87/200\n",
      "15/15 [==============================] - 0s 5ms/step - loss: 9.8313 - accuracy: 0.3626 - val_loss: 9.0655 - val_accuracy: 0.4123\n",
      "Epoch 88/200\n",
      "15/15 [==============================] - 0s 6ms/step - loss: 9.8313 - accuracy: 0.3626 - val_loss: 9.0655 - val_accuracy: 0.4123\n",
      "Epoch 89/200\n",
      "15/15 [==============================] - 0s 7ms/step - loss: 9.8313 - accuracy: 0.3626 - val_loss: 9.0655 - val_accuracy: 0.4123\n",
      "Epoch 90/200\n",
      "15/15 [==============================] - 0s 6ms/step - loss: 9.8313 - accuracy: 0.3626 - val_loss: 9.0655 - val_accuracy: 0.4123\n",
      "Epoch 91/200\n",
      "15/15 [==============================] - 0s 6ms/step - loss: 9.8313 - accuracy: 0.3626 - val_loss: 9.0655 - val_accuracy: 0.4123\n",
      "Epoch 92/200\n",
      "15/15 [==============================] - 0s 5ms/step - loss: 9.8313 - accuracy: 0.3626 - val_loss: 9.0655 - val_accuracy: 0.4123\n",
      "Epoch 93/200\n",
      "15/15 [==============================] - 0s 5ms/step - loss: 9.8313 - accuracy: 0.3626 - val_loss: 9.0655 - val_accuracy: 0.4123\n",
      "Epoch 94/200\n",
      "15/15 [==============================] - 0s 5ms/step - loss: 9.8313 - accuracy: 0.3626 - val_loss: 9.0655 - val_accuracy: 0.4123\n",
      "Epoch 95/200\n",
      "15/15 [==============================] - 0s 6ms/step - loss: 9.8313 - accuracy: 0.3626 - val_loss: 9.0655 - val_accuracy: 0.4123\n",
      "Epoch 96/200\n",
      "15/15 [==============================] - 0s 5ms/step - loss: 9.8313 - accuracy: 0.3626 - val_loss: 9.0655 - val_accuracy: 0.4123\n",
      "Epoch 97/200\n",
      "15/15 [==============================] - 0s 6ms/step - loss: 9.8313 - accuracy: 0.3626 - val_loss: 9.0655 - val_accuracy: 0.4123\n",
      "Epoch 98/200\n",
      "15/15 [==============================] - 0s 7ms/step - loss: 9.8313 - accuracy: 0.3626 - val_loss: 9.0655 - val_accuracy: 0.4123\n",
      "Epoch 99/200\n",
      "15/15 [==============================] - 0s 5ms/step - loss: 9.8313 - accuracy: 0.3626 - val_loss: 9.0655 - val_accuracy: 0.4123\n",
      "Epoch 100/200\n",
      "15/15 [==============================] - 0s 5ms/step - loss: 9.8313 - accuracy: 0.3626 - val_loss: 9.0655 - val_accuracy: 0.4123\n",
      "Epoch 101/200\n",
      "15/15 [==============================] - 0s 6ms/step - loss: 9.8313 - accuracy: 0.3626 - val_loss: 9.0655 - val_accuracy: 0.4123\n",
      "Epoch 102/200\n",
      "15/15 [==============================] - 0s 6ms/step - loss: 9.8313 - accuracy: 0.3626 - val_loss: 9.0655 - val_accuracy: 0.4123\n",
      "Epoch 103/200\n",
      "15/15 [==============================] - 0s 5ms/step - loss: 9.8313 - accuracy: 0.3626 - val_loss: 9.0655 - val_accuracy: 0.4123\n",
      "Epoch 104/200\n",
      "15/15 [==============================] - 0s 6ms/step - loss: 9.8313 - accuracy: 0.3626 - val_loss: 9.0655 - val_accuracy: 0.4123\n",
      "Epoch 105/200\n",
      "15/15 [==============================] - 0s 6ms/step - loss: 9.8313 - accuracy: 0.3626 - val_loss: 9.0655 - val_accuracy: 0.4123\n",
      "Epoch 106/200\n",
      "15/15 [==============================] - 0s 6ms/step - loss: 9.8313 - accuracy: 0.3626 - val_loss: 9.0655 - val_accuracy: 0.4123\n",
      "Epoch 107/200\n",
      "15/15 [==============================] - 0s 6ms/step - loss: 9.8313 - accuracy: 0.3626 - val_loss: 9.0655 - val_accuracy: 0.4123\n",
      "Epoch 108/200\n",
      "15/15 [==============================] - 0s 5ms/step - loss: 9.8313 - accuracy: 0.3626 - val_loss: 9.0655 - val_accuracy: 0.4123\n",
      "Epoch 109/200\n",
      "15/15 [==============================] - 0s 5ms/step - loss: 9.8313 - accuracy: 0.3626 - val_loss: 9.0655 - val_accuracy: 0.4123\n",
      "Epoch 110/200\n",
      "15/15 [==============================] - 0s 5ms/step - loss: 9.8313 - accuracy: 0.3626 - val_loss: 9.0655 - val_accuracy: 0.4123\n",
      "Epoch 111/200\n",
      "15/15 [==============================] - 0s 5ms/step - loss: 9.8313 - accuracy: 0.3626 - val_loss: 9.0655 - val_accuracy: 0.4123\n",
      "Epoch 112/200\n",
      "15/15 [==============================] - 0s 5ms/step - loss: 9.8313 - accuracy: 0.3626 - val_loss: 9.0655 - val_accuracy: 0.4123\n",
      "Epoch 113/200\n",
      "15/15 [==============================] - 0s 6ms/step - loss: 9.8313 - accuracy: 0.3626 - val_loss: 9.0655 - val_accuracy: 0.4123\n",
      "Epoch 114/200\n",
      "15/15 [==============================] - 0s 6ms/step - loss: 9.8313 - accuracy: 0.3626 - val_loss: 9.0655 - val_accuracy: 0.4123\n",
      "Epoch 115/200\n",
      "15/15 [==============================] - 0s 6ms/step - loss: 9.8313 - accuracy: 0.3626 - val_loss: 9.0655 - val_accuracy: 0.4123\n",
      "Epoch 116/200\n"
     ]
    },
    {
     "name": "stdout",
     "output_type": "stream",
     "text": [
      "15/15 [==============================] - 0s 6ms/step - loss: 9.8313 - accuracy: 0.3626 - val_loss: 9.0655 - val_accuracy: 0.4123\n",
      "Epoch 117/200\n",
      "15/15 [==============================] - 0s 5ms/step - loss: 9.8313 - accuracy: 0.3626 - val_loss: 9.0655 - val_accuracy: 0.4123\n",
      "Epoch 118/200\n",
      "15/15 [==============================] - 0s 5ms/step - loss: 9.8313 - accuracy: 0.3626 - val_loss: 9.0655 - val_accuracy: 0.4123\n",
      "Epoch 119/200\n",
      "15/15 [==============================] - 0s 5ms/step - loss: 9.8313 - accuracy: 0.3626 - val_loss: 9.0655 - val_accuracy: 0.4123\n",
      "Epoch 120/200\n",
      "15/15 [==============================] - 0s 5ms/step - loss: 9.8313 - accuracy: 0.3626 - val_loss: 9.0655 - val_accuracy: 0.4123\n",
      "Epoch 121/200\n",
      "15/15 [==============================] - 0s 6ms/step - loss: 9.8313 - accuracy: 0.3626 - val_loss: 9.0655 - val_accuracy: 0.4123\n",
      "Epoch 122/200\n",
      "15/15 [==============================] - 0s 6ms/step - loss: 9.8313 - accuracy: 0.3626 - val_loss: 9.0655 - val_accuracy: 0.4123\n",
      "Epoch 123/200\n",
      "15/15 [==============================] - 0s 5ms/step - loss: 9.8313 - accuracy: 0.3626 - val_loss: 9.0655 - val_accuracy: 0.4123\n",
      "Epoch 124/200\n",
      "15/15 [==============================] - 0s 5ms/step - loss: 9.8313 - accuracy: 0.3626 - val_loss: 9.0655 - val_accuracy: 0.4123\n",
      "Epoch 125/200\n",
      "15/15 [==============================] - 0s 6ms/step - loss: 9.8313 - accuracy: 0.3626 - val_loss: 9.0655 - val_accuracy: 0.4123\n",
      "Epoch 126/200\n",
      "15/15 [==============================] - 0s 5ms/step - loss: 9.8313 - accuracy: 0.3626 - val_loss: 9.0655 - val_accuracy: 0.4123\n",
      "Epoch 127/200\n",
      "15/15 [==============================] - 0s 6ms/step - loss: 9.8313 - accuracy: 0.3626 - val_loss: 9.0655 - val_accuracy: 0.4123\n",
      "Epoch 128/200\n",
      "15/15 [==============================] - 0s 5ms/step - loss: 9.8313 - accuracy: 0.3626 - val_loss: 9.0655 - val_accuracy: 0.4123\n",
      "Epoch 129/200\n",
      "15/15 [==============================] - 0s 6ms/step - loss: 9.8313 - accuracy: 0.3626 - val_loss: 9.0655 - val_accuracy: 0.4123\n",
      "Epoch 130/200\n",
      "15/15 [==============================] - 0s 5ms/step - loss: 9.8313 - accuracy: 0.3626 - val_loss: 9.0655 - val_accuracy: 0.4123\n",
      "Epoch 131/200\n",
      "15/15 [==============================] - 0s 6ms/step - loss: 9.8313 - accuracy: 0.3626 - val_loss: 9.0655 - val_accuracy: 0.4123\n",
      "Epoch 132/200\n",
      "15/15 [==============================] - 0s 6ms/step - loss: 9.8313 - accuracy: 0.3626 - val_loss: 9.0655 - val_accuracy: 0.4123\n",
      "Epoch 133/200\n",
      "15/15 [==============================] - 0s 6ms/step - loss: 9.8313 - accuracy: 0.3626 - val_loss: 9.0655 - val_accuracy: 0.4123\n",
      "Epoch 134/200\n",
      "15/15 [==============================] - 0s 5ms/step - loss: 9.8313 - accuracy: 0.3626 - val_loss: 9.0655 - val_accuracy: 0.4123\n",
      "Epoch 135/200\n",
      "15/15 [==============================] - 0s 5ms/step - loss: 9.8313 - accuracy: 0.3626 - val_loss: 9.0655 - val_accuracy: 0.4123\n",
      "Epoch 136/200\n",
      "15/15 [==============================] - 0s 6ms/step - loss: 9.8313 - accuracy: 0.3626 - val_loss: 9.0655 - val_accuracy: 0.4123\n",
      "Epoch 137/200\n",
      "15/15 [==============================] - 0s 6ms/step - loss: 9.8313 - accuracy: 0.3626 - val_loss: 9.0655 - val_accuracy: 0.4123\n",
      "Epoch 138/200\n",
      "15/15 [==============================] - 0s 5ms/step - loss: 9.8313 - accuracy: 0.3626 - val_loss: 9.0655 - val_accuracy: 0.4123\n",
      "Epoch 139/200\n",
      "15/15 [==============================] - 0s 5ms/step - loss: 9.8313 - accuracy: 0.3626 - val_loss: 9.0655 - val_accuracy: 0.4123\n",
      "Epoch 140/200\n",
      "15/15 [==============================] - 0s 5ms/step - loss: 9.8313 - accuracy: 0.3626 - val_loss: 9.0655 - val_accuracy: 0.4123\n",
      "Epoch 141/200\n",
      "15/15 [==============================] - 0s 6ms/step - loss: 9.8313 - accuracy: 0.3626 - val_loss: 9.0655 - val_accuracy: 0.4123\n",
      "Epoch 142/200\n",
      "15/15 [==============================] - 0s 5ms/step - loss: 9.8313 - accuracy: 0.3626 - val_loss: 9.0655 - val_accuracy: 0.4123\n",
      "Epoch 143/200\n",
      "15/15 [==============================] - 0s 5ms/step - loss: 9.8313 - accuracy: 0.3626 - val_loss: 9.0655 - val_accuracy: 0.4123\n",
      "Epoch 144/200\n",
      "15/15 [==============================] - 0s 5ms/step - loss: 9.8313 - accuracy: 0.3626 - val_loss: 9.0655 - val_accuracy: 0.4123\n",
      "Epoch 145/200\n",
      "15/15 [==============================] - 0s 6ms/step - loss: 9.8313 - accuracy: 0.3626 - val_loss: 9.0655 - val_accuracy: 0.4123\n",
      "Epoch 146/200\n",
      "15/15 [==============================] - 0s 5ms/step - loss: 9.8313 - accuracy: 0.3626 - val_loss: 9.0655 - val_accuracy: 0.4123\n",
      "Epoch 147/200\n",
      "15/15 [==============================] - 0s 5ms/step - loss: 9.8313 - accuracy: 0.3626 - val_loss: 9.0655 - val_accuracy: 0.4123\n",
      "Epoch 148/200\n",
      "15/15 [==============================] - 0s 5ms/step - loss: 9.8313 - accuracy: 0.3626 - val_loss: 9.0655 - val_accuracy: 0.4123\n",
      "Epoch 149/200\n",
      "15/15 [==============================] - 0s 5ms/step - loss: 9.8313 - accuracy: 0.3626 - val_loss: 9.0655 - val_accuracy: 0.4123\n",
      "Epoch 150/200\n",
      "15/15 [==============================] - 0s 5ms/step - loss: 9.8313 - accuracy: 0.3626 - val_loss: 9.0655 - val_accuracy: 0.4123\n",
      "Epoch 151/200\n",
      "15/15 [==============================] - 0s 6ms/step - loss: 9.8313 - accuracy: 0.3626 - val_loss: 9.0655 - val_accuracy: 0.4123\n",
      "Epoch 152/200\n",
      "15/15 [==============================] - 0s 5ms/step - loss: 9.8313 - accuracy: 0.3626 - val_loss: 9.0655 - val_accuracy: 0.4123\n",
      "Epoch 153/200\n",
      "15/15 [==============================] - 0s 5ms/step - loss: 9.8313 - accuracy: 0.3626 - val_loss: 9.0655 - val_accuracy: 0.4123\n",
      "Epoch 154/200\n",
      "15/15 [==============================] - 0s 6ms/step - loss: 9.8313 - accuracy: 0.3626 - val_loss: 9.0655 - val_accuracy: 0.4123\n",
      "Epoch 155/200\n",
      "15/15 [==============================] - 0s 5ms/step - loss: 9.8313 - accuracy: 0.3626 - val_loss: 9.0655 - val_accuracy: 0.4123\n",
      "Epoch 156/200\n",
      "15/15 [==============================] - 0s 7ms/step - loss: 9.8313 - accuracy: 0.3626 - val_loss: 9.0655 - val_accuracy: 0.4123\n",
      "Epoch 157/200\n",
      "15/15 [==============================] - 0s 5ms/step - loss: 9.8313 - accuracy: 0.3626 - val_loss: 9.0655 - val_accuracy: 0.4123\n",
      "Epoch 158/200\n",
      "15/15 [==============================] - 0s 6ms/step - loss: 9.8313 - accuracy: 0.3626 - val_loss: 9.0655 - val_accuracy: 0.4123\n",
      "Epoch 159/200\n",
      "15/15 [==============================] - 0s 5ms/step - loss: 9.8313 - accuracy: 0.3626 - val_loss: 9.0655 - val_accuracy: 0.4123\n",
      "Epoch 160/200\n",
      "15/15 [==============================] - 0s 5ms/step - loss: 9.8313 - accuracy: 0.3626 - val_loss: 9.0655 - val_accuracy: 0.4123\n",
      "Epoch 161/200\n",
      "15/15 [==============================] - 0s 5ms/step - loss: 9.8313 - accuracy: 0.3626 - val_loss: 9.0655 - val_accuracy: 0.4123\n",
      "Epoch 162/200\n",
      "15/15 [==============================] - 0s 6ms/step - loss: 9.8313 - accuracy: 0.3626 - val_loss: 9.0655 - val_accuracy: 0.4123\n",
      "Epoch 163/200\n",
      "15/15 [==============================] - 0s 6ms/step - loss: 9.8313 - accuracy: 0.3626 - val_loss: 9.0655 - val_accuracy: 0.4123\n",
      "Epoch 164/200\n",
      "15/15 [==============================] - 0s 6ms/step - loss: 9.8313 - accuracy: 0.3626 - val_loss: 9.0655 - val_accuracy: 0.4123\n",
      "Epoch 165/200\n",
      "15/15 [==============================] - 0s 5ms/step - loss: 9.8313 - accuracy: 0.3626 - val_loss: 9.0655 - val_accuracy: 0.4123\n",
      "Epoch 166/200\n",
      "15/15 [==============================] - 0s 5ms/step - loss: 9.8313 - accuracy: 0.3626 - val_loss: 9.0655 - val_accuracy: 0.4123\n",
      "Epoch 167/200\n",
      "15/15 [==============================] - 0s 5ms/step - loss: 9.8313 - accuracy: 0.3626 - val_loss: 9.0655 - val_accuracy: 0.4123\n",
      "Epoch 168/200\n",
      "15/15 [==============================] - 0s 6ms/step - loss: 9.8313 - accuracy: 0.3626 - val_loss: 9.0655 - val_accuracy: 0.4123\n",
      "Epoch 169/200\n",
      "15/15 [==============================] - 0s 6ms/step - loss: 9.8313 - accuracy: 0.3626 - val_loss: 9.0655 - val_accuracy: 0.4123\n",
      "Epoch 170/200\n",
      "15/15 [==============================] - 0s 5ms/step - loss: 9.8313 - accuracy: 0.3626 - val_loss: 9.0655 - val_accuracy: 0.4123\n",
      "Epoch 171/200\n",
      "15/15 [==============================] - 0s 6ms/step - loss: 9.8313 - accuracy: 0.3626 - val_loss: 9.0655 - val_accuracy: 0.4123\n",
      "Epoch 172/200\n",
      "15/15 [==============================] - 0s 5ms/step - loss: 9.8313 - accuracy: 0.3626 - val_loss: 9.0655 - val_accuracy: 0.4123\n",
      "Epoch 173/200\n"
     ]
    },
    {
     "name": "stdout",
     "output_type": "stream",
     "text": [
      "15/15 [==============================] - 0s 5ms/step - loss: 9.8313 - accuracy: 0.3626 - val_loss: 9.0655 - val_accuracy: 0.4123\n",
      "Epoch 174/200\n",
      "15/15 [==============================] - 0s 5ms/step - loss: 9.8313 - accuracy: 0.3626 - val_loss: 9.0655 - val_accuracy: 0.4123\n",
      "Epoch 175/200\n",
      "15/15 [==============================] - 0s 6ms/step - loss: 9.8313 - accuracy: 0.3626 - val_loss: 9.0655 - val_accuracy: 0.4123\n",
      "Epoch 176/200\n",
      "15/15 [==============================] - 0s 6ms/step - loss: 9.8313 - accuracy: 0.3626 - val_loss: 9.0655 - val_accuracy: 0.4123\n",
      "Epoch 177/200\n",
      "15/15 [==============================] - 0s 5ms/step - loss: 9.8313 - accuracy: 0.3626 - val_loss: 9.0655 - val_accuracy: 0.4123\n",
      "Epoch 178/200\n",
      "15/15 [==============================] - 0s 5ms/step - loss: 9.8313 - accuracy: 0.3626 - val_loss: 9.0655 - val_accuracy: 0.4123\n",
      "Epoch 179/200\n",
      "15/15 [==============================] - 0s 5ms/step - loss: 9.8313 - accuracy: 0.3626 - val_loss: 9.0655 - val_accuracy: 0.4123\n",
      "Epoch 180/200\n",
      "15/15 [==============================] - 0s 5ms/step - loss: 9.8313 - accuracy: 0.3626 - val_loss: 9.0655 - val_accuracy: 0.4123\n",
      "Epoch 181/200\n",
      "15/15 [==============================] - 0s 5ms/step - loss: 9.8313 - accuracy: 0.3626 - val_loss: 9.0655 - val_accuracy: 0.4123\n",
      "Epoch 182/200\n",
      "15/15 [==============================] - 0s 5ms/step - loss: 9.8313 - accuracy: 0.3626 - val_loss: 9.0655 - val_accuracy: 0.4123\n",
      "Epoch 183/200\n",
      "15/15 [==============================] - 0s 6ms/step - loss: 9.8313 - accuracy: 0.3626 - val_loss: 9.0655 - val_accuracy: 0.4123\n",
      "Epoch 184/200\n",
      "15/15 [==============================] - 0s 5ms/step - loss: 9.8313 - accuracy: 0.3626 - val_loss: 9.0655 - val_accuracy: 0.4123\n",
      "Epoch 185/200\n",
      "15/15 [==============================] - 0s 5ms/step - loss: 9.8313 - accuracy: 0.3626 - val_loss: 9.0655 - val_accuracy: 0.4123\n",
      "Epoch 186/200\n",
      "15/15 [==============================] - 0s 5ms/step - loss: 9.8313 - accuracy: 0.3626 - val_loss: 9.0655 - val_accuracy: 0.4123\n",
      "Epoch 187/200\n",
      "15/15 [==============================] - 0s 5ms/step - loss: 9.8313 - accuracy: 0.3626 - val_loss: 9.0655 - val_accuracy: 0.4123\n",
      "Epoch 188/200\n",
      "15/15 [==============================] - 0s 5ms/step - loss: 9.8313 - accuracy: 0.3626 - val_loss: 9.0655 - val_accuracy: 0.4123\n",
      "Epoch 189/200\n",
      "15/15 [==============================] - 0s 5ms/step - loss: 9.8313 - accuracy: 0.3626 - val_loss: 9.0655 - val_accuracy: 0.4123\n",
      "Epoch 190/200\n",
      "15/15 [==============================] - 0s 5ms/step - loss: 9.8313 - accuracy: 0.3626 - val_loss: 9.0655 - val_accuracy: 0.4123\n",
      "Epoch 191/200\n",
      "15/15 [==============================] - 0s 5ms/step - loss: 9.8313 - accuracy: 0.3626 - val_loss: 9.0655 - val_accuracy: 0.4123\n",
      "Epoch 192/200\n",
      "15/15 [==============================] - 0s 5ms/step - loss: 9.8313 - accuracy: 0.3626 - val_loss: 9.0655 - val_accuracy: 0.4123\n",
      "Epoch 193/200\n",
      "15/15 [==============================] - 0s 5ms/step - loss: 9.8313 - accuracy: 0.3626 - val_loss: 9.0655 - val_accuracy: 0.4123\n",
      "Epoch 194/200\n",
      "15/15 [==============================] - 0s 6ms/step - loss: 9.8313 - accuracy: 0.3626 - val_loss: 9.0655 - val_accuracy: 0.4123\n",
      "Epoch 195/200\n",
      "15/15 [==============================] - 0s 5ms/step - loss: 9.8313 - accuracy: 0.3626 - val_loss: 9.0655 - val_accuracy: 0.4123\n",
      "Epoch 196/200\n",
      "15/15 [==============================] - 0s 5ms/step - loss: 9.8313 - accuracy: 0.3626 - val_loss: 9.0655 - val_accuracy: 0.4123\n",
      "Epoch 197/200\n",
      "15/15 [==============================] - 0s 6ms/step - loss: 9.8313 - accuracy: 0.3626 - val_loss: 9.0655 - val_accuracy: 0.4123\n",
      "Epoch 198/200\n",
      "15/15 [==============================] - 0s 5ms/step - loss: 9.8313 - accuracy: 0.3626 - val_loss: 9.0655 - val_accuracy: 0.4123\n",
      "Epoch 199/200\n",
      "15/15 [==============================] - 0s 5ms/step - loss: 9.8313 - accuracy: 0.3626 - val_loss: 9.0655 - val_accuracy: 0.4123\n",
      "Epoch 200/200\n",
      "15/15 [==============================] - 0s 5ms/step - loss: 9.8313 - accuracy: 0.3626 - val_loss: 9.0655 - val_accuracy: 0.4123\n"
     ]
    }
   ],
   "source": [
    "history_2c=model_2c.fit(X_train,y_train,validation_data=(X_test,y_test),epochs=200)"
   ]
  },
  {
   "cell_type": "code",
   "execution_count": 50,
   "id": "b75e070b",
   "metadata": {},
   "outputs": [
    {
     "data": {
      "text/plain": [
       "Text(0.5, 1.0, 'Training and validation loss')"
      ]
     },
     "execution_count": 50,
     "metadata": {},
     "output_type": "execute_result"
    },
    {
     "data": {
      "image/png": "[encoded data removed]",
      "text/plain": [
       "<Figure size 432x288 with 1 Axes>"
      ]
     },
     "metadata": {
      "needs_background": "light"
     },
     "output_type": "display_data"
    },
    {
     "data": {
      "image/png": "[encoded data removed]",
      "text/plain": [
       "<Figure size 432x288 with 1 Axes>"
      ]
     },
     "metadata": {
      "needs_background": "light"
     },
     "output_type": "display_data"
    }
   ],
   "source": [
    "acc=history_2c.history['accuracy']\n",
    "val_acc=history_2c.history['val_accuracy']\n",
    "loss=history_2c.history['loss']\n",
    "val_loss=history_2c.history['val_loss']\n",
    "\n",
    "epochs=range(len(acc)) # Get number of epochs\n",
    "\n",
    "#------------------------------------------------\n",
    "# Plot training and validation accuracy per epoch\n",
    "#------------------------------------------------\n",
    "plt.plot(epochs, acc, 'r', \"Training Accuracy\")\n",
    "plt.plot(epochs, val_acc, 'b', \"Validation Accuracy\")\n",
    "plt.title('Training and validation accuracy')\n",
    "plt.figure()\n",
    "\n",
    "#------------------------------------------------\n",
    "# Plot training and validation loss per epoch\n",
    "#------------------------------------------------\n",
    "plt.plot(epochs, loss, 'r', \"Training Loss\")\n",
    "plt.plot(epochs, val_loss, 'b', \"Validation Loss\")\n",
    "\n",
    "\n",
    "plt.title('Training and validation loss')"
   ]
  },
  {
   "cell_type": "code",
   "execution_count": 51,
   "id": "b4f33483",
   "metadata": {},
   "outputs": [],
   "source": [
    "model_2d=tf.keras.Sequential([\n",
    "    tf.keras.layers.Dense(10,activation='softmax'),\n",
    "    tf.keras.layers.Dense(20,activation='tanh'),\n",
    "    tf.keras.layers.Dense(1,activation='relu')\n",
    "])"
   ]
  },
  {
   "cell_type": "code",
   "execution_count": 52,
   "id": "75c48667",
   "metadata": {},
   "outputs": [],
   "source": [
    "model_2d.compile(optimizer='RMSprop',loss='binary_crossentropy',metrics=['accuracy'])"
   ]
  },
  {
   "cell_type": "code",
   "execution_count": 53,
   "id": "63f5c0f5",
   "metadata": {},
   "outputs": [
    {
     "name": "stdout",
     "output_type": "stream",
     "text": [
      "Epoch 1/200\n",
      "15/15 [==============================] - 2s 26ms/step - loss: 9.8313 - accuracy: 0.3626 - val_loss: 9.0655 - val_accuracy: 0.4123\n",
      "Epoch 2/200\n",
      "15/15 [==============================] - 0s 6ms/step - loss: 9.8313 - accuracy: 0.3626 - val_loss: 9.0655 - val_accuracy: 0.4123\n",
      "Epoch 3/200\n",
      "15/15 [==============================] - 0s 6ms/step - loss: 9.8313 - accuracy: 0.3626 - val_loss: 9.0655 - val_accuracy: 0.4123\n",
      "Epoch 4/200\n",
      "15/15 [==============================] - 0s 6ms/step - loss: 9.8313 - accuracy: 0.3626 - val_loss: 9.0655 - val_accuracy: 0.4123\n",
      "Epoch 5/200\n",
      "15/15 [==============================] - 0s 6ms/step - loss: 9.8313 - accuracy: 0.3626 - val_loss: 9.0655 - val_accuracy: 0.4123\n",
      "Epoch 6/200\n",
      "15/15 [==============================] - 0s 6ms/step - loss: 9.8313 - accuracy: 0.3626 - val_loss: 9.0655 - val_accuracy: 0.4123\n",
      "Epoch 7/200\n",
      "15/15 [==============================] - 0s 6ms/step - loss: 9.8313 - accuracy: 0.3626 - val_loss: 9.0655 - val_accuracy: 0.4123\n",
      "Epoch 8/200\n",
      "15/15 [==============================] - 0s 6ms/step - loss: 9.8313 - accuracy: 0.3626 - val_loss: 9.0655 - val_accuracy: 0.4123\n",
      "Epoch 9/200\n",
      "15/15 [==============================] - 0s 6ms/step - loss: 9.8313 - accuracy: 0.3626 - val_loss: 9.0655 - val_accuracy: 0.4123\n",
      "Epoch 10/200\n",
      "15/15 [==============================] - 0s 6ms/step - loss: 9.8313 - accuracy: 0.3626 - val_loss: 9.0655 - val_accuracy: 0.4123\n",
      "Epoch 11/200\n",
      "15/15 [==============================] - 0s 6ms/step - loss: 9.8313 - accuracy: 0.3626 - val_loss: 9.0655 - val_accuracy: 0.4123\n",
      "Epoch 12/200\n",
      "15/15 [==============================] - 0s 6ms/step - loss: 9.8313 - accuracy: 0.3626 - val_loss: 9.0655 - val_accuracy: 0.4123\n",
      "Epoch 13/200\n",
      "15/15 [==============================] - 0s 6ms/step - loss: 9.8313 - accuracy: 0.3626 - val_loss: 9.0655 - val_accuracy: 0.4123\n",
      "Epoch 14/200\n",
      "15/15 [==============================] - 0s 6ms/step - loss: 9.8313 - accuracy: 0.3626 - val_loss: 9.0655 - val_accuracy: 0.4123\n",
      "Epoch 15/200\n",
      "15/15 [==============================] - 0s 6ms/step - loss: 9.8313 - accuracy: 0.3626 - val_loss: 9.0655 - val_accuracy: 0.4123\n",
      "Epoch 16/200\n",
      "15/15 [==============================] - 0s 6ms/step - loss: 9.8313 - accuracy: 0.3626 - val_loss: 9.0655 - val_accuracy: 0.4123\n",
      "Epoch 17/200\n",
      "15/15 [==============================] - 0s 6ms/step - loss: 9.8313 - accuracy: 0.3626 - val_loss: 9.0655 - val_accuracy: 0.4123\n",
      "Epoch 18/200\n",
      "15/15 [==============================] - 0s 6ms/step - loss: 9.8313 - accuracy: 0.3626 - val_loss: 9.0655 - val_accuracy: 0.4123\n",
      "Epoch 19/200\n",
      "15/15 [==============================] - 0s 6ms/step - loss: 9.8313 - accuracy: 0.3626 - val_loss: 9.0655 - val_accuracy: 0.4123\n",
      "Epoch 20/200\n",
      "15/15 [==============================] - 0s 6ms/step - loss: 9.8313 - accuracy: 0.3626 - val_loss: 9.0655 - val_accuracy: 0.4123\n",
      "Epoch 21/200\n",
      "15/15 [==============================] - 0s 6ms/step - loss: 9.8313 - accuracy: 0.3626 - val_loss: 9.0655 - val_accuracy: 0.4123\n",
      "Epoch 22/200\n",
      "15/15 [==============================] - 0s 6ms/step - loss: 9.8313 - accuracy: 0.3626 - val_loss: 9.0655 - val_accuracy: 0.4123\n",
      "Epoch 23/200\n",
      "15/15 [==============================] - 0s 6ms/step - loss: 9.8313 - accuracy: 0.3626 - val_loss: 9.0655 - val_accuracy: 0.4123\n",
      "Epoch 24/200\n",
      "15/15 [==============================] - 0s 6ms/step - loss: 9.8313 - accuracy: 0.3626 - val_loss: 9.0655 - val_accuracy: 0.4123\n",
      "Epoch 25/200\n",
      "15/15 [==============================] - 0s 6ms/step - loss: 9.8313 - accuracy: 0.3626 - val_loss: 9.0655 - val_accuracy: 0.4123\n",
      "Epoch 26/200\n",
      "15/15 [==============================] - 0s 6ms/step - loss: 9.8313 - accuracy: 0.3626 - val_loss: 9.0655 - val_accuracy: 0.4123\n",
      "Epoch 27/200\n",
      "15/15 [==============================] - 0s 6ms/step - loss: 9.8313 - accuracy: 0.3626 - val_loss: 9.0655 - val_accuracy: 0.4123\n",
      "Epoch 28/200\n",
      "15/15 [==============================] - 0s 6ms/step - loss: 9.8313 - accuracy: 0.3626 - val_loss: 9.0655 - val_accuracy: 0.4123\n",
      "Epoch 29/200\n",
      "15/15 [==============================] - 0s 6ms/step - loss: 9.8313 - accuracy: 0.3626 - val_loss: 9.0655 - val_accuracy: 0.4123\n",
      "Epoch 30/200\n",
      "15/15 [==============================] - 0s 6ms/step - loss: 9.8313 - accuracy: 0.3626 - val_loss: 9.0655 - val_accuracy: 0.4123\n",
      "Epoch 31/200\n",
      "15/15 [==============================] - 0s 6ms/step - loss: 9.8313 - accuracy: 0.3626 - val_loss: 9.0655 - val_accuracy: 0.4123\n",
      "Epoch 32/200\n",
      "15/15 [==============================] - 0s 6ms/step - loss: 9.8313 - accuracy: 0.3626 - val_loss: 9.0655 - val_accuracy: 0.4123\n",
      "Epoch 33/200\n",
      "15/15 [==============================] - 0s 6ms/step - loss: 9.8313 - accuracy: 0.3626 - val_loss: 9.0655 - val_accuracy: 0.4123\n",
      "Epoch 34/200\n",
      "15/15 [==============================] - 0s 7ms/step - loss: 9.8313 - accuracy: 0.3626 - val_loss: 9.0655 - val_accuracy: 0.4123\n",
      "Epoch 35/200\n",
      "15/15 [==============================] - 0s 6ms/step - loss: 9.8313 - accuracy: 0.3626 - val_loss: 9.0655 - val_accuracy: 0.4123\n",
      "Epoch 36/200\n",
      "15/15 [==============================] - 0s 7ms/step - loss: 9.8313 - accuracy: 0.3626 - val_loss: 9.0655 - val_accuracy: 0.4123\n",
      "Epoch 37/200\n",
      "15/15 [==============================] - 0s 6ms/step - loss: 9.8313 - accuracy: 0.3626 - val_loss: 9.0655 - val_accuracy: 0.4123\n",
      "Epoch 38/200\n",
      "15/15 [==============================] - 0s 6ms/step - loss: 9.8313 - accuracy: 0.3626 - val_loss: 9.0655 - val_accuracy: 0.4123\n",
      "Epoch 39/200\n",
      "15/15 [==============================] - 0s 6ms/step - loss: 9.8313 - accuracy: 0.3626 - val_loss: 9.0655 - val_accuracy: 0.4123\n",
      "Epoch 40/200\n",
      "15/15 [==============================] - 0s 5ms/step - loss: 9.8313 - accuracy: 0.3626 - val_loss: 9.0655 - val_accuracy: 0.4123\n",
      "Epoch 41/200\n",
      "15/15 [==============================] - 0s 5ms/step - loss: 9.8313 - accuracy: 0.3626 - val_loss: 9.0655 - val_accuracy: 0.4123\n",
      "Epoch 42/200\n",
      "15/15 [==============================] - 0s 5ms/step - loss: 9.8313 - accuracy: 0.3626 - val_loss: 9.0655 - val_accuracy: 0.4123\n",
      "Epoch 43/200\n",
      "15/15 [==============================] - 0s 5ms/step - loss: 9.8313 - accuracy: 0.3626 - val_loss: 9.0655 - val_accuracy: 0.4123\n",
      "Epoch 44/200\n",
      "15/15 [==============================] - 0s 7ms/step - loss: 9.8313 - accuracy: 0.3626 - val_loss: 9.0655 - val_accuracy: 0.4123\n",
      "Epoch 45/200\n",
      "15/15 [==============================] - 0s 5ms/step - loss: 9.8313 - accuracy: 0.3626 - val_loss: 9.0655 - val_accuracy: 0.4123\n",
      "Epoch 46/200\n",
      "15/15 [==============================] - 0s 5ms/step - loss: 9.8313 - accuracy: 0.3626 - val_loss: 9.0655 - val_accuracy: 0.4123\n",
      "Epoch 47/200\n",
      "15/15 [==============================] - 0s 6ms/step - loss: 9.8313 - accuracy: 0.3626 - val_loss: 9.0655 - val_accuracy: 0.4123\n",
      "Epoch 48/200\n",
      "15/15 [==============================] - 0s 6ms/step - loss: 9.8313 - accuracy: 0.3626 - val_loss: 9.0655 - val_accuracy: 0.4123\n",
      "Epoch 49/200\n",
      "15/15 [==============================] - 0s 6ms/step - loss: 9.8313 - accuracy: 0.3626 - val_loss: 9.0655 - val_accuracy: 0.4123\n",
      "Epoch 50/200\n",
      "15/15 [==============================] - 0s 5ms/step - loss: 9.8313 - accuracy: 0.3626 - val_loss: 9.0655 - val_accuracy: 0.4123\n",
      "Epoch 51/200\n",
      "15/15 [==============================] - 0s 5ms/step - loss: 9.8313 - accuracy: 0.3626 - val_loss: 9.0655 - val_accuracy: 0.4123\n",
      "Epoch 52/200\n",
      "15/15 [==============================] - 0s 6ms/step - loss: 9.8313 - accuracy: 0.3626 - val_loss: 9.0655 - val_accuracy: 0.4123\n",
      "Epoch 53/200\n",
      "15/15 [==============================] - 0s 6ms/step - loss: 9.8313 - accuracy: 0.3626 - val_loss: 9.0655 - val_accuracy: 0.4123\n",
      "Epoch 54/200\n",
      "15/15 [==============================] - 0s 6ms/step - loss: 9.8313 - accuracy: 0.3626 - val_loss: 9.0655 - val_accuracy: 0.4123\n",
      "Epoch 55/200\n",
      "15/15 [==============================] - 0s 5ms/step - loss: 9.8313 - accuracy: 0.3626 - val_loss: 9.0655 - val_accuracy: 0.4123\n",
      "Epoch 56/200\n",
      "15/15 [==============================] - 0s 5ms/step - loss: 9.8313 - accuracy: 0.3626 - val_loss: 9.0655 - val_accuracy: 0.4123\n",
      "Epoch 57/200\n",
      "15/15 [==============================] - 0s 6ms/step - loss: 9.8313 - accuracy: 0.3626 - val_loss: 9.0655 - val_accuracy: 0.4123\n",
      "Epoch 58/200\n",
      "15/15 [==============================] - 0s 6ms/step - loss: 9.8313 - accuracy: 0.3626 - val_loss: 9.0655 - val_accuracy: 0.4123\n"
     ]
    },
    {
     "name": "stdout",
     "output_type": "stream",
     "text": [
      "Epoch 59/200\n",
      "15/15 [==============================] - 0s 6ms/step - loss: 9.8313 - accuracy: 0.3626 - val_loss: 9.0655 - val_accuracy: 0.4123\n",
      "Epoch 60/200\n",
      "15/15 [==============================] - 0s 5ms/step - loss: 9.8313 - accuracy: 0.3626 - val_loss: 9.0655 - val_accuracy: 0.4123\n",
      "Epoch 61/200\n",
      "15/15 [==============================] - 0s 6ms/step - loss: 9.8313 - accuracy: 0.3626 - val_loss: 9.0655 - val_accuracy: 0.4123\n",
      "Epoch 62/200\n",
      "15/15 [==============================] - 0s 6ms/step - loss: 9.8313 - accuracy: 0.3626 - val_loss: 9.0655 - val_accuracy: 0.4123\n",
      "Epoch 63/200\n",
      "15/15 [==============================] - 0s 5ms/step - loss: 9.8313 - accuracy: 0.3626 - val_loss: 9.0655 - val_accuracy: 0.4123\n",
      "Epoch 64/200\n",
      "15/15 [==============================] - 0s 5ms/step - loss: 9.8313 - accuracy: 0.3626 - val_loss: 9.0655 - val_accuracy: 0.4123\n",
      "Epoch 65/200\n",
      "15/15 [==============================] - 0s 5ms/step - loss: 9.8313 - accuracy: 0.3626 - val_loss: 9.0655 - val_accuracy: 0.4123\n",
      "Epoch 66/200\n",
      "15/15 [==============================] - 0s 6ms/step - loss: 9.8313 - accuracy: 0.3626 - val_loss: 9.0655 - val_accuracy: 0.4123\n",
      "Epoch 67/200\n",
      "15/15 [==============================] - 0s 5ms/step - loss: 9.8313 - accuracy: 0.3626 - val_loss: 9.0655 - val_accuracy: 0.4123\n",
      "Epoch 68/200\n",
      "15/15 [==============================] - 0s 5ms/step - loss: 9.8313 - accuracy: 0.3626 - val_loss: 9.0655 - val_accuracy: 0.4123\n",
      "Epoch 69/200\n",
      "15/15 [==============================] - 0s 5ms/step - loss: 9.8313 - accuracy: 0.3626 - val_loss: 9.0655 - val_accuracy: 0.4123\n",
      "Epoch 70/200\n",
      "15/15 [==============================] - 0s 6ms/step - loss: 9.8313 - accuracy: 0.3626 - val_loss: 9.0655 - val_accuracy: 0.4123\n",
      "Epoch 71/200\n",
      "15/15 [==============================] - 0s 5ms/step - loss: 9.8313 - accuracy: 0.3626 - val_loss: 9.0655 - val_accuracy: 0.4123\n",
      "Epoch 72/200\n",
      "15/15 [==============================] - 0s 5ms/step - loss: 9.8313 - accuracy: 0.3626 - val_loss: 9.0655 - val_accuracy: 0.4123\n",
      "Epoch 73/200\n",
      "15/15 [==============================] - 0s 6ms/step - loss: 9.8313 - accuracy: 0.3626 - val_loss: 9.0655 - val_accuracy: 0.4123\n",
      "Epoch 74/200\n",
      "15/15 [==============================] - 0s 5ms/step - loss: 9.8313 - accuracy: 0.3626 - val_loss: 9.0655 - val_accuracy: 0.4123\n",
      "Epoch 75/200\n",
      "15/15 [==============================] - 0s 5ms/step - loss: 9.8313 - accuracy: 0.3626 - val_loss: 9.0655 - val_accuracy: 0.4123\n",
      "Epoch 76/200\n",
      "15/15 [==============================] - 0s 5ms/step - loss: 9.8313 - accuracy: 0.3626 - val_loss: 9.0655 - val_accuracy: 0.4123\n",
      "Epoch 77/200\n",
      "15/15 [==============================] - 0s 6ms/step - loss: 9.8313 - accuracy: 0.3626 - val_loss: 9.0655 - val_accuracy: 0.4123\n",
      "Epoch 78/200\n",
      "15/15 [==============================] - 0s 5ms/step - loss: 9.8313 - accuracy: 0.3626 - val_loss: 9.0655 - val_accuracy: 0.4123\n",
      "Epoch 79/200\n",
      "15/15 [==============================] - 0s 5ms/step - loss: 9.8313 - accuracy: 0.3626 - val_loss: 9.0655 - val_accuracy: 0.4123\n",
      "Epoch 80/200\n",
      "15/15 [==============================] - 0s 5ms/step - loss: 9.8313 - accuracy: 0.3626 - val_loss: 9.0655 - val_accuracy: 0.4123\n",
      "Epoch 81/200\n",
      "15/15 [==============================] - 0s 5ms/step - loss: 9.8313 - accuracy: 0.3626 - val_loss: 9.0655 - val_accuracy: 0.4123\n",
      "Epoch 82/200\n",
      "15/15 [==============================] - 0s 5ms/step - loss: 9.8313 - accuracy: 0.3626 - val_loss: 9.0655 - val_accuracy: 0.4123\n",
      "Epoch 83/200\n",
      "15/15 [==============================] - 0s 5ms/step - loss: 9.8313 - accuracy: 0.3626 - val_loss: 9.0655 - val_accuracy: 0.4123\n",
      "Epoch 84/200\n",
      "15/15 [==============================] - 0s 6ms/step - loss: 9.8313 - accuracy: 0.3626 - val_loss: 9.0655 - val_accuracy: 0.4123\n",
      "Epoch 85/200\n",
      "15/15 [==============================] - 0s 6ms/step - loss: 9.8313 - accuracy: 0.3626 - val_loss: 9.0655 - val_accuracy: 0.4123\n",
      "Epoch 86/200\n",
      "15/15 [==============================] - 0s 5ms/step - loss: 9.8313 - accuracy: 0.3626 - val_loss: 9.0655 - val_accuracy: 0.4123\n",
      "Epoch 87/200\n",
      "15/15 [==============================] - 0s 5ms/step - loss: 9.8313 - accuracy: 0.3626 - val_loss: 9.0655 - val_accuracy: 0.4123\n",
      "Epoch 88/200\n",
      "15/15 [==============================] - 0s 5ms/step - loss: 9.8313 - accuracy: 0.3626 - val_loss: 9.0655 - val_accuracy: 0.4123\n",
      "Epoch 89/200\n",
      "15/15 [==============================] - 0s 5ms/step - loss: 9.8313 - accuracy: 0.3626 - val_loss: 9.0655 - val_accuracy: 0.4123\n",
      "Epoch 90/200\n",
      "15/15 [==============================] - 0s 5ms/step - loss: 9.8313 - accuracy: 0.3626 - val_loss: 9.0655 - val_accuracy: 0.4123\n",
      "Epoch 91/200\n",
      "15/15 [==============================] - 0s 5ms/step - loss: 9.8313 - accuracy: 0.3626 - val_loss: 9.0655 - val_accuracy: 0.4123\n",
      "Epoch 92/200\n",
      "15/15 [==============================] - 0s 5ms/step - loss: 9.8313 - accuracy: 0.3626 - val_loss: 9.0655 - val_accuracy: 0.4123\n",
      "Epoch 93/200\n",
      "15/15 [==============================] - 0s 6ms/step - loss: 9.8313 - accuracy: 0.3626 - val_loss: 9.0655 - val_accuracy: 0.4123\n",
      "Epoch 94/200\n",
      "15/15 [==============================] - 0s 5ms/step - loss: 9.8313 - accuracy: 0.3626 - val_loss: 9.0655 - val_accuracy: 0.4123\n",
      "Epoch 95/200\n",
      "15/15 [==============================] - 0s 6ms/step - loss: 9.8313 - accuracy: 0.3626 - val_loss: 9.0655 - val_accuracy: 0.4123\n",
      "Epoch 96/200\n",
      "15/15 [==============================] - 0s 5ms/step - loss: 9.8313 - accuracy: 0.3626 - val_loss: 9.0655 - val_accuracy: 0.4123\n",
      "Epoch 97/200\n",
      "15/15 [==============================] - 0s 6ms/step - loss: 9.8313 - accuracy: 0.3626 - val_loss: 9.0655 - val_accuracy: 0.4123\n",
      "Epoch 98/200\n",
      "15/15 [==============================] - 0s 5ms/step - loss: 9.8313 - accuracy: 0.3626 - val_loss: 9.0655 - val_accuracy: 0.4123\n",
      "Epoch 99/200\n",
      "15/15 [==============================] - 0s 6ms/step - loss: 9.8313 - accuracy: 0.3626 - val_loss: 9.0655 - val_accuracy: 0.4123\n",
      "Epoch 100/200\n",
      "15/15 [==============================] - 0s 5ms/step - loss: 9.8313 - accuracy: 0.3626 - val_loss: 9.0655 - val_accuracy: 0.4123\n",
      "Epoch 101/200\n",
      "15/15 [==============================] - 0s 5ms/step - loss: 9.8313 - accuracy: 0.3626 - val_loss: 9.0655 - val_accuracy: 0.4123\n",
      "Epoch 102/200\n",
      "15/15 [==============================] - 0s 5ms/step - loss: 9.8313 - accuracy: 0.3626 - val_loss: 9.0655 - val_accuracy: 0.4123\n",
      "Epoch 103/200\n",
      "15/15 [==============================] - 0s 5ms/step - loss: 9.8313 - accuracy: 0.3626 - val_loss: 9.0655 - val_accuracy: 0.4123\n",
      "Epoch 104/200\n",
      "15/15 [==============================] - 0s 5ms/step - loss: 9.8313 - accuracy: 0.3626 - val_loss: 9.0655 - val_accuracy: 0.4123\n",
      "Epoch 105/200\n",
      "15/15 [==============================] - 0s 5ms/step - loss: 9.8313 - accuracy: 0.3626 - val_loss: 9.0655 - val_accuracy: 0.4123\n",
      "Epoch 106/200\n",
      "15/15 [==============================] - 0s 6ms/step - loss: 9.8313 - accuracy: 0.3626 - val_loss: 9.0655 - val_accuracy: 0.4123\n",
      "Epoch 107/200\n",
      "15/15 [==============================] - 0s 6ms/step - loss: 9.8313 - accuracy: 0.3626 - val_loss: 9.0655 - val_accuracy: 0.4123\n",
      "Epoch 108/200\n",
      "15/15 [==============================] - 0s 5ms/step - loss: 9.8313 - accuracy: 0.3626 - val_loss: 9.0655 - val_accuracy: 0.4123\n",
      "Epoch 109/200\n",
      "15/15 [==============================] - 0s 5ms/step - loss: 9.8313 - accuracy: 0.3626 - val_loss: 9.0655 - val_accuracy: 0.4123\n",
      "Epoch 110/200\n",
      "15/15 [==============================] - 0s 5ms/step - loss: 9.8313 - accuracy: 0.3626 - val_loss: 9.0655 - val_accuracy: 0.4123\n",
      "Epoch 111/200\n",
      "15/15 [==============================] - 0s 6ms/step - loss: 9.8313 - accuracy: 0.3626 - val_loss: 9.0655 - val_accuracy: 0.4123\n",
      "Epoch 112/200\n",
      "15/15 [==============================] - 0s 5ms/step - loss: 9.8313 - accuracy: 0.3626 - val_loss: 9.0655 - val_accuracy: 0.4123\n",
      "Epoch 113/200\n",
      "15/15 [==============================] - 0s 5ms/step - loss: 9.8313 - accuracy: 0.3626 - val_loss: 9.0655 - val_accuracy: 0.4123\n",
      "Epoch 114/200\n",
      "15/15 [==============================] - 0s 5ms/step - loss: 9.8313 - accuracy: 0.3626 - val_loss: 9.0655 - val_accuracy: 0.4123\n",
      "Epoch 115/200\n",
      "15/15 [==============================] - 0s 7ms/step - loss: 9.8313 - accuracy: 0.3626 - val_loss: 9.0655 - val_accuracy: 0.4123\n",
      "Epoch 116/200\n"
     ]
    },
    {
     "name": "stdout",
     "output_type": "stream",
     "text": [
      "15/15 [==============================] - 0s 6ms/step - loss: 9.8313 - accuracy: 0.3626 - val_loss: 9.0655 - val_accuracy: 0.4123\n",
      "Epoch 117/200\n",
      "15/15 [==============================] - 0s 6ms/step - loss: 9.8313 - accuracy: 0.3626 - val_loss: 9.0655 - val_accuracy: 0.4123\n",
      "Epoch 118/200\n",
      "15/15 [==============================] - 0s 5ms/step - loss: 9.8313 - accuracy: 0.3626 - val_loss: 9.0655 - val_accuracy: 0.4123\n",
      "Epoch 119/200\n",
      "15/15 [==============================] - 0s 6ms/step - loss: 9.8313 - accuracy: 0.3626 - val_loss: 9.0655 - val_accuracy: 0.4123\n",
      "Epoch 120/200\n",
      "15/15 [==============================] - 0s 6ms/step - loss: 9.8313 - accuracy: 0.3626 - val_loss: 9.0655 - val_accuracy: 0.4123\n",
      "Epoch 121/200\n",
      "15/15 [==============================] - 0s 6ms/step - loss: 9.8313 - accuracy: 0.3626 - val_loss: 9.0655 - val_accuracy: 0.4123\n",
      "Epoch 122/200\n",
      "15/15 [==============================] - 0s 5ms/step - loss: 9.8313 - accuracy: 0.3626 - val_loss: 9.0655 - val_accuracy: 0.4123\n",
      "Epoch 123/200\n",
      "15/15 [==============================] - 0s 6ms/step - loss: 9.8313 - accuracy: 0.3626 - val_loss: 9.0655 - val_accuracy: 0.4123\n",
      "Epoch 124/200\n",
      "15/15 [==============================] - 0s 6ms/step - loss: 9.8313 - accuracy: 0.3626 - val_loss: 9.0655 - val_accuracy: 0.4123\n",
      "Epoch 125/200\n",
      "15/15 [==============================] - 0s 6ms/step - loss: 9.8313 - accuracy: 0.3626 - val_loss: 9.0655 - val_accuracy: 0.4123\n",
      "Epoch 126/200\n",
      "15/15 [==============================] - 0s 6ms/step - loss: 9.8313 - accuracy: 0.3626 - val_loss: 9.0655 - val_accuracy: 0.4123\n",
      "Epoch 127/200\n",
      "15/15 [==============================] - 0s 6ms/step - loss: 9.8313 - accuracy: 0.3626 - val_loss: 9.0655 - val_accuracy: 0.4123\n",
      "Epoch 128/200\n",
      "15/15 [==============================] - 0s 6ms/step - loss: 9.8313 - accuracy: 0.3626 - val_loss: 9.0655 - val_accuracy: 0.4123\n",
      "Epoch 129/200\n",
      "15/15 [==============================] - 0s 6ms/step - loss: 9.8313 - accuracy: 0.3626 - val_loss: 9.0655 - val_accuracy: 0.4123\n",
      "Epoch 130/200\n",
      "15/15 [==============================] - 0s 5ms/step - loss: 9.8313 - accuracy: 0.3626 - val_loss: 9.0655 - val_accuracy: 0.4123\n",
      "Epoch 131/200\n",
      "15/15 [==============================] - 0s 5ms/step - loss: 9.8313 - accuracy: 0.3626 - val_loss: 9.0655 - val_accuracy: 0.4123\n",
      "Epoch 132/200\n",
      "15/15 [==============================] - 0s 6ms/step - loss: 9.8313 - accuracy: 0.3626 - val_loss: 9.0655 - val_accuracy: 0.4123\n",
      "Epoch 133/200\n",
      "15/15 [==============================] - 0s 8ms/step - loss: 9.8313 - accuracy: 0.3626 - val_loss: 9.0655 - val_accuracy: 0.4123\n",
      "Epoch 134/200\n",
      "15/15 [==============================] - 0s 6ms/step - loss: 9.8313 - accuracy: 0.3626 - val_loss: 9.0655 - val_accuracy: 0.4123\n",
      "Epoch 135/200\n",
      "15/15 [==============================] - 0s 5ms/step - loss: 9.8313 - accuracy: 0.3626 - val_loss: 9.0655 - val_accuracy: 0.4123\n",
      "Epoch 136/200\n",
      "15/15 [==============================] - 0s 5ms/step - loss: 9.8313 - accuracy: 0.3626 - val_loss: 9.0655 - val_accuracy: 0.4123\n",
      "Epoch 137/200\n",
      "15/15 [==============================] - 0s 6ms/step - loss: 9.8313 - accuracy: 0.3626 - val_loss: 9.0655 - val_accuracy: 0.4123\n",
      "Epoch 138/200\n",
      "15/15 [==============================] - 0s 5ms/step - loss: 9.8313 - accuracy: 0.3626 - val_loss: 9.0655 - val_accuracy: 0.4123\n",
      "Epoch 139/200\n",
      "15/15 [==============================] - 0s 6ms/step - loss: 9.8313 - accuracy: 0.3626 - val_loss: 9.0655 - val_accuracy: 0.4123\n",
      "Epoch 140/200\n",
      "15/15 [==============================] - 0s 6ms/step - loss: 9.8313 - accuracy: 0.3626 - val_loss: 9.0655 - val_accuracy: 0.4123\n",
      "Epoch 141/200\n",
      "15/15 [==============================] - 0s 6ms/step - loss: 9.8313 - accuracy: 0.3626 - val_loss: 9.0655 - val_accuracy: 0.4123\n",
      "Epoch 142/200\n",
      "15/15 [==============================] - 0s 6ms/step - loss: 9.8313 - accuracy: 0.3626 - val_loss: 9.0655 - val_accuracy: 0.4123\n",
      "Epoch 143/200\n",
      "15/15 [==============================] - 0s 5ms/step - loss: 9.8313 - accuracy: 0.3626 - val_loss: 9.0655 - val_accuracy: 0.4123\n",
      "Epoch 144/200\n",
      "15/15 [==============================] - 0s 5ms/step - loss: 9.8313 - accuracy: 0.3626 - val_loss: 9.0655 - val_accuracy: 0.4123\n",
      "Epoch 145/200\n",
      "15/15 [==============================] - 0s 5ms/step - loss: 9.8313 - accuracy: 0.3626 - val_loss: 9.0655 - val_accuracy: 0.4123\n",
      "Epoch 146/200\n",
      "15/15 [==============================] - 0s 5ms/step - loss: 9.8313 - accuracy: 0.3626 - val_loss: 9.0655 - val_accuracy: 0.4123\n",
      "Epoch 147/200\n",
      "15/15 [==============================] - 0s 5ms/step - loss: 9.8313 - accuracy: 0.3626 - val_loss: 9.0655 - val_accuracy: 0.4123\n",
      "Epoch 148/200\n",
      "15/15 [==============================] - 0s 6ms/step - loss: 9.8313 - accuracy: 0.3626 - val_loss: 9.0655 - val_accuracy: 0.4123\n",
      "Epoch 149/200\n",
      "15/15 [==============================] - 0s 5ms/step - loss: 9.8313 - accuracy: 0.3626 - val_loss: 9.0655 - val_accuracy: 0.4123\n",
      "Epoch 150/200\n",
      "15/15 [==============================] - 0s 5ms/step - loss: 9.8313 - accuracy: 0.3626 - val_loss: 9.0655 - val_accuracy: 0.4123\n",
      "Epoch 151/200\n",
      "15/15 [==============================] - 0s 6ms/step - loss: 9.8313 - accuracy: 0.3626 - val_loss: 9.0655 - val_accuracy: 0.4123\n",
      "Epoch 152/200\n",
      "15/15 [==============================] - 0s 6ms/step - loss: 9.8313 - accuracy: 0.3626 - val_loss: 9.0655 - val_accuracy: 0.4123\n",
      "Epoch 153/200\n",
      "15/15 [==============================] - 0s 5ms/step - loss: 9.8313 - accuracy: 0.3626 - val_loss: 9.0655 - val_accuracy: 0.4123\n",
      "Epoch 154/200\n",
      "15/15 [==============================] - 0s 5ms/step - loss: 9.8313 - accuracy: 0.3626 - val_loss: 9.0655 - val_accuracy: 0.4123\n",
      "Epoch 155/200\n",
      "15/15 [==============================] - 0s 5ms/step - loss: 9.8313 - accuracy: 0.3626 - val_loss: 9.0655 - val_accuracy: 0.4123\n",
      "Epoch 156/200\n",
      "15/15 [==============================] - ETA: 0s - loss: 9.9160 - accuracy: 0.35 - 0s 7ms/step - loss: 9.8313 - accuracy: 0.3626 - val_loss: 9.0655 - val_accuracy: 0.4123\n",
      "Epoch 157/200\n",
      "15/15 [==============================] - 0s 5ms/step - loss: 9.8313 - accuracy: 0.3626 - val_loss: 9.0655 - val_accuracy: 0.4123\n",
      "Epoch 158/200\n",
      "15/15 [==============================] - 0s 5ms/step - loss: 9.8313 - accuracy: 0.3626 - val_loss: 9.0655 - val_accuracy: 0.4123\n",
      "Epoch 159/200\n",
      "15/15 [==============================] - 0s 5ms/step - loss: 9.8313 - accuracy: 0.3626 - val_loss: 9.0655 - val_accuracy: 0.4123\n",
      "Epoch 160/200\n",
      "15/15 [==============================] - 0s 5ms/step - loss: 9.8313 - accuracy: 0.3626 - val_loss: 9.0655 - val_accuracy: 0.4123\n",
      "Epoch 161/200\n",
      "15/15 [==============================] - 0s 6ms/step - loss: 9.8313 - accuracy: 0.3626 - val_loss: 9.0655 - val_accuracy: 0.4123\n",
      "Epoch 162/200\n",
      "15/15 [==============================] - 0s 6ms/step - loss: 9.8313 - accuracy: 0.3626 - val_loss: 9.0655 - val_accuracy: 0.4123\n",
      "Epoch 163/200\n",
      "15/15 [==============================] - 0s 5ms/step - loss: 9.8313 - accuracy: 0.3626 - val_loss: 9.0655 - val_accuracy: 0.4123\n",
      "Epoch 164/200\n",
      "15/15 [==============================] - 0s 6ms/step - loss: 9.8313 - accuracy: 0.3626 - val_loss: 9.0655 - val_accuracy: 0.4123\n",
      "Epoch 165/200\n",
      "15/15 [==============================] - 0s 5ms/step - loss: 9.8313 - accuracy: 0.3626 - val_loss: 9.0655 - val_accuracy: 0.4123\n",
      "Epoch 166/200\n",
      "15/15 [==============================] - 0s 6ms/step - loss: 9.8313 - accuracy: 0.3626 - val_loss: 9.0655 - val_accuracy: 0.4123\n",
      "Epoch 167/200\n",
      "15/15 [==============================] - 0s 5ms/step - loss: 9.8313 - accuracy: 0.3626 - val_loss: 9.0655 - val_accuracy: 0.4123\n",
      "Epoch 168/200\n",
      "15/15 [==============================] - 0s 5ms/step - loss: 9.8313 - accuracy: 0.3626 - val_loss: 9.0655 - val_accuracy: 0.4123\n",
      "Epoch 169/200\n",
      "15/15 [==============================] - 0s 5ms/step - loss: 9.8313 - accuracy: 0.3626 - val_loss: 9.0655 - val_accuracy: 0.4123\n",
      "Epoch 170/200\n",
      "15/15 [==============================] - 0s 6ms/step - loss: 9.8313 - accuracy: 0.3626 - val_loss: 9.0655 - val_accuracy: 0.4123\n",
      "Epoch 171/200\n",
      "15/15 [==============================] - 0s 5ms/step - loss: 9.8313 - accuracy: 0.3626 - val_loss: 9.0655 - val_accuracy: 0.4123\n",
      "Epoch 172/200\n",
      "15/15 [==============================] - 0s 5ms/step - loss: 9.8313 - accuracy: 0.3626 - val_loss: 9.0655 - val_accuracy: 0.4123\n",
      "Epoch 173/200\n"
     ]
    },
    {
     "name": "stdout",
     "output_type": "stream",
     "text": [
      "15/15 [==============================] - 0s 5ms/step - loss: 9.8313 - accuracy: 0.3626 - val_loss: 9.0655 - val_accuracy: 0.4123\n",
      "Epoch 174/200\n",
      "15/15 [==============================] - 0s 6ms/step - loss: 9.8313 - accuracy: 0.3626 - val_loss: 9.0655 - val_accuracy: 0.4123\n",
      "Epoch 175/200\n",
      "15/15 [==============================] - 0s 6ms/step - loss: 9.8313 - accuracy: 0.3626 - val_loss: 9.0655 - val_accuracy: 0.4123\n",
      "Epoch 176/200\n",
      "15/15 [==============================] - 0s 5ms/step - loss: 9.8313 - accuracy: 0.3626 - val_loss: 9.0655 - val_accuracy: 0.4123\n",
      "Epoch 177/200\n",
      "15/15 [==============================] - 0s 6ms/step - loss: 9.8313 - accuracy: 0.3626 - val_loss: 9.0655 - val_accuracy: 0.4123\n",
      "Epoch 178/200\n",
      "15/15 [==============================] - 0s 6ms/step - loss: 9.8313 - accuracy: 0.3626 - val_loss: 9.0655 - val_accuracy: 0.4123\n",
      "Epoch 179/200\n",
      "15/15 [==============================] - 0s 6ms/step - loss: 9.8313 - accuracy: 0.3626 - val_loss: 9.0655 - val_accuracy: 0.4123\n",
      "Epoch 180/200\n",
      "15/15 [==============================] - 0s 5ms/step - loss: 9.8313 - accuracy: 0.3626 - val_loss: 9.0655 - val_accuracy: 0.4123\n",
      "Epoch 181/200\n",
      "15/15 [==============================] - 0s 5ms/step - loss: 9.8313 - accuracy: 0.3626 - val_loss: 9.0655 - val_accuracy: 0.4123\n",
      "Epoch 182/200\n",
      "15/15 [==============================] - 0s 5ms/step - loss: 9.8313 - accuracy: 0.3626 - val_loss: 9.0655 - val_accuracy: 0.4123\n",
      "Epoch 183/200\n",
      "15/15 [==============================] - 0s 6ms/step - loss: 9.8313 - accuracy: 0.3626 - val_loss: 9.0655 - val_accuracy: 0.4123\n",
      "Epoch 184/200\n",
      "15/15 [==============================] - 0s 6ms/step - loss: 9.8313 - accuracy: 0.3626 - val_loss: 9.0655 - val_accuracy: 0.4123\n",
      "Epoch 185/200\n",
      "15/15 [==============================] - 0s 6ms/step - loss: 9.8313 - accuracy: 0.3626 - val_loss: 9.0655 - val_accuracy: 0.4123\n",
      "Epoch 186/200\n",
      "15/15 [==============================] - 0s 6ms/step - loss: 9.8313 - accuracy: 0.3626 - val_loss: 9.0655 - val_accuracy: 0.4123\n",
      "Epoch 187/200\n",
      "15/15 [==============================] - 0s 5ms/step - loss: 9.8313 - accuracy: 0.3626 - val_loss: 9.0655 - val_accuracy: 0.4123\n",
      "Epoch 188/200\n",
      "15/15 [==============================] - 0s 5ms/step - loss: 9.8313 - accuracy: 0.3626 - val_loss: 9.0655 - val_accuracy: 0.4123\n",
      "Epoch 189/200\n",
      "15/15 [==============================] - 0s 6ms/step - loss: 9.8313 - accuracy: 0.3626 - val_loss: 9.0655 - val_accuracy: 0.4123\n",
      "Epoch 190/200\n",
      "15/15 [==============================] - 0s 5ms/step - loss: 9.8313 - accuracy: 0.3626 - val_loss: 9.0655 - val_accuracy: 0.4123\n",
      "Epoch 191/200\n",
      "15/15 [==============================] - 0s 5ms/step - loss: 9.8313 - accuracy: 0.3626 - val_loss: 9.0655 - val_accuracy: 0.4123\n",
      "Epoch 192/200\n",
      "15/15 [==============================] - 0s 6ms/step - loss: 9.8313 - accuracy: 0.3626 - val_loss: 9.0655 - val_accuracy: 0.4123\n",
      "Epoch 193/200\n",
      "15/15 [==============================] - 0s 6ms/step - loss: 9.8313 - accuracy: 0.3626 - val_loss: 9.0655 - val_accuracy: 0.4123\n",
      "Epoch 194/200\n",
      "15/15 [==============================] - 0s 5ms/step - loss: 9.8313 - accuracy: 0.3626 - val_loss: 9.0655 - val_accuracy: 0.4123\n",
      "Epoch 195/200\n",
      "15/15 [==============================] - 0s 6ms/step - loss: 9.8313 - accuracy: 0.3626 - val_loss: 9.0655 - val_accuracy: 0.4123\n",
      "Epoch 196/200\n",
      "15/15 [==============================] - 0s 5ms/step - loss: 9.8313 - accuracy: 0.3626 - val_loss: 9.0655 - val_accuracy: 0.4123\n",
      "Epoch 197/200\n",
      "15/15 [==============================] - 0s 6ms/step - loss: 9.8313 - accuracy: 0.3626 - val_loss: 9.0655 - val_accuracy: 0.4123\n",
      "Epoch 198/200\n",
      "15/15 [==============================] - 0s 5ms/step - loss: 9.8313 - accuracy: 0.3626 - val_loss: 9.0655 - val_accuracy: 0.4123\n",
      "Epoch 199/200\n",
      "15/15 [==============================] - 0s 6ms/step - loss: 9.8313 - accuracy: 0.3626 - val_loss: 9.0655 - val_accuracy: 0.4123\n",
      "Epoch 200/200\n",
      "15/15 [==============================] - 0s 5ms/step - loss: 9.8313 - accuracy: 0.3626 - val_loss: 9.0655 - val_accuracy: 0.4123\n"
     ]
    }
   ],
   "source": [
    "history_2d=model_2d.fit(X_train,y_train,validation_data=(X_test,y_test),epochs=200)"
   ]
  },
  {
   "cell_type": "code",
   "execution_count": 54,
   "id": "8b300b64",
   "metadata": {},
   "outputs": [
    {
     "data": {
      "text/plain": [
       "Text(0.5, 1.0, 'Training and validation loss')"
      ]
     },
     "execution_count": 54,
     "metadata": {},
     "output_type": "execute_result"
    },
    {
     "data": {
      "image/png": "[encoded data removed]",
      "text/plain": [
       "<Figure size 432x288 with 1 Axes>"
      ]
     },
     "metadata": {
      "needs_background": "light"
     },
     "output_type": "display_data"
    },
    {
     "data": {
      "image/png": "[encoded data removed]",
      "text/plain": [
       "<Figure size 432x288 with 1 Axes>"
      ]
     },
     "metadata": {
      "needs_background": "light"
     },
     "output_type": "display_data"
    }
   ],
   "source": [
    "acc=history_2d.history['accuracy']\n",
    "val_acc=history_2d.history['val_accuracy']\n",
    "loss=history_2d.history['loss']\n",
    "val_loss=history_2d.history['val_loss']\n",
    "\n",
    "epochs=range(len(acc)) # Get number of epochs\n",
    "\n",
    "#------------------------------------------------\n",
    "# Plot training and validation accuracy per epoch\n",
    "#------------------------------------------------\n",
    "plt.plot(epochs, acc, 'r', \"Training Accuracy\")\n",
    "plt.plot(epochs, val_acc, 'b', \"Validation Accuracy\")\n",
    "plt.title('Training and validation accuracy')\n",
    "plt.figure()\n",
    "\n",
    "#------------------------------------------------\n",
    "# Plot training and validation loss per epoch\n",
    "#------------------------------------------------\n",
    "plt.plot(epochs, loss, 'r', \"Training Loss\")\n",
    "plt.plot(epochs, val_loss, 'b', \"Validation Loss\")\n",
    "\n",
    "\n",
    "plt.title('Training and validation loss')"
   ]
  },
  {
   "cell_type": "code",
   "execution_count": 55,
   "id": "c0138ea3",
   "metadata": {},
   "outputs": [],
   "source": [
    "model_3=tf.keras.Sequential([\n",
    "    tf.keras.layers.Dense(10,activation='relu'),\n",
    "    tf.keras.layers.Dense(20,activation='relu'),\n",
    "    tf.keras.layers.Dense(1,activation='tanh')\n",
    "])"
   ]
  },
  {
   "cell_type": "code",
   "execution_count": 56,
   "id": "4528e167",
   "metadata": {},
   "outputs": [],
   "source": [
    "model_3.compile(optimizer='adam',loss='binary_crossentropy',metrics=['accuracy'])"
   ]
  },
  {
   "cell_type": "code",
   "execution_count": 57,
   "id": "26fbae0e",
   "metadata": {},
   "outputs": [
    {
     "name": "stdout",
     "output_type": "stream",
     "text": [
      "Epoch 1/300\n",
      "15/15 [==============================] - 1s 26ms/step - loss: 1.9638 - accuracy: 0.3626 - val_loss: 1.3874 - val_accuracy: 0.4123\n",
      "Epoch 2/300\n",
      "15/15 [==============================] - 0s 6ms/step - loss: 1.2257 - accuracy: 0.3626 - val_loss: 1.0914 - val_accuracy: 0.4123\n",
      "Epoch 3/300\n",
      "15/15 [==============================] - 0s 8ms/step - loss: 1.0251 - accuracy: 0.3582 - val_loss: 0.9974 - val_accuracy: 0.3947\n",
      "Epoch 4/300\n",
      "15/15 [==============================] - 0s 5ms/step - loss: 0.9529 - accuracy: 0.3297 - val_loss: 0.9402 - val_accuracy: 0.2807\n",
      "Epoch 5/300\n",
      "15/15 [==============================] - 0s 6ms/step - loss: 0.8986 - accuracy: 0.2440 - val_loss: 0.9016 - val_accuracy: 0.1930\n",
      "Epoch 6/300\n",
      "15/15 [==============================] - 0s 5ms/step - loss: 0.8573 - accuracy: 0.1648 - val_loss: 0.8785 - val_accuracy: 0.1316\n",
      "Epoch 7/300\n",
      "15/15 [==============================] - 0s 5ms/step - loss: 0.8314 - accuracy: 0.1912 - val_loss: 0.8628 - val_accuracy: 0.1579\n",
      "Epoch 8/300\n",
      "15/15 [==============================] - 0s 5ms/step - loss: 0.8126 - accuracy: 0.2549 - val_loss: 0.8506 - val_accuracy: 0.1754\n",
      "Epoch 9/300\n",
      "15/15 [==============================] - 0s 6ms/step - loss: 0.8006 - accuracy: 0.3275 - val_loss: 0.8398 - val_accuracy: 0.2193\n",
      "Epoch 10/300\n",
      "15/15 [==============================] - 0s 6ms/step - loss: 0.7899 - accuracy: 0.3736 - val_loss: 0.8280 - val_accuracy: 0.2193\n",
      "Epoch 11/300\n",
      "15/15 [==============================] - 0s 5ms/step - loss: 0.7798 - accuracy: 0.4286 - val_loss: 0.8168 - val_accuracy: 0.2719\n",
      "Epoch 12/300\n",
      "15/15 [==============================] - 0s 6ms/step - loss: 0.7708 - accuracy: 0.4615 - val_loss: 0.8056 - val_accuracy: 0.3158\n",
      "Epoch 13/300\n",
      "15/15 [==============================] - 0s 6ms/step - loss: 0.7620 - accuracy: 0.4747 - val_loss: 0.7936 - val_accuracy: 0.3158\n",
      "Epoch 14/300\n",
      "15/15 [==============================] - 0s 6ms/step - loss: 0.7527 - accuracy: 0.5099 - val_loss: 0.7839 - val_accuracy: 0.3509\n",
      "Epoch 15/300\n",
      "15/15 [==============================] - 0s 5ms/step - loss: 0.7438 - accuracy: 0.5385 - val_loss: 0.7711 - val_accuracy: 0.3421\n",
      "Epoch 16/300\n",
      "15/15 [==============================] - 0s 6ms/step - loss: 0.7348 - accuracy: 0.5385 - val_loss: 0.7592 - val_accuracy: 0.3509\n",
      "Epoch 17/300\n",
      "15/15 [==============================] - 0s 5ms/step - loss: 0.7255 - accuracy: 0.5648 - val_loss: 0.7458 - val_accuracy: 0.3772\n",
      "Epoch 18/300\n",
      "15/15 [==============================] - 0s 6ms/step - loss: 0.7157 - accuracy: 0.5670 - val_loss: 0.7301 - val_accuracy: 0.3684\n",
      "Epoch 19/300\n",
      "15/15 [==============================] - 0s 6ms/step - loss: 0.7044 - accuracy: 0.5758 - val_loss: 0.7156 - val_accuracy: 0.4474\n",
      "Epoch 20/300\n",
      "15/15 [==============================] - 0s 6ms/step - loss: 0.6931 - accuracy: 0.5868 - val_loss: 0.6992 - val_accuracy: 0.5263\n",
      "Epoch 21/300\n",
      "15/15 [==============================] - 0s 6ms/step - loss: 0.6806 - accuracy: 0.6088 - val_loss: 0.6828 - val_accuracy: 0.6140\n",
      "Epoch 22/300\n",
      "15/15 [==============================] - 0s 6ms/step - loss: 0.6678 - accuracy: 0.6440 - val_loss: 0.6653 - val_accuracy: 0.6579\n",
      "Epoch 23/300\n",
      "15/15 [==============================] - 0s 6ms/step - loss: 0.6536 - accuracy: 0.6747 - val_loss: 0.6445 - val_accuracy: 0.6667\n",
      "Epoch 24/300\n",
      "15/15 [==============================] - 0s 7ms/step - loss: 0.6377 - accuracy: 0.7297 - val_loss: 0.6234 - val_accuracy: 0.6842\n",
      "Epoch 25/300\n",
      "15/15 [==============================] - 0s 6ms/step - loss: 0.6216 - accuracy: 0.7912 - val_loss: 0.6028 - val_accuracy: 0.6842\n",
      "Epoch 26/300\n",
      "15/15 [==============================] - 0s 6ms/step - loss: 0.6049 - accuracy: 0.8022 - val_loss: 0.5822 - val_accuracy: 0.6930\n",
      "Epoch 27/300\n",
      "15/15 [==============================] - 0s 6ms/step - loss: 0.5879 - accuracy: 0.8132 - val_loss: 0.5593 - val_accuracy: 0.7632\n",
      "Epoch 28/300\n",
      "15/15 [==============================] - 0s 6ms/step - loss: 0.5711 - accuracy: 0.8286 - val_loss: 0.5371 - val_accuracy: 0.7895\n",
      "Epoch 29/300\n",
      "15/15 [==============================] - 0s 6ms/step - loss: 0.5519 - accuracy: 0.8374 - val_loss: 0.5176 - val_accuracy: 0.7632\n",
      "Epoch 30/300\n",
      "15/15 [==============================] - 0s 6ms/step - loss: 0.5343 - accuracy: 0.8352 - val_loss: 0.4973 - val_accuracy: 0.7807\n",
      "Epoch 31/300\n",
      "15/15 [==============================] - 0s 5ms/step - loss: 0.5159 - accuracy: 0.8527 - val_loss: 0.4797 - val_accuracy: 0.7807\n",
      "Epoch 32/300\n",
      "15/15 [==============================] - 0s 6ms/step - loss: 0.4981 - accuracy: 0.8462 - val_loss: 0.4681 - val_accuracy: 0.7895\n",
      "Epoch 33/300\n",
      "15/15 [==============================] - 0s 6ms/step - loss: 0.4809 - accuracy: 0.8505 - val_loss: 0.4517 - val_accuracy: 0.7895\n",
      "Epoch 34/300\n",
      "15/15 [==============================] - 0s 6ms/step - loss: 0.4646 - accuracy: 0.8593 - val_loss: 0.4387 - val_accuracy: 0.8070\n",
      "Epoch 35/300\n",
      "15/15 [==============================] - 0s 6ms/step - loss: 0.4491 - accuracy: 0.8659 - val_loss: 0.4339 - val_accuracy: 0.8070\n",
      "Epoch 36/300\n",
      "15/15 [==============================] - 0s 6ms/step - loss: 0.4334 - accuracy: 0.8681 - val_loss: 0.4148 - val_accuracy: 0.8158\n",
      "Epoch 37/300\n",
      "15/15 [==============================] - 0s 5ms/step - loss: 0.4201 - accuracy: 0.8659 - val_loss: 0.4024 - val_accuracy: 0.8158\n",
      "Epoch 38/300\n",
      "15/15 [==============================] - 0s 6ms/step - loss: 0.4083 - accuracy: 0.8703 - val_loss: 0.4084 - val_accuracy: 0.8246\n",
      "Epoch 39/300\n",
      "15/15 [==============================] - 0s 5ms/step - loss: 0.3961 - accuracy: 0.8747 - val_loss: 0.3872 - val_accuracy: 0.8246\n",
      "Epoch 40/300\n",
      "15/15 [==============================] - 0s 5ms/step - loss: 0.3858 - accuracy: 0.8703 - val_loss: 0.3800 - val_accuracy: 0.8509\n",
      "Epoch 41/300\n",
      "15/15 [==============================] - 0s 5ms/step - loss: 0.3780 - accuracy: 0.8725 - val_loss: 0.3753 - val_accuracy: 0.8596\n",
      "Epoch 42/300\n",
      "15/15 [==============================] - 0s 6ms/step - loss: 0.3674 - accuracy: 0.8835 - val_loss: 0.4765 - val_accuracy: 0.8509\n",
      "Epoch 43/300\n",
      "15/15 [==============================] - 0s 5ms/step - loss: 0.3601 - accuracy: 0.8791 - val_loss: 0.4703 - val_accuracy: 0.8509\n",
      "Epoch 44/300\n",
      "15/15 [==============================] - 0s 5ms/step - loss: 0.3511 - accuracy: 0.8857 - val_loss: 0.3754 - val_accuracy: 0.8684\n",
      "Epoch 45/300\n",
      "15/15 [==============================] - 0s 5ms/step - loss: 0.3440 - accuracy: 0.8835 - val_loss: 0.3589 - val_accuracy: 0.8684\n",
      "Epoch 46/300\n",
      "15/15 [==============================] - 0s 5ms/step - loss: 0.3374 - accuracy: 0.8813 - val_loss: 0.4365 - val_accuracy: 0.8684\n",
      "Epoch 47/300\n",
      "15/15 [==============================] - 0s 5ms/step - loss: 0.3299 - accuracy: 0.8857 - val_loss: 0.4396 - val_accuracy: 0.8684\n",
      "Epoch 48/300\n",
      "15/15 [==============================] - 0s 5ms/step - loss: 0.3241 - accuracy: 0.8879 - val_loss: 0.4275 - val_accuracy: 0.8684\n",
      "Epoch 49/300\n",
      "15/15 [==============================] - 0s 6ms/step - loss: 0.3168 - accuracy: 0.8945 - val_loss: 0.4225 - val_accuracy: 0.8684\n",
      "Epoch 50/300\n",
      "15/15 [==============================] - 0s 5ms/step - loss: 0.3117 - accuracy: 0.8923 - val_loss: 0.4127 - val_accuracy: 0.8772\n",
      "Epoch 51/300\n",
      "15/15 [==============================] - 0s 5ms/step - loss: 0.3051 - accuracy: 0.8989 - val_loss: 0.4129 - val_accuracy: 0.8772\n",
      "Epoch 52/300\n",
      "15/15 [==============================] - 0s 5ms/step - loss: 0.2996 - accuracy: 0.8989 - val_loss: 0.4080 - val_accuracy: 0.8772\n",
      "Epoch 53/300\n",
      "15/15 [==============================] - 0s 6ms/step - loss: 0.2939 - accuracy: 0.9033 - val_loss: 0.4015 - val_accuracy: 0.8772\n",
      "Epoch 54/300\n",
      "15/15 [==============================] - 0s 5ms/step - loss: 0.2886 - accuracy: 0.9011 - val_loss: 0.3931 - val_accuracy: 0.8772\n",
      "Epoch 55/300\n",
      "15/15 [==============================] - 0s 5ms/step - loss: 0.2841 - accuracy: 0.8989 - val_loss: 0.3865 - val_accuracy: 0.8860\n",
      "Epoch 56/300\n",
      "15/15 [==============================] - 0s 5ms/step - loss: 0.2797 - accuracy: 0.9011 - val_loss: 0.3823 - val_accuracy: 0.8860\n",
      "Epoch 57/300\n",
      "15/15 [==============================] - 0s 5ms/step - loss: 0.2748 - accuracy: 0.9033 - val_loss: 0.3839 - val_accuracy: 0.8772\n",
      "Epoch 58/300\n",
      "15/15 [==============================] - 0s 5ms/step - loss: 0.2702 - accuracy: 0.9033 - val_loss: 0.3789 - val_accuracy: 0.8860\n"
     ]
    },
    {
     "name": "stdout",
     "output_type": "stream",
     "text": [
      "Epoch 59/300\n",
      "15/15 [==============================] - 0s 5ms/step - loss: 0.2675 - accuracy: 0.9077 - val_loss: 0.3763 - val_accuracy: 0.8947\n",
      "Epoch 60/300\n",
      "15/15 [==============================] - 0s 5ms/step - loss: 0.2614 - accuracy: 0.9055 - val_loss: 0.3632 - val_accuracy: 0.9035\n",
      "Epoch 61/300\n",
      "15/15 [==============================] - 0s 5ms/step - loss: 0.2588 - accuracy: 0.9055 - val_loss: 0.3600 - val_accuracy: 0.9035\n",
      "Epoch 62/300\n",
      "15/15 [==============================] - 0s 5ms/step - loss: 0.2549 - accuracy: 0.9033 - val_loss: 0.3623 - val_accuracy: 0.8860\n",
      "Epoch 63/300\n",
      "15/15 [==============================] - 0s 5ms/step - loss: 0.2514 - accuracy: 0.9011 - val_loss: 0.3564 - val_accuracy: 0.9035\n",
      "Epoch 64/300\n",
      "15/15 [==============================] - 0s 5ms/step - loss: 0.2475 - accuracy: 0.9077 - val_loss: 0.3554 - val_accuracy: 0.9035\n",
      "Epoch 65/300\n",
      "15/15 [==============================] - 0s 6ms/step - loss: 0.2444 - accuracy: 0.9099 - val_loss: 0.3557 - val_accuracy: 0.8947\n",
      "Epoch 66/300\n",
      "15/15 [==============================] - 0s 6ms/step - loss: 0.2414 - accuracy: 0.9077 - val_loss: 0.3433 - val_accuracy: 0.9035\n",
      "Epoch 67/300\n",
      "15/15 [==============================] - 0s 6ms/step - loss: 0.2396 - accuracy: 0.9033 - val_loss: 0.2613 - val_accuracy: 0.9035\n",
      "Epoch 68/300\n",
      "15/15 [==============================] - 0s 5ms/step - loss: 0.2345 - accuracy: 0.9121 - val_loss: 0.3543 - val_accuracy: 0.8947\n",
      "Epoch 69/300\n",
      "15/15 [==============================] - 0s 6ms/step - loss: 0.2330 - accuracy: 0.9165 - val_loss: 0.3395 - val_accuracy: 0.9035\n",
      "Epoch 70/300\n",
      "15/15 [==============================] - 0s 5ms/step - loss: 0.2296 - accuracy: 0.9121 - val_loss: 0.3340 - val_accuracy: 0.9035\n",
      "Epoch 71/300\n",
      "15/15 [==============================] - 0s 5ms/step - loss: 0.2274 - accuracy: 0.9121 - val_loss: 0.3379 - val_accuracy: 0.9123\n",
      "Epoch 72/300\n",
      "15/15 [==============================] - 0s 5ms/step - loss: 0.2247 - accuracy: 0.9143 - val_loss: 0.3320 - val_accuracy: 0.9035\n",
      "Epoch 73/300\n",
      "15/15 [==============================] - 0s 5ms/step - loss: 0.2226 - accuracy: 0.9165 - val_loss: 0.3291 - val_accuracy: 0.9035\n",
      "Epoch 74/300\n",
      "15/15 [==============================] - 0s 6ms/step - loss: 0.2220 - accuracy: 0.9165 - val_loss: 0.3344 - val_accuracy: 0.9123\n",
      "Epoch 75/300\n",
      "15/15 [==============================] - 0s 5ms/step - loss: 0.2199 - accuracy: 0.9165 - val_loss: 0.2213 - val_accuracy: 0.9123\n",
      "Epoch 76/300\n",
      "15/15 [==============================] - 0s 5ms/step - loss: 0.2182 - accuracy: 0.9165 - val_loss: 0.3301 - val_accuracy: 0.9123\n",
      "Epoch 77/300\n",
      "15/15 [==============================] - 0s 5ms/step - loss: 0.2138 - accuracy: 0.9187 - val_loss: 0.2146 - val_accuracy: 0.9123\n",
      "Epoch 78/300\n",
      "15/15 [==============================] - 0s 6ms/step - loss: 0.2115 - accuracy: 0.9187 - val_loss: 0.2154 - val_accuracy: 0.9123\n",
      "Epoch 79/300\n",
      "15/15 [==============================] - 0s 6ms/step - loss: 0.2100 - accuracy: 0.9187 - val_loss: 0.2129 - val_accuracy: 0.9123\n",
      "Epoch 80/300\n",
      "15/15 [==============================] - 0s 5ms/step - loss: 0.2077 - accuracy: 0.9209 - val_loss: 0.2005 - val_accuracy: 0.9123\n",
      "Epoch 81/300\n",
      "15/15 [==============================] - 0s 5ms/step - loss: 0.2067 - accuracy: 0.9187 - val_loss: 0.1995 - val_accuracy: 0.9123\n",
      "Epoch 82/300\n",
      "15/15 [==============================] - 0s 5ms/step - loss: 0.2072 - accuracy: 0.9187 - val_loss: 0.2227 - val_accuracy: 0.9211\n",
      "Epoch 83/300\n",
      "15/15 [==============================] - 0s 5ms/step - loss: 0.2029 - accuracy: 0.9209 - val_loss: 0.1945 - val_accuracy: 0.9035\n",
      "Epoch 84/300\n",
      "15/15 [==============================] - 0s 6ms/step - loss: 0.2014 - accuracy: 0.9231 - val_loss: 0.1925 - val_accuracy: 0.9035\n",
      "Epoch 85/300\n",
      "15/15 [==============================] - 0s 5ms/step - loss: 0.2003 - accuracy: 0.9209 - val_loss: 0.1970 - val_accuracy: 0.9123\n",
      "Epoch 86/300\n",
      "15/15 [==============================] - 0s 5ms/step - loss: 0.1980 - accuracy: 0.9209 - val_loss: 0.1985 - val_accuracy: 0.9123\n",
      "Epoch 87/300\n",
      "15/15 [==============================] - 0s 6ms/step - loss: 0.1975 - accuracy: 0.9187 - val_loss: 0.1935 - val_accuracy: 0.9035\n",
      "Epoch 88/300\n",
      "15/15 [==============================] - 0s 5ms/step - loss: 0.1955 - accuracy: 0.9209 - val_loss: 0.1912 - val_accuracy: 0.9035\n",
      "Epoch 89/300\n",
      "15/15 [==============================] - 0s 5ms/step - loss: 0.1944 - accuracy: 0.9231 - val_loss: 0.1872 - val_accuracy: 0.9035\n",
      "Epoch 90/300\n",
      "15/15 [==============================] - 0s 5ms/step - loss: 0.1933 - accuracy: 0.9231 - val_loss: 0.1837 - val_accuracy: 0.8860\n",
      "Epoch 91/300\n",
      "15/15 [==============================] - 0s 5ms/step - loss: 0.1914 - accuracy: 0.9231 - val_loss: 0.1844 - val_accuracy: 0.8947\n",
      "Epoch 92/300\n",
      "15/15 [==============================] - 0s 6ms/step - loss: 0.1900 - accuracy: 0.9253 - val_loss: 0.1854 - val_accuracy: 0.9035\n",
      "Epoch 93/300\n",
      "15/15 [==============================] - 0s 5ms/step - loss: 0.1895 - accuracy: 0.9275 - val_loss: 0.1789 - val_accuracy: 0.8860\n",
      "Epoch 94/300\n",
      "15/15 [==============================] - 0s 5ms/step - loss: 0.1879 - accuracy: 0.9231 - val_loss: 0.1804 - val_accuracy: 0.8860\n",
      "Epoch 95/300\n",
      "15/15 [==============================] - 0s 6ms/step - loss: 0.1868 - accuracy: 0.9253 - val_loss: 0.1785 - val_accuracy: 0.8860\n",
      "Epoch 96/300\n",
      "15/15 [==============================] - 0s 6ms/step - loss: 0.1885 - accuracy: 0.9275 - val_loss: 0.1723 - val_accuracy: 0.8947\n",
      "Epoch 97/300\n",
      "15/15 [==============================] - 0s 5ms/step - loss: 0.1853 - accuracy: 0.9231 - val_loss: 0.1758 - val_accuracy: 0.8860\n",
      "Epoch 98/300\n",
      "15/15 [==============================] - 0s 5ms/step - loss: 0.1844 - accuracy: 0.9297 - val_loss: 0.1790 - val_accuracy: 0.8860\n",
      "Epoch 99/300\n",
      "15/15 [==============================] - 0s 5ms/step - loss: 0.1871 - accuracy: 0.9187 - val_loss: 0.1714 - val_accuracy: 0.8947\n",
      "Epoch 100/300\n",
      "15/15 [==============================] - 0s 6ms/step - loss: 0.1841 - accuracy: 0.9341 - val_loss: 0.1759 - val_accuracy: 0.8860\n",
      "Epoch 101/300\n",
      "15/15 [==============================] - 0s 5ms/step - loss: 0.1808 - accuracy: 0.9231 - val_loss: 0.1671 - val_accuracy: 0.9035\n",
      "Epoch 102/300\n",
      "15/15 [==============================] - 0s 5ms/step - loss: 0.1815 - accuracy: 0.9231 - val_loss: 0.1706 - val_accuracy: 0.8947\n",
      "Epoch 103/300\n",
      "15/15 [==============================] - 0s 7ms/step - loss: 0.1792 - accuracy: 0.9253 - val_loss: 0.1757 - val_accuracy: 0.8947\n",
      "Epoch 104/300\n",
      "15/15 [==============================] - 0s 5ms/step - loss: 0.1803 - accuracy: 0.9209 - val_loss: 0.1709 - val_accuracy: 0.8860\n",
      "Epoch 105/300\n",
      "15/15 [==============================] - 0s 5ms/step - loss: 0.1788 - accuracy: 0.9231 - val_loss: 0.1659 - val_accuracy: 0.9035\n",
      "Epoch 106/300\n",
      "15/15 [==============================] - 0s 6ms/step - loss: 0.1789 - accuracy: 0.9297 - val_loss: 0.1696 - val_accuracy: 0.8860\n",
      "Epoch 107/300\n",
      "15/15 [==============================] - 0s 5ms/step - loss: 0.1778 - accuracy: 0.9231 - val_loss: 0.1675 - val_accuracy: 0.8947\n",
      "Epoch 108/300\n",
      "15/15 [==============================] - 0s 5ms/step - loss: 0.1755 - accuracy: 0.9253 - val_loss: 0.1677 - val_accuracy: 0.8947\n",
      "Epoch 109/300\n",
      "15/15 [==============================] - 0s 5ms/step - loss: 0.1773 - accuracy: 0.9275 - val_loss: 0.1641 - val_accuracy: 0.9035\n",
      "Epoch 110/300\n",
      "15/15 [==============================] - 0s 5ms/step - loss: 0.1749 - accuracy: 0.9275 - val_loss: 0.1641 - val_accuracy: 0.8947\n",
      "Epoch 111/300\n",
      "15/15 [==============================] - 0s 5ms/step - loss: 0.1740 - accuracy: 0.9253 - val_loss: 0.1640 - val_accuracy: 0.8947\n",
      "Epoch 112/300\n",
      "15/15 [==============================] - 0s 5ms/step - loss: 0.1730 - accuracy: 0.9275 - val_loss: 0.1630 - val_accuracy: 0.9035\n",
      "Epoch 113/300\n",
      "15/15 [==============================] - 0s 6ms/step - loss: 0.1730 - accuracy: 0.9297 - val_loss: 0.1625 - val_accuracy: 0.9035\n",
      "Epoch 114/300\n",
      "15/15 [==============================] - 0s 5ms/step - loss: 0.1715 - accuracy: 0.9275 - val_loss: 0.1610 - val_accuracy: 0.9035\n",
      "Epoch 115/300\n",
      "15/15 [==============================] - 0s 5ms/step - loss: 0.1723 - accuracy: 0.9297 - val_loss: 0.1618 - val_accuracy: 0.9035\n",
      "Epoch 116/300\n"
     ]
    },
    {
     "name": "stdout",
     "output_type": "stream",
     "text": [
      "15/15 [==============================] - 0s 6ms/step - loss: 0.1733 - accuracy: 0.9253 - val_loss: 0.1607 - val_accuracy: 0.9035\n",
      "Epoch 117/300\n",
      "15/15 [==============================] - 0s 6ms/step - loss: 0.1721 - accuracy: 0.9319 - val_loss: 0.1606 - val_accuracy: 0.9035\n",
      "Epoch 118/300\n",
      "15/15 [==============================] - 0s 6ms/step - loss: 0.1697 - accuracy: 0.9253 - val_loss: 0.1589 - val_accuracy: 0.9123\n",
      "Epoch 119/300\n",
      "15/15 [==============================] - 0s 6ms/step - loss: 0.1702 - accuracy: 0.9253 - val_loss: 0.1593 - val_accuracy: 0.9035\n",
      "Epoch 120/300\n",
      "15/15 [==============================] - 0s 5ms/step - loss: 0.1700 - accuracy: 0.9319 - val_loss: 0.1592 - val_accuracy: 0.9035\n",
      "Epoch 121/300\n",
      "15/15 [==============================] - 0s 5ms/step - loss: 0.1693 - accuracy: 0.9275 - val_loss: 0.1590 - val_accuracy: 0.9035\n",
      "Epoch 122/300\n",
      "15/15 [==============================] - 0s 6ms/step - loss: 0.1682 - accuracy: 0.9297 - val_loss: 0.1588 - val_accuracy: 0.9035\n",
      "Epoch 123/300\n",
      "15/15 [==============================] - 0s 6ms/step - loss: 0.1683 - accuracy: 0.9319 - val_loss: 0.1590 - val_accuracy: 0.9035\n",
      "Epoch 124/300\n",
      "15/15 [==============================] - 0s 5ms/step - loss: 0.1686 - accuracy: 0.9319 - val_loss: 0.1571 - val_accuracy: 0.9211\n",
      "Epoch 125/300\n",
      "15/15 [==============================] - 0s 6ms/step - loss: 0.1678 - accuracy: 0.9253 - val_loss: 0.1571 - val_accuracy: 0.9123\n",
      "Epoch 126/300\n",
      "15/15 [==============================] - 0s 6ms/step - loss: 0.1725 - accuracy: 0.9319 - val_loss: 0.1565 - val_accuracy: 0.9211\n",
      "Epoch 127/300\n",
      "15/15 [==============================] - 0s 6ms/step - loss: 0.1703 - accuracy: 0.9209 - val_loss: 0.1576 - val_accuracy: 0.9298\n",
      "Epoch 128/300\n",
      "15/15 [==============================] - 0s 6ms/step - loss: 0.1678 - accuracy: 0.9209 - val_loss: 0.1566 - val_accuracy: 0.9211\n",
      "Epoch 129/300\n",
      "15/15 [==============================] - 0s 5ms/step - loss: 0.1659 - accuracy: 0.9297 - val_loss: 0.1577 - val_accuracy: 0.9035\n",
      "Epoch 130/300\n",
      "15/15 [==============================] - 0s 5ms/step - loss: 0.1663 - accuracy: 0.9319 - val_loss: 0.1558 - val_accuracy: 0.9211\n",
      "Epoch 131/300\n",
      "15/15 [==============================] - 0s 5ms/step - loss: 0.1654 - accuracy: 0.9275 - val_loss: 0.1560 - val_accuracy: 0.9211\n",
      "Epoch 132/300\n",
      "15/15 [==============================] - 0s 6ms/step - loss: 0.1664 - accuracy: 0.9319 - val_loss: 0.1557 - val_accuracy: 0.9211\n",
      "Epoch 133/300\n",
      "15/15 [==============================] - 0s 6ms/step - loss: 0.1660 - accuracy: 0.9231 - val_loss: 0.1555 - val_accuracy: 0.9211\n",
      "Epoch 134/300\n",
      "15/15 [==============================] - 0s 6ms/step - loss: 0.1646 - accuracy: 0.9319 - val_loss: 0.1561 - val_accuracy: 0.9035\n",
      "Epoch 135/300\n",
      "15/15 [==============================] - 0s 6ms/step - loss: 0.1650 - accuracy: 0.9319 - val_loss: 0.1552 - val_accuracy: 0.9211\n",
      "Epoch 136/300\n",
      "15/15 [==============================] - 0s 6ms/step - loss: 0.1647 - accuracy: 0.9297 - val_loss: 0.1551 - val_accuracy: 0.9211\n",
      "Epoch 137/300\n",
      "15/15 [==============================] - 0s 5ms/step - loss: 0.1648 - accuracy: 0.9275 - val_loss: 0.1549 - val_accuracy: 0.9211\n",
      "Epoch 138/300\n",
      "15/15 [==============================] - 0s 5ms/step - loss: 0.1645 - accuracy: 0.9275 - val_loss: 0.1547 - val_accuracy: 0.9211\n",
      "Epoch 139/300\n",
      "15/15 [==============================] - 0s 5ms/step - loss: 0.1645 - accuracy: 0.9253 - val_loss: 0.1546 - val_accuracy: 0.9211\n",
      "Epoch 140/300\n",
      "15/15 [==============================] - 0s 6ms/step - loss: 0.1676 - accuracy: 0.9231 - val_loss: 0.1560 - val_accuracy: 0.9298\n",
      "Epoch 141/300\n",
      "15/15 [==============================] - 0s 5ms/step - loss: 0.1638 - accuracy: 0.9297 - val_loss: 0.1558 - val_accuracy: 0.9123\n",
      "Epoch 142/300\n",
      "15/15 [==============================] - 0s 6ms/step - loss: 0.1639 - accuracy: 0.9319 - val_loss: 0.1544 - val_accuracy: 0.9211\n",
      "Epoch 143/300\n",
      "15/15 [==============================] - 0s 6ms/step - loss: 0.1642 - accuracy: 0.9275 - val_loss: 0.1543 - val_accuracy: 0.9211\n",
      "Epoch 144/300\n",
      "15/15 [==============================] - 0s 5ms/step - loss: 0.1648 - accuracy: 0.9231 - val_loss: 0.1545 - val_accuracy: 0.9211\n",
      "Epoch 145/300\n",
      "15/15 [==============================] - 0s 5ms/step - loss: 0.1644 - accuracy: 0.9319 - val_loss: 0.1542 - val_accuracy: 0.9211\n",
      "Epoch 146/300\n",
      "15/15 [==============================] - 0s 6ms/step - loss: 0.1881 - accuracy: 0.9055 - val_loss: 0.1712 - val_accuracy: 0.9298\n",
      "Epoch 147/300\n",
      "15/15 [==============================] - 0s 6ms/step - loss: 0.1740 - accuracy: 0.9231 - val_loss: 0.1547 - val_accuracy: 0.9211\n",
      "Epoch 148/300\n",
      "15/15 [==============================] - 0s 5ms/step - loss: 0.1669 - accuracy: 0.9385 - val_loss: 0.1544 - val_accuracy: 0.9211\n",
      "Epoch 149/300\n",
      "15/15 [==============================] - 0s 5ms/step - loss: 0.1708 - accuracy: 0.9253 - val_loss: 0.1580 - val_accuracy: 0.9298\n",
      "Epoch 150/300\n",
      "15/15 [==============================] - 0s 6ms/step - loss: 0.1645 - accuracy: 0.9231 - val_loss: 0.1547 - val_accuracy: 0.9211\n",
      "Epoch 151/300\n",
      "15/15 [==============================] - 0s 6ms/step - loss: 0.1649 - accuracy: 0.9297 - val_loss: 0.1545 - val_accuracy: 0.9298\n",
      "Epoch 152/300\n",
      "15/15 [==============================] - 0s 5ms/step - loss: 0.1638 - accuracy: 0.9231 - val_loss: 0.1539 - val_accuracy: 0.9211\n",
      "Epoch 153/300\n",
      "15/15 [==============================] - 0s 6ms/step - loss: 0.1628 - accuracy: 0.9319 - val_loss: 0.1541 - val_accuracy: 0.9211\n",
      "Epoch 154/300\n",
      "15/15 [==============================] - 0s 6ms/step - loss: 0.1640 - accuracy: 0.9363 - val_loss: 0.1538 - val_accuracy: 0.9211\n",
      "Epoch 155/300\n",
      "15/15 [==============================] - 0s 5ms/step - loss: 0.1640 - accuracy: 0.9253 - val_loss: 0.1548 - val_accuracy: 0.9298\n",
      "Epoch 156/300\n",
      "15/15 [==============================] - 0s 6ms/step - loss: 0.1619 - accuracy: 0.9253 - val_loss: 0.1538 - val_accuracy: 0.9211\n",
      "Epoch 157/300\n",
      "15/15 [==============================] - 0s 6ms/step - loss: 0.1633 - accuracy: 0.9319 - val_loss: 0.1538 - val_accuracy: 0.9211\n",
      "Epoch 158/300\n",
      "15/15 [==============================] - 0s 5ms/step - loss: 0.1616 - accuracy: 0.9275 - val_loss: 0.1536 - val_accuracy: 0.9211\n",
      "Epoch 159/300\n",
      "15/15 [==============================] - 0s 6ms/step - loss: 0.1619 - accuracy: 0.9319 - val_loss: 0.1535 - val_accuracy: 0.9211\n",
      "Epoch 160/300\n",
      "15/15 [==============================] - 0s 6ms/step - loss: 0.1625 - accuracy: 0.9275 - val_loss: 0.1536 - val_accuracy: 0.9211\n",
      "Epoch 161/300\n",
      "15/15 [==============================] - 0s 8ms/step - loss: 0.1619 - accuracy: 0.9275 - val_loss: 0.1535 - val_accuracy: 0.9211\n",
      "Epoch 162/300\n",
      "15/15 [==============================] - 0s 6ms/step - loss: 0.1619 - accuracy: 0.9319 - val_loss: 0.1538 - val_accuracy: 0.9211\n",
      "Epoch 163/300\n",
      "15/15 [==============================] - 0s 5ms/step - loss: 0.1632 - accuracy: 0.9253 - val_loss: 0.1534 - val_accuracy: 0.9211\n",
      "Epoch 164/300\n",
      "15/15 [==============================] - 0s 6ms/step - loss: 0.1614 - accuracy: 0.9297 - val_loss: 0.1534 - val_accuracy: 0.9211\n",
      "Epoch 165/300\n",
      "15/15 [==============================] - 0s 6ms/step - loss: 0.1632 - accuracy: 0.9275 - val_loss: 0.1538 - val_accuracy: 0.9211\n",
      "Epoch 166/300\n",
      "15/15 [==============================] - 0s 5ms/step - loss: 0.1632 - accuracy: 0.9297 - val_loss: 0.1535 - val_accuracy: 0.9211\n",
      "Epoch 167/300\n",
      "15/15 [==============================] - 0s 7ms/step - loss: 0.1613 - accuracy: 0.9297 - val_loss: 0.1533 - val_accuracy: 0.9211\n",
      "Epoch 168/300\n",
      "15/15 [==============================] - 0s 6ms/step - loss: 0.1633 - accuracy: 0.9319 - val_loss: 0.1535 - val_accuracy: 0.9211\n",
      "Epoch 169/300\n",
      "15/15 [==============================] - 0s 5ms/step - loss: 0.1614 - accuracy: 0.9275 - val_loss: 0.1533 - val_accuracy: 0.9211\n",
      "Epoch 170/300\n",
      "15/15 [==============================] - 0s 5ms/step - loss: 0.1623 - accuracy: 0.9297 - val_loss: 0.1532 - val_accuracy: 0.9211\n",
      "Epoch 171/300\n",
      "15/15 [==============================] - 0s 6ms/step - loss: 0.1610 - accuracy: 0.9275 - val_loss: 0.1534 - val_accuracy: 0.9211\n",
      "Epoch 172/300\n",
      "15/15 [==============================] - 0s 7ms/step - loss: 0.1611 - accuracy: 0.9275 - val_loss: 0.1532 - val_accuracy: 0.9211\n",
      "Epoch 173/300\n"
     ]
    },
    {
     "name": "stdout",
     "output_type": "stream",
     "text": [
      "15/15 [==============================] - 0s 5ms/step - loss: 0.1628 - accuracy: 0.9297 - val_loss: 0.1532 - val_accuracy: 0.9211\n",
      "Epoch 174/300\n",
      "15/15 [==============================] - 0s 5ms/step - loss: 0.1653 - accuracy: 0.9363 - val_loss: 0.1864 - val_accuracy: 0.9123\n",
      "Epoch 175/300\n",
      "15/15 [==============================] - 0s 6ms/step - loss: 0.2874 - accuracy: 0.8637 - val_loss: 0.2724 - val_accuracy: 0.8684\n",
      "Epoch 176/300\n",
      "15/15 [==============================] - 0s 6ms/step - loss: 0.2662 - accuracy: 0.8703 - val_loss: 0.1876 - val_accuracy: 0.9211\n",
      "Epoch 177/300\n",
      "15/15 [==============================] - 0s 6ms/step - loss: 0.1813 - accuracy: 0.9165 - val_loss: 0.1541 - val_accuracy: 0.9298\n",
      "Epoch 178/300\n",
      "15/15 [==============================] - 0s 6ms/step - loss: 0.1605 - accuracy: 0.9319 - val_loss: 0.1547 - val_accuracy: 0.9123\n",
      "Epoch 179/300\n",
      "15/15 [==============================] - 0s 6ms/step - loss: 0.1640 - accuracy: 0.9319 - val_loss: 0.1535 - val_accuracy: 0.9298\n",
      "Epoch 180/300\n",
      "15/15 [==============================] - 0s 5ms/step - loss: 0.1620 - accuracy: 0.9275 - val_loss: 0.1533 - val_accuracy: 0.9211\n",
      "Epoch 181/300\n",
      "15/15 [==============================] - 0s 6ms/step - loss: 0.1615 - accuracy: 0.9319 - val_loss: 0.1532 - val_accuracy: 0.9211\n",
      "Epoch 182/300\n",
      "15/15 [==============================] - 0s 5ms/step - loss: 0.1614 - accuracy: 0.9275 - val_loss: 0.1533 - val_accuracy: 0.9211\n",
      "Epoch 183/300\n",
      "15/15 [==============================] - 0s 5ms/step - loss: 0.1622 - accuracy: 0.9319 - val_loss: 0.1533 - val_accuracy: 0.9211\n",
      "Epoch 184/300\n",
      "15/15 [==============================] - 0s 6ms/step - loss: 0.1637 - accuracy: 0.9275 - val_loss: 0.1537 - val_accuracy: 0.9298\n",
      "Epoch 185/300\n",
      "15/15 [==============================] - 0s 6ms/step - loss: 0.1603 - accuracy: 0.9297 - val_loss: 0.1534 - val_accuracy: 0.9211\n",
      "Epoch 186/300\n",
      "15/15 [==============================] - 0s 5ms/step - loss: 0.1631 - accuracy: 0.9319 - val_loss: 0.1532 - val_accuracy: 0.9211\n",
      "Epoch 187/300\n",
      "15/15 [==============================] - 0s 6ms/step - loss: 0.1616 - accuracy: 0.9275 - val_loss: 0.1533 - val_accuracy: 0.9211\n",
      "Epoch 188/300\n",
      "15/15 [==============================] - 0s 6ms/step - loss: 0.1613 - accuracy: 0.9275 - val_loss: 0.1536 - val_accuracy: 0.9211\n",
      "Epoch 189/300\n",
      "15/15 [==============================] - 0s 6ms/step - loss: 0.1607 - accuracy: 0.9275 - val_loss: 0.1532 - val_accuracy: 0.9211\n",
      "Epoch 190/300\n",
      "15/15 [==============================] - 0s 6ms/step - loss: 0.1632 - accuracy: 0.9341 - val_loss: 0.1531 - val_accuracy: 0.9211\n",
      "Epoch 191/300\n",
      "15/15 [==============================] - 0s 5ms/step - loss: 0.1615 - accuracy: 0.9253 - val_loss: 0.1540 - val_accuracy: 0.9298\n",
      "Epoch 192/300\n",
      "15/15 [==============================] - 0s 6ms/step - loss: 0.1610 - accuracy: 0.9297 - val_loss: 0.1531 - val_accuracy: 0.9211\n",
      "Epoch 193/300\n",
      "15/15 [==============================] - 0s 10ms/step - loss: 0.1612 - accuracy: 0.9275 - val_loss: 0.1531 - val_accuracy: 0.9211\n",
      "Epoch 194/300\n",
      "15/15 [==============================] - 0s 6ms/step - loss: 0.1610 - accuracy: 0.9319 - val_loss: 0.1531 - val_accuracy: 0.9211\n",
      "Epoch 195/300\n",
      "15/15 [==============================] - 0s 6ms/step - loss: 0.1610 - accuracy: 0.9319 - val_loss: 0.1531 - val_accuracy: 0.9211\n",
      "Epoch 196/300\n",
      "15/15 [==============================] - 0s 5ms/step - loss: 0.1616 - accuracy: 0.9275 - val_loss: 0.1535 - val_accuracy: 0.9211\n",
      "Epoch 197/300\n",
      "15/15 [==============================] - 0s 6ms/step - loss: 0.1601 - accuracy: 0.9297 - val_loss: 0.1531 - val_accuracy: 0.9211\n",
      "Epoch 198/300\n",
      "15/15 [==============================] - 0s 6ms/step - loss: 0.1609 - accuracy: 0.9319 - val_loss: 0.1531 - val_accuracy: 0.9211\n",
      "Epoch 199/300\n",
      "15/15 [==============================] - 0s 8ms/step - loss: 0.1614 - accuracy: 0.9275 - val_loss: 0.1531 - val_accuracy: 0.9211\n",
      "Epoch 200/300\n",
      "15/15 [==============================] - 0s 6ms/step - loss: 0.1598 - accuracy: 0.9297 - val_loss: 0.1533 - val_accuracy: 0.9211\n",
      "Epoch 201/300\n",
      "15/15 [==============================] - 0s 6ms/step - loss: 0.1608 - accuracy: 0.9319 - val_loss: 0.1531 - val_accuracy: 0.9211\n",
      "Epoch 202/300\n",
      "15/15 [==============================] - 0s 5ms/step - loss: 0.1601 - accuracy: 0.9319 - val_loss: 0.1530 - val_accuracy: 0.9211\n",
      "Epoch 203/300\n",
      "15/15 [==============================] - 0s 6ms/step - loss: 0.1603 - accuracy: 0.9275 - val_loss: 0.1532 - val_accuracy: 0.9211\n",
      "Epoch 204/300\n",
      "15/15 [==============================] - 0s 5ms/step - loss: 0.1602 - accuracy: 0.9275 - val_loss: 0.1530 - val_accuracy: 0.9211\n",
      "Epoch 205/300\n",
      "15/15 [==============================] - 0s 5ms/step - loss: 0.1602 - accuracy: 0.9319 - val_loss: 0.1530 - val_accuracy: 0.9211\n",
      "Epoch 206/300\n",
      "15/15 [==============================] - 0s 5ms/step - loss: 0.1605 - accuracy: 0.9297 - val_loss: 0.1530 - val_accuracy: 0.9211\n",
      "Epoch 207/300\n",
      "15/15 [==============================] - 0s 6ms/step - loss: 0.1604 - accuracy: 0.9297 - val_loss: 0.1530 - val_accuracy: 0.9211\n",
      "Epoch 208/300\n",
      "15/15 [==============================] - 0s 5ms/step - loss: 0.1609 - accuracy: 0.9253 - val_loss: 0.1540 - val_accuracy: 0.9211\n",
      "Epoch 209/300\n",
      "15/15 [==============================] - 0s 5ms/step - loss: 0.1641 - accuracy: 0.9275 - val_loss: 0.1530 - val_accuracy: 0.9211\n",
      "Epoch 210/300\n",
      "15/15 [==============================] - 0s 5ms/step - loss: 0.1630 - accuracy: 0.9253 - val_loss: 0.1576 - val_accuracy: 0.9386\n",
      "Epoch 211/300\n",
      "15/15 [==============================] - 0s 5ms/step - loss: 0.1639 - accuracy: 0.9187 - val_loss: 0.1532 - val_accuracy: 0.9211\n",
      "Epoch 212/300\n",
      "15/15 [==============================] - 0s 5ms/step - loss: 0.1608 - accuracy: 0.9319 - val_loss: 0.1539 - val_accuracy: 0.9211\n",
      "Epoch 213/300\n",
      "15/15 [==============================] - 0s 5ms/step - loss: 0.1618 - accuracy: 0.9319 - val_loss: 0.1544 - val_accuracy: 0.9298\n",
      "Epoch 214/300\n",
      "15/15 [==============================] - 0s 6ms/step - loss: 0.1604 - accuracy: 0.9253 - val_loss: 0.1530 - val_accuracy: 0.9211\n",
      "Epoch 215/300\n",
      "15/15 [==============================] - 0s 5ms/step - loss: 0.1602 - accuracy: 0.9319 - val_loss: 0.1530 - val_accuracy: 0.9211\n",
      "Epoch 216/300\n",
      "15/15 [==============================] - 0s 5ms/step - loss: 0.1600 - accuracy: 0.9275 - val_loss: 0.1535 - val_accuracy: 0.9211\n",
      "Epoch 217/300\n",
      "15/15 [==============================] - 0s 5ms/step - loss: 0.1602 - accuracy: 0.9275 - val_loss: 0.1529 - val_accuracy: 0.9211\n",
      "Epoch 218/300\n",
      "15/15 [==============================] - 0s 6ms/step - loss: 0.1602 - accuracy: 0.9275 - val_loss: 0.1530 - val_accuracy: 0.9211\n",
      "Epoch 219/300\n",
      "15/15 [==============================] - 0s 6ms/step - loss: 0.1605 - accuracy: 0.9297 - val_loss: 0.1530 - val_accuracy: 0.9211\n",
      "Epoch 220/300\n",
      "15/15 [==============================] - 0s 5ms/step - loss: 0.1602 - accuracy: 0.9297 - val_loss: 0.1531 - val_accuracy: 0.9211\n",
      "Epoch 221/300\n",
      "15/15 [==============================] - 0s 5ms/step - loss: 0.1603 - accuracy: 0.9275 - val_loss: 0.1532 - val_accuracy: 0.9211\n",
      "Epoch 222/300\n",
      "15/15 [==============================] - 0s 6ms/step - loss: 0.1609 - accuracy: 0.9275 - val_loss: 0.1529 - val_accuracy: 0.9211\n",
      "Epoch 223/300\n",
      "15/15 [==============================] - 0s 6ms/step - loss: 0.1602 - accuracy: 0.9275 - val_loss: 0.1529 - val_accuracy: 0.9211\n",
      "Epoch 224/300\n",
      "15/15 [==============================] - 0s 5ms/step - loss: 0.1604 - accuracy: 0.9253 - val_loss: 0.1535 - val_accuracy: 0.9211\n",
      "Epoch 225/300\n",
      "15/15 [==============================] - 0s 5ms/step - loss: 0.1599 - accuracy: 0.9253 - val_loss: 0.1530 - val_accuracy: 0.9211\n",
      "Epoch 226/300\n",
      "15/15 [==============================] - 0s 5ms/step - loss: 0.1602 - accuracy: 0.9319 - val_loss: 0.1530 - val_accuracy: 0.9211\n",
      "Epoch 227/300\n",
      "15/15 [==============================] - 0s 5ms/step - loss: 0.1622 - accuracy: 0.9253 - val_loss: 0.1537 - val_accuracy: 0.9211\n",
      "Epoch 228/300\n",
      "15/15 [==============================] - 0s 5ms/step - loss: 0.1611 - accuracy: 0.9297 - val_loss: 0.1529 - val_accuracy: 0.9211\n",
      "Epoch 229/300\n",
      "15/15 [==============================] - 0s 5ms/step - loss: 0.1636 - accuracy: 0.9319 - val_loss: 0.1590 - val_accuracy: 0.9386\n",
      "Epoch 230/300\n"
     ]
    },
    {
     "name": "stdout",
     "output_type": "stream",
     "text": [
      "15/15 [==============================] - 0s 6ms/step - loss: 0.1734 - accuracy: 0.9187 - val_loss: 0.1596 - val_accuracy: 0.9386\n",
      "Epoch 231/300\n",
      "15/15 [==============================] - 0s 5ms/step - loss: 0.1624 - accuracy: 0.9253 - val_loss: 0.1533 - val_accuracy: 0.9211\n",
      "Epoch 232/300\n",
      "15/15 [==============================] - 0s 6ms/step - loss: 0.1647 - accuracy: 0.9253 - val_loss: 0.1593 - val_accuracy: 0.9386\n",
      "Epoch 233/300\n",
      "15/15 [==============================] - 0s 5ms/step - loss: 0.1697 - accuracy: 0.9165 - val_loss: 0.1578 - val_accuracy: 0.9386\n",
      "Epoch 234/300\n",
      "15/15 [==============================] - 0s 5ms/step - loss: 0.1613 - accuracy: 0.9275 - val_loss: 0.1531 - val_accuracy: 0.9211\n",
      "Epoch 235/300\n",
      "15/15 [==============================] - 0s 5ms/step - loss: 0.1628 - accuracy: 0.9363 - val_loss: 0.1532 - val_accuracy: 0.9211\n",
      "Epoch 236/300\n",
      "15/15 [==============================] - 0s 6ms/step - loss: 0.1615 - accuracy: 0.9209 - val_loss: 0.1557 - val_accuracy: 0.9298\n",
      "Epoch 237/300\n",
      "15/15 [==============================] - 0s 5ms/step - loss: 0.1613 - accuracy: 0.9297 - val_loss: 0.1532 - val_accuracy: 0.9211\n",
      "Epoch 238/300\n",
      "15/15 [==============================] - 0s 5ms/step - loss: 0.1595 - accuracy: 0.9297 - val_loss: 0.1529 - val_accuracy: 0.9211\n",
      "Epoch 239/300\n",
      "15/15 [==============================] - 0s 5ms/step - loss: 0.1597 - accuracy: 0.9275 - val_loss: 0.1529 - val_accuracy: 0.9211\n",
      "Epoch 240/300\n",
      "15/15 [==============================] - 0s 5ms/step - loss: 0.1622 - accuracy: 0.9275 - val_loss: 0.1529 - val_accuracy: 0.9211\n",
      "Epoch 241/300\n",
      "15/15 [==============================] - 0s 5ms/step - loss: 0.1599 - accuracy: 0.9275 - val_loss: 0.1530 - val_accuracy: 0.9211\n",
      "Epoch 242/300\n",
      "15/15 [==============================] - 0s 5ms/step - loss: 0.1609 - accuracy: 0.9253 - val_loss: 0.1529 - val_accuracy: 0.9211\n",
      "Epoch 243/300\n",
      "15/15 [==============================] - 0s 6ms/step - loss: 0.1594 - accuracy: 0.9275 - val_loss: 0.1530 - val_accuracy: 0.9211\n",
      "Epoch 244/300\n",
      "15/15 [==============================] - 0s 5ms/step - loss: 0.1602 - accuracy: 0.9297 - val_loss: 0.1530 - val_accuracy: 0.9211\n",
      "Epoch 245/300\n",
      "15/15 [==============================] - 0s 5ms/step - loss: 0.1616 - accuracy: 0.9253 - val_loss: 0.1530 - val_accuracy: 0.9211\n",
      "Epoch 246/300\n",
      "15/15 [==============================] - 0s 5ms/step - loss: 0.1601 - accuracy: 0.9275 - val_loss: 0.1530 - val_accuracy: 0.9211\n",
      "Epoch 247/300\n",
      "15/15 [==============================] - 0s 5ms/step - loss: 0.1608 - accuracy: 0.9275 - val_loss: 0.1530 - val_accuracy: 0.9211\n",
      "Epoch 248/300\n",
      "15/15 [==============================] - 0s 5ms/step - loss: 0.1649 - accuracy: 0.9363 - val_loss: 0.1580 - val_accuracy: 0.9386\n",
      "Epoch 249/300\n",
      "15/15 [==============================] - 0s 6ms/step - loss: 0.1809 - accuracy: 0.9209 - val_loss: 0.1679 - val_accuracy: 0.9386\n",
      "Epoch 250/300\n",
      "15/15 [==============================] - 0s 5ms/step - loss: 0.1631 - accuracy: 0.9187 - val_loss: 0.1546 - val_accuracy: 0.9211\n",
      "Epoch 251/300\n",
      "15/15 [==============================] - 0s 5ms/step - loss: 0.1637 - accuracy: 0.9341 - val_loss: 0.1539 - val_accuracy: 0.9298\n",
      "Epoch 252/300\n",
      "15/15 [==============================] - 0s 6ms/step - loss: 0.1622 - accuracy: 0.9297 - val_loss: 0.1529 - val_accuracy: 0.9211\n",
      "Epoch 253/300\n",
      "15/15 [==============================] - 0s 5ms/step - loss: 0.1627 - accuracy: 0.9319 - val_loss: 0.1529 - val_accuracy: 0.9211\n",
      "Epoch 254/300\n",
      "15/15 [==============================] - 0s 5ms/step - loss: 0.1629 - accuracy: 0.9253 - val_loss: 0.1548 - val_accuracy: 0.9298\n",
      "Epoch 255/300\n",
      "15/15 [==============================] - 0s 5ms/step - loss: 0.1643 - accuracy: 0.9297 - val_loss: 0.1530 - val_accuracy: 0.9211\n",
      "Epoch 256/300\n",
      "15/15 [==============================] - 0s 6ms/step - loss: 0.1596 - accuracy: 0.9275 - val_loss: 0.1529 - val_accuracy: 0.9211\n",
      "Epoch 257/300\n",
      "15/15 [==============================] - 0s 6ms/step - loss: 0.1604 - accuracy: 0.9275 - val_loss: 0.1528 - val_accuracy: 0.9211\n",
      "Epoch 258/300\n",
      "15/15 [==============================] - 0s 5ms/step - loss: 0.1597 - accuracy: 0.9319 - val_loss: 0.1531 - val_accuracy: 0.9211\n",
      "Epoch 259/300\n",
      "15/15 [==============================] - 0s 6ms/step - loss: 0.1599 - accuracy: 0.9275 - val_loss: 0.1530 - val_accuracy: 0.9211\n",
      "Epoch 260/300\n",
      "15/15 [==============================] - 0s 5ms/step - loss: 0.1596 - accuracy: 0.9275 - val_loss: 0.1529 - val_accuracy: 0.9211\n",
      "Epoch 261/300\n",
      "15/15 [==============================] - 0s 6ms/step - loss: 0.1599 - accuracy: 0.9297 - val_loss: 0.1531 - val_accuracy: 0.9211\n",
      "Epoch 262/300\n",
      "15/15 [==============================] - 0s 5ms/step - loss: 0.1599 - accuracy: 0.9275 - val_loss: 0.1531 - val_accuracy: 0.9211\n",
      "Epoch 263/300\n",
      "15/15 [==============================] - 0s 5ms/step - loss: 0.1601 - accuracy: 0.9297 - val_loss: 0.1529 - val_accuracy: 0.9211\n",
      "Epoch 264/300\n",
      "15/15 [==============================] - 0s 5ms/step - loss: 0.1596 - accuracy: 0.9297 - val_loss: 0.1531 - val_accuracy: 0.9211\n",
      "Epoch 265/300\n",
      "15/15 [==============================] - 0s 5ms/step - loss: 0.1685 - accuracy: 0.9209 - val_loss: 0.1607 - val_accuracy: 0.9386\n",
      "Epoch 266/300\n",
      "15/15 [==============================] - 0s 5ms/step - loss: 0.1656 - accuracy: 0.9275 - val_loss: 0.1531 - val_accuracy: 0.9211\n",
      "Epoch 267/300\n",
      "15/15 [==============================] - 0s 5ms/step - loss: 0.1599 - accuracy: 0.9297 - val_loss: 0.1530 - val_accuracy: 0.9211\n",
      "Epoch 268/300\n",
      "15/15 [==============================] - 0s 5ms/step - loss: 0.1621 - accuracy: 0.9253 - val_loss: 0.1544 - val_accuracy: 0.9298\n",
      "Epoch 269/300\n",
      "15/15 [==============================] - 0s 6ms/step - loss: 0.1625 - accuracy: 0.9297 - val_loss: 0.1532 - val_accuracy: 0.9211\n",
      "Epoch 270/300\n",
      "15/15 [==============================] - 0s 5ms/step - loss: 0.1607 - accuracy: 0.9297 - val_loss: 0.1534 - val_accuracy: 0.9211\n",
      "Epoch 271/300\n",
      "15/15 [==============================] - 0s 5ms/step - loss: 0.1602 - accuracy: 0.9275 - val_loss: 0.1530 - val_accuracy: 0.9211\n",
      "Epoch 272/300\n",
      "15/15 [==============================] - 0s 5ms/step - loss: 0.1594 - accuracy: 0.9297 - val_loss: 0.1529 - val_accuracy: 0.9211\n",
      "Epoch 273/300\n",
      "15/15 [==============================] - 0s 6ms/step - loss: 0.1594 - accuracy: 0.9275 - val_loss: 0.1533 - val_accuracy: 0.9211\n",
      "Epoch 274/300\n",
      "15/15 [==============================] - 0s 6ms/step - loss: 0.1600 - accuracy: 0.9275 - val_loss: 0.1529 - val_accuracy: 0.9211\n",
      "Epoch 275/300\n",
      "15/15 [==============================] - 0s 5ms/step - loss: 0.1593 - accuracy: 0.9275 - val_loss: 0.1531 - val_accuracy: 0.9211\n",
      "Epoch 276/300\n",
      "15/15 [==============================] - 0s 6ms/step - loss: 0.1593 - accuracy: 0.9275 - val_loss: 0.1531 - val_accuracy: 0.9211\n",
      "Epoch 277/300\n",
      "15/15 [==============================] - 0s 6ms/step - loss: 0.1602 - accuracy: 0.9275 - val_loss: 0.1535 - val_accuracy: 0.9298\n",
      "Epoch 278/300\n",
      "15/15 [==============================] - 0s 6ms/step - loss: 0.1597 - accuracy: 0.9253 - val_loss: 0.1529 - val_accuracy: 0.9211\n",
      "Epoch 279/300\n",
      "15/15 [==============================] - 0s 6ms/step - loss: 0.1614 - accuracy: 0.9253 - val_loss: 0.1530 - val_accuracy: 0.9211\n",
      "Epoch 280/300\n",
      "15/15 [==============================] - 0s 6ms/step - loss: 0.1678 - accuracy: 0.9363 - val_loss: 0.2204 - val_accuracy: 0.8947\n",
      "Epoch 281/300\n",
      "15/15 [==============================] - 0s 6ms/step - loss: 0.4347 - accuracy: 0.8176 - val_loss: 0.5262 - val_accuracy: 0.8070\n",
      "Epoch 282/300\n",
      "15/15 [==============================] - 0s 6ms/step - loss: 0.6313 - accuracy: 0.7758 - val_loss: 0.5455 - val_accuracy: 0.7982\n",
      "Epoch 283/300\n",
      "15/15 [==============================] - 0s 5ms/step - loss: 0.5945 - accuracy: 0.7802 - val_loss: 0.4781 - val_accuracy: 0.8158\n",
      "Epoch 284/300\n",
      "15/15 [==============================] - 0s 5ms/step - loss: 0.5147 - accuracy: 0.8066 - val_loss: 0.4092 - val_accuracy: 0.8246\n",
      "Epoch 285/300\n",
      "15/15 [==============================] - 0s 5ms/step - loss: 0.4401 - accuracy: 0.8286 - val_loss: 0.3496 - val_accuracy: 0.8596\n",
      "Epoch 286/300\n",
      "15/15 [==============================] - 0s 6ms/step - loss: 0.3755 - accuracy: 0.8396 - val_loss: 0.3052 - val_accuracy: 0.8684\n",
      "Epoch 287/300\n"
     ]
    },
    {
     "name": "stdout",
     "output_type": "stream",
     "text": [
      "15/15 [==============================] - 0s 6ms/step - loss: 0.3265 - accuracy: 0.8527 - val_loss: 0.2648 - val_accuracy: 0.8860\n",
      "Epoch 288/300\n",
      "15/15 [==============================] - 0s 8ms/step - loss: 0.2848 - accuracy: 0.8593 - val_loss: 0.2365 - val_accuracy: 0.8860\n",
      "Epoch 289/300\n",
      "15/15 [==============================] - 0s 6ms/step - loss: 0.2555 - accuracy: 0.8769 - val_loss: 0.2152 - val_accuracy: 0.8947\n",
      "Epoch 290/300\n",
      "15/15 [==============================] - 0s 6ms/step - loss: 0.2313 - accuracy: 0.8901 - val_loss: 0.1995 - val_accuracy: 0.9123\n",
      "Epoch 291/300\n",
      "15/15 [==============================] - 0s 5ms/step - loss: 0.2132 - accuracy: 0.9055 - val_loss: 0.1867 - val_accuracy: 0.9211\n",
      "Epoch 292/300\n",
      "15/15 [==============================] - 0s 6ms/step - loss: 0.1983 - accuracy: 0.9099 - val_loss: 0.1768 - val_accuracy: 0.9211\n",
      "Epoch 293/300\n",
      "15/15 [==============================] - 0s 5ms/step - loss: 0.1870 - accuracy: 0.9165 - val_loss: 0.1696 - val_accuracy: 0.9298\n",
      "Epoch 294/300\n",
      "15/15 [==============================] - 0s 5ms/step - loss: 0.1784 - accuracy: 0.9209 - val_loss: 0.1643 - val_accuracy: 0.9386\n",
      "Epoch 295/300\n",
      "15/15 [==============================] - 0s 6ms/step - loss: 0.1720 - accuracy: 0.9187 - val_loss: 0.1606 - val_accuracy: 0.9386\n",
      "Epoch 296/300\n",
      "15/15 [==============================] - 0s 7ms/step - loss: 0.1678 - accuracy: 0.9187 - val_loss: 0.1581 - val_accuracy: 0.9386\n",
      "Epoch 297/300\n",
      "15/15 [==============================] - 0s 5ms/step - loss: 0.1644 - accuracy: 0.9187 - val_loss: 0.1559 - val_accuracy: 0.9298\n",
      "Epoch 298/300\n",
      "15/15 [==============================] - 0s 5ms/step - loss: 0.1632 - accuracy: 0.9231 - val_loss: 0.1545 - val_accuracy: 0.9298\n",
      "Epoch 299/300\n",
      "15/15 [==============================] - 0s 5ms/step - loss: 0.1620 - accuracy: 0.9231 - val_loss: 0.1545 - val_accuracy: 0.9298\n",
      "Epoch 300/300\n",
      "15/15 [==============================] - 0s 6ms/step - loss: 0.1616 - accuracy: 0.9231 - val_loss: 0.1541 - val_accuracy: 0.9298\n"
     ]
    }
   ],
   "source": [
    "history_3=model_3.fit(X_train,y_train,validation_data=(X_test,y_test),epochs=300)"
   ]
  },
  {
   "cell_type": "code",
   "execution_count": 58,
   "id": "89c05bc0",
   "metadata": {},
   "outputs": [
    {
     "data": {
      "text/plain": [
       "Text(0.5, 1.0, 'Training and validation loss')"
      ]
     },
     "execution_count": 58,
     "metadata": {},
     "output_type": "execute_result"
    },
    {
     "data": {
      "image/png": "[encoded data removed]",
      "text/plain": [
       "<Figure size 432x288 with 1 Axes>"
      ]
     },
     "metadata": {
      "needs_background": "light"
     },
     "output_type": "display_data"
    },
    {
     "data": {
      "image/png": "[encoded data removed]",
      "text/plain": [
       "<Figure size 432x288 with 1 Axes>"
      ]
     },
     "metadata": {
      "needs_background": "light"
     },
     "output_type": "display_data"
    }
   ],
   "source": [
    "acc=history_3.history['accuracy']\n",
    "val_acc=history_3.history['val_accuracy']\n",
    "loss=history_3.history['loss']\n",
    "val_loss=history_3.history['val_loss']\n",
    "\n",
    "epochs=range(len(acc)) # Get number of epochs\n",
    "\n",
    "#------------------------------------------------\n",
    "# Plot training and validation accuracy per epoch\n",
    "#------------------------------------------------\n",
    "plt.plot(epochs, acc, 'r', \"Training Accuracy\")\n",
    "plt.plot(epochs, val_acc, 'b', \"Validation Accuracy\")\n",
    "plt.title('Training and validation accuracy')\n",
    "plt.figure()\n",
    "\n",
    "#------------------------------------------------\n",
    "# Plot training and validation loss per epoch\n",
    "#------------------------------------------------\n",
    "plt.plot(epochs, loss, 'r', \"Training Loss\")\n",
    "plt.plot(epochs, val_loss, 'b', \"Validation Loss\")\n",
    "\n",
    "\n",
    "plt.title('Training and validation loss')"
   ]
  },
  {
   "cell_type": "code",
   "execution_count": 59,
   "id": "c3a5f402",
   "metadata": {},
   "outputs": [],
   "source": [
    "model_4=tf.keras.Sequential([\n",
    "    tf.keras.layers.Dense(10,activation='relu'),\n",
    "    tf.keras.layers.Dense(20,activation='relu'),\n",
    "    tf.keras.layers.Dense(1,activation='sigmoid')\n",
    "])"
   ]
  },
  {
   "cell_type": "code",
   "execution_count": 60,
   "id": "8f99bbb3",
   "metadata": {},
   "outputs": [],
   "source": [
    "model_4.compile(optimizer='adam',loss='binary_crossentropy',metrics=['accuracy'])"
   ]
  },
  {
   "cell_type": "code",
   "execution_count": 61,
   "id": "0eeebbbb",
   "metadata": {},
   "outputs": [
    {
     "name": "stdout",
     "output_type": "stream",
     "text": [
      "Epoch 1/400\n",
      "15/15 [==============================] - 2s 45ms/step - loss: 0.6918 - accuracy: 0.6132 - val_loss: 0.6923 - val_accuracy: 0.5877\n",
      "Epoch 2/400\n",
      "15/15 [==============================] - 0s 6ms/step - loss: 0.6830 - accuracy: 0.6374 - val_loss: 0.6856 - val_accuracy: 0.5877\n",
      "Epoch 3/400\n",
      "15/15 [==============================] - 0s 5ms/step - loss: 0.6748 - accuracy: 0.6374 - val_loss: 0.6785 - val_accuracy: 0.5877\n",
      "Epoch 4/400\n",
      "15/15 [==============================] - 0s 5ms/step - loss: 0.6663 - accuracy: 0.6374 - val_loss: 0.6702 - val_accuracy: 0.5877\n",
      "Epoch 5/400\n",
      "15/15 [==============================] - 0s 5ms/step - loss: 0.6564 - accuracy: 0.6374 - val_loss: 0.6605 - val_accuracy: 0.5965\n",
      "Epoch 6/400\n",
      "15/15 [==============================] - 0s 6ms/step - loss: 0.6465 - accuracy: 0.6484 - val_loss: 0.6495 - val_accuracy: 0.6053\n",
      "Epoch 7/400\n",
      "15/15 [==============================] - 0s 6ms/step - loss: 0.6359 - accuracy: 0.6527 - val_loss: 0.6377 - val_accuracy: 0.6404\n",
      "Epoch 8/400\n",
      "15/15 [==============================] - 0s 6ms/step - loss: 0.6253 - accuracy: 0.6659 - val_loss: 0.6241 - val_accuracy: 0.7456\n",
      "Epoch 9/400\n",
      "15/15 [==============================] - 0s 6ms/step - loss: 0.6137 - accuracy: 0.6857 - val_loss: 0.6104 - val_accuracy: 0.7807\n",
      "Epoch 10/400\n",
      "15/15 [==============================] - 0s 6ms/step - loss: 0.6014 - accuracy: 0.7275 - val_loss: 0.5951 - val_accuracy: 0.8421\n",
      "Epoch 11/400\n",
      "15/15 [==============================] - 0s 6ms/step - loss: 0.5881 - accuracy: 0.7341 - val_loss: 0.5783 - val_accuracy: 0.8421\n",
      "Epoch 12/400\n",
      "15/15 [==============================] - 0s 6ms/step - loss: 0.5732 - accuracy: 0.7670 - val_loss: 0.5615 - val_accuracy: 0.8772\n",
      "Epoch 13/400\n",
      "15/15 [==============================] - 0s 6ms/step - loss: 0.5580 - accuracy: 0.7978 - val_loss: 0.5425 - val_accuracy: 0.8596\n",
      "Epoch 14/400\n",
      "15/15 [==============================] - 0s 6ms/step - loss: 0.5415 - accuracy: 0.8132 - val_loss: 0.5245 - val_accuracy: 0.8421\n",
      "Epoch 15/400\n",
      "15/15 [==============================] - 0s 6ms/step - loss: 0.5249 - accuracy: 0.8264 - val_loss: 0.5056 - val_accuracy: 0.8596\n",
      "Epoch 16/400\n",
      "15/15 [==============================] - 0s 5ms/step - loss: 0.5078 - accuracy: 0.8308 - val_loss: 0.4853 - val_accuracy: 0.8596\n",
      "Epoch 17/400\n",
      "15/15 [==============================] - 0s 6ms/step - loss: 0.4898 - accuracy: 0.8484 - val_loss: 0.4705 - val_accuracy: 0.8772\n",
      "Epoch 18/400\n",
      "15/15 [==============================] - 0s 6ms/step - loss: 0.4730 - accuracy: 0.8637 - val_loss: 0.4493 - val_accuracy: 0.8684\n",
      "Epoch 19/400\n",
      "15/15 [==============================] - 0s 6ms/step - loss: 0.4568 - accuracy: 0.8484 - val_loss: 0.4286 - val_accuracy: 0.8684\n",
      "Epoch 20/400\n",
      "15/15 [==============================] - 0s 6ms/step - loss: 0.4400 - accuracy: 0.8571 - val_loss: 0.4158 - val_accuracy: 0.8860\n",
      "Epoch 21/400\n",
      "15/15 [==============================] - 0s 6ms/step - loss: 0.4242 - accuracy: 0.8637 - val_loss: 0.4004 - val_accuracy: 0.8860\n",
      "Epoch 22/400\n",
      "15/15 [==============================] - 0s 6ms/step - loss: 0.4091 - accuracy: 0.8637 - val_loss: 0.3851 - val_accuracy: 0.8860\n",
      "Epoch 23/400\n",
      "15/15 [==============================] - 0s 6ms/step - loss: 0.3958 - accuracy: 0.8703 - val_loss: 0.3742 - val_accuracy: 0.8947\n",
      "Epoch 24/400\n",
      "15/15 [==============================] - 0s 6ms/step - loss: 0.3818 - accuracy: 0.8813 - val_loss: 0.3663 - val_accuracy: 0.8860\n",
      "Epoch 25/400\n",
      "15/15 [==============================] - 0s 6ms/step - loss: 0.3699 - accuracy: 0.8835 - val_loss: 0.3514 - val_accuracy: 0.8860\n",
      "Epoch 26/400\n",
      "15/15 [==============================] - 0s 6ms/step - loss: 0.3575 - accuracy: 0.8813 - val_loss: 0.3359 - val_accuracy: 0.8860\n",
      "Epoch 27/400\n",
      "15/15 [==============================] - 0s 6ms/step - loss: 0.3446 - accuracy: 0.8857 - val_loss: 0.3211 - val_accuracy: 0.8860\n",
      "Epoch 28/400\n",
      "15/15 [==============================] - 0s 6ms/step - loss: 0.3325 - accuracy: 0.8835 - val_loss: 0.3083 - val_accuracy: 0.8860\n",
      "Epoch 29/400\n",
      "15/15 [==============================] - 0s 6ms/step - loss: 0.3190 - accuracy: 0.9033 - val_loss: 0.2989 - val_accuracy: 0.8860\n",
      "Epoch 30/400\n",
      "15/15 [==============================] - 0s 6ms/step - loss: 0.3067 - accuracy: 0.8945 - val_loss: 0.2810 - val_accuracy: 0.8947\n",
      "Epoch 31/400\n",
      "15/15 [==============================] - ETA: 0s - loss: 0.3627 - accuracy: 0.87 - 0s 6ms/step - loss: 0.2954 - accuracy: 0.9033 - val_loss: 0.2757 - val_accuracy: 0.8860\n",
      "Epoch 32/400\n",
      "15/15 [==============================] - 0s 6ms/step - loss: 0.2853 - accuracy: 0.9121 - val_loss: 0.2659 - val_accuracy: 0.8860\n",
      "Epoch 33/400\n",
      "15/15 [==============================] - 0s 6ms/step - loss: 0.2764 - accuracy: 0.9165 - val_loss: 0.2537 - val_accuracy: 0.9035\n",
      "Epoch 34/400\n",
      "15/15 [==============================] - 0s 6ms/step - loss: 0.2686 - accuracy: 0.9165 - val_loss: 0.2488 - val_accuracy: 0.9035\n",
      "Epoch 35/400\n",
      "15/15 [==============================] - 0s 6ms/step - loss: 0.2591 - accuracy: 0.9187 - val_loss: 0.2393 - val_accuracy: 0.9035\n",
      "Epoch 36/400\n",
      "15/15 [==============================] - 0s 6ms/step - loss: 0.2528 - accuracy: 0.9143 - val_loss: 0.2317 - val_accuracy: 0.9123\n",
      "Epoch 37/400\n",
      "15/15 [==============================] - 0s 6ms/step - loss: 0.2452 - accuracy: 0.9187 - val_loss: 0.2300 - val_accuracy: 0.9035\n",
      "Epoch 38/400\n",
      "15/15 [==============================] - 0s 5ms/step - loss: 0.2394 - accuracy: 0.9187 - val_loss: 0.2251 - val_accuracy: 0.9123\n",
      "Epoch 39/400\n",
      "15/15 [==============================] - 0s 5ms/step - loss: 0.2351 - accuracy: 0.9253 - val_loss: 0.2244 - val_accuracy: 0.9123\n",
      "Epoch 40/400\n",
      "15/15 [==============================] - 0s 5ms/step - loss: 0.2270 - accuracy: 0.9253 - val_loss: 0.2099 - val_accuracy: 0.9035\n",
      "Epoch 41/400\n",
      "15/15 [==============================] - 0s 5ms/step - loss: 0.2255 - accuracy: 0.9187 - val_loss: 0.2083 - val_accuracy: 0.9123\n",
      "Epoch 42/400\n",
      "15/15 [==============================] - 0s 5ms/step - loss: 0.2185 - accuracy: 0.9231 - val_loss: 0.2075 - val_accuracy: 0.9211\n",
      "Epoch 43/400\n",
      "15/15 [==============================] - 0s 5ms/step - loss: 0.2155 - accuracy: 0.9231 - val_loss: 0.2028 - val_accuracy: 0.9123\n",
      "Epoch 44/400\n",
      "15/15 [==============================] - 0s 5ms/step - loss: 0.2106 - accuracy: 0.9253 - val_loss: 0.1992 - val_accuracy: 0.9035\n",
      "Epoch 45/400\n",
      "15/15 [==============================] - 0s 6ms/step - loss: 0.2072 - accuracy: 0.9253 - val_loss: 0.1949 - val_accuracy: 0.9123\n",
      "Epoch 46/400\n",
      "15/15 [==============================] - 0s 5ms/step - loss: 0.2043 - accuracy: 0.9253 - val_loss: 0.1916 - val_accuracy: 0.9035\n",
      "Epoch 47/400\n",
      "15/15 [==============================] - 0s 5ms/step - loss: 0.2011 - accuracy: 0.9297 - val_loss: 0.1907 - val_accuracy: 0.9035\n",
      "Epoch 48/400\n",
      "15/15 [==============================] - 0s 5ms/step - loss: 0.1991 - accuracy: 0.9319 - val_loss: 0.1870 - val_accuracy: 0.9035\n",
      "Epoch 49/400\n",
      "15/15 [==============================] - 0s 5ms/step - loss: 0.1961 - accuracy: 0.9319 - val_loss: 0.1861 - val_accuracy: 0.9035\n",
      "Epoch 50/400\n",
      "15/15 [==============================] - 0s 5ms/step - loss: 0.1950 - accuracy: 0.9297 - val_loss: 0.1858 - val_accuracy: 0.9123\n",
      "Epoch 51/400\n",
      "15/15 [==============================] - 0s 5ms/step - loss: 0.1913 - accuracy: 0.9297 - val_loss: 0.1846 - val_accuracy: 0.9123\n",
      "Epoch 52/400\n",
      "15/15 [==============================] - 0s 8ms/step - loss: 0.1889 - accuracy: 0.9319 - val_loss: 0.1823 - val_accuracy: 0.9123\n",
      "Epoch 53/400\n",
      "15/15 [==============================] - 0s 6ms/step - loss: 0.1867 - accuracy: 0.9319 - val_loss: 0.1801 - val_accuracy: 0.9035\n",
      "Epoch 54/400\n",
      "15/15 [==============================] - 0s 6ms/step - loss: 0.1848 - accuracy: 0.9385 - val_loss: 0.1804 - val_accuracy: 0.9123\n",
      "Epoch 55/400\n",
      "15/15 [==============================] - 0s 5ms/step - loss: 0.1851 - accuracy: 0.9275 - val_loss: 0.1774 - val_accuracy: 0.9035\n",
      "Epoch 56/400\n",
      "15/15 [==============================] - 0s 5ms/step - loss: 0.1812 - accuracy: 0.9363 - val_loss: 0.1790 - val_accuracy: 0.9123\n",
      "Epoch 57/400\n",
      "15/15 [==============================] - 0s 6ms/step - loss: 0.1833 - accuracy: 0.9363 - val_loss: 0.1750 - val_accuracy: 0.9035\n",
      "Epoch 58/400\n"
     ]
    },
    {
     "name": "stdout",
     "output_type": "stream",
     "text": [
      "15/15 [==============================] - 0s 5ms/step - loss: 0.1785 - accuracy: 0.9385 - val_loss: 0.1742 - val_accuracy: 0.9035\n",
      "Epoch 59/400\n",
      "15/15 [==============================] - 0s 5ms/step - loss: 0.1771 - accuracy: 0.9363 - val_loss: 0.1738 - val_accuracy: 0.9123\n",
      "Epoch 60/400\n",
      "15/15 [==============================] - 0s 6ms/step - loss: 0.1761 - accuracy: 0.9363 - val_loss: 0.1712 - val_accuracy: 0.8947\n",
      "Epoch 61/400\n",
      "15/15 [==============================] - 0s 6ms/step - loss: 0.1747 - accuracy: 0.9341 - val_loss: 0.1718 - val_accuracy: 0.9123\n",
      "Epoch 62/400\n",
      "15/15 [==============================] - 0s 5ms/step - loss: 0.1751 - accuracy: 0.9341 - val_loss: 0.1717 - val_accuracy: 0.9123\n",
      "Epoch 63/400\n",
      "15/15 [==============================] - 0s 5ms/step - loss: 0.1753 - accuracy: 0.9319 - val_loss: 0.1685 - val_accuracy: 0.8947\n",
      "Epoch 64/400\n",
      "15/15 [==============================] - 0s 5ms/step - loss: 0.1703 - accuracy: 0.9385 - val_loss: 0.1700 - val_accuracy: 0.9123\n",
      "Epoch 65/400\n",
      "15/15 [==============================] - 0s 5ms/step - loss: 0.1709 - accuracy: 0.9341 - val_loss: 0.1694 - val_accuracy: 0.9123\n",
      "Epoch 66/400\n",
      "15/15 [==============================] - 0s 5ms/step - loss: 0.1718 - accuracy: 0.9297 - val_loss: 0.1672 - val_accuracy: 0.8947\n",
      "Epoch 67/400\n",
      "15/15 [==============================] - 0s 5ms/step - loss: 0.1679 - accuracy: 0.9407 - val_loss: 0.1670 - val_accuracy: 0.9035\n",
      "Epoch 68/400\n",
      "15/15 [==============================] - 0s 5ms/step - loss: 0.1683 - accuracy: 0.9363 - val_loss: 0.1666 - val_accuracy: 0.8947\n",
      "Epoch 69/400\n",
      "15/15 [==============================] - 0s 5ms/step - loss: 0.1666 - accuracy: 0.9341 - val_loss: 0.1661 - val_accuracy: 0.9035\n",
      "Epoch 70/400\n",
      "15/15 [==============================] - 0s 5ms/step - loss: 0.1657 - accuracy: 0.9341 - val_loss: 0.1655 - val_accuracy: 0.8947\n",
      "Epoch 71/400\n",
      "15/15 [==============================] - 0s 5ms/step - loss: 0.1668 - accuracy: 0.9363 - val_loss: 0.1650 - val_accuracy: 0.8947\n",
      "Epoch 72/400\n",
      "15/15 [==============================] - 0s 5ms/step - loss: 0.1647 - accuracy: 0.9341 - val_loss: 0.1676 - val_accuracy: 0.9123\n",
      "Epoch 73/400\n",
      "15/15 [==============================] - 0s 5ms/step - loss: 0.1639 - accuracy: 0.9363 - val_loss: 0.1650 - val_accuracy: 0.9035\n",
      "Epoch 74/400\n",
      "15/15 [==============================] - 0s 5ms/step - loss: 0.1620 - accuracy: 0.9385 - val_loss: 0.1642 - val_accuracy: 0.8947\n",
      "Epoch 75/400\n",
      "15/15 [==============================] - 0s 5ms/step - loss: 0.1627 - accuracy: 0.9407 - val_loss: 0.1640 - val_accuracy: 0.8947\n",
      "Epoch 76/400\n",
      "15/15 [==============================] - 0s 5ms/step - loss: 0.1619 - accuracy: 0.9297 - val_loss: 0.1641 - val_accuracy: 0.9035\n",
      "Epoch 77/400\n",
      "15/15 [==============================] - 0s 6ms/step - loss: 0.1616 - accuracy: 0.9341 - val_loss: 0.1642 - val_accuracy: 0.9035\n",
      "Epoch 78/400\n",
      "15/15 [==============================] - 0s 5ms/step - loss: 0.1597 - accuracy: 0.9363 - val_loss: 0.1634 - val_accuracy: 0.9123\n",
      "Epoch 79/400\n",
      "15/15 [==============================] - 0s 5ms/step - loss: 0.1595 - accuracy: 0.9385 - val_loss: 0.1639 - val_accuracy: 0.9035\n",
      "Epoch 80/400\n",
      "15/15 [==============================] - 0s 5ms/step - loss: 0.1582 - accuracy: 0.9385 - val_loss: 0.1630 - val_accuracy: 0.9035\n",
      "Epoch 81/400\n",
      "15/15 [==============================] - 0s 6ms/step - loss: 0.1591 - accuracy: 0.9407 - val_loss: 0.1630 - val_accuracy: 0.9123\n",
      "Epoch 82/400\n",
      "15/15 [==============================] - 0s 5ms/step - loss: 0.1570 - accuracy: 0.9363 - val_loss: 0.1630 - val_accuracy: 0.9035\n",
      "Epoch 83/400\n",
      "15/15 [==============================] - 0s 5ms/step - loss: 0.1566 - accuracy: 0.9363 - val_loss: 0.1631 - val_accuracy: 0.9035\n",
      "Epoch 84/400\n",
      "15/15 [==============================] - 0s 5ms/step - loss: 0.1574 - accuracy: 0.9429 - val_loss: 0.1635 - val_accuracy: 0.9123\n",
      "Epoch 85/400\n",
      "15/15 [==============================] - 0s 5ms/step - loss: 0.1546 - accuracy: 0.9341 - val_loss: 0.1630 - val_accuracy: 0.9123\n",
      "Epoch 86/400\n",
      "15/15 [==============================] - 0s 6ms/step - loss: 0.1578 - accuracy: 0.9385 - val_loss: 0.1640 - val_accuracy: 0.9211\n",
      "Epoch 87/400\n",
      "15/15 [==============================] - 0s 5ms/step - loss: 0.1557 - accuracy: 0.9407 - val_loss: 0.1629 - val_accuracy: 0.9123\n",
      "Epoch 88/400\n",
      "15/15 [==============================] - 0s 5ms/step - loss: 0.1555 - accuracy: 0.9407 - val_loss: 0.1626 - val_accuracy: 0.9123\n",
      "Epoch 89/400\n",
      "15/15 [==============================] - 0s 6ms/step - loss: 0.1550 - accuracy: 0.9363 - val_loss: 0.1627 - val_accuracy: 0.9123\n",
      "Epoch 90/400\n",
      "15/15 [==============================] - 0s 5ms/step - loss: 0.1532 - accuracy: 0.9407 - val_loss: 0.1634 - val_accuracy: 0.9298\n",
      "Epoch 91/400\n",
      "15/15 [==============================] - 0s 5ms/step - loss: 0.1531 - accuracy: 0.9385 - val_loss: 0.1626 - val_accuracy: 0.9123\n",
      "Epoch 92/400\n",
      "15/15 [==============================] - 0s 5ms/step - loss: 0.1530 - accuracy: 0.9429 - val_loss: 0.1626 - val_accuracy: 0.9211\n",
      "Epoch 93/400\n",
      "15/15 [==============================] - 0s 5ms/step - loss: 0.1532 - accuracy: 0.9407 - val_loss: 0.1635 - val_accuracy: 0.9298\n",
      "Epoch 94/400\n",
      "15/15 [==============================] - 0s 5ms/step - loss: 0.1514 - accuracy: 0.9407 - val_loss: 0.1627 - val_accuracy: 0.9211\n",
      "Epoch 95/400\n",
      "15/15 [==============================] - 0s 5ms/step - loss: 0.1515 - accuracy: 0.9385 - val_loss: 0.1627 - val_accuracy: 0.9211\n",
      "Epoch 96/400\n",
      "15/15 [==============================] - 0s 5ms/step - loss: 0.1531 - accuracy: 0.9385 - val_loss: 0.1629 - val_accuracy: 0.9211\n",
      "Epoch 97/400\n",
      "15/15 [==============================] - 0s 6ms/step - loss: 0.1532 - accuracy: 0.9341 - val_loss: 0.1643 - val_accuracy: 0.9298\n",
      "Epoch 98/400\n",
      "15/15 [==============================] - 0s 6ms/step - loss: 0.1501 - accuracy: 0.9385 - val_loss: 0.1629 - val_accuracy: 0.9211\n",
      "Epoch 99/400\n",
      "15/15 [==============================] - 0s 5ms/step - loss: 0.1501 - accuracy: 0.9385 - val_loss: 0.1634 - val_accuracy: 0.9298\n",
      "Epoch 100/400\n",
      "15/15 [==============================] - 0s 5ms/step - loss: 0.1510 - accuracy: 0.9363 - val_loss: 0.1643 - val_accuracy: 0.9298\n",
      "Epoch 101/400\n",
      "15/15 [==============================] - 0s 6ms/step - loss: 0.1496 - accuracy: 0.9385 - val_loss: 0.1642 - val_accuracy: 0.9298\n",
      "Epoch 102/400\n",
      "15/15 [==============================] - 0s 5ms/step - loss: 0.1503 - accuracy: 0.9385 - val_loss: 0.1655 - val_accuracy: 0.9298\n",
      "Epoch 103/400\n",
      "15/15 [==============================] - 0s 5ms/step - loss: 0.1505 - accuracy: 0.9429 - val_loss: 0.1637 - val_accuracy: 0.9474\n",
      "Epoch 104/400\n",
      "15/15 [==============================] - 0s 5ms/step - loss: 0.1490 - accuracy: 0.9429 - val_loss: 0.1643 - val_accuracy: 0.9298\n",
      "Epoch 105/400\n",
      "15/15 [==============================] - 0s 6ms/step - loss: 0.1485 - accuracy: 0.9407 - val_loss: 0.1645 - val_accuracy: 0.9298\n",
      "Epoch 106/400\n",
      "15/15 [==============================] - 0s 5ms/step - loss: 0.1484 - accuracy: 0.9385 - val_loss: 0.1637 - val_accuracy: 0.9474\n",
      "Epoch 107/400\n",
      "15/15 [==============================] - 0s 5ms/step - loss: 0.1506 - accuracy: 0.9451 - val_loss: 0.1636 - val_accuracy: 0.9474\n",
      "Epoch 108/400\n",
      "15/15 [==============================] - 0s 6ms/step - loss: 0.1482 - accuracy: 0.9385 - val_loss: 0.1658 - val_accuracy: 0.9298\n",
      "Epoch 109/400\n",
      "15/15 [==============================] - 0s 6ms/step - loss: 0.1526 - accuracy: 0.9407 - val_loss: 0.1628 - val_accuracy: 0.9211\n",
      "Epoch 110/400\n",
      "15/15 [==============================] - 0s 6ms/step - loss: 0.1482 - accuracy: 0.9473 - val_loss: 0.1663 - val_accuracy: 0.9298\n",
      "Epoch 111/400\n",
      "15/15 [==============================] - 0s 5ms/step - loss: 0.1488 - accuracy: 0.9429 - val_loss: 0.1640 - val_accuracy: 0.9474\n",
      "Epoch 112/400\n",
      "15/15 [==============================] - 0s 5ms/step - loss: 0.1471 - accuracy: 0.9473 - val_loss: 0.1639 - val_accuracy: 0.9474\n",
      "Epoch 113/400\n",
      "15/15 [==============================] - 0s 5ms/step - loss: 0.1472 - accuracy: 0.9429 - val_loss: 0.1654 - val_accuracy: 0.9386\n",
      "Epoch 114/400\n",
      "15/15 [==============================] - 0s 6ms/step - loss: 0.1468 - accuracy: 0.9385 - val_loss: 0.1658 - val_accuracy: 0.9474\n",
      "Epoch 115/400\n",
      "15/15 [==============================] - 0s 5ms/step - loss: 0.1462 - accuracy: 0.9429 - val_loss: 0.1647 - val_accuracy: 0.9474\n"
     ]
    },
    {
     "name": "stdout",
     "output_type": "stream",
     "text": [
      "Epoch 116/400\n",
      "15/15 [==============================] - 0s 5ms/step - loss: 0.1468 - accuracy: 0.9429 - val_loss: 0.1649 - val_accuracy: 0.9474\n",
      "Epoch 117/400\n",
      "15/15 [==============================] - 0s 6ms/step - loss: 0.1469 - accuracy: 0.9451 - val_loss: 0.1654 - val_accuracy: 0.9386\n",
      "Epoch 118/400\n",
      "15/15 [==============================] - 0s 5ms/step - loss: 0.1468 - accuracy: 0.9407 - val_loss: 0.1678 - val_accuracy: 0.9211\n",
      "Epoch 119/400\n",
      "15/15 [==============================] - 0s 5ms/step - loss: 0.1477 - accuracy: 0.9451 - val_loss: 0.1635 - val_accuracy: 0.9474\n",
      "Epoch 120/400\n",
      "15/15 [==============================] - 0s 5ms/step - loss: 0.1470 - accuracy: 0.9429 - val_loss: 0.1685 - val_accuracy: 0.9211\n",
      "Epoch 121/400\n",
      "15/15 [==============================] - 0s 5ms/step - loss: 0.1461 - accuracy: 0.9451 - val_loss: 0.1644 - val_accuracy: 0.9474\n",
      "Epoch 122/400\n",
      "15/15 [==============================] - 0s 5ms/step - loss: 0.1458 - accuracy: 0.9451 - val_loss: 0.1661 - val_accuracy: 0.9298\n",
      "Epoch 123/400\n",
      "15/15 [==============================] - 0s 5ms/step - loss: 0.1463 - accuracy: 0.9451 - val_loss: 0.1639 - val_accuracy: 0.9474\n",
      "Epoch 124/400\n",
      "15/15 [==============================] - 0s 5ms/step - loss: 0.1453 - accuracy: 0.9451 - val_loss: 0.1673 - val_accuracy: 0.9298\n",
      "Epoch 125/400\n",
      "15/15 [==============================] - 0s 6ms/step - loss: 0.1449 - accuracy: 0.9473 - val_loss: 0.1657 - val_accuracy: 0.9386\n",
      "Epoch 126/400\n",
      "15/15 [==============================] - 0s 6ms/step - loss: 0.1449 - accuracy: 0.9451 - val_loss: 0.1657 - val_accuracy: 0.9474\n",
      "Epoch 127/400\n",
      "15/15 [==============================] - 0s 6ms/step - loss: 0.1450 - accuracy: 0.9429 - val_loss: 0.1694 - val_accuracy: 0.9211\n",
      "Epoch 128/400\n",
      "15/15 [==============================] - 0s 5ms/step - loss: 0.1444 - accuracy: 0.9429 - val_loss: 0.1664 - val_accuracy: 0.9386\n",
      "Epoch 129/400\n",
      "15/15 [==============================] - 0s 5ms/step - loss: 0.1445 - accuracy: 0.9495 - val_loss: 0.1646 - val_accuracy: 0.9474\n",
      "Epoch 130/400\n",
      "15/15 [==============================] - 0s 5ms/step - loss: 0.1447 - accuracy: 0.9495 - val_loss: 0.1707 - val_accuracy: 0.9123\n",
      "Epoch 131/400\n",
      "15/15 [==============================] - 0s 6ms/step - loss: 0.1442 - accuracy: 0.9451 - val_loss: 0.1681 - val_accuracy: 0.9298\n",
      "Epoch 132/400\n",
      "15/15 [==============================] - 0s 6ms/step - loss: 0.1439 - accuracy: 0.9473 - val_loss: 0.1657 - val_accuracy: 0.9474\n",
      "Epoch 133/400\n",
      "15/15 [==============================] - 0s 5ms/step - loss: 0.1446 - accuracy: 0.9429 - val_loss: 0.1673 - val_accuracy: 0.9386\n",
      "Epoch 134/400\n",
      "15/15 [==============================] - 0s 5ms/step - loss: 0.1432 - accuracy: 0.9429 - val_loss: 0.1668 - val_accuracy: 0.9386\n",
      "Epoch 135/400\n",
      "15/15 [==============================] - 0s 5ms/step - loss: 0.1437 - accuracy: 0.9451 - val_loss: 0.1667 - val_accuracy: 0.9386\n",
      "Epoch 136/400\n",
      "15/15 [==============================] - 0s 5ms/step - loss: 0.1444 - accuracy: 0.9429 - val_loss: 0.1683 - val_accuracy: 0.9298\n",
      "Epoch 137/400\n",
      "15/15 [==============================] - 0s 5ms/step - loss: 0.1436 - accuracy: 0.9451 - val_loss: 0.1673 - val_accuracy: 0.9386\n",
      "Epoch 138/400\n",
      "15/15 [==============================] - 0s 5ms/step - loss: 0.1428 - accuracy: 0.9429 - val_loss: 0.1701 - val_accuracy: 0.9298\n",
      "Epoch 139/400\n",
      "15/15 [==============================] - 0s 5ms/step - loss: 0.1441 - accuracy: 0.9429 - val_loss: 0.1675 - val_accuracy: 0.9386\n",
      "Epoch 140/400\n",
      "15/15 [==============================] - 0s 5ms/step - loss: 0.1426 - accuracy: 0.9429 - val_loss: 0.1702 - val_accuracy: 0.9298\n",
      "Epoch 141/400\n",
      "15/15 [==============================] - 0s 6ms/step - loss: 0.1429 - accuracy: 0.9407 - val_loss: 0.1696 - val_accuracy: 0.9298\n",
      "Epoch 142/400\n",
      "15/15 [==============================] - 0s 5ms/step - loss: 0.1428 - accuracy: 0.9451 - val_loss: 0.1689 - val_accuracy: 0.9386\n",
      "Epoch 143/400\n",
      "15/15 [==============================] - 0s 5ms/step - loss: 0.1430 - accuracy: 0.9429 - val_loss: 0.1694 - val_accuracy: 0.9298\n",
      "Epoch 144/400\n",
      "15/15 [==============================] - 0s 5ms/step - loss: 0.1428 - accuracy: 0.9451 - val_loss: 0.1698 - val_accuracy: 0.9298\n",
      "Epoch 145/400\n",
      "15/15 [==============================] - 0s 7ms/step - loss: 0.1431 - accuracy: 0.9473 - val_loss: 0.1682 - val_accuracy: 0.9386\n",
      "Epoch 146/400\n",
      "15/15 [==============================] - 0s 5ms/step - loss: 0.1422 - accuracy: 0.9429 - val_loss: 0.1708 - val_accuracy: 0.9211\n",
      "Epoch 147/400\n",
      "15/15 [==============================] - 0s 5ms/step - loss: 0.1433 - accuracy: 0.9407 - val_loss: 0.1703 - val_accuracy: 0.9211\n",
      "Epoch 148/400\n",
      "15/15 [==============================] - 0s 5ms/step - loss: 0.1440 - accuracy: 0.9407 - val_loss: 0.1663 - val_accuracy: 0.9386\n",
      "Epoch 149/400\n",
      "15/15 [==============================] - 0s 5ms/step - loss: 0.1434 - accuracy: 0.9516 - val_loss: 0.1707 - val_accuracy: 0.9211\n",
      "Epoch 150/400\n",
      "15/15 [==============================] - 0s 5ms/step - loss: 0.1427 - accuracy: 0.9451 - val_loss: 0.1711 - val_accuracy: 0.9211\n",
      "Epoch 151/400\n",
      "15/15 [==============================] - 0s 5ms/step - loss: 0.1467 - accuracy: 0.9429 - val_loss: 0.1726 - val_accuracy: 0.9211\n",
      "Epoch 152/400\n",
      "15/15 [==============================] - 0s 5ms/step - loss: 0.1434 - accuracy: 0.9429 - val_loss: 0.1681 - val_accuracy: 0.9386\n",
      "Epoch 153/400\n",
      "15/15 [==============================] - 0s 5ms/step - loss: 0.1431 - accuracy: 0.9407 - val_loss: 0.1723 - val_accuracy: 0.9211\n",
      "Epoch 154/400\n",
      "15/15 [==============================] - 0s 6ms/step - loss: 0.1448 - accuracy: 0.9407 - val_loss: 0.1687 - val_accuracy: 0.9386\n",
      "Epoch 155/400\n",
      "15/15 [==============================] - 0s 5ms/step - loss: 0.1416 - accuracy: 0.9429 - val_loss: 0.1725 - val_accuracy: 0.9211\n",
      "Epoch 156/400\n",
      "15/15 [==============================] - 0s 5ms/step - loss: 0.1422 - accuracy: 0.9385 - val_loss: 0.1721 - val_accuracy: 0.9298\n",
      "Epoch 157/400\n",
      "15/15 [==============================] - 0s 5ms/step - loss: 0.1423 - accuracy: 0.9429 - val_loss: 0.1752 - val_accuracy: 0.9211\n",
      "Epoch 158/400\n",
      "15/15 [==============================] - 0s 5ms/step - loss: 0.1411 - accuracy: 0.9429 - val_loss: 0.1712 - val_accuracy: 0.9298\n",
      "Epoch 159/400\n",
      "15/15 [==============================] - 0s 5ms/step - loss: 0.1435 - accuracy: 0.9429 - val_loss: 0.1708 - val_accuracy: 0.9298\n",
      "Epoch 160/400\n",
      "15/15 [==============================] - 0s 5ms/step - loss: 0.1415 - accuracy: 0.9429 - val_loss: 0.1716 - val_accuracy: 0.9298\n",
      "Epoch 161/400\n",
      "15/15 [==============================] - 0s 5ms/step - loss: 0.1424 - accuracy: 0.9473 - val_loss: 0.1732 - val_accuracy: 0.9211\n",
      "Epoch 162/400\n",
      "15/15 [==============================] - 0s 5ms/step - loss: 0.1419 - accuracy: 0.9429 - val_loss: 0.1709 - val_accuracy: 0.9298\n",
      "Epoch 163/400\n",
      "15/15 [==============================] - 0s 5ms/step - loss: 0.1415 - accuracy: 0.9473 - val_loss: 0.1732 - val_accuracy: 0.9211\n",
      "Epoch 164/400\n",
      "15/15 [==============================] - 0s 6ms/step - loss: 0.1446 - accuracy: 0.9429 - val_loss: 0.1764 - val_accuracy: 0.9211\n",
      "Epoch 165/400\n",
      "15/15 [==============================] - 0s 5ms/step - loss: 0.1415 - accuracy: 0.9407 - val_loss: 0.1701 - val_accuracy: 0.9386\n",
      "Epoch 166/400\n",
      "15/15 [==============================] - 0s 5ms/step - loss: 0.1423 - accuracy: 0.9429 - val_loss: 0.1726 - val_accuracy: 0.9211\n",
      "Epoch 167/400\n",
      "15/15 [==============================] - 0s 5ms/step - loss: 0.1407 - accuracy: 0.9451 - val_loss: 0.1752 - val_accuracy: 0.9211\n",
      "Epoch 168/400\n",
      "15/15 [==============================] - 0s 5ms/step - loss: 0.1414 - accuracy: 0.9429 - val_loss: 0.1751 - val_accuracy: 0.9211\n",
      "Epoch 169/400\n",
      "15/15 [==============================] - 0s 5ms/step - loss: 0.1425 - accuracy: 0.9407 - val_loss: 0.1736 - val_accuracy: 0.9211\n",
      "Epoch 170/400\n",
      "15/15 [==============================] - 0s 5ms/step - loss: 0.1404 - accuracy: 0.9451 - val_loss: 0.1760 - val_accuracy: 0.9211\n",
      "Epoch 171/400\n",
      "15/15 [==============================] - 0s 5ms/step - loss: 0.1413 - accuracy: 0.9429 - val_loss: 0.1733 - val_accuracy: 0.9211\n",
      "Epoch 172/400\n",
      "15/15 [==============================] - 0s 5ms/step - loss: 0.1404 - accuracy: 0.9429 - val_loss: 0.1702 - val_accuracy: 0.9386\n",
      "Epoch 173/400\n"
     ]
    },
    {
     "name": "stdout",
     "output_type": "stream",
     "text": [
      "15/15 [==============================] - 0s 6ms/step - loss: 0.1415 - accuracy: 0.9407 - val_loss: 0.1741 - val_accuracy: 0.9211\n",
      "Epoch 174/400\n",
      "15/15 [==============================] - 0s 6ms/step - loss: 0.1399 - accuracy: 0.9429 - val_loss: 0.1694 - val_accuracy: 0.9386\n",
      "Epoch 175/400\n",
      "15/15 [==============================] - 0s 5ms/step - loss: 0.1422 - accuracy: 0.9451 - val_loss: 0.1717 - val_accuracy: 0.9386\n",
      "Epoch 176/400\n",
      "15/15 [==============================] - 0s 5ms/step - loss: 0.1426 - accuracy: 0.9451 - val_loss: 0.1701 - val_accuracy: 0.9386\n",
      "Epoch 177/400\n",
      "15/15 [==============================] - 0s 7ms/step - loss: 0.1397 - accuracy: 0.9429 - val_loss: 0.1764 - val_accuracy: 0.9211\n",
      "Epoch 178/400\n",
      "15/15 [==============================] - 0s 6ms/step - loss: 0.1428 - accuracy: 0.9429 - val_loss: 0.1798 - val_accuracy: 0.9211\n",
      "Epoch 179/400\n",
      "15/15 [==============================] - 0s 5ms/step - loss: 0.1435 - accuracy: 0.9429 - val_loss: 0.1706 - val_accuracy: 0.9386\n",
      "Epoch 180/400\n",
      "15/15 [==============================] - 0s 5ms/step - loss: 0.1419 - accuracy: 0.9429 - val_loss: 0.1723 - val_accuracy: 0.9298\n",
      "Epoch 181/400\n",
      "15/15 [==============================] - 0s 5ms/step - loss: 0.1410 - accuracy: 0.9451 - val_loss: 0.1701 - val_accuracy: 0.9386\n",
      "Epoch 182/400\n",
      "15/15 [==============================] - 0s 6ms/step - loss: 0.1409 - accuracy: 0.9429 - val_loss: 0.1763 - val_accuracy: 0.9211\n",
      "Epoch 183/400\n",
      "15/15 [==============================] - 0s 5ms/step - loss: 0.1413 - accuracy: 0.9495 - val_loss: 0.1709 - val_accuracy: 0.9386\n",
      "Epoch 184/400\n",
      "15/15 [==============================] - 0s 5ms/step - loss: 0.1402 - accuracy: 0.9429 - val_loss: 0.1749 - val_accuracy: 0.9211\n",
      "Epoch 185/400\n",
      "15/15 [==============================] - 0s 5ms/step - loss: 0.1399 - accuracy: 0.9451 - val_loss: 0.1742 - val_accuracy: 0.9298\n",
      "Epoch 186/400\n",
      "15/15 [==============================] - 0s 5ms/step - loss: 0.1400 - accuracy: 0.9451 - val_loss: 0.1751 - val_accuracy: 0.9211\n",
      "Epoch 187/400\n",
      "15/15 [==============================] - 0s 5ms/step - loss: 0.1413 - accuracy: 0.9429 - val_loss: 0.1734 - val_accuracy: 0.9298\n",
      "Epoch 188/400\n",
      "15/15 [==============================] - 0s 5ms/step - loss: 0.1396 - accuracy: 0.9451 - val_loss: 0.1784 - val_accuracy: 0.9211\n",
      "Epoch 189/400\n",
      "15/15 [==============================] - 0s 5ms/step - loss: 0.1412 - accuracy: 0.9429 - val_loss: 0.1840 - val_accuracy: 0.9211\n",
      "Epoch 190/400\n",
      "15/15 [==============================] - 0s 5ms/step - loss: 0.1421 - accuracy: 0.9473 - val_loss: 0.1718 - val_accuracy: 0.9298\n",
      "Epoch 191/400\n",
      "15/15 [==============================] - 0s 5ms/step - loss: 0.1398 - accuracy: 0.9451 - val_loss: 0.1782 - val_accuracy: 0.9211\n",
      "Epoch 192/400\n",
      "15/15 [==============================] - 0s 5ms/step - loss: 0.1403 - accuracy: 0.9429 - val_loss: 0.1756 - val_accuracy: 0.9211\n",
      "Epoch 193/400\n",
      "15/15 [==============================] - 0s 5ms/step - loss: 0.1394 - accuracy: 0.9451 - val_loss: 0.1742 - val_accuracy: 0.9298\n",
      "Epoch 194/400\n",
      "15/15 [==============================] - 0s 6ms/step - loss: 0.1403 - accuracy: 0.9385 - val_loss: 0.1748 - val_accuracy: 0.9298\n",
      "Epoch 195/400\n",
      "15/15 [==============================] - 0s 5ms/step - loss: 0.1412 - accuracy: 0.9429 - val_loss: 0.1737 - val_accuracy: 0.9298\n",
      "Epoch 196/400\n",
      "15/15 [==============================] - 0s 5ms/step - loss: 0.1397 - accuracy: 0.9473 - val_loss: 0.1773 - val_accuracy: 0.9211\n",
      "Epoch 197/400\n",
      "15/15 [==============================] - 0s 5ms/step - loss: 0.1398 - accuracy: 0.9429 - val_loss: 0.1719 - val_accuracy: 0.9298\n",
      "Epoch 198/400\n",
      "15/15 [==============================] - 0s 5ms/step - loss: 0.1402 - accuracy: 0.9429 - val_loss: 0.1737 - val_accuracy: 0.9298\n",
      "Epoch 199/400\n",
      "15/15 [==============================] - 0s 5ms/step - loss: 0.1415 - accuracy: 0.9429 - val_loss: 0.1835 - val_accuracy: 0.9211\n",
      "Epoch 200/400\n",
      "15/15 [==============================] - 0s 5ms/step - loss: 0.1408 - accuracy: 0.9429 - val_loss: 0.1763 - val_accuracy: 0.9211\n",
      "Epoch 201/400\n",
      "15/15 [==============================] - 0s 5ms/step - loss: 0.1410 - accuracy: 0.9451 - val_loss: 0.1708 - val_accuracy: 0.9386\n",
      "Epoch 202/400\n",
      "15/15 [==============================] - 0s 5ms/step - loss: 0.1391 - accuracy: 0.9451 - val_loss: 0.1768 - val_accuracy: 0.9211\n",
      "Epoch 203/400\n",
      "15/15 [==============================] - 0s 5ms/step - loss: 0.1421 - accuracy: 0.9429 - val_loss: 0.1782 - val_accuracy: 0.9211\n",
      "Epoch 204/400\n",
      "15/15 [==============================] - 0s 5ms/step - loss: 0.1400 - accuracy: 0.9385 - val_loss: 0.1729 - val_accuracy: 0.9298\n",
      "Epoch 205/400\n",
      "15/15 [==============================] - 0s 5ms/step - loss: 0.1397 - accuracy: 0.9385 - val_loss: 0.1775 - val_accuracy: 0.9211\n",
      "Epoch 206/400\n",
      "15/15 [==============================] - 0s 5ms/step - loss: 0.1407 - accuracy: 0.9429 - val_loss: 0.1775 - val_accuracy: 0.9211\n",
      "Epoch 207/400\n",
      "15/15 [==============================] - 0s 5ms/step - loss: 0.1401 - accuracy: 0.9473 - val_loss: 0.1786 - val_accuracy: 0.9211\n",
      "Epoch 208/400\n",
      "15/15 [==============================] - 0s 5ms/step - loss: 0.1392 - accuracy: 0.9473 - val_loss: 0.1745 - val_accuracy: 0.9298\n",
      "Epoch 209/400\n",
      "15/15 [==============================] - 0s 6ms/step - loss: 0.1395 - accuracy: 0.9407 - val_loss: 0.1719 - val_accuracy: 0.9298\n",
      "Epoch 210/400\n",
      "15/15 [==============================] - 0s 5ms/step - loss: 0.1392 - accuracy: 0.9407 - val_loss: 0.1748 - val_accuracy: 0.9298\n",
      "Epoch 211/400\n",
      "15/15 [==============================] - 0s 5ms/step - loss: 0.1398 - accuracy: 0.9451 - val_loss: 0.1801 - val_accuracy: 0.9211\n",
      "Epoch 212/400\n",
      "15/15 [==============================] - 0s 5ms/step - loss: 0.1397 - accuracy: 0.9429 - val_loss: 0.1741 - val_accuracy: 0.9298\n",
      "Epoch 213/400\n",
      "15/15 [==============================] - 0s 6ms/step - loss: 0.1416 - accuracy: 0.9451 - val_loss: 0.1738 - val_accuracy: 0.9298\n",
      "Epoch 214/400\n",
      "15/15 [==============================] - 0s 5ms/step - loss: 0.1383 - accuracy: 0.9429 - val_loss: 0.1860 - val_accuracy: 0.9211\n",
      "Epoch 215/400\n",
      "15/15 [==============================] - 0s 5ms/step - loss: 0.1403 - accuracy: 0.9429 - val_loss: 0.1786 - val_accuracy: 0.9211\n",
      "Epoch 216/400\n",
      "15/15 [==============================] - 0s 5ms/step - loss: 0.1395 - accuracy: 0.9429 - val_loss: 0.1723 - val_accuracy: 0.9386\n",
      "Epoch 217/400\n",
      "15/15 [==============================] - 0s 6ms/step - loss: 0.1395 - accuracy: 0.9451 - val_loss: 0.1779 - val_accuracy: 0.9211\n",
      "Epoch 218/400\n",
      "15/15 [==============================] - 0s 5ms/step - loss: 0.1400 - accuracy: 0.9473 - val_loss: 0.1794 - val_accuracy: 0.9211\n",
      "Epoch 219/400\n",
      "15/15 [==============================] - 0s 7ms/step - loss: 0.1403 - accuracy: 0.9451 - val_loss: 0.1722 - val_accuracy: 0.9386\n",
      "Epoch 220/400\n",
      "15/15 [==============================] - 0s 5ms/step - loss: 0.1404 - accuracy: 0.9429 - val_loss: 0.1803 - val_accuracy: 0.9211\n",
      "Epoch 221/400\n",
      "15/15 [==============================] - 0s 5ms/step - loss: 0.1390 - accuracy: 0.9429 - val_loss: 0.1777 - val_accuracy: 0.9211\n",
      "Epoch 222/400\n",
      "15/15 [==============================] - 0s 6ms/step - loss: 0.1406 - accuracy: 0.9473 - val_loss: 0.1767 - val_accuracy: 0.9211\n",
      "Epoch 223/400\n",
      "15/15 [==============================] - 0s 5ms/step - loss: 0.1437 - accuracy: 0.9429 - val_loss: 0.1723 - val_accuracy: 0.9386\n",
      "Epoch 224/400\n",
      "15/15 [==============================] - 0s 7ms/step - loss: 0.1453 - accuracy: 0.9407 - val_loss: 0.1911 - val_accuracy: 0.9123\n",
      "Epoch 225/400\n",
      "15/15 [==============================] - 0s 6ms/step - loss: 0.1388 - accuracy: 0.9473 - val_loss: 0.1757 - val_accuracy: 0.9298\n",
      "Epoch 226/400\n",
      "15/15 [==============================] - 0s 6ms/step - loss: 0.1394 - accuracy: 0.9407 - val_loss: 0.1750 - val_accuracy: 0.9298\n",
      "Epoch 227/400\n",
      "15/15 [==============================] - 0s 5ms/step - loss: 0.1393 - accuracy: 0.9407 - val_loss: 0.1768 - val_accuracy: 0.9298\n",
      "Epoch 228/400\n",
      "15/15 [==============================] - 0s 5ms/step - loss: 0.1451 - accuracy: 0.9407 - val_loss: 0.1865 - val_accuracy: 0.9211\n",
      "Epoch 229/400\n",
      "15/15 [==============================] - 0s 5ms/step - loss: 0.1401 - accuracy: 0.9451 - val_loss: 0.1781 - val_accuracy: 0.9298\n",
      "Epoch 230/400\n"
     ]
    },
    {
     "name": "stdout",
     "output_type": "stream",
     "text": [
      "15/15 [==============================] - 0s 5ms/step - loss: 0.1394 - accuracy: 0.9429 - val_loss: 0.1784 - val_accuracy: 0.9211\n",
      "Epoch 231/400\n",
      "15/15 [==============================] - 0s 5ms/step - loss: 0.1396 - accuracy: 0.9407 - val_loss: 0.1769 - val_accuracy: 0.9298\n",
      "Epoch 232/400\n",
      "15/15 [==============================] - 0s 5ms/step - loss: 0.1401 - accuracy: 0.9407 - val_loss: 0.1816 - val_accuracy: 0.9211\n",
      "Epoch 233/400\n",
      "15/15 [==============================] - 0s 5ms/step - loss: 0.1443 - accuracy: 0.9429 - val_loss: 0.1718 - val_accuracy: 0.9386\n",
      "Epoch 234/400\n",
      "15/15 [==============================] - 0s 5ms/step - loss: 0.1405 - accuracy: 0.9451 - val_loss: 0.1850 - val_accuracy: 0.9211\n",
      "Epoch 235/400\n",
      "15/15 [==============================] - 0s 6ms/step - loss: 0.1389 - accuracy: 0.9429 - val_loss: 0.1795 - val_accuracy: 0.9298\n",
      "Epoch 236/400\n",
      "15/15 [==============================] - 0s 5ms/step - loss: 0.1425 - accuracy: 0.9451 - val_loss: 0.1760 - val_accuracy: 0.9298\n",
      "Epoch 237/400\n",
      "15/15 [==============================] - 0s 5ms/step - loss: 0.1385 - accuracy: 0.9407 - val_loss: 0.1828 - val_accuracy: 0.9211\n",
      "Epoch 238/400\n",
      "15/15 [==============================] - 0s 6ms/step - loss: 0.1387 - accuracy: 0.9385 - val_loss: 0.1796 - val_accuracy: 0.9298\n",
      "Epoch 239/400\n",
      "15/15 [==============================] - 0s 5ms/step - loss: 0.1410 - accuracy: 0.9407 - val_loss: 0.1844 - val_accuracy: 0.9211\n",
      "Epoch 240/400\n",
      "15/15 [==============================] - 0s 5ms/step - loss: 0.1392 - accuracy: 0.9451 - val_loss: 0.1770 - val_accuracy: 0.9298\n",
      "Epoch 241/400\n",
      "15/15 [==============================] - 0s 5ms/step - loss: 0.1399 - accuracy: 0.9429 - val_loss: 0.1743 - val_accuracy: 0.9298\n",
      "Epoch 242/400\n",
      "15/15 [==============================] - 0s 5ms/step - loss: 0.1386 - accuracy: 0.9407 - val_loss: 0.1786 - val_accuracy: 0.9298\n",
      "Epoch 243/400\n",
      "15/15 [==============================] - 0s 5ms/step - loss: 0.1388 - accuracy: 0.9429 - val_loss: 0.1798 - val_accuracy: 0.9211\n",
      "Epoch 244/400\n",
      "15/15 [==============================] - 0s 5ms/step - loss: 0.1384 - accuracy: 0.9451 - val_loss: 0.1798 - val_accuracy: 0.9211\n",
      "Epoch 245/400\n",
      "15/15 [==============================] - 0s 5ms/step - loss: 0.1390 - accuracy: 0.9407 - val_loss: 0.1767 - val_accuracy: 0.9298\n",
      "Epoch 246/400\n",
      "15/15 [==============================] - 0s 6ms/step - loss: 0.1383 - accuracy: 0.9429 - val_loss: 0.1815 - val_accuracy: 0.9211\n",
      "Epoch 247/400\n",
      "15/15 [==============================] - 0s 6ms/step - loss: 0.1398 - accuracy: 0.9385 - val_loss: 0.1766 - val_accuracy: 0.9298\n",
      "Epoch 248/400\n",
      "15/15 [==============================] - 0s 5ms/step - loss: 0.1385 - accuracy: 0.9407 - val_loss: 0.1828 - val_accuracy: 0.9211\n",
      "Epoch 249/400\n",
      "15/15 [==============================] - 0s 5ms/step - loss: 0.1389 - accuracy: 0.9451 - val_loss: 0.1811 - val_accuracy: 0.9211\n",
      "Epoch 250/400\n",
      "15/15 [==============================] - 0s 6ms/step - loss: 0.1385 - accuracy: 0.9451 - val_loss: 0.1790 - val_accuracy: 0.9298\n",
      "Epoch 251/400\n",
      "15/15 [==============================] - 0s 5ms/step - loss: 0.1387 - accuracy: 0.9385 - val_loss: 0.1817 - val_accuracy: 0.9211\n",
      "Epoch 252/400\n",
      "15/15 [==============================] - 0s 5ms/step - loss: 0.1382 - accuracy: 0.9451 - val_loss: 0.1782 - val_accuracy: 0.9298\n",
      "Epoch 253/400\n",
      "15/15 [==============================] - 0s 5ms/step - loss: 0.1386 - accuracy: 0.9407 - val_loss: 0.1799 - val_accuracy: 0.9211\n",
      "Epoch 254/400\n",
      "15/15 [==============================] - 0s 5ms/step - loss: 0.1400 - accuracy: 0.9429 - val_loss: 0.1825 - val_accuracy: 0.9211\n",
      "Epoch 255/400\n",
      "15/15 [==============================] - 0s 5ms/step - loss: 0.1401 - accuracy: 0.9429 - val_loss: 0.1776 - val_accuracy: 0.9298\n",
      "Epoch 256/400\n",
      "15/15 [==============================] - 0s 5ms/step - loss: 0.1383 - accuracy: 0.9451 - val_loss: 0.1857 - val_accuracy: 0.9211\n",
      "Epoch 257/400\n",
      "15/15 [==============================] - 0s 5ms/step - loss: 0.1387 - accuracy: 0.9429 - val_loss: 0.1804 - val_accuracy: 0.9211\n",
      "Epoch 258/400\n",
      "15/15 [==============================] - 0s 6ms/step - loss: 0.1388 - accuracy: 0.9429 - val_loss: 0.1820 - val_accuracy: 0.9211\n",
      "Epoch 259/400\n",
      "15/15 [==============================] - 0s 5ms/step - loss: 0.1394 - accuracy: 0.9407 - val_loss: 0.1792 - val_accuracy: 0.9298\n",
      "Epoch 260/400\n",
      "15/15 [==============================] - 0s 5ms/step - loss: 0.1395 - accuracy: 0.9429 - val_loss: 0.1839 - val_accuracy: 0.9211\n",
      "Epoch 261/400\n",
      "15/15 [==============================] - 0s 6ms/step - loss: 0.1390 - accuracy: 0.9429 - val_loss: 0.1822 - val_accuracy: 0.9211\n",
      "Epoch 262/400\n",
      "15/15 [==============================] - 0s 6ms/step - loss: 0.1396 - accuracy: 0.9407 - val_loss: 0.1783 - val_accuracy: 0.9298\n",
      "Epoch 263/400\n",
      "15/15 [==============================] - 0s 5ms/step - loss: 0.1392 - accuracy: 0.9407 - val_loss: 0.1868 - val_accuracy: 0.9211\n",
      "Epoch 264/400\n",
      "15/15 [==============================] - 0s 5ms/step - loss: 0.1388 - accuracy: 0.9429 - val_loss: 0.1794 - val_accuracy: 0.9298\n",
      "Epoch 265/400\n",
      "15/15 [==============================] - 0s 5ms/step - loss: 0.1389 - accuracy: 0.9451 - val_loss: 0.1772 - val_accuracy: 0.9298\n",
      "Epoch 266/400\n",
      "15/15 [==============================] - 0s 6ms/step - loss: 0.1388 - accuracy: 0.9407 - val_loss: 0.1830 - val_accuracy: 0.9211\n",
      "Epoch 267/400\n",
      "15/15 [==============================] - 0s 5ms/step - loss: 0.1386 - accuracy: 0.9451 - val_loss: 0.1913 - val_accuracy: 0.9211\n",
      "Epoch 268/400\n",
      "15/15 [==============================] - 0s 5ms/step - loss: 0.1394 - accuracy: 0.9429 - val_loss: 0.1857 - val_accuracy: 0.9211\n",
      "Epoch 269/400\n",
      "15/15 [==============================] - 0s 5ms/step - loss: 0.1395 - accuracy: 0.9407 - val_loss: 0.1771 - val_accuracy: 0.9298\n",
      "Epoch 270/400\n",
      "15/15 [==============================] - 0s 5ms/step - loss: 0.1379 - accuracy: 0.9407 - val_loss: 0.1854 - val_accuracy: 0.9211\n",
      "Epoch 271/400\n",
      "15/15 [==============================] - 0s 5ms/step - loss: 0.1385 - accuracy: 0.9407 - val_loss: 0.1846 - val_accuracy: 0.9211\n",
      "Epoch 272/400\n",
      "15/15 [==============================] - 0s 5ms/step - loss: 0.1387 - accuracy: 0.9429 - val_loss: 0.1849 - val_accuracy: 0.9211\n",
      "Epoch 273/400\n",
      "15/15 [==============================] - 0s 5ms/step - loss: 0.1395 - accuracy: 0.9407 - val_loss: 0.1801 - val_accuracy: 0.9298\n",
      "Epoch 274/400\n",
      "15/15 [==============================] - 0s 5ms/step - loss: 0.1384 - accuracy: 0.9407 - val_loss: 0.1840 - val_accuracy: 0.9211\n",
      "Epoch 275/400\n",
      "15/15 [==============================] - 0s 5ms/step - loss: 0.1384 - accuracy: 0.9407 - val_loss: 0.1858 - val_accuracy: 0.9211\n",
      "Epoch 276/400\n",
      "15/15 [==============================] - 0s 5ms/step - loss: 0.1389 - accuracy: 0.9451 - val_loss: 0.1868 - val_accuracy: 0.9211\n",
      "Epoch 277/400\n",
      "15/15 [==============================] - 0s 5ms/step - loss: 0.1381 - accuracy: 0.9407 - val_loss: 0.1800 - val_accuracy: 0.9298\n",
      "Epoch 278/400\n",
      "15/15 [==============================] - 0s 5ms/step - loss: 0.1388 - accuracy: 0.9407 - val_loss: 0.1837 - val_accuracy: 0.9211\n",
      "Epoch 279/400\n",
      "15/15 [==============================] - 0s 5ms/step - loss: 0.1389 - accuracy: 0.9407 - val_loss: 0.1851 - val_accuracy: 0.9211\n",
      "Epoch 280/400\n",
      "15/15 [==============================] - 0s 6ms/step - loss: 0.1386 - accuracy: 0.9429 - val_loss: 0.1860 - val_accuracy: 0.9211\n",
      "Epoch 281/400\n",
      "15/15 [==============================] - 0s 5ms/step - loss: 0.1391 - accuracy: 0.9429 - val_loss: 0.1830 - val_accuracy: 0.9298\n",
      "Epoch 282/400\n",
      "15/15 [==============================] - 0s 5ms/step - loss: 0.1391 - accuracy: 0.9429 - val_loss: 0.1859 - val_accuracy: 0.9211\n",
      "Epoch 283/400\n",
      "15/15 [==============================] - 0s 5ms/step - loss: 0.1384 - accuracy: 0.9407 - val_loss: 0.1797 - val_accuracy: 0.9298\n",
      "Epoch 284/400\n",
      "15/15 [==============================] - 0s 5ms/step - loss: 0.1396 - accuracy: 0.9407 - val_loss: 0.1815 - val_accuracy: 0.9211\n",
      "Epoch 285/400\n",
      "15/15 [==============================] - 0s 5ms/step - loss: 0.1385 - accuracy: 0.9429 - val_loss: 0.1822 - val_accuracy: 0.9211\n",
      "Epoch 286/400\n",
      "15/15 [==============================] - 0s 5ms/step - loss: 0.1385 - accuracy: 0.9429 - val_loss: 0.1853 - val_accuracy: 0.9211\n",
      "Epoch 287/400\n"
     ]
    },
    {
     "name": "stdout",
     "output_type": "stream",
     "text": [
      "15/15 [==============================] - 0s 5ms/step - loss: 0.1376 - accuracy: 0.9451 - val_loss: 0.1808 - val_accuracy: 0.9298\n",
      "Epoch 288/400\n",
      "15/15 [==============================] - 0s 5ms/step - loss: 0.1431 - accuracy: 0.9429 - val_loss: 0.1806 - val_accuracy: 0.9298\n",
      "Epoch 289/400\n",
      "15/15 [==============================] - 0s 5ms/step - loss: 0.1402 - accuracy: 0.9451 - val_loss: 0.1893 - val_accuracy: 0.9211\n",
      "Epoch 290/400\n",
      "15/15 [==============================] - 0s 5ms/step - loss: 0.1377 - accuracy: 0.9429 - val_loss: 0.1799 - val_accuracy: 0.9298\n",
      "Epoch 291/400\n",
      "15/15 [==============================] - 0s 5ms/step - loss: 0.1398 - accuracy: 0.9407 - val_loss: 0.1815 - val_accuracy: 0.9298\n",
      "Epoch 292/400\n",
      "15/15 [==============================] - 0s 5ms/step - loss: 0.1389 - accuracy: 0.9407 - val_loss: 0.1850 - val_accuracy: 0.9211\n",
      "Epoch 293/400\n",
      "15/15 [==============================] - 0s 5ms/step - loss: 0.1382 - accuracy: 0.9407 - val_loss: 0.1861 - val_accuracy: 0.9211\n",
      "Epoch 294/400\n",
      "15/15 [==============================] - 0s 5ms/step - loss: 0.1382 - accuracy: 0.9429 - val_loss: 0.1880 - val_accuracy: 0.9211\n",
      "Epoch 295/400\n",
      "15/15 [==============================] - 0s 5ms/step - loss: 0.1388 - accuracy: 0.9407 - val_loss: 0.1855 - val_accuracy: 0.9211\n",
      "Epoch 296/400\n",
      "15/15 [==============================] - 0s 5ms/step - loss: 0.1386 - accuracy: 0.9407 - val_loss: 0.1853 - val_accuracy: 0.9211\n",
      "Epoch 297/400\n",
      "15/15 [==============================] - 0s 5ms/step - loss: 0.1396 - accuracy: 0.9451 - val_loss: 0.1847 - val_accuracy: 0.9211\n",
      "Epoch 298/400\n",
      "15/15 [==============================] - 0s 6ms/step - loss: 0.1385 - accuracy: 0.9429 - val_loss: 0.1792 - val_accuracy: 0.9298\n",
      "Epoch 299/400\n",
      "15/15 [==============================] - 0s 5ms/step - loss: 0.1380 - accuracy: 0.9429 - val_loss: 0.1868 - val_accuracy: 0.9211\n",
      "Epoch 300/400\n",
      "15/15 [==============================] - 0s 5ms/step - loss: 0.1386 - accuracy: 0.9429 - val_loss: 0.1864 - val_accuracy: 0.9211\n",
      "Epoch 301/400\n",
      "15/15 [==============================] - 0s 5ms/step - loss: 0.1403 - accuracy: 0.9407 - val_loss: 0.1843 - val_accuracy: 0.9211\n",
      "Epoch 302/400\n",
      "15/15 [==============================] - 0s 5ms/step - loss: 0.1399 - accuracy: 0.9429 - val_loss: 0.1897 - val_accuracy: 0.9211\n",
      "Epoch 303/400\n",
      "15/15 [==============================] - 0s 5ms/step - loss: 0.1386 - accuracy: 0.9429 - val_loss: 0.1829 - val_accuracy: 0.9211\n",
      "Epoch 304/400\n",
      "15/15 [==============================] - 0s 5ms/step - loss: 0.1388 - accuracy: 0.9407 - val_loss: 0.1836 - val_accuracy: 0.9211\n",
      "Epoch 305/400\n",
      "15/15 [==============================] - 0s 6ms/step - loss: 0.1382 - accuracy: 0.9407 - val_loss: 0.1849 - val_accuracy: 0.9211\n",
      "Epoch 306/400\n",
      "15/15 [==============================] - 0s 5ms/step - loss: 0.1377 - accuracy: 0.9429 - val_loss: 0.1836 - val_accuracy: 0.9298\n",
      "Epoch 307/400\n",
      "15/15 [==============================] - 0s 6ms/step - loss: 0.1383 - accuracy: 0.9407 - val_loss: 0.1839 - val_accuracy: 0.9298\n",
      "Epoch 308/400\n",
      "15/15 [==============================] - 0s 6ms/step - loss: 0.1394 - accuracy: 0.9407 - val_loss: 0.1860 - val_accuracy: 0.9211\n",
      "Epoch 309/400\n",
      "15/15 [==============================] - 0s 5ms/step - loss: 0.1382 - accuracy: 0.9429 - val_loss: 0.1885 - val_accuracy: 0.9211\n",
      "Epoch 310/400\n",
      "15/15 [==============================] - 0s 5ms/step - loss: 0.1379 - accuracy: 0.9429 - val_loss: 0.1833 - val_accuracy: 0.9298\n",
      "Epoch 311/400\n",
      "15/15 [==============================] - 0s 5ms/step - loss: 0.1411 - accuracy: 0.9473 - val_loss: 0.1814 - val_accuracy: 0.9298\n",
      "Epoch 312/400\n",
      "15/15 [==============================] - 0s 5ms/step - loss: 0.1380 - accuracy: 0.9451 - val_loss: 0.1916 - val_accuracy: 0.9211\n",
      "Epoch 313/400\n",
      "15/15 [==============================] - 0s 6ms/step - loss: 0.1393 - accuracy: 0.9407 - val_loss: 0.1832 - val_accuracy: 0.9298\n",
      "Epoch 314/400\n",
      "15/15 [==============================] - 0s 8ms/step - loss: 0.1385 - accuracy: 0.9451 - val_loss: 0.1941 - val_accuracy: 0.9211\n",
      "Epoch 315/400\n",
      "15/15 [==============================] - 0s 5ms/step - loss: 0.1418 - accuracy: 0.9429 - val_loss: 0.1910 - val_accuracy: 0.9211\n",
      "Epoch 316/400\n",
      "15/15 [==============================] - 0s 6ms/step - loss: 0.1384 - accuracy: 0.9429 - val_loss: 0.1781 - val_accuracy: 0.9386\n",
      "Epoch 317/400\n",
      "15/15 [==============================] - 0s 5ms/step - loss: 0.1385 - accuracy: 0.9407 - val_loss: 0.1857 - val_accuracy: 0.9211\n",
      "Epoch 318/400\n",
      "15/15 [==============================] - 0s 5ms/step - loss: 0.1379 - accuracy: 0.9429 - val_loss: 0.1839 - val_accuracy: 0.9211\n",
      "Epoch 319/400\n",
      "15/15 [==============================] - 0s 5ms/step - loss: 0.1377 - accuracy: 0.9451 - val_loss: 0.1881 - val_accuracy: 0.9211\n",
      "Epoch 320/400\n",
      "15/15 [==============================] - 0s 5ms/step - loss: 0.1396 - accuracy: 0.9429 - val_loss: 0.1856 - val_accuracy: 0.9211\n",
      "Epoch 321/400\n",
      "15/15 [==============================] - 0s 5ms/step - loss: 0.1377 - accuracy: 0.9429 - val_loss: 0.1901 - val_accuracy: 0.9211\n",
      "Epoch 322/400\n",
      "15/15 [==============================] - 0s 5ms/step - loss: 0.1380 - accuracy: 0.9451 - val_loss: 0.1842 - val_accuracy: 0.9211\n",
      "Epoch 323/400\n",
      "15/15 [==============================] - 0s 5ms/step - loss: 0.1380 - accuracy: 0.9385 - val_loss: 0.1852 - val_accuracy: 0.9211\n",
      "Epoch 324/400\n",
      "15/15 [==============================] - 0s 5ms/step - loss: 0.1381 - accuracy: 0.9407 - val_loss: 0.1834 - val_accuracy: 0.9298\n",
      "Epoch 325/400\n",
      "15/15 [==============================] - 0s 5ms/step - loss: 0.1378 - accuracy: 0.9407 - val_loss: 0.1867 - val_accuracy: 0.9211\n",
      "Epoch 326/400\n",
      "15/15 [==============================] - 0s 5ms/step - loss: 0.1384 - accuracy: 0.9407 - val_loss: 0.1839 - val_accuracy: 0.9298\n",
      "Epoch 327/400\n",
      "15/15 [==============================] - 0s 6ms/step - loss: 0.1375 - accuracy: 0.9407 - val_loss: 0.1931 - val_accuracy: 0.9211\n",
      "Epoch 328/400\n",
      "15/15 [==============================] - 0s 5ms/step - loss: 0.1397 - accuracy: 0.9407 - val_loss: 0.1904 - val_accuracy: 0.9211\n",
      "Epoch 329/400\n",
      "15/15 [==============================] - 0s 5ms/step - loss: 0.1392 - accuracy: 0.9385 - val_loss: 0.1873 - val_accuracy: 0.9211\n",
      "Epoch 330/400\n",
      "15/15 [==============================] - 0s 5ms/step - loss: 0.1378 - accuracy: 0.9429 - val_loss: 0.1866 - val_accuracy: 0.9211\n",
      "Epoch 331/400\n",
      "15/15 [==============================] - 0s 5ms/step - loss: 0.1392 - accuracy: 0.9407 - val_loss: 0.1850 - val_accuracy: 0.9298\n",
      "Epoch 332/400\n",
      "15/15 [==============================] - 0s 5ms/step - loss: 0.1392 - accuracy: 0.9429 - val_loss: 0.1915 - val_accuracy: 0.9211\n",
      "Epoch 333/400\n",
      "15/15 [==============================] - 0s 5ms/step - loss: 0.1381 - accuracy: 0.9429 - val_loss: 0.1844 - val_accuracy: 0.9211\n",
      "Epoch 334/400\n",
      "15/15 [==============================] - 0s 5ms/step - loss: 0.1378 - accuracy: 0.9407 - val_loss: 0.1847 - val_accuracy: 0.9211\n",
      "Epoch 335/400\n",
      "15/15 [==============================] - 0s 5ms/step - loss: 0.1384 - accuracy: 0.9451 - val_loss: 0.1907 - val_accuracy: 0.9211\n",
      "Epoch 336/400\n",
      "15/15 [==============================] - 0s 6ms/step - loss: 0.1398 - accuracy: 0.9407 - val_loss: 0.1923 - val_accuracy: 0.9211\n",
      "Epoch 337/400\n",
      "15/15 [==============================] - 0s 5ms/step - loss: 0.1373 - accuracy: 0.9429 - val_loss: 0.1836 - val_accuracy: 0.9298\n",
      "Epoch 338/400\n",
      "15/15 [==============================] - 0s 5ms/step - loss: 0.1389 - accuracy: 0.9429 - val_loss: 0.1871 - val_accuracy: 0.9211\n",
      "Epoch 339/400\n",
      "15/15 [==============================] - 0s 6ms/step - loss: 0.1382 - accuracy: 0.9407 - val_loss: 0.1831 - val_accuracy: 0.9298\n",
      "Epoch 340/400\n",
      "15/15 [==============================] - 0s 5ms/step - loss: 0.1379 - accuracy: 0.9407 - val_loss: 0.1885 - val_accuracy: 0.9211\n",
      "Epoch 341/400\n",
      "15/15 [==============================] - 0s 5ms/step - loss: 0.1406 - accuracy: 0.9429 - val_loss: 0.1972 - val_accuracy: 0.9211\n",
      "Epoch 342/400\n",
      "15/15 [==============================] - 0s 5ms/step - loss: 0.1383 - accuracy: 0.9385 - val_loss: 0.1855 - val_accuracy: 0.9298\n",
      "Epoch 343/400\n",
      "15/15 [==============================] - 0s 5ms/step - loss: 0.1385 - accuracy: 0.9385 - val_loss: 0.1855 - val_accuracy: 0.9298\n",
      "Epoch 344/400\n"
     ]
    },
    {
     "name": "stdout",
     "output_type": "stream",
     "text": [
      "15/15 [==============================] - 0s 7ms/step - loss: 0.1396 - accuracy: 0.9429 - val_loss: 0.1915 - val_accuracy: 0.9211\n",
      "Epoch 345/400\n",
      "15/15 [==============================] - 0s 5ms/step - loss: 0.1386 - accuracy: 0.9451 - val_loss: 0.1841 - val_accuracy: 0.9298\n",
      "Epoch 346/400\n",
      "15/15 [==============================] - 0s 6ms/step - loss: 0.1405 - accuracy: 0.9407 - val_loss: 0.1922 - val_accuracy: 0.9211\n",
      "Epoch 347/400\n",
      "15/15 [==============================] - 0s 6ms/step - loss: 0.1382 - accuracy: 0.9429 - val_loss: 0.1813 - val_accuracy: 0.9298\n",
      "Epoch 348/400\n",
      "15/15 [==============================] - 0s 7ms/step - loss: 0.1385 - accuracy: 0.9451 - val_loss: 0.1900 - val_accuracy: 0.9211\n",
      "Epoch 349/400\n",
      "15/15 [==============================] - 0s 5ms/step - loss: 0.1378 - accuracy: 0.9385 - val_loss: 0.1930 - val_accuracy: 0.9211\n",
      "Epoch 350/400\n",
      "15/15 [==============================] - 0s 5ms/step - loss: 0.1385 - accuracy: 0.9429 - val_loss: 0.1904 - val_accuracy: 0.9211\n",
      "Epoch 351/400\n",
      "15/15 [==============================] - 0s 5ms/step - loss: 0.1378 - accuracy: 0.9407 - val_loss: 0.1879 - val_accuracy: 0.9211\n",
      "Epoch 352/400\n",
      "15/15 [==============================] - 0s 5ms/step - loss: 0.1386 - accuracy: 0.9407 - val_loss: 0.1872 - val_accuracy: 0.9298\n",
      "Epoch 353/400\n",
      "15/15 [==============================] - 0s 5ms/step - loss: 0.1390 - accuracy: 0.9407 - val_loss: 0.1925 - val_accuracy: 0.9211\n",
      "Epoch 354/400\n",
      "15/15 [==============================] - 0s 5ms/step - loss: 0.1376 - accuracy: 0.9407 - val_loss: 0.1849 - val_accuracy: 0.9298\n",
      "Epoch 355/400\n",
      "15/15 [==============================] - 0s 6ms/step - loss: 0.1386 - accuracy: 0.9451 - val_loss: 0.1869 - val_accuracy: 0.9211\n",
      "Epoch 356/400\n",
      "15/15 [==============================] - 0s 5ms/step - loss: 0.1371 - accuracy: 0.9407 - val_loss: 0.1919 - val_accuracy: 0.9211\n",
      "Epoch 357/400\n",
      "15/15 [==============================] - 0s 5ms/step - loss: 0.1421 - accuracy: 0.9451 - val_loss: 0.1974 - val_accuracy: 0.9211\n",
      "Epoch 358/400\n",
      "15/15 [==============================] - 0s 6ms/step - loss: 0.1381 - accuracy: 0.9429 - val_loss: 0.1859 - val_accuracy: 0.9298\n",
      "Epoch 359/400\n",
      "15/15 [==============================] - 0s 6ms/step - loss: 0.1381 - accuracy: 0.9407 - val_loss: 0.1895 - val_accuracy: 0.9211\n",
      "Epoch 360/400\n",
      "15/15 [==============================] - 0s 5ms/step - loss: 0.1376 - accuracy: 0.9429 - val_loss: 0.1971 - val_accuracy: 0.9211\n",
      "Epoch 361/400\n",
      "15/15 [==============================] - 0s 5ms/step - loss: 0.1408 - accuracy: 0.9429 - val_loss: 0.1935 - val_accuracy: 0.9211\n",
      "Epoch 362/400\n",
      "15/15 [==============================] - 0s 6ms/step - loss: 0.1366 - accuracy: 0.9407 - val_loss: 0.1824 - val_accuracy: 0.9298\n",
      "Epoch 363/400\n",
      "15/15 [==============================] - 0s 5ms/step - loss: 0.1397 - accuracy: 0.9407 - val_loss: 0.1864 - val_accuracy: 0.9298\n",
      "Epoch 364/400\n",
      "15/15 [==============================] - 0s 5ms/step - loss: 0.1387 - accuracy: 0.9407 - val_loss: 0.1943 - val_accuracy: 0.9211\n",
      "Epoch 365/400\n",
      "15/15 [==============================] - 0s 5ms/step - loss: 0.1388 - accuracy: 0.9407 - val_loss: 0.1841 - val_accuracy: 0.9298\n",
      "Epoch 366/400\n",
      "15/15 [==============================] - 0s 5ms/step - loss: 0.1384 - accuracy: 0.9407 - val_loss: 0.1924 - val_accuracy: 0.9211\n",
      "Epoch 367/400\n",
      "15/15 [==============================] - 0s 5ms/step - loss: 0.1394 - accuracy: 0.9429 - val_loss: 0.1885 - val_accuracy: 0.9211\n",
      "Epoch 368/400\n",
      "15/15 [==============================] - 0s 5ms/step - loss: 0.1381 - accuracy: 0.9473 - val_loss: 0.1819 - val_accuracy: 0.9298\n",
      "Epoch 369/400\n",
      "15/15 [==============================] - 0s 5ms/step - loss: 0.1370 - accuracy: 0.9429 - val_loss: 0.1928 - val_accuracy: 0.9211\n",
      "Epoch 370/400\n",
      "15/15 [==============================] - 0s 5ms/step - loss: 0.1412 - accuracy: 0.9407 - val_loss: 0.1959 - val_accuracy: 0.9211\n",
      "Epoch 371/400\n",
      "15/15 [==============================] - 0s 6ms/step - loss: 0.1373 - accuracy: 0.9429 - val_loss: 0.1830 - val_accuracy: 0.9298\n",
      "Epoch 372/400\n",
      "15/15 [==============================] - 0s 7ms/step - loss: 0.1397 - accuracy: 0.9451 - val_loss: 0.1855 - val_accuracy: 0.9298\n",
      "Epoch 373/400\n",
      "15/15 [==============================] - 0s 6ms/step - loss: 0.1365 - accuracy: 0.9407 - val_loss: 0.1952 - val_accuracy: 0.9211\n",
      "Epoch 374/400\n",
      "15/15 [==============================] - 0s 5ms/step - loss: 0.1434 - accuracy: 0.9451 - val_loss: 0.2016 - val_accuracy: 0.9211\n",
      "Epoch 375/400\n",
      "15/15 [==============================] - 0s 5ms/step - loss: 0.1381 - accuracy: 0.9385 - val_loss: 0.1839 - val_accuracy: 0.9298\n",
      "Epoch 376/400\n",
      "15/15 [==============================] - 0s 6ms/step - loss: 0.1390 - accuracy: 0.9429 - val_loss: 0.1864 - val_accuracy: 0.9298\n",
      "Epoch 377/400\n",
      "15/15 [==============================] - 0s 5ms/step - loss: 0.1377 - accuracy: 0.9385 - val_loss: 0.1930 - val_accuracy: 0.9211\n",
      "Epoch 378/400\n",
      "15/15 [==============================] - 0s 5ms/step - loss: 0.1391 - accuracy: 0.9363 - val_loss: 0.1927 - val_accuracy: 0.9211\n",
      "Epoch 379/400\n",
      "15/15 [==============================] - 0s 5ms/step - loss: 0.1378 - accuracy: 0.9385 - val_loss: 0.1926 - val_accuracy: 0.9211\n",
      "Epoch 380/400\n",
      "15/15 [==============================] - 0s 6ms/step - loss: 0.1379 - accuracy: 0.9429 - val_loss: 0.1918 - val_accuracy: 0.9211\n",
      "Epoch 381/400\n",
      "15/15 [==============================] - 0s 6ms/step - loss: 0.1375 - accuracy: 0.9407 - val_loss: 0.1865 - val_accuracy: 0.9298\n",
      "Epoch 382/400\n",
      "15/15 [==============================] - 0s 5ms/step - loss: 0.1405 - accuracy: 0.9407 - val_loss: 0.1938 - val_accuracy: 0.9211\n",
      "Epoch 383/400\n",
      "15/15 [==============================] - 0s 5ms/step - loss: 0.1380 - accuracy: 0.9407 - val_loss: 0.1895 - val_accuracy: 0.9211\n",
      "Epoch 384/400\n",
      "15/15 [==============================] - 0s 5ms/step - loss: 0.1378 - accuracy: 0.9407 - val_loss: 0.1874 - val_accuracy: 0.9298\n",
      "Epoch 385/400\n",
      "15/15 [==============================] - 0s 5ms/step - loss: 0.1386 - accuracy: 0.9385 - val_loss: 0.1957 - val_accuracy: 0.9211\n",
      "Epoch 386/400\n",
      "15/15 [==============================] - 0s 5ms/step - loss: 0.1393 - accuracy: 0.9385 - val_loss: 0.1912 - val_accuracy: 0.9211\n",
      "Epoch 387/400\n",
      "15/15 [==============================] - 0s 5ms/step - loss: 0.1396 - accuracy: 0.9407 - val_loss: 0.1869 - val_accuracy: 0.9298\n",
      "Epoch 388/400\n",
      "15/15 [==============================] - 0s 6ms/step - loss: 0.1387 - accuracy: 0.9407 - val_loss: 0.2031 - val_accuracy: 0.9211\n",
      "Epoch 389/400\n",
      "15/15 [==============================] - 0s 5ms/step - loss: 0.1392 - accuracy: 0.9385 - val_loss: 0.1901 - val_accuracy: 0.9211\n",
      "Epoch 390/400\n",
      "15/15 [==============================] - 0s 5ms/step - loss: 0.1378 - accuracy: 0.9407 - val_loss: 0.1871 - val_accuracy: 0.9298\n",
      "Epoch 391/400\n",
      "15/15 [==============================] - 0s 6ms/step - loss: 0.1375 - accuracy: 0.9407 - val_loss: 0.1924 - val_accuracy: 0.9211\n",
      "Epoch 392/400\n",
      "15/15 [==============================] - 0s 7ms/step - loss: 0.1388 - accuracy: 0.9429 - val_loss: 0.1951 - val_accuracy: 0.9211\n",
      "Epoch 393/400\n",
      "15/15 [==============================] - 0s 5ms/step - loss: 0.1376 - accuracy: 0.9407 - val_loss: 0.1883 - val_accuracy: 0.9298\n",
      "Epoch 394/400\n",
      "15/15 [==============================] - 0s 5ms/step - loss: 0.1391 - accuracy: 0.9385 - val_loss: 0.1924 - val_accuracy: 0.9211\n",
      "Epoch 395/400\n",
      "15/15 [==============================] - 0s 5ms/step - loss: 0.1416 - accuracy: 0.9451 - val_loss: 0.1941 - val_accuracy: 0.9211\n",
      "Epoch 396/400\n",
      "15/15 [==============================] - 0s 5ms/step - loss: 0.1373 - accuracy: 0.9429 - val_loss: 0.1838 - val_accuracy: 0.9298\n",
      "Epoch 397/400\n",
      "15/15 [==============================] - 0s 5ms/step - loss: 0.1388 - accuracy: 0.9451 - val_loss: 0.1893 - val_accuracy: 0.9211\n",
      "Epoch 398/400\n",
      "15/15 [==============================] - 0s 5ms/step - loss: 0.1378 - accuracy: 0.9429 - val_loss: 0.1985 - val_accuracy: 0.9211\n",
      "Epoch 399/400\n",
      "15/15 [==============================] - 0s 5ms/step - loss: 0.1378 - accuracy: 0.9429 - val_loss: 0.1926 - val_accuracy: 0.9211\n",
      "Epoch 400/400\n",
      "15/15 [==============================] - 0s 5ms/step - loss: 0.1383 - accuracy: 0.9407 - val_loss: 0.1895 - val_accuracy: 0.9211\n"
     ]
    }
   ],
   "source": [
    "history_4=model_4.fit(X_train,y_train,validation_data=(X_test,y_test),epochs=400)"
   ]
  },
  {
   "cell_type": "code",
   "execution_count": 62,
   "id": "605a148c",
   "metadata": {},
   "outputs": [
    {
     "data": {
      "text/plain": [
       "Text(0.5, 1.0, 'Training and validation loss')"
      ]
     },
     "execution_count": 62,
     "metadata": {},
     "output_type": "execute_result"
    },
    {
     "data": {
      "image/png": "[encoded data removed]",
      "text/plain": [
       "<Figure size 432x288 with 1 Axes>"
      ]
     },
     "metadata": {
      "needs_background": "light"
     },
     "output_type": "display_data"
    },
    {
     "data": {
      "image/png": "[encoded data removed]",
      "text/plain": [
       "<Figure size 432x288 with 1 Axes>"
      ]
     },
     "metadata": {
      "needs_background": "light"
     },
     "output_type": "display_data"
    }
   ],
   "source": [
    "acc=history_4.history['accuracy']\n",
    "val_acc=history_4.history['val_accuracy']\n",
    "loss=history_4.history['loss']\n",
    "val_loss=history_4.history['val_loss']\n",
    "\n",
    "epochs=range(len(acc)) # Get number of epochs\n",
    "\n",
    "#------------------------------------------------\n",
    "# Plot training and validation accuracy per epoch\n",
    "#------------------------------------------------\n",
    "plt.plot(epochs, acc, 'r', \"Training Accuracy\")\n",
    "plt.plot(epochs, val_acc, 'b', \"Validation Accuracy\")\n",
    "plt.title('Training and validation accuracy')\n",
    "plt.figure()\n",
    "\n",
    "#------------------------------------------------\n",
    "# Plot training and validation loss per epoch\n",
    "#------------------------------------------------\n",
    "plt.plot(epochs, loss, 'r', \"Training Loss\")\n",
    "plt.plot(epochs, val_loss, 'b', \"Validation Loss\")\n",
    "\n",
    "\n",
    "plt.title('Training and validation loss')"
   ]
  },
  {
   "cell_type": "markdown",
   "id": "580a7fbf",
   "metadata": {},
   "source": [
    "# Machine Learning"
   ]
  },
  {
   "cell_type": "markdown",
   "id": "243b353c",
   "metadata": {},
   "source": [
    "## Random Forest"
   ]
  },
  {
   "cell_type": "code",
   "execution_count": 63,
   "id": "07835b98",
   "metadata": {},
   "outputs": [],
   "source": [
    "#importing the classifier\n",
    "from sklearn.ensemble import RandomForestClassifier"
   ]
  },
  {
   "cell_type": "code",
   "execution_count": 64,
   "id": "84d09c28",
   "metadata": {},
   "outputs": [],
   "source": [
    "#setting hyperparameters\n",
    "forest_model_test = RandomForestClassifier(max_depth=50,random_state=42)\n",
    "forest_model_test.fit(X_train,y_train)\n",
    "Y_random_model_test =forest_model_test.predict(X_test)"
   ]
  },
  {
   "cell_type": "code",
   "execution_count": 65,
   "id": "3d41eb20",
   "metadata": {},
   "outputs": [
    {
     "data": {
      "text/html": [
       "<style>#sk-container-id-1 {color: black;background-color: white;}#sk-container-id-1 pre{padding: 0;}#sk-container-id-1 div.sk-toggleable {background-color: white;}#sk-container-id-1 label.sk-toggleable__label {cursor: pointer;display: block;width: 100%;margin-bottom: 0;padding: 0.3em;box-sizing: border-box;text-align: center;}#sk-container-id-1 label.sk-toggleable__label-arrow:before {content: \"▸\";float: left;margin-right: 0.25em;color: #696969;}#sk-container-id-1 label.sk-toggleable__label-arrow:hover:before {color: black;}#sk-container-id-1 div.sk-estimator:hover label.sk-toggleable__label-arrow:before {color: black;}#sk-container-id-1 div.sk-toggleable__content {max-height: 0;max-width: 0;overflow: hidden;text-align: left;background-color: #f0f8ff;}#sk-container-id-1 div.sk-toggleable__content pre {margin: 0.2em;color: black;border-radius: 0.25em;background-color: #f0f8ff;}#sk-container-id-1 input.sk-toggleable__control:checked~div.sk-toggleable__content {max-height: 200px;max-width: 100%;overflow: auto;}#sk-container-id-1 input.sk-toggleable__control:checked~label.sk-toggleable__label-arrow:before {content: \"▾\";}#sk-container-id-1 div.sk-estimator input.sk-toggleable__control:checked~label.sk-toggleable__label {background-color: #d4ebff;}#sk-container-id-1 div.sk-label input.sk-toggleable__control:checked~label.sk-toggleable__label {background-color: #d4ebff;}#sk-container-id-1 input.sk-hidden--visually {border: 0;clip: rect(1px 1px 1px 1px);clip: rect(1px, 1px, 1px, 1px);height: 1px;margin: -1px;overflow: hidden;padding: 0;position: absolute;width: 1px;}#sk-container-id-1 div.sk-estimator {font-family: monospace;background-color: #f0f8ff;border: 1px dotted black;border-radius: 0.25em;box-sizing: border-box;margin-bottom: 0.5em;}#sk-container-id-1 div.sk-estimator:hover {background-color: #d4ebff;}#sk-container-id-1 div.sk-parallel-item::after {content: \"\";width: 100%;border-bottom: 1px solid gray;flex-grow: 1;}#sk-container-id-1 div.sk-label:hover label.sk-toggleable__label {background-color: #d4ebff;}#sk-container-id-1 div.sk-serial::before {content: \"\";position: absolute;border-left: 1px solid gray;box-sizing: border-box;top: 0;bottom: 0;left: 50%;z-index: 0;}#sk-container-id-1 div.sk-serial {display: flex;flex-direction: column;align-items: center;background-color: white;padding-right: 0.2em;padding-left: 0.2em;position: relative;}#sk-container-id-1 div.sk-item {position: relative;z-index: 1;}#sk-container-id-1 div.sk-parallel {display: flex;align-items: stretch;justify-content: center;background-color: white;position: relative;}#sk-container-id-1 div.sk-item::before, #sk-container-id-1 div.sk-parallel-item::before {content: \"\";position: absolute;border-left: 1px solid gray;box-sizing: border-box;top: 0;bottom: 0;left: 50%;z-index: -1;}#sk-container-id-1 div.sk-parallel-item {display: flex;flex-direction: column;z-index: 1;position: relative;background-color: white;}#sk-container-id-1 div.sk-parallel-item:first-child::after {align-self: flex-end;width: 50%;}#sk-container-id-1 div.sk-parallel-item:last-child::after {align-self: flex-start;width: 50%;}#sk-container-id-1 div.sk-parallel-item:only-child::after {width: 0;}#sk-container-id-1 div.sk-dashed-wrapped {border: 1px dashed gray;margin: 0 0.4em 0.5em 0.4em;box-sizing: border-box;padding-bottom: 0.4em;background-color: white;}#sk-container-id-1 div.sk-label label {font-family: monospace;font-weight: bold;display: inline-block;line-height: 1.2em;}#sk-container-id-1 div.sk-label-container {text-align: center;}#sk-container-id-1 div.sk-container {/* jupyter's `normalize.less` sets `[hidden] { display: none; }` but bootstrap.min.css set `[hidden] { display: none !important; }` so we also need the `!important` here to be able to override the default hidden behavior on the sphinx rendered scikit-learn.org. See: https://github.com/scikit-learn/scikit-learn/issues/21755 */display: inline-block !important;position: relative;}#sk-container-id-1 div.sk-text-repr-fallback {display: none;}</style><div id=\"sk-container-id-1\" class=\"sk-top-container\"><div class=\"sk-text-repr-fallback\"><pre>GridSearchCV(cv=10,\n",
       "             estimator=RandomForestClassifier(max_depth=50, random_state=42),\n",
       "             n_jobs=-1,\n",
       "             param_grid={&#x27;max_depth&#x27;: [5, 10, 20, 40, 70, 80],\n",
       "                         &#x27;n_estimators&#x27;: [300, 400, 500, 700, 800, 1000]},\n",
       "             scoring=&#x27;f1&#x27;)</pre><b>In a Jupyter environment, please rerun this cell to show the HTML representation or trust the notebook. <br />On GitHub, the HTML representation is unable to render, please try loading this page with nbviewer.org.</b></div><div class=\"sk-container\" hidden><div class=\"sk-item sk-dashed-wrapped\"><div class=\"sk-label-container\"><div class=\"sk-label sk-toggleable\"><input class=\"sk-toggleable__control sk-hidden--visually\" id=\"sk-estimator-id-1\" type=\"checkbox\" ><label for=\"sk-estimator-id-1\" class=\"sk-toggleable__label sk-toggleable__label-arrow\">GridSearchCV</label><div class=\"sk-toggleable__content\"><pre>GridSearchCV(cv=10,\n",
       "             estimator=RandomForestClassifier(max_depth=50, random_state=42),\n",
       "             n_jobs=-1,\n",
       "             param_grid={&#x27;max_depth&#x27;: [5, 10, 20, 40, 70, 80],\n",
       "                         &#x27;n_estimators&#x27;: [300, 400, 500, 700, 800, 1000]},\n",
       "             scoring=&#x27;f1&#x27;)</pre></div></div></div><div class=\"sk-parallel\"><div class=\"sk-parallel-item\"><div class=\"sk-item\"><div class=\"sk-label-container\"><div class=\"sk-label sk-toggleable\"><input class=\"sk-toggleable__control sk-hidden--visually\" id=\"sk-estimator-id-2\" type=\"checkbox\" ><label for=\"sk-estimator-id-2\" class=\"sk-toggleable__label sk-toggleable__label-arrow\">estimator: RandomForestClassifier</label><div class=\"sk-toggleable__content\"><pre>RandomForestClassifier(max_depth=50, random_state=42)</pre></div></div></div><div class=\"sk-serial\"><div class=\"sk-item\"><div class=\"sk-estimator sk-toggleable\"><input class=\"sk-toggleable__control sk-hidden--visually\" id=\"sk-estimator-id-3\" type=\"checkbox\" ><label for=\"sk-estimator-id-3\" class=\"sk-toggleable__label sk-toggleable__label-arrow\">RandomForestClassifier</label><div class=\"sk-toggleable__content\"><pre>RandomForestClassifier(max_depth=50, random_state=42)</pre></div></div></div></div></div></div></div></div></div></div>"
      ],
      "text/plain": [
       "GridSearchCV(cv=10,\n",
       "             estimator=RandomForestClassifier(max_depth=50, random_state=42),\n",
       "             n_jobs=-1,\n",
       "             param_grid={'max_depth': [5, 10, 20, 40, 70, 80],\n",
       "                         'n_estimators': [300, 400, 500, 700, 800, 1000]},\n",
       "             scoring='f1')"
      ]
     },
     "execution_count": 65,
     "metadata": {},
     "output_type": "execute_result"
    }
   ],
   "source": [
    "#conducting  the gridsearch\n",
    "forest_param = {'n_estimators':[300,400,500,700,800,1000],'max_depth':[5,10,20,40,70,80]}\n",
    "forest_Gridsearch = GridSearchCV(estimator=forest_model_test,param_grid=forest_param,cv=10,scoring='f1',n_jobs=-1)\n",
    "forest_Gridsearch.fit(X_train,y_train)"
   ]
  },
  {
   "cell_type": "code",
   "execution_count": 66,
   "id": "c253c036",
   "metadata": {},
   "outputs": [
    {
     "data": {
      "text/plain": [
       "{'max_depth': 5, 'n_estimators': 300}"
      ]
     },
     "execution_count": 66,
     "metadata": {},
     "output_type": "execute_result"
    }
   ],
   "source": [
    "forest_Gridsearch.best_params_"
   ]
  },
  {
   "cell_type": "code",
   "execution_count": 67,
   "id": "065f618d",
   "metadata": {},
   "outputs": [],
   "source": [
    "forest_model_best= RandomForestClassifier(n_estimators=300,max_depth=5)"
   ]
  },
  {
   "cell_type": "code",
   "execution_count": 68,
   "id": "20883993",
   "metadata": {},
   "outputs": [
    {
     "data": {
      "text/html": [
       "<style>#sk-container-id-2 {color: black;background-color: white;}#sk-container-id-2 pre{padding: 0;}#sk-container-id-2 div.sk-toggleable {background-color: white;}#sk-container-id-2 label.sk-toggleable__label {cursor: pointer;display: block;width: 100%;margin-bottom: 0;padding: 0.3em;box-sizing: border-box;text-align: center;}#sk-container-id-2 label.sk-toggleable__label-arrow:before {content: \"▸\";float: left;margin-right: 0.25em;color: #696969;}#sk-container-id-2 label.sk-toggleable__label-arrow:hover:before {color: black;}#sk-container-id-2 div.sk-estimator:hover label.sk-toggleable__label-arrow:before {color: black;}#sk-container-id-2 div.sk-toggleable__content {max-height: 0;max-width: 0;overflow: hidden;text-align: left;background-color: #f0f8ff;}#sk-container-id-2 div.sk-toggleable__content pre {margin: 0.2em;color: black;border-radius: 0.25em;background-color: #f0f8ff;}#sk-container-id-2 input.sk-toggleable__control:checked~div.sk-toggleable__content {max-height: 200px;max-width: 100%;overflow: auto;}#sk-container-id-2 input.sk-toggleable__control:checked~label.sk-toggleable__label-arrow:before {content: \"▾\";}#sk-container-id-2 div.sk-estimator input.sk-toggleable__control:checked~label.sk-toggleable__label {background-color: #d4ebff;}#sk-container-id-2 div.sk-label input.sk-toggleable__control:checked~label.sk-toggleable__label {background-color: #d4ebff;}#sk-container-id-2 input.sk-hidden--visually {border: 0;clip: rect(1px 1px 1px 1px);clip: rect(1px, 1px, 1px, 1px);height: 1px;margin: -1px;overflow: hidden;padding: 0;position: absolute;width: 1px;}#sk-container-id-2 div.sk-estimator {font-family: monospace;background-color: #f0f8ff;border: 1px dotted black;border-radius: 0.25em;box-sizing: border-box;margin-bottom: 0.5em;}#sk-container-id-2 div.sk-estimator:hover {background-color: #d4ebff;}#sk-container-id-2 div.sk-parallel-item::after {content: \"\";width: 100%;border-bottom: 1px solid gray;flex-grow: 1;}#sk-container-id-2 div.sk-label:hover label.sk-toggleable__label {background-color: #d4ebff;}#sk-container-id-2 div.sk-serial::before {content: \"\";position: absolute;border-left: 1px solid gray;box-sizing: border-box;top: 0;bottom: 0;left: 50%;z-index: 0;}#sk-container-id-2 div.sk-serial {display: flex;flex-direction: column;align-items: center;background-color: white;padding-right: 0.2em;padding-left: 0.2em;position: relative;}#sk-container-id-2 div.sk-item {position: relative;z-index: 1;}#sk-container-id-2 div.sk-parallel {display: flex;align-items: stretch;justify-content: center;background-color: white;position: relative;}#sk-container-id-2 div.sk-item::before, #sk-container-id-2 div.sk-parallel-item::before {content: \"\";position: absolute;border-left: 1px solid gray;box-sizing: border-box;top: 0;bottom: 0;left: 50%;z-index: -1;}#sk-container-id-2 div.sk-parallel-item {display: flex;flex-direction: column;z-index: 1;position: relative;background-color: white;}#sk-container-id-2 div.sk-parallel-item:first-child::after {align-self: flex-end;width: 50%;}#sk-container-id-2 div.sk-parallel-item:last-child::after {align-self: flex-start;width: 50%;}#sk-container-id-2 div.sk-parallel-item:only-child::after {width: 0;}#sk-container-id-2 div.sk-dashed-wrapped {border: 1px dashed gray;margin: 0 0.4em 0.5em 0.4em;box-sizing: border-box;padding-bottom: 0.4em;background-color: white;}#sk-container-id-2 div.sk-label label {font-family: monospace;font-weight: bold;display: inline-block;line-height: 1.2em;}#sk-container-id-2 div.sk-label-container {text-align: center;}#sk-container-id-2 div.sk-container {/* jupyter's `normalize.less` sets `[hidden] { display: none; }` but bootstrap.min.css set `[hidden] { display: none !important; }` so we also need the `!important` here to be able to override the default hidden behavior on the sphinx rendered scikit-learn.org. See: https://github.com/scikit-learn/scikit-learn/issues/21755 */display: inline-block !important;position: relative;}#sk-container-id-2 div.sk-text-repr-fallback {display: none;}</style><div id=\"sk-container-id-2\" class=\"sk-top-container\"><div class=\"sk-text-repr-fallback\"><pre>RandomForestClassifier(max_depth=5, n_estimators=300)</pre><b>In a Jupyter environment, please rerun this cell to show the HTML representation or trust the notebook. <br />On GitHub, the HTML representation is unable to render, please try loading this page with nbviewer.org.</b></div><div class=\"sk-container\" hidden><div class=\"sk-item\"><div class=\"sk-estimator sk-toggleable\"><input class=\"sk-toggleable__control sk-hidden--visually\" id=\"sk-estimator-id-4\" type=\"checkbox\" checked><label for=\"sk-estimator-id-4\" class=\"sk-toggleable__label sk-toggleable__label-arrow\">RandomForestClassifier</label><div class=\"sk-toggleable__content\"><pre>RandomForestClassifier(max_depth=5, n_estimators=300)</pre></div></div></div></div></div>"
      ],
      "text/plain": [
       "RandomForestClassifier(max_depth=5, n_estimators=300)"
      ]
     },
     "execution_count": 68,
     "metadata": {},
     "output_type": "execute_result"
    }
   ],
   "source": [
    "#fitting the model\n",
    "forest_model_best.fit(X_train,y_train)"
   ]
  },
  {
   "cell_type": "code",
   "execution_count": 69,
   "id": "e2ede25b",
   "metadata": {},
   "outputs": [],
   "source": [
    "y_random_model =forest_model_best.predict(X_test)"
   ]
  },
  {
   "cell_type": "code",
   "execution_count": 70,
   "id": "e6062ad0",
   "metadata": {},
   "outputs": [],
   "source": [
    "forest_confusion = confusion_matrix(y_random_model,y_test)"
   ]
  },
  {
   "cell_type": "code",
   "execution_count": 71,
   "id": "76731016",
   "metadata": {},
   "outputs": [
    {
     "data": {
      "text/plain": [
       "array([[44,  6],\n",
       "       [ 3, 61]], dtype=int64)"
      ]
     },
     "execution_count": 71,
     "metadata": {},
     "output_type": "execute_result"
    }
   ],
   "source": [
    "#computing the confusion Matrix\n",
    "forest_confusion"
   ]
  },
  {
   "cell_type": "code",
   "execution_count": 72,
   "id": "d13cee06",
   "metadata": {},
   "outputs": [
    {
     "data": {
      "image/png": "[encoded data removed]",
      "text/plain": [
       "<Figure size 432x288 with 2 Axes>"
      ]
     },
     "metadata": {
      "needs_background": "light"
     },
     "output_type": "display_data"
    }
   ],
   "source": [
    "ax = sns.heatmap(forest_confusion, annot=True, cmap='Blues')\n",
    "\n",
    "ax.set_title('Random forest Confusion Matrix\\n\\n');\n",
    "ax.set_xlabel('\\nPredicted Values')\n",
    "ax.set_ylabel('Actual Values ');\n",
    "\n",
    "## Ticket labels - List  in alphabetical order\n",
    "ax.xaxis.set_ticklabels(['BENIGN','MALIGNANT'])\n",
    "ax.yaxis.set_ticklabels(['BENIGN','MALIGNANT'])\n",
    "\n",
    "## Display the visualization of the Confusion Matrix.\n",
    "plt.show()"
   ]
  },
  {
   "cell_type": "code",
   "execution_count": 73,
   "id": "fe3b3c59",
   "metadata": {},
   "outputs": [
    {
     "data": {
      "text/plain": [
       "0.9210526315789473"
      ]
     },
     "execution_count": 73,
     "metadata": {},
     "output_type": "execute_result"
    }
   ],
   "source": [
    "forest_model_best.score(X_test,y_test)"
   ]
  },
  {
   "cell_type": "code",
   "execution_count": 74,
   "id": "f9a2cd36",
   "metadata": {},
   "outputs": [
    {
     "data": {
      "text/plain": [
       "0.953125"
      ]
     },
     "execution_count": 74,
     "metadata": {},
     "output_type": "execute_result"
    }
   ],
   "source": [
    "precision_score(y_test,y_random_model)"
   ]
  },
  {
   "cell_type": "code",
   "execution_count": 75,
   "id": "0ee29609",
   "metadata": {},
   "outputs": [
    {
     "data": {
      "text/plain": [
       "0.9104477611940298"
      ]
     },
     "execution_count": 75,
     "metadata": {},
     "output_type": "execute_result"
    }
   ],
   "source": [
    "recall_score(y_test,y_random_model)"
   ]
  },
  {
   "cell_type": "code",
   "execution_count": 76,
   "id": "9f86cce0",
   "metadata": {},
   "outputs": [],
   "source": [
    "False_negetive_rate_Forest = forest_confusion[1][0]/(forest_confusion[1][0]+forest_confusion[1][1])"
   ]
  },
  {
   "cell_type": "code",
   "execution_count": 77,
   "id": "7e78d651",
   "metadata": {},
   "outputs": [
    {
     "data": {
      "text/plain": [
       "4.6875"
      ]
     },
     "execution_count": 77,
     "metadata": {},
     "output_type": "execute_result"
    }
   ],
   "source": [
    "False_negetive_rate_Forest*100"
   ]
  },
  {
   "cell_type": "markdown",
   "id": "eeb76530",
   "metadata": {},
   "source": [
    "## Decision Tree"
   ]
  },
  {
   "cell_type": "code",
   "execution_count": 78,
   "id": "1750b24e",
   "metadata": {},
   "outputs": [],
   "source": [
    "#importing the classifier from the library\n",
    "from sklearn.tree import DecisionTreeClassifier"
   ]
  },
  {
   "cell_type": "code",
   "execution_count": 79,
   "id": "71ceaf76",
   "metadata": {},
   "outputs": [],
   "source": [
    "#setting the hyperparameters\n",
    "Tree_model_test = DecisionTreeClassifier(max_depth = 10)\n",
    "Tree_model_test.fit(X_train,y_train)\n",
    "y_tree_test = Tree_model_test.predict(X_test)"
   ]
  },
  {
   "cell_type": "code",
   "execution_count": 80,
   "id": "050bc353",
   "metadata": {},
   "outputs": [
    {
     "data": {
      "text/plain": [
       "array([[42,  5],\n",
       "       [ 9, 58]], dtype=int64)"
      ]
     },
     "execution_count": 80,
     "metadata": {},
     "output_type": "execute_result"
    }
   ],
   "source": [
    "#computing the confusion matrix\n",
    "confusion_matrix(y_test,y_tree_test)"
   ]
  },
  {
   "cell_type": "code",
   "execution_count": 81,
   "id": "eaa62463",
   "metadata": {},
   "outputs": [],
   "source": [
    "# Using grid search to find the best hyperparameters\n",
    "Tree_param = {'max_depth':[80,50,70,45,20,10],'min_samples_split':[2,4,8,10],'min_samples_leaf':[2,4,8,10]}\n",
    "Tree_search = GridSearchCV(estimator=Tree_model_test,cv=10,scoring='f1',n_jobs=-1,param_grid=Tree_param)"
   ]
  },
  {
   "cell_type": "code",
   "execution_count": 82,
   "id": "96ce2ea1",
   "metadata": {},
   "outputs": [
    {
     "data": {
      "text/html": [
       "<style>#sk-container-id-3 {color: black;background-color: white;}#sk-container-id-3 pre{padding: 0;}#sk-container-id-3 div.sk-toggleable {background-color: white;}#sk-container-id-3 label.sk-toggleable__label {cursor: pointer;display: block;width: 100%;margin-bottom: 0;padding: 0.3em;box-sizing: border-box;text-align: center;}#sk-container-id-3 label.sk-toggleable__label-arrow:before {content: \"▸\";float: left;margin-right: 0.25em;color: #696969;}#sk-container-id-3 label.sk-toggleable__label-arrow:hover:before {color: black;}#sk-container-id-3 div.sk-estimator:hover label.sk-toggleable__label-arrow:before {color: black;}#sk-container-id-3 div.sk-toggleable__content {max-height: 0;max-width: 0;overflow: hidden;text-align: left;background-color: #f0f8ff;}#sk-container-id-3 div.sk-toggleable__content pre {margin: 0.2em;color: black;border-radius: 0.25em;background-color: #f0f8ff;}#sk-container-id-3 input.sk-toggleable__control:checked~div.sk-toggleable__content {max-height: 200px;max-width: 100%;overflow: auto;}#sk-container-id-3 input.sk-toggleable__control:checked~label.sk-toggleable__label-arrow:before {content: \"▾\";}#sk-container-id-3 div.sk-estimator input.sk-toggleable__control:checked~label.sk-toggleable__label {background-color: #d4ebff;}#sk-container-id-3 div.sk-label input.sk-toggleable__control:checked~label.sk-toggleable__label {background-color: #d4ebff;}#sk-container-id-3 input.sk-hidden--visually {border: 0;clip: rect(1px 1px 1px 1px);clip: rect(1px, 1px, 1px, 1px);height: 1px;margin: -1px;overflow: hidden;padding: 0;position: absolute;width: 1px;}#sk-container-id-3 div.sk-estimator {font-family: monospace;background-color: #f0f8ff;border: 1px dotted black;border-radius: 0.25em;box-sizing: border-box;margin-bottom: 0.5em;}#sk-container-id-3 div.sk-estimator:hover {background-color: #d4ebff;}#sk-container-id-3 div.sk-parallel-item::after {content: \"\";width: 100%;border-bottom: 1px solid gray;flex-grow: 1;}#sk-container-id-3 div.sk-label:hover label.sk-toggleable__label {background-color: #d4ebff;}#sk-container-id-3 div.sk-serial::before {content: \"\";position: absolute;border-left: 1px solid gray;box-sizing: border-box;top: 0;bottom: 0;left: 50%;z-index: 0;}#sk-container-id-3 div.sk-serial {display: flex;flex-direction: column;align-items: center;background-color: white;padding-right: 0.2em;padding-left: 0.2em;position: relative;}#sk-container-id-3 div.sk-item {position: relative;z-index: 1;}#sk-container-id-3 div.sk-parallel {display: flex;align-items: stretch;justify-content: center;background-color: white;position: relative;}#sk-container-id-3 div.sk-item::before, #sk-container-id-3 div.sk-parallel-item::before {content: \"\";position: absolute;border-left: 1px solid gray;box-sizing: border-box;top: 0;bottom: 0;left: 50%;z-index: -1;}#sk-container-id-3 div.sk-parallel-item {display: flex;flex-direction: column;z-index: 1;position: relative;background-color: white;}#sk-container-id-3 div.sk-parallel-item:first-child::after {align-self: flex-end;width: 50%;}#sk-container-id-3 div.sk-parallel-item:last-child::after {align-self: flex-start;width: 50%;}#sk-container-id-3 div.sk-parallel-item:only-child::after {width: 0;}#sk-container-id-3 div.sk-dashed-wrapped {border: 1px dashed gray;margin: 0 0.4em 0.5em 0.4em;box-sizing: border-box;padding-bottom: 0.4em;background-color: white;}#sk-container-id-3 div.sk-label label {font-family: monospace;font-weight: bold;display: inline-block;line-height: 1.2em;}#sk-container-id-3 div.sk-label-container {text-align: center;}#sk-container-id-3 div.sk-container {/* jupyter's `normalize.less` sets `[hidden] { display: none; }` but bootstrap.min.css set `[hidden] { display: none !important; }` so we also need the `!important` here to be able to override the default hidden behavior on the sphinx rendered scikit-learn.org. See: https://github.com/scikit-learn/scikit-learn/issues/21755 */display: inline-block !important;position: relative;}#sk-container-id-3 div.sk-text-repr-fallback {display: none;}</style><div id=\"sk-container-id-3\" class=\"sk-top-container\"><div class=\"sk-text-repr-fallback\"><pre>GridSearchCV(cv=10, estimator=DecisionTreeClassifier(max_depth=10), n_jobs=-1,\n",
       "             param_grid={&#x27;max_depth&#x27;: [80, 50, 70, 45, 20, 10],\n",
       "                         &#x27;min_samples_leaf&#x27;: [2, 4, 8, 10],\n",
       "                         &#x27;min_samples_split&#x27;: [2, 4, 8, 10]},\n",
       "             scoring=&#x27;f1&#x27;)</pre><b>In a Jupyter environment, please rerun this cell to show the HTML representation or trust the notebook. <br />On GitHub, the HTML representation is unable to render, please try loading this page with nbviewer.org.</b></div><div class=\"sk-container\" hidden><div class=\"sk-item sk-dashed-wrapped\"><div class=\"sk-label-container\"><div class=\"sk-label sk-toggleable\"><input class=\"sk-toggleable__control sk-hidden--visually\" id=\"sk-estimator-id-5\" type=\"checkbox\" ><label for=\"sk-estimator-id-5\" class=\"sk-toggleable__label sk-toggleable__label-arrow\">GridSearchCV</label><div class=\"sk-toggleable__content\"><pre>GridSearchCV(cv=10, estimator=DecisionTreeClassifier(max_depth=10), n_jobs=-1,\n",
       "             param_grid={&#x27;max_depth&#x27;: [80, 50, 70, 45, 20, 10],\n",
       "                         &#x27;min_samples_leaf&#x27;: [2, 4, 8, 10],\n",
       "                         &#x27;min_samples_split&#x27;: [2, 4, 8, 10]},\n",
       "             scoring=&#x27;f1&#x27;)</pre></div></div></div><div class=\"sk-parallel\"><div class=\"sk-parallel-item\"><div class=\"sk-item\"><div class=\"sk-label-container\"><div class=\"sk-label sk-toggleable\"><input class=\"sk-toggleable__control sk-hidden--visually\" id=\"sk-estimator-id-6\" type=\"checkbox\" ><label for=\"sk-estimator-id-6\" class=\"sk-toggleable__label sk-toggleable__label-arrow\">estimator: DecisionTreeClassifier</label><div class=\"sk-toggleable__content\"><pre>DecisionTreeClassifier(max_depth=10)</pre></div></div></div><div class=\"sk-serial\"><div class=\"sk-item\"><div class=\"sk-estimator sk-toggleable\"><input class=\"sk-toggleable__control sk-hidden--visually\" id=\"sk-estimator-id-7\" type=\"checkbox\" ><label for=\"sk-estimator-id-7\" class=\"sk-toggleable__label sk-toggleable__label-arrow\">DecisionTreeClassifier</label><div class=\"sk-toggleable__content\"><pre>DecisionTreeClassifier(max_depth=10)</pre></div></div></div></div></div></div></div></div></div></div>"
      ],
      "text/plain": [
       "GridSearchCV(cv=10, estimator=DecisionTreeClassifier(max_depth=10), n_jobs=-1,\n",
       "             param_grid={'max_depth': [80, 50, 70, 45, 20, 10],\n",
       "                         'min_samples_leaf': [2, 4, 8, 10],\n",
       "                         'min_samples_split': [2, 4, 8, 10]},\n",
       "             scoring='f1')"
      ]
     },
     "execution_count": 82,
     "metadata": {},
     "output_type": "execute_result"
    }
   ],
   "source": [
    "Tree_search.fit(X_train,y_train)"
   ]
  },
  {
   "cell_type": "code",
   "execution_count": 83,
   "id": "2e81b249",
   "metadata": {},
   "outputs": [
    {
     "data": {
      "text/plain": [
       "{'max_depth': 80, 'min_samples_leaf': 4, 'min_samples_split': 10}"
      ]
     },
     "execution_count": 83,
     "metadata": {},
     "output_type": "execute_result"
    }
   ],
   "source": [
    "Tree_search.best_params_"
   ]
  },
  {
   "cell_type": "code",
   "execution_count": 84,
   "id": "45c4c46a",
   "metadata": {},
   "outputs": [],
   "source": [
    "Tree_model = RandomForestClassifier(max_depth=80,min_samples_leaf=4,min_samples_split=10)"
   ]
  },
  {
   "cell_type": "code",
   "execution_count": 85,
   "id": "a3c22872",
   "metadata": {},
   "outputs": [
    {
     "data": {
      "text/html": [
       "<style>#sk-container-id-4 {color: black;background-color: white;}#sk-container-id-4 pre{padding: 0;}#sk-container-id-4 div.sk-toggleable {background-color: white;}#sk-container-id-4 label.sk-toggleable__label {cursor: pointer;display: block;width: 100%;margin-bottom: 0;padding: 0.3em;box-sizing: border-box;text-align: center;}#sk-container-id-4 label.sk-toggleable__label-arrow:before {content: \"▸\";float: left;margin-right: 0.25em;color: #696969;}#sk-container-id-4 label.sk-toggleable__label-arrow:hover:before {color: black;}#sk-container-id-4 div.sk-estimator:hover label.sk-toggleable__label-arrow:before {color: black;}#sk-container-id-4 div.sk-toggleable__content {max-height: 0;max-width: 0;overflow: hidden;text-align: left;background-color: #f0f8ff;}#sk-container-id-4 div.sk-toggleable__content pre {margin: 0.2em;color: black;border-radius: 0.25em;background-color: #f0f8ff;}#sk-container-id-4 input.sk-toggleable__control:checked~div.sk-toggleable__content {max-height: 200px;max-width: 100%;overflow: auto;}#sk-container-id-4 input.sk-toggleable__control:checked~label.sk-toggleable__label-arrow:before {content: \"▾\";}#sk-container-id-4 div.sk-estimator input.sk-toggleable__control:checked~label.sk-toggleable__label {background-color: #d4ebff;}#sk-container-id-4 div.sk-label input.sk-toggleable__control:checked~label.sk-toggleable__label {background-color: #d4ebff;}#sk-container-id-4 input.sk-hidden--visually {border: 0;clip: rect(1px 1px 1px 1px);clip: rect(1px, 1px, 1px, 1px);height: 1px;margin: -1px;overflow: hidden;padding: 0;position: absolute;width: 1px;}#sk-container-id-4 div.sk-estimator {font-family: monospace;background-color: #f0f8ff;border: 1px dotted black;border-radius: 0.25em;box-sizing: border-box;margin-bottom: 0.5em;}#sk-container-id-4 div.sk-estimator:hover {background-color: #d4ebff;}#sk-container-id-4 div.sk-parallel-item::after {content: \"\";width: 100%;border-bottom: 1px solid gray;flex-grow: 1;}#sk-container-id-4 div.sk-label:hover label.sk-toggleable__label {background-color: #d4ebff;}#sk-container-id-4 div.sk-serial::before {content: \"\";position: absolute;border-left: 1px solid gray;box-sizing: border-box;top: 0;bottom: 0;left: 50%;z-index: 0;}#sk-container-id-4 div.sk-serial {display: flex;flex-direction: column;align-items: center;background-color: white;padding-right: 0.2em;padding-left: 0.2em;position: relative;}#sk-container-id-4 div.sk-item {position: relative;z-index: 1;}#sk-container-id-4 div.sk-parallel {display: flex;align-items: stretch;justify-content: center;background-color: white;position: relative;}#sk-container-id-4 div.sk-item::before, #sk-container-id-4 div.sk-parallel-item::before {content: \"\";position: absolute;border-left: 1px solid gray;box-sizing: border-box;top: 0;bottom: 0;left: 50%;z-index: -1;}#sk-container-id-4 div.sk-parallel-item {display: flex;flex-direction: column;z-index: 1;position: relative;background-color: white;}#sk-container-id-4 div.sk-parallel-item:first-child::after {align-self: flex-end;width: 50%;}#sk-container-id-4 div.sk-parallel-item:last-child::after {align-self: flex-start;width: 50%;}#sk-container-id-4 div.sk-parallel-item:only-child::after {width: 0;}#sk-container-id-4 div.sk-dashed-wrapped {border: 1px dashed gray;margin: 0 0.4em 0.5em 0.4em;box-sizing: border-box;padding-bottom: 0.4em;background-color: white;}#sk-container-id-4 div.sk-label label {font-family: monospace;font-weight: bold;display: inline-block;line-height: 1.2em;}#sk-container-id-4 div.sk-label-container {text-align: center;}#sk-container-id-4 div.sk-container {/* jupyter's `normalize.less` sets `[hidden] { display: none; }` but bootstrap.min.css set `[hidden] { display: none !important; }` so we also need the `!important` here to be able to override the default hidden behavior on the sphinx rendered scikit-learn.org. See: https://github.com/scikit-learn/scikit-learn/issues/21755 */display: inline-block !important;position: relative;}#sk-container-id-4 div.sk-text-repr-fallback {display: none;}</style><div id=\"sk-container-id-4\" class=\"sk-top-container\"><div class=\"sk-text-repr-fallback\"><pre>RandomForestClassifier(max_depth=80, min_samples_leaf=4, min_samples_split=10)</pre><b>In a Jupyter environment, please rerun this cell to show the HTML representation or trust the notebook. <br />On GitHub, the HTML representation is unable to render, please try loading this page with nbviewer.org.</b></div><div class=\"sk-container\" hidden><div class=\"sk-item\"><div class=\"sk-estimator sk-toggleable\"><input class=\"sk-toggleable__control sk-hidden--visually\" id=\"sk-estimator-id-8\" type=\"checkbox\" checked><label for=\"sk-estimator-id-8\" class=\"sk-toggleable__label sk-toggleable__label-arrow\">RandomForestClassifier</label><div class=\"sk-toggleable__content\"><pre>RandomForestClassifier(max_depth=80, min_samples_leaf=4, min_samples_split=10)</pre></div></div></div></div></div>"
      ],
      "text/plain": [
       "RandomForestClassifier(max_depth=80, min_samples_leaf=4, min_samples_split=10)"
      ]
     },
     "execution_count": 85,
     "metadata": {},
     "output_type": "execute_result"
    }
   ],
   "source": [
    "Tree_model.fit(X_train,y_train)"
   ]
  },
  {
   "cell_type": "code",
   "execution_count": 86,
   "id": "ebed07c9",
   "metadata": {},
   "outputs": [],
   "source": [
    "y_tree= Tree_model.predict(X_test)"
   ]
  },
  {
   "cell_type": "code",
   "execution_count": 87,
   "id": "8a99dbfd",
   "metadata": {},
   "outputs": [
    {
     "data": {
      "text/plain": [
       "0.8947368421052632"
      ]
     },
     "execution_count": 87,
     "metadata": {},
     "output_type": "execute_result"
    }
   ],
   "source": [
    "Tree_model.score(X_test,y_test)"
   ]
  },
  {
   "cell_type": "code",
   "execution_count": 88,
   "id": "6b8f285a",
   "metadata": {},
   "outputs": [],
   "source": [
    "Tree_confusion = confusion_matrix(y_test,y_tree)"
   ]
  },
  {
   "cell_type": "code",
   "execution_count": 89,
   "id": "ad763b63",
   "metadata": {},
   "outputs": [
    {
     "data": {
      "text/plain": [
       "array([[44,  3],\n",
       "       [ 9, 58]], dtype=int64)"
      ]
     },
     "execution_count": 89,
     "metadata": {},
     "output_type": "execute_result"
    }
   ],
   "source": [
    "Tree_confusion"
   ]
  },
  {
   "cell_type": "code",
   "execution_count": 90,
   "id": "8084f884",
   "metadata": {},
   "outputs": [
    {
     "data": {
      "image/png": "[encoded data removed]",
      "text/plain": [
       "<Figure size 432x288 with 2 Axes>"
      ]
     },
     "metadata": {
      "needs_background": "light"
     },
     "output_type": "display_data"
    }
   ],
   "source": [
    "ax = sns.heatmap(Tree_confusion, annot=True, cmap='Blues')\n",
    "\n",
    "ax.set_title('Decision Tree Confusion Matrix\\n\\n');\n",
    "ax.set_xlabel('\\nPredicted Values')\n",
    "ax.set_ylabel('Actual Values ');\n",
    "\n",
    "## Ticket labels - List in alphabetical order\n",
    "ax.xaxis.set_ticklabels(['MALIGNANT','BENIGN'])\n",
    "ax.yaxis.set_ticklabels(['MALIGNANT','BENIGN'])\n",
    "\n",
    "## Display the visualization of the Confusion Matrix.\n",
    "plt.show()"
   ]
  },
  {
   "cell_type": "code",
   "execution_count": 91,
   "id": "cf2623f7",
   "metadata": {},
   "outputs": [
    {
     "data": {
      "text/plain": [
       "0.8947368421052632"
      ]
     },
     "execution_count": 91,
     "metadata": {},
     "output_type": "execute_result"
    }
   ],
   "source": [
    "accuracy_score(y_test,y_tree)"
   ]
  },
  {
   "cell_type": "code",
   "execution_count": 92,
   "id": "681b47c1",
   "metadata": {},
   "outputs": [
    {
     "data": {
      "text/plain": [
       "0.9508196721311475"
      ]
     },
     "execution_count": 92,
     "metadata": {},
     "output_type": "execute_result"
    }
   ],
   "source": [
    "precision_score(y_test,y_tree)"
   ]
  },
  {
   "cell_type": "code",
   "execution_count": 93,
   "id": "44a6a3e8",
   "metadata": {},
   "outputs": [
    {
     "data": {
      "text/plain": [
       "0.8656716417910447"
      ]
     },
     "execution_count": 93,
     "metadata": {},
     "output_type": "execute_result"
    }
   ],
   "source": [
    "recall_score(y_test,y_tree)"
   ]
  },
  {
   "cell_type": "code",
   "execution_count": 94,
   "id": "b32c1b9e",
   "metadata": {},
   "outputs": [],
   "source": [
    "False_negetive_rate_Tree = Tree_confusion[1][0]/(Tree_confusion[1][0]+Tree_confusion[1][1])"
   ]
  },
  {
   "cell_type": "code",
   "execution_count": 95,
   "id": "b8086f6d",
   "metadata": {},
   "outputs": [
    {
     "data": {
      "text/plain": [
       "13.432835820895523"
      ]
     },
     "execution_count": 95,
     "metadata": {},
     "output_type": "execute_result"
    }
   ],
   "source": [
    "False_negetive_rate_Tree*100"
   ]
  },
  {
   "cell_type": "markdown",
   "id": "f9f2f4d1",
   "metadata": {},
   "source": [
    "## SVM"
   ]
  },
  {
   "cell_type": "code",
   "execution_count": 96,
   "id": "40557306",
   "metadata": {},
   "outputs": [],
   "source": [
    "from sklearn.svm import SVC"
   ]
  },
  {
   "cell_type": "code",
   "execution_count": 97,
   "id": "3d24dad3",
   "metadata": {},
   "outputs": [
    {
     "data": {
      "text/html": [
       "<style>#sk-container-id-5 {color: black;background-color: white;}#sk-container-id-5 pre{padding: 0;}#sk-container-id-5 div.sk-toggleable {background-color: white;}#sk-container-id-5 label.sk-toggleable__label {cursor: pointer;display: block;width: 100%;margin-bottom: 0;padding: 0.3em;box-sizing: border-box;text-align: center;}#sk-container-id-5 label.sk-toggleable__label-arrow:before {content: \"▸\";float: left;margin-right: 0.25em;color: #696969;}#sk-container-id-5 label.sk-toggleable__label-arrow:hover:before {color: black;}#sk-container-id-5 div.sk-estimator:hover label.sk-toggleable__label-arrow:before {color: black;}#sk-container-id-5 div.sk-toggleable__content {max-height: 0;max-width: 0;overflow: hidden;text-align: left;background-color: #f0f8ff;}#sk-container-id-5 div.sk-toggleable__content pre {margin: 0.2em;color: black;border-radius: 0.25em;background-color: #f0f8ff;}#sk-container-id-5 input.sk-toggleable__control:checked~div.sk-toggleable__content {max-height: 200px;max-width: 100%;overflow: auto;}#sk-container-id-5 input.sk-toggleable__control:checked~label.sk-toggleable__label-arrow:before {content: \"▾\";}#sk-container-id-5 div.sk-estimator input.sk-toggleable__control:checked~label.sk-toggleable__label {background-color: #d4ebff;}#sk-container-id-5 div.sk-label input.sk-toggleable__control:checked~label.sk-toggleable__label {background-color: #d4ebff;}#sk-container-id-5 input.sk-hidden--visually {border: 0;clip: rect(1px 1px 1px 1px);clip: rect(1px, 1px, 1px, 1px);height: 1px;margin: -1px;overflow: hidden;padding: 0;position: absolute;width: 1px;}#sk-container-id-5 div.sk-estimator {font-family: monospace;background-color: #f0f8ff;border: 1px dotted black;border-radius: 0.25em;box-sizing: border-box;margin-bottom: 0.5em;}#sk-container-id-5 div.sk-estimator:hover {background-color: #d4ebff;}#sk-container-id-5 div.sk-parallel-item::after {content: \"\";width: 100%;border-bottom: 1px solid gray;flex-grow: 1;}#sk-container-id-5 div.sk-label:hover label.sk-toggleable__label {background-color: #d4ebff;}#sk-container-id-5 div.sk-serial::before {content: \"\";position: absolute;border-left: 1px solid gray;box-sizing: border-box;top: 0;bottom: 0;left: 50%;z-index: 0;}#sk-container-id-5 div.sk-serial {display: flex;flex-direction: column;align-items: center;background-color: white;padding-right: 0.2em;padding-left: 0.2em;position: relative;}#sk-container-id-5 div.sk-item {position: relative;z-index: 1;}#sk-container-id-5 div.sk-parallel {display: flex;align-items: stretch;justify-content: center;background-color: white;position: relative;}#sk-container-id-5 div.sk-item::before, #sk-container-id-5 div.sk-parallel-item::before {content: \"\";position: absolute;border-left: 1px solid gray;box-sizing: border-box;top: 0;bottom: 0;left: 50%;z-index: -1;}#sk-container-id-5 div.sk-parallel-item {display: flex;flex-direction: column;z-index: 1;position: relative;background-color: white;}#sk-container-id-5 div.sk-parallel-item:first-child::after {align-self: flex-end;width: 50%;}#sk-container-id-5 div.sk-parallel-item:last-child::after {align-self: flex-start;width: 50%;}#sk-container-id-5 div.sk-parallel-item:only-child::after {width: 0;}#sk-container-id-5 div.sk-dashed-wrapped {border: 1px dashed gray;margin: 0 0.4em 0.5em 0.4em;box-sizing: border-box;padding-bottom: 0.4em;background-color: white;}#sk-container-id-5 div.sk-label label {font-family: monospace;font-weight: bold;display: inline-block;line-height: 1.2em;}#sk-container-id-5 div.sk-label-container {text-align: center;}#sk-container-id-5 div.sk-container {/* jupyter's `normalize.less` sets `[hidden] { display: none; }` but bootstrap.min.css set `[hidden] { display: none !important; }` so we also need the `!important` here to be able to override the default hidden behavior on the sphinx rendered scikit-learn.org. See: https://github.com/scikit-learn/scikit-learn/issues/21755 */display: inline-block !important;position: relative;}#sk-container-id-5 div.sk-text-repr-fallback {display: none;}</style><div id=\"sk-container-id-5\" class=\"sk-top-container\"><div class=\"sk-text-repr-fallback\"><pre>SVC(C=50, kernel=&#x27;linear&#x27;)</pre><b>In a Jupyter environment, please rerun this cell to show the HTML representation or trust the notebook. <br />On GitHub, the HTML representation is unable to render, please try loading this page with nbviewer.org.</b></div><div class=\"sk-container\" hidden><div class=\"sk-item\"><div class=\"sk-estimator sk-toggleable\"><input class=\"sk-toggleable__control sk-hidden--visually\" id=\"sk-estimator-id-9\" type=\"checkbox\" checked><label for=\"sk-estimator-id-9\" class=\"sk-toggleable__label sk-toggleable__label-arrow\">SVC</label><div class=\"sk-toggleable__content\"><pre>SVC(C=50, kernel=&#x27;linear&#x27;)</pre></div></div></div></div></div>"
      ],
      "text/plain": [
       "SVC(C=50, kernel='linear')"
      ]
     },
     "execution_count": 97,
     "metadata": {},
     "output_type": "execute_result"
    }
   ],
   "source": [
    "# An instance of the model\n",
    "\n",
    "#  the right way to tell a C value or the kernel to use\n",
    "\n",
    "SVM_model = SVC(C=50, kernel='linear')\n",
    "\n",
    "#fit the model\n",
    "SVM_model.fit(X_train,y_train)"
   ]
  },
  {
   "cell_type": "code",
   "execution_count": 98,
   "id": "4c746504",
   "metadata": {},
   "outputs": [],
   "source": [
    "Y_SVM = SVM_model.predict(X_test)"
   ]
  },
  {
   "cell_type": "code",
   "execution_count": 99,
   "id": "654a647e",
   "metadata": {},
   "outputs": [
    {
     "data": {
      "text/plain": [
       "array([[41,  6],\n",
       "       [ 2, 65]], dtype=int64)"
      ]
     },
     "execution_count": 99,
     "metadata": {},
     "output_type": "execute_result"
    }
   ],
   "source": [
    "#confusion matrix\n",
    "SVM_CM = confusion_matrix(y_test,Y_SVM)\n",
    "SVM_CM"
   ]
  },
  {
   "cell_type": "code",
   "execution_count": 100,
   "id": "bf26074b",
   "metadata": {},
   "outputs": [
    {
     "data": {
      "image/png": "[encoded data removed]",
      "text/plain": [
       "<Figure size 432x288 with 2 Axes>"
      ]
     },
     "metadata": {
      "needs_background": "light"
     },
     "output_type": "display_data"
    }
   ],
   "source": [
    "ax = sns.heatmap(SVM_CM, annot=True, cmap='Blues')\n",
    "\n",
    "ax.set_title('SVM Confusion Matrix\\n\\n');\n",
    "ax.set_xlabel('\\nPredicted Values')\n",
    "ax.set_ylabel('Actual Values ');\n",
    "\n",
    "## Ticket labels - List in alphabetical order\n",
    "ax.xaxis.set_ticklabels(['MALIGNANT','BENIGN'])\n",
    "ax.yaxis.set_ticklabels(['MALIGNANT','BENIGN'])\n",
    "\n",
    "## Display the visualization of the Confusion Matrix.\n",
    "plt.show()"
   ]
  },
  {
   "cell_type": "code",
   "execution_count": 101,
   "id": "9fb9e9a3",
   "metadata": {},
   "outputs": [
    {
     "data": {
      "text/plain": [
       "0.9298245614035088"
      ]
     },
     "execution_count": 101,
     "metadata": {},
     "output_type": "execute_result"
    }
   ],
   "source": [
    "accuracy_score(y_test,Y_SVM)"
   ]
  },
  {
   "cell_type": "code",
   "execution_count": 102,
   "id": "562477d3",
   "metadata": {},
   "outputs": [
    {
     "data": {
      "text/plain": [
       "0.9701492537313433"
      ]
     },
     "execution_count": 102,
     "metadata": {},
     "output_type": "execute_result"
    }
   ],
   "source": [
    "recall_score(y_test,Y_SVM)"
   ]
  },
  {
   "cell_type": "code",
   "execution_count": 103,
   "id": "b9200b9c",
   "metadata": {},
   "outputs": [
    {
     "data": {
      "text/plain": [
       "0.9154929577464789"
      ]
     },
     "execution_count": 103,
     "metadata": {},
     "output_type": "execute_result"
    }
   ],
   "source": [
    "precision_score(y_test,Y_SVM)"
   ]
  },
  {
   "cell_type": "code",
   "execution_count": 104,
   "id": "c8055ce1",
   "metadata": {},
   "outputs": [],
   "source": [
    "# now using a grid search CV\n",
    "SVM_param = [{\"C\":[1,10,100,1000],'kernel':['linear']},{\"C\":[1,10,100,1000],'kernel':['rbf','sigmoid'],'gamma':[0.1,1,10]}]\n",
    "grid_SVM = GridSearchCV(estimator=SVM_model, param_grid=SVM_param,cv=10,scoring=\"f1\", n_jobs=-1)"
   ]
  },
  {
   "cell_type": "code",
   "execution_count": 105,
   "id": "583f24c8",
   "metadata": {},
   "outputs": [
    {
     "data": {
      "text/html": [
       "<style>#sk-container-id-6 {color: black;background-color: white;}#sk-container-id-6 pre{padding: 0;}#sk-container-id-6 div.sk-toggleable {background-color: white;}#sk-container-id-6 label.sk-toggleable__label {cursor: pointer;display: block;width: 100%;margin-bottom: 0;padding: 0.3em;box-sizing: border-box;text-align: center;}#sk-container-id-6 label.sk-toggleable__label-arrow:before {content: \"▸\";float: left;margin-right: 0.25em;color: #696969;}#sk-container-id-6 label.sk-toggleable__label-arrow:hover:before {color: black;}#sk-container-id-6 div.sk-estimator:hover label.sk-toggleable__label-arrow:before {color: black;}#sk-container-id-6 div.sk-toggleable__content {max-height: 0;max-width: 0;overflow: hidden;text-align: left;background-color: #f0f8ff;}#sk-container-id-6 div.sk-toggleable__content pre {margin: 0.2em;color: black;border-radius: 0.25em;background-color: #f0f8ff;}#sk-container-id-6 input.sk-toggleable__control:checked~div.sk-toggleable__content {max-height: 200px;max-width: 100%;overflow: auto;}#sk-container-id-6 input.sk-toggleable__control:checked~label.sk-toggleable__label-arrow:before {content: \"▾\";}#sk-container-id-6 div.sk-estimator input.sk-toggleable__control:checked~label.sk-toggleable__label {background-color: #d4ebff;}#sk-container-id-6 div.sk-label input.sk-toggleable__control:checked~label.sk-toggleable__label {background-color: #d4ebff;}#sk-container-id-6 input.sk-hidden--visually {border: 0;clip: rect(1px 1px 1px 1px);clip: rect(1px, 1px, 1px, 1px);height: 1px;margin: -1px;overflow: hidden;padding: 0;position: absolute;width: 1px;}#sk-container-id-6 div.sk-estimator {font-family: monospace;background-color: #f0f8ff;border: 1px dotted black;border-radius: 0.25em;box-sizing: border-box;margin-bottom: 0.5em;}#sk-container-id-6 div.sk-estimator:hover {background-color: #d4ebff;}#sk-container-id-6 div.sk-parallel-item::after {content: \"\";width: 100%;border-bottom: 1px solid gray;flex-grow: 1;}#sk-container-id-6 div.sk-label:hover label.sk-toggleable__label {background-color: #d4ebff;}#sk-container-id-6 div.sk-serial::before {content: \"\";position: absolute;border-left: 1px solid gray;box-sizing: border-box;top: 0;bottom: 0;left: 50%;z-index: 0;}#sk-container-id-6 div.sk-serial {display: flex;flex-direction: column;align-items: center;background-color: white;padding-right: 0.2em;padding-left: 0.2em;position: relative;}#sk-container-id-6 div.sk-item {position: relative;z-index: 1;}#sk-container-id-6 div.sk-parallel {display: flex;align-items: stretch;justify-content: center;background-color: white;position: relative;}#sk-container-id-6 div.sk-item::before, #sk-container-id-6 div.sk-parallel-item::before {content: \"\";position: absolute;border-left: 1px solid gray;box-sizing: border-box;top: 0;bottom: 0;left: 50%;z-index: -1;}#sk-container-id-6 div.sk-parallel-item {display: flex;flex-direction: column;z-index: 1;position: relative;background-color: white;}#sk-container-id-6 div.sk-parallel-item:first-child::after {align-self: flex-end;width: 50%;}#sk-container-id-6 div.sk-parallel-item:last-child::after {align-self: flex-start;width: 50%;}#sk-container-id-6 div.sk-parallel-item:only-child::after {width: 0;}#sk-container-id-6 div.sk-dashed-wrapped {border: 1px dashed gray;margin: 0 0.4em 0.5em 0.4em;box-sizing: border-box;padding-bottom: 0.4em;background-color: white;}#sk-container-id-6 div.sk-label label {font-family: monospace;font-weight: bold;display: inline-block;line-height: 1.2em;}#sk-container-id-6 div.sk-label-container {text-align: center;}#sk-container-id-6 div.sk-container {/* jupyter's `normalize.less` sets `[hidden] { display: none; }` but bootstrap.min.css set `[hidden] { display: none !important; }` so we also need the `!important` here to be able to override the default hidden behavior on the sphinx rendered scikit-learn.org. See: https://github.com/scikit-learn/scikit-learn/issues/21755 */display: inline-block !important;position: relative;}#sk-container-id-6 div.sk-text-repr-fallback {display: none;}</style><div id=\"sk-container-id-6\" class=\"sk-top-container\"><div class=\"sk-text-repr-fallback\"><pre>GridSearchCV(cv=10, estimator=SVC(C=50, kernel=&#x27;linear&#x27;), n_jobs=-1,\n",
       "             param_grid=[{&#x27;C&#x27;: [1, 10, 100, 1000], &#x27;kernel&#x27;: [&#x27;linear&#x27;]},\n",
       "                         {&#x27;C&#x27;: [1, 10, 100, 1000], &#x27;gamma&#x27;: [0.1, 1, 10],\n",
       "                          &#x27;kernel&#x27;: [&#x27;rbf&#x27;, &#x27;sigmoid&#x27;]}],\n",
       "             scoring=&#x27;f1&#x27;)</pre><b>In a Jupyter environment, please rerun this cell to show the HTML representation or trust the notebook. <br />On GitHub, the HTML representation is unable to render, please try loading this page with nbviewer.org.</b></div><div class=\"sk-container\" hidden><div class=\"sk-item sk-dashed-wrapped\"><div class=\"sk-label-container\"><div class=\"sk-label sk-toggleable\"><input class=\"sk-toggleable__control sk-hidden--visually\" id=\"sk-estimator-id-10\" type=\"checkbox\" ><label for=\"sk-estimator-id-10\" class=\"sk-toggleable__label sk-toggleable__label-arrow\">GridSearchCV</label><div class=\"sk-toggleable__content\"><pre>GridSearchCV(cv=10, estimator=SVC(C=50, kernel=&#x27;linear&#x27;), n_jobs=-1,\n",
       "             param_grid=[{&#x27;C&#x27;: [1, 10, 100, 1000], &#x27;kernel&#x27;: [&#x27;linear&#x27;]},\n",
       "                         {&#x27;C&#x27;: [1, 10, 100, 1000], &#x27;gamma&#x27;: [0.1, 1, 10],\n",
       "                          &#x27;kernel&#x27;: [&#x27;rbf&#x27;, &#x27;sigmoid&#x27;]}],\n",
       "             scoring=&#x27;f1&#x27;)</pre></div></div></div><div class=\"sk-parallel\"><div class=\"sk-parallel-item\"><div class=\"sk-item\"><div class=\"sk-label-container\"><div class=\"sk-label sk-toggleable\"><input class=\"sk-toggleable__control sk-hidden--visually\" id=\"sk-estimator-id-11\" type=\"checkbox\" ><label for=\"sk-estimator-id-11\" class=\"sk-toggleable__label sk-toggleable__label-arrow\">estimator: SVC</label><div class=\"sk-toggleable__content\"><pre>SVC(C=50, kernel=&#x27;linear&#x27;)</pre></div></div></div><div class=\"sk-serial\"><div class=\"sk-item\"><div class=\"sk-estimator sk-toggleable\"><input class=\"sk-toggleable__control sk-hidden--visually\" id=\"sk-estimator-id-12\" type=\"checkbox\" ><label for=\"sk-estimator-id-12\" class=\"sk-toggleable__label sk-toggleable__label-arrow\">SVC</label><div class=\"sk-toggleable__content\"><pre>SVC(C=50, kernel=&#x27;linear&#x27;)</pre></div></div></div></div></div></div></div></div></div></div>"
      ],
      "text/plain": [
       "GridSearchCV(cv=10, estimator=SVC(C=50, kernel='linear'), n_jobs=-1,\n",
       "             param_grid=[{'C': [1, 10, 100, 1000], 'kernel': ['linear']},\n",
       "                         {'C': [1, 10, 100, 1000], 'gamma': [0.1, 1, 10],\n",
       "                          'kernel': ['rbf', 'sigmoid']}],\n",
       "             scoring='f1')"
      ]
     },
     "execution_count": 105,
     "metadata": {},
     "output_type": "execute_result"
    }
   ],
   "source": [
    "grid_SVM.fit(X_train,y_train)"
   ]
  },
  {
   "cell_type": "code",
   "execution_count": 106,
   "id": "65f5e883",
   "metadata": {},
   "outputs": [
    {
     "data": {
      "text/plain": [
       "0.9562814421765312"
      ]
     },
     "execution_count": 106,
     "metadata": {},
     "output_type": "execute_result"
    }
   ],
   "source": [
    "grid_SVM.best_score_"
   ]
  },
  {
   "cell_type": "code",
   "execution_count": 107,
   "id": "e8dfb37c",
   "metadata": {},
   "outputs": [
    {
     "data": {
      "text/plain": [
       "{'C': 100, 'gamma': 0.1, 'kernel': 'rbf'}"
      ]
     },
     "execution_count": 107,
     "metadata": {},
     "output_type": "execute_result"
    }
   ],
   "source": [
    "# The best C value and the best kernel to use\n",
    "grid_SVM.best_params_"
   ]
  },
  {
   "cell_type": "code",
   "execution_count": 108,
   "id": "56f648d2",
   "metadata": {},
   "outputs": [],
   "source": [
    "SVM_model_best = SVC(C=100,kernel='rbf',gamma=0.1)"
   ]
  },
  {
   "cell_type": "code",
   "execution_count": 109,
   "id": "d46b6a35",
   "metadata": {},
   "outputs": [
    {
     "data": {
      "text/html": [
       "<style>#sk-container-id-7 {color: black;background-color: white;}#sk-container-id-7 pre{padding: 0;}#sk-container-id-7 div.sk-toggleable {background-color: white;}#sk-container-id-7 label.sk-toggleable__label {cursor: pointer;display: block;width: 100%;margin-bottom: 0;padding: 0.3em;box-sizing: border-box;text-align: center;}#sk-container-id-7 label.sk-toggleable__label-arrow:before {content: \"▸\";float: left;margin-right: 0.25em;color: #696969;}#sk-container-id-7 label.sk-toggleable__label-arrow:hover:before {color: black;}#sk-container-id-7 div.sk-estimator:hover label.sk-toggleable__label-arrow:before {color: black;}#sk-container-id-7 div.sk-toggleable__content {max-height: 0;max-width: 0;overflow: hidden;text-align: left;background-color: #f0f8ff;}#sk-container-id-7 div.sk-toggleable__content pre {margin: 0.2em;color: black;border-radius: 0.25em;background-color: #f0f8ff;}#sk-container-id-7 input.sk-toggleable__control:checked~div.sk-toggleable__content {max-height: 200px;max-width: 100%;overflow: auto;}#sk-container-id-7 input.sk-toggleable__control:checked~label.sk-toggleable__label-arrow:before {content: \"▾\";}#sk-container-id-7 div.sk-estimator input.sk-toggleable__control:checked~label.sk-toggleable__label {background-color: #d4ebff;}#sk-container-id-7 div.sk-label input.sk-toggleable__control:checked~label.sk-toggleable__label {background-color: #d4ebff;}#sk-container-id-7 input.sk-hidden--visually {border: 0;clip: rect(1px 1px 1px 1px);clip: rect(1px, 1px, 1px, 1px);height: 1px;margin: -1px;overflow: hidden;padding: 0;position: absolute;width: 1px;}#sk-container-id-7 div.sk-estimator {font-family: monospace;background-color: #f0f8ff;border: 1px dotted black;border-radius: 0.25em;box-sizing: border-box;margin-bottom: 0.5em;}#sk-container-id-7 div.sk-estimator:hover {background-color: #d4ebff;}#sk-container-id-7 div.sk-parallel-item::after {content: \"\";width: 100%;border-bottom: 1px solid gray;flex-grow: 1;}#sk-container-id-7 div.sk-label:hover label.sk-toggleable__label {background-color: #d4ebff;}#sk-container-id-7 div.sk-serial::before {content: \"\";position: absolute;border-left: 1px solid gray;box-sizing: border-box;top: 0;bottom: 0;left: 50%;z-index: 0;}#sk-container-id-7 div.sk-serial {display: flex;flex-direction: column;align-items: center;background-color: white;padding-right: 0.2em;padding-left: 0.2em;position: relative;}#sk-container-id-7 div.sk-item {position: relative;z-index: 1;}#sk-container-id-7 div.sk-parallel {display: flex;align-items: stretch;justify-content: center;background-color: white;position: relative;}#sk-container-id-7 div.sk-item::before, #sk-container-id-7 div.sk-parallel-item::before {content: \"\";position: absolute;border-left: 1px solid gray;box-sizing: border-box;top: 0;bottom: 0;left: 50%;z-index: -1;}#sk-container-id-7 div.sk-parallel-item {display: flex;flex-direction: column;z-index: 1;position: relative;background-color: white;}#sk-container-id-7 div.sk-parallel-item:first-child::after {align-self: flex-end;width: 50%;}#sk-container-id-7 div.sk-parallel-item:last-child::after {align-self: flex-start;width: 50%;}#sk-container-id-7 div.sk-parallel-item:only-child::after {width: 0;}#sk-container-id-7 div.sk-dashed-wrapped {border: 1px dashed gray;margin: 0 0.4em 0.5em 0.4em;box-sizing: border-box;padding-bottom: 0.4em;background-color: white;}#sk-container-id-7 div.sk-label label {font-family: monospace;font-weight: bold;display: inline-block;line-height: 1.2em;}#sk-container-id-7 div.sk-label-container {text-align: center;}#sk-container-id-7 div.sk-container {/* jupyter's `normalize.less` sets `[hidden] { display: none; }` but bootstrap.min.css set `[hidden] { display: none !important; }` so we also need the `!important` here to be able to override the default hidden behavior on the sphinx rendered scikit-learn.org. See: https://github.com/scikit-learn/scikit-learn/issues/21755 */display: inline-block !important;position: relative;}#sk-container-id-7 div.sk-text-repr-fallback {display: none;}</style><div id=\"sk-container-id-7\" class=\"sk-top-container\"><div class=\"sk-text-repr-fallback\"><pre>SVC(C=100, gamma=0.1)</pre><b>In a Jupyter environment, please rerun this cell to show the HTML representation or trust the notebook. <br />On GitHub, the HTML representation is unable to render, please try loading this page with nbviewer.org.</b></div><div class=\"sk-container\" hidden><div class=\"sk-item\"><div class=\"sk-estimator sk-toggleable\"><input class=\"sk-toggleable__control sk-hidden--visually\" id=\"sk-estimator-id-13\" type=\"checkbox\" checked><label for=\"sk-estimator-id-13\" class=\"sk-toggleable__label sk-toggleable__label-arrow\">SVC</label><div class=\"sk-toggleable__content\"><pre>SVC(C=100, gamma=0.1)</pre></div></div></div></div></div>"
      ],
      "text/plain": [
       "SVC(C=100, gamma=0.1)"
      ]
     },
     "execution_count": 109,
     "metadata": {},
     "output_type": "execute_result"
    }
   ],
   "source": [
    "SVM_model_best.fit(X_train,y_train)"
   ]
  },
  {
   "cell_type": "code",
   "execution_count": 110,
   "id": "e8263f78",
   "metadata": {},
   "outputs": [],
   "source": [
    "Y_SVM_best = SVM_model_best.predict(X_test)"
   ]
  },
  {
   "cell_type": "code",
   "execution_count": 111,
   "id": "36bcb31e",
   "metadata": {},
   "outputs": [],
   "source": [
    "SVM_CM= confusion_matrix(y_test,Y_SVM_best)"
   ]
  },
  {
   "cell_type": "code",
   "execution_count": 112,
   "id": "8e966d07",
   "metadata": {},
   "outputs": [
    {
     "data": {
      "text/plain": [
       "0.9298245614035088"
      ]
     },
     "execution_count": 112,
     "metadata": {},
     "output_type": "execute_result"
    }
   ],
   "source": [
    "accuracy_score(y_test,Y_SVM_best)"
   ]
  },
  {
   "cell_type": "code",
   "execution_count": 113,
   "id": "ef0eafa1",
   "metadata": {},
   "outputs": [
    {
     "data": {
      "text/plain": [
       "0.9701492537313433"
      ]
     },
     "execution_count": 113,
     "metadata": {},
     "output_type": "execute_result"
    }
   ],
   "source": [
    "recall_score(y_test,Y_SVM_best)"
   ]
  },
  {
   "cell_type": "code",
   "execution_count": 114,
   "id": "ec136dea",
   "metadata": {},
   "outputs": [
    {
     "data": {
      "text/plain": [
       "0.9154929577464789"
      ]
     },
     "execution_count": 114,
     "metadata": {},
     "output_type": "execute_result"
    }
   ],
   "source": [
    "precision_score(y_test,Y_SVM_best)"
   ]
  },
  {
   "cell_type": "code",
   "execution_count": 115,
   "id": "b8a07582",
   "metadata": {},
   "outputs": [],
   "source": [
    "False_negetive_rate = SVM_CM[1][0]/(SVM_CM[1][0]+SVM_CM[1][1])"
   ]
  },
  {
   "cell_type": "code",
   "execution_count": 116,
   "id": "7af599f6",
   "metadata": {},
   "outputs": [
    {
     "data": {
      "text/plain": [
       "2.9850746268656714"
      ]
     },
     "execution_count": 116,
     "metadata": {},
     "output_type": "execute_result"
    }
   ],
   "source": [
    "False_negetive_rate*100"
   ]
  },
  {
   "cell_type": "code",
   "execution_count": 117,
   "id": "db9297f7",
   "metadata": {},
   "outputs": [],
   "source": [
    "#Ref\n",
    "# https://towardsdatascience.com/exploratory-data-analysis-8fc1cb20fd15#:~:text=Exploratory%20Data%20Analysis%20refers%20to,summary%20statistics%20and%20graphical%20representations.\n"
   ]
  }
 ],
 "metadata": {
  "kernelspec": {
   "display_name": "Python 3 (ipykernel)",
   "language": "python",
   "name": "python3"
  },
  "language_info": {
   "codemirror_mode": {
    "name": "ipython",
    "version": 3
   },
   "file_extension": ".py",
   "mimetype": "text/x-python",
   "name": "python",
   "nbconvert_exporter": "python",
   "pygments_lexer": "ipython3",
   "version": "3.8.8"
  }
 },
 "nbformat": 4,
 "nbformat_minor": 5
}
